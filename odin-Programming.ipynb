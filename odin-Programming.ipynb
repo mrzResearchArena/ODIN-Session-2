{
  "nbformat": 4,
  "nbformat_minor": 0,
  "metadata": {
    "colab": {
      "name": "odin-Programming.ipynb",
      "provenance": [],
      "authorship_tag": "ABX9TyMGoYx9E/eSOVK13WTqXlWe",
      "include_colab_link": true
    },
    "kernelspec": {
      "name": "python3",
      "display_name": "Python 3"
    }
  },
  "cells": [
    {
      "cell_type": "markdown",
      "metadata": {
        "id": "view-in-github",
        "colab_type": "text"
      },
      "source": [
        "<a href=\"https://colab.research.google.com/github/mrzResearchArena/ODIN-Session-2/blob/master/odin-Programming.ipynb\" target=\"_parent\"><img src=\"https://colab.research.google.com/assets/colab-badge.svg\" alt=\"Open In Colab\"/></a>"
      ]
    },
    {
      "cell_type": "code",
      "metadata": {
        "id": "V9eIV9E5R46R",
        "outputId": "ca13c07d-8c02-4009-c0c7-c473d1ada09a",
        "colab": {
          "base_uri": "https://localhost:8080/",
          "height": 35
        }
      },
      "source": [
        "#print 'Rafsanjani'\n",
        "\n",
        "# parentheses --> ()\n",
        "\n",
        "# print('Rafsanjani')"
      ],
      "execution_count": null,
      "outputs": [
        {
          "output_type": "stream",
          "text": [
            "Rafsanjani\n"
          ],
          "name": "stdout"
        }
      ]
    },
    {
      "cell_type": "code",
      "metadata": {
        "id": "lge574V1TtMd",
        "outputId": "7e99aec5-4686-42df-916d-83134d18b16e",
        "colab": {
          "base_uri": "https://localhost:8080/",
          "height": 145
        }
      },
      "source": [
        "print('*********')\n",
        "print('*       *')\n",
        "print('*       *')\n",
        "print('*       *')\n",
        "print('*       *')\n",
        "print('*       *')\n",
        "print('* ... *')"
      ],
      "execution_count": null,
      "outputs": [
        {
          "output_type": "stream",
          "text": [
            "*********\n",
            "*       *\n",
            "*       *\n",
            "*       *\n",
            "*       *\n",
            "*       *\n",
            "* ... *\n"
          ],
          "name": "stdout"
        }
      ]
    },
    {
      "cell_type": "code",
      "metadata": {
        "id": "hDDReZjEIt43",
        "outputId": "6c915ccf-115f-4f9b-f467-cf7aadb00cbe",
        "colab": {
          "base_uri": "https://localhost:8080/",
          "height": 145
        }
      },
      "source": [
        "print('* * * * *')\n",
        "print('*       *')\n",
        "print('*       *')\n",
        "print('*       *')\n",
        "print('*       *')\n",
        "print('*       *')\n",
        "print('* * * * *')"
      ],
      "execution_count": null,
      "outputs": [
        {
          "output_type": "stream",
          "text": [
            "* * * * *\n",
            "*       *\n",
            "*       *\n",
            "*       *\n",
            "*       *\n",
            "*       *\n",
            "* * * * *\n"
          ],
          "name": "stdout"
        }
      ]
    },
    {
      "cell_type": "code",
      "metadata": {
        "id": "cPcBjRp_JFsH",
        "outputId": "0b342d58-0dc6-4958-f910-b6156af39814",
        "colab": {
          "base_uri": "https://localhost:8080/",
          "height": 35
        }
      },
      "source": [
        "print('4'+'5') # append"
      ],
      "execution_count": null,
      "outputs": [
        {
          "output_type": "stream",
          "text": [
            "45\n"
          ],
          "name": "stdout"
        }
      ]
    },
    {
      "cell_type": "code",
      "metadata": {
        "id": "JlxNiQumUlxj"
      },
      "source": [
        "AB"
      ],
      "execution_count": null,
      "outputs": []
    },
    {
      "cell_type": "code",
      "metadata": {
        "id": "pwIFDS22U5YK",
        "outputId": "b8fe0330-f9c6-4961-963c-4e0de7e54e55",
        "colab": {
          "base_uri": "https://localhost:8080/",
          "height": 173
        }
      },
      "source": [
        "print('4'+5) # 4 kg + 5 minutes?"
      ],
      "execution_count": null,
      "outputs": [
        {
          "output_type": "error",
          "ename": "TypeError",
          "evalue": "ignored",
          "traceback": [
            "\u001b[0;31m---------------------------------------------------------------------------\u001b[0m",
            "\u001b[0;31mTypeError\u001b[0m                                 Traceback (most recent call last)",
            "\u001b[0;32m<ipython-input-6-e7c268b8f415>\u001b[0m in \u001b[0;36m<module>\u001b[0;34m()\u001b[0m\n\u001b[0;32m----> 1\u001b[0;31m \u001b[0mprint\u001b[0m\u001b[0;34m(\u001b[0m\u001b[0;34m'4'\u001b[0m\u001b[0;34m+\u001b[0m\u001b[0;36m5\u001b[0m\u001b[0;34m)\u001b[0m \u001b[0;31m# 3kg + 5 minutes?\u001b[0m\u001b[0;34m\u001b[0m\u001b[0;34m\u001b[0m\u001b[0m\n\u001b[0m",
            "\u001b[0;31mTypeError\u001b[0m: must be str, not int"
          ]
        }
      ]
    },
    {
      "cell_type": "code",
      "metadata": {
        "id": "zyAxZvdjVjCj",
        "outputId": "f52ced54-8105-4f19-dcd6-59c79378878b",
        "colab": {
          "base_uri": "https://localhost:8080/",
          "height": 35
        }
      },
      "source": [
        "print(int('4')+5) # Adding\n"
      ],
      "execution_count": null,
      "outputs": [
        {
          "output_type": "stream",
          "text": [
            "9\n"
          ],
          "name": "stdout"
        }
      ]
    },
    {
      "cell_type": "code",
      "metadata": {
        "id": "JJeXiughXpk6",
        "outputId": "6731233d-2cbe-4cdd-934c-a8a6d200c125",
        "colab": {
          "base_uri": "https://localhost:8080/",
          "height": 72
        }
      },
      "source": [
        "v = 'Hridoy' # text\n",
        "print(type(v))\n",
        "\n",
        "v = 34 # পূর্ন সংখা।\n",
        "print(type(v))\n",
        "\n",
        "v = 34.50 # ভাগ্নাংশ সংখা।\n",
        "print(type(v))"
      ],
      "execution_count": null,
      "outputs": [
        {
          "output_type": "stream",
          "text": [
            "<class 'str'>\n",
            "<class 'int'>\n",
            "<class 'float'>\n"
          ],
          "name": "stdout"
        }
      ]
    },
    {
      "cell_type": "code",
      "metadata": {
        "id": "rAQmmwUQaaff"
      },
      "source": [
        "#integer = {-5, -4, -3, -2, -1, 0, 1, 2, 3, 4}\n",
        "\n",
        "# float = {3.1416, 5.00, 3.32}\n",
        "\n",
        "# string / text = {'Sourav', \"Sourav\", \"Sourav', 'Sourav\", Sourav}"
      ],
      "execution_count": null,
      "outputs": []
    },
    {
      "cell_type": "code",
      "metadata": {
        "id": "-8or-6drbUsX",
        "outputId": "a2ef69a9-32cc-4374-d563-e979863add80",
        "colab": {
          "base_uri": "https://localhost:8080/",
          "height": 35
        }
      },
      "source": [
        "print(type('Rafsanjani'))"
      ],
      "execution_count": null,
      "outputs": [
        {
          "output_type": "stream",
          "text": [
            "<class 'str'>\n"
          ],
          "name": "stdout"
        }
      ]
    },
    {
      "cell_type": "code",
      "metadata": {
        "id": "zpNNdyyrbuE-"
      },
      "source": [
        ""
      ],
      "execution_count": null,
      "outputs": []
    }
  ]
}