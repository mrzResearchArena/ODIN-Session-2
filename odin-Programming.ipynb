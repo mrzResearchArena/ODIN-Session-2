{
  "nbformat": 4,
  "nbformat_minor": 0,
  "metadata": {
    "colab": {
      "name": "odin-Programming.ipynb",
      "provenance": [],
      "authorship_tag": "ABX9TyOq8fGArloXbGUgwJC/VKAp",
      "include_colab_link": true
    },
    "kernelspec": {
      "name": "python3",
      "display_name": "Python 3"
    }
  },
  "cells": [
    {
      "cell_type": "markdown",
      "metadata": {
        "id": "view-in-github",
        "colab_type": "text"
      },
      "source": [
        "<a href=\"https://colab.research.google.com/github/mrzResearchArena/ODIN-Session-2/blob/master/odin-Programming.ipynb\" target=\"_parent\"><img src=\"https://colab.research.google.com/assets/colab-badge.svg\" alt=\"Open In Colab\"/></a>"
      ]
    },
    {
      "cell_type": "code",
      "metadata": {
        "id": "V9eIV9E5R46R",
        "outputId": "ca13c07d-8c02-4009-c0c7-c473d1ada09a",
        "colab": {
          "base_uri": "https://localhost:8080/",
          "height": 35
        }
      },
      "source": [
        "#print 'Rafsanjani'\n",
        "\n",
        "# parentheses --> ()\n",
        "\n",
        "# print('Rafsanjani')"
      ],
      "execution_count": null,
      "outputs": [
        {
          "output_type": "stream",
          "text": [
            "Rafsanjani\n"
          ],
          "name": "stdout"
        }
      ]
    },
    {
      "cell_type": "code",
      "metadata": {
        "id": "lge574V1TtMd",
        "outputId": "efb41e5f-9545-4f33-f561-524ccf3cf1ab",
        "colab": {
          "base_uri": "https://localhost:8080/",
          "height": 145
        }
      },
      "source": [
        "print('*********')\n",
        "print('*       *')\n",
        "print('*       *')\n",
        "print('*       *')\n",
        "print('*       *')\n",
        "print('*       *')\n",
        "print('*********')"
      ],
      "execution_count": 1,
      "outputs": [
        {
          "output_type": "stream",
          "text": [
            "*********\n",
            "*       *\n",
            "*       *\n",
            "*       *\n",
            "*       *\n",
            "*       *\n",
            "*********\n"
          ],
          "name": "stdout"
        }
      ]
    },
    {
      "cell_type": "code",
      "metadata": {
        "id": "hDDReZjEIt43",
        "outputId": "6c915ccf-115f-4f9b-f467-cf7aadb00cbe",
        "colab": {
          "base_uri": "https://localhost:8080/",
          "height": 145
        }
      },
      "source": [
        "print('* * * * *')\n",
        "print('*       *')\n",
        "print('*       *')\n",
        "print('*       *')\n",
        "print('*       *')\n",
        "print('*       *')\n",
        "print('* * * * *')"
      ],
      "execution_count": 2,
      "outputs": [
        {
          "output_type": "stream",
          "text": [
            "* * * * *\n",
            "*       *\n",
            "*       *\n",
            "*       *\n",
            "*       *\n",
            "*       *\n",
            "* * * * *\n"
          ],
          "name": "stdout"
        }
      ]
    },
    {
      "cell_type": "code",
      "metadata": {
        "id": "cPcBjRp_JFsH"
      },
      "source": [
        ""
      ],
      "execution_count": null,
      "outputs": []
    }
  ]
}