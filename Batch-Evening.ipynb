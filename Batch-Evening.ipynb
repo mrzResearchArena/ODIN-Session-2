{
  "nbformat": 4,
  "nbformat_minor": 0,
  "metadata": {
    "colab": {
      "name": "Batch-Evening.ipynb",
      "provenance": [],
      "authorship_tag": "ABX9TyMXErjVe99+nzDWirYIq2Tl",
      "include_colab_link": true
    },
    "kernelspec": {
      "name": "python3",
      "display_name": "Python 3"
    }
  },
  "cells": [
    {
      "cell_type": "markdown",
      "metadata": {
        "id": "view-in-github",
        "colab_type": "text"
      },
      "source": [
        "<a href=\"https://colab.research.google.com/github/mrzResearchArena/ODIN-Session-2/blob/master/Batch-Evening.ipynb\" target=\"_parent\"><img src=\"https://colab.research.google.com/assets/colab-badge.svg\" alt=\"Open In Colab\"/></a>"
      ]
    },
    {
      "cell_type": "markdown",
      "metadata": {
        "id": "X2zaFCsYcXXH"
      },
      "source": [
        "### 1. Types:"
      ]
    },
    {
      "cell_type": "code",
      "metadata": {
        "id": "K_9W-6CzcVhE"
      },
      "source": [
        "# .ipynb --> Python for Notebook\n",
        "# .py --> Python"
      ],
      "execution_count": null,
      "outputs": []
    },
    {
      "cell_type": "code",
      "metadata": {
        "id": "XwIYyA2SPMap",
        "outputId": "d754f151-30eb-421f-dc54-58c3e8ac1804",
        "colab": {
          "base_uri": "https://localhost:8080/",
          "height": 70
        }
      },
      "source": [
        "print('Rafsanjani') # I love it.\n",
        "print(\"Rafsanjani\") # I deny it.\n",
        "print(\"Rafsanjani\") # যা ইচ্ছে তাই, লিখতে পারি।\n",
        "\n",
        "#print(\"যা ইচ্ছে তাই, লিখতে পারি।\")"
      ],
      "execution_count": null,
      "outputs": [
        {
          "output_type": "stream",
          "text": [
            "Rafsanjani\n",
            "Rafsanjani\n",
            "Rafsanjani\n"
          ],
          "name": "stdout"
        }
      ]
    },
    {
      "cell_type": "code",
      "metadata": {
        "id": "Ou6yR0vIS-u6",
        "outputId": "f36796a9-fda7-44a2-faf2-5483173e7eed",
        "colab": {
          "base_uri": "https://localhost:8080/",
          "height": 70
        }
      },
      "source": [
        "print('Rafsanjani') # I love it.\n",
        "print(\"Rafsanjani\") # I deny it.\n",
        "print(\"Rafsanjani\") # যা ইচ্ছে তাই, লিখতে পারি।\n",
        "\n",
        "#print(\"যা ইচ্ছে তাই, লিখতে পারি।\")"
      ],
      "execution_count": null,
      "outputs": [
        {
          "output_type": "stream",
          "text": [
            "Rafsanjani\n",
            "Rafsanjani\n",
            "Rafsanjani\n"
          ],
          "name": "stdout"
        }
      ]
    },
    {
      "cell_type": "code",
      "metadata": {
        "id": "g-mCudpRcbmU"
      },
      "source": [
        "# integer Number = {..., -3,-2, -1, 0, 1, 2, 3, 4, 5, ...} # পূর্ণ সংখা / full number\n",
        "# float Number = {-3.0, -3.1, 3.1416} # ভগ্নাংশ / fraction number --> (3 / 4)\n",
        "# string type = {'Manzurul', \"Manzurul\", Manzurul} # text"
      ],
      "execution_count": null,
      "outputs": []
    },
    {
      "cell_type": "code",
      "metadata": {
        "id": "E1vHGYvxafji",
        "outputId": "b0f16b86-e347-4806-e836-ea3fc2a10d44",
        "colab": {
          "base_uri": "https://localhost:8080/",
          "height": 52
        }
      },
      "source": [
        "print(type(-11.0)) # float\n",
        "print(type(-11.))  # float\n",
        "print(type(-11))   # integer"
      ],
      "execution_count": null,
      "outputs": [
        {
          "output_type": "stream",
          "text": [
            "<class 'float'>\n",
            "<class 'int'>\n"
          ],
          "name": "stdout"
        }
      ]
    },
    {
      "cell_type": "code",
      "metadata": {
        "id": "eOUYhyEhe-Oq",
        "outputId": "09621d0f-95e6-4e66-9f15-d776d52ee514",
        "colab": {
          "base_uri": "https://localhost:8080/",
          "height": 35
        }
      },
      "source": [
        "# print(4+5)\n",
        "\n",
        "# print('4'+5) # 4kg + 5 cm\n",
        "\n",
        "print('4'+str(5)) # Append / Merge"
      ],
      "execution_count": null,
      "outputs": [
        {
          "output_type": "stream",
          "text": [
            "45\n"
          ],
          "name": "stdout"
        }
      ]
    },
    {
      "cell_type": "code",
      "metadata": {
        "id": "Z8FhL-JAilC_",
        "outputId": "7316e9a4-58b6-40cc-e0a1-568cbe2e0dd6",
        "colab": {
          "base_uri": "https://localhost:8080/",
          "height": 35
        }
      },
      "source": [
        "print(str(4445)+'5')\n",
        "#print(int('4445')+5)"
      ],
      "execution_count": null,
      "outputs": [
        {
          "output_type": "stream",
          "text": [
            "44455\n"
          ],
          "name": "stdout"
        }
      ]
    },
    {
      "cell_type": "code",
      "metadata": {
        "id": "VRYAIkZUinQP"
      },
      "source": [
        "4450"
      ],
      "execution_count": null,
      "outputs": []
    },
    {
      "cell_type": "code",
      "metadata": {
        "id": "juqqytjRb7rT"
      },
      "source": [
        ""
      ],
      "execution_count": null,
      "outputs": []
    },
    {
      "cell_type": "markdown",
      "metadata": {
        "id": "NDTOrxfEcBTq"
      },
      "source": [
        "### 2. Variable and Value:"
      ]
    },
    {
      "cell_type": "code",
      "metadata": {
        "id": "d0O0JkcUcLdj",
        "outputId": "526fc93e-3baf-4058-91a9-c1b2ae81cd7f",
        "colab": {
          "base_uri": "https://localhost:8080/",
          "height": 35
        }
      },
      "source": [
        "a = 0 # variable (a) = value (0)\n",
        "a = 4 # variable (a) = value (4)\n",
        "a = a + 3 # 7 # variable (a) = value (7)\n",
        "a = a + 2 # 9 # variable (a) = value (9)\n",
        "a = a + 1 # 10 # variable (a) = value (10)\n",
        "\n",
        "print(a)"
      ],
      "execution_count": null,
      "outputs": [
        {
          "output_type": "stream",
          "text": [
            "10\n"
          ],
          "name": "stdout"
        }
      ]
    },
    {
      "cell_type": "code",
      "metadata": {
        "id": "OpGDUtzNfZbF",
        "outputId": "16d7337e-3032-464d-e942-b50122cef008",
        "colab": {
          "base_uri": "https://localhost:8080/",
          "height": 52
        }
      },
      "source": [
        "# a, b = 0, 0\n",
        "\n",
        "a = 0\n",
        "b = 0\n",
        "\n",
        "a = 5\n",
        "b = a\n",
        "a = b\n",
        "a = 10\n",
        "\n",
        "print(a)\n",
        "print(b)"
      ],
      "execution_count": null,
      "outputs": [
        {
          "output_type": "stream",
          "text": [
            "10\n",
            "5\n"
          ],
          "name": "stdout"
        }
      ]
    },
    {
      "cell_type": "code",
      "metadata": {
        "id": "QNUmJMSKmh1G",
        "outputId": "d54e5a86-85d5-46b0-a2a8-8aa3ad0093f4",
        "colab": {
          "base_uri": "https://localhost:8080/",
          "height": 35
        }
      },
      "source": [
        "a, b, c = 0, 0, 0\n",
        "\n",
        "a = 5\n",
        "b = 3\n",
        "c = a + b\n",
        "a = c\n",
        "b = c\n",
        "\n",
        "print(a, b, c)"
      ],
      "execution_count": null,
      "outputs": [
        {
          "output_type": "stream",
          "text": [
            "8 8 8\n"
          ],
          "name": "stdout"
        }
      ]
    },
    {
      "cell_type": "code",
      "metadata": {
        "id": "IGfPgOl7h-kl",
        "outputId": "1e6e0412-9820-4a66-9a83-e36568ad6391",
        "colab": {
          "base_uri": "https://localhost:8080/",
          "height": 246
        }
      },
      "source": [
        "# n = input() # string / text; function --> abc()\n",
        "\n",
        "n = input() # string / text\n",
        "print(type(n))\n",
        "\n",
        "print(n+10)"
      ],
      "execution_count": null,
      "outputs": [
        {
          "output_type": "stream",
          "text": [
            "Rafsanjani\n",
            "<class 'str'>\n"
          ],
          "name": "stdout"
        },
        {
          "output_type": "error",
          "ename": "TypeError",
          "evalue": "ignored",
          "traceback": [
            "\u001b[0;31m---------------------------------------------------------------------------\u001b[0m",
            "\u001b[0;31mTypeError\u001b[0m                                 Traceback (most recent call last)",
            "\u001b[0;32m<ipython-input-7-e3470e209b25>\u001b[0m in \u001b[0;36m<module>\u001b[0;34m()\u001b[0m\n\u001b[1;32m      4\u001b[0m \u001b[0mprint\u001b[0m\u001b[0;34m(\u001b[0m\u001b[0mtype\u001b[0m\u001b[0;34m(\u001b[0m\u001b[0mn\u001b[0m\u001b[0;34m)\u001b[0m\u001b[0;34m)\u001b[0m\u001b[0;34m\u001b[0m\u001b[0;34m\u001b[0m\u001b[0m\n\u001b[1;32m      5\u001b[0m \u001b[0;34m\u001b[0m\u001b[0m\n\u001b[0;32m----> 6\u001b[0;31m \u001b[0mprint\u001b[0m\u001b[0;34m(\u001b[0m\u001b[0mn\u001b[0m\u001b[0;34m+\u001b[0m\u001b[0;36m10\u001b[0m\u001b[0;34m)\u001b[0m\u001b[0;34m\u001b[0m\u001b[0;34m\u001b[0m\u001b[0m\n\u001b[0m",
            "\u001b[0;31mTypeError\u001b[0m: must be str, not int"
          ]
        }
      ]
    },
    {
      "cell_type": "code",
      "metadata": {
        "id": "t-9RfwrcneY0"
      },
      "source": [
        "# sample input-1: 100, 101\n",
        "# sample output-1: 201"
      ],
      "execution_count": null,
      "outputs": []
    },
    {
      "cell_type": "code",
      "metadata": {
        "id": "-XsJBabPnjqo",
        "outputId": "0d8cbb80-72d3-41f9-f41a-b2a84e61c1aa",
        "colab": {
          "base_uri": "https://localhost:8080/",
          "height": 90
        }
      },
      "source": [
        "a = input()\n",
        "b = input()\n",
        "\n",
        "print(a)\n",
        "print(b)"
      ],
      "execution_count": null,
      "outputs": [
        {
          "output_type": "stream",
          "text": [
            "11\n",
            "1111\n",
            "11\n",
            "1111\n"
          ],
          "name": "stdout"
        }
      ]
    },
    {
      "cell_type": "code",
      "metadata": {
        "id": "GUwIJ8nDvN7l",
        "outputId": "8e238f95-5af1-40e9-bae8-c8d1848298fe",
        "colab": {
          "base_uri": "https://localhost:8080/",
          "height": 35
        }
      },
      "source": [
        "# 5 --> 5*5 = 25\n",
        "# 4 --> 4*4 = 16\n",
        "# 20 --> 20*20 = 400\n",
        "\n",
        "# n = int(input())\n",
        "\n",
        "print('{} {} {}'.format('1st', '2nd', '3rd'))"
      ],
      "execution_count": null,
      "outputs": [
        {
          "output_type": "stream",
          "text": [
            "1st 2nd 3rd\n"
          ],
          "name": "stdout"
        }
      ]
    },
    {
      "cell_type": "code",
      "metadata": {
        "id": "O7Tgz1hhumcg",
        "outputId": "79d0488a-fdbd-46c2-ccef-846812ba660b",
        "colab": {
          "base_uri": "https://localhost:8080/",
          "height": 70
        }
      },
      "source": [
        "print('Manzurul' + 'Hasan')\n",
        "print('Manzurul' + ' ' + 'Hasan')\n",
        "print('Manzurul' + ' Hasan')"
      ],
      "execution_count": null,
      "outputs": [
        {
          "output_type": "stream",
          "text": [
            "ManzurulHasan\n",
            "Manzurul Hasan\n",
            "Manzurul Hasan\n"
          ],
          "name": "stdout"
        }
      ]
    },
    {
      "cell_type": "markdown",
      "metadata": {
        "id": "E5o14CoysYye"
      },
      "source": [
        "Find the value of 5+$\\sqrt{2}$ of three decimal number. [$\\sqrt{2}$ = $2^.5$]\n",
        "\n"
      ]
    },
    {
      "cell_type": "code",
      "metadata": {
        "id": "DcrnjQNBu2U4",
        "outputId": "c18f3bf5-a2bf-45c5-cbf1-03d837c01332",
        "colab": {
          "base_uri": "https://localhost:8080/",
          "height": 35
        }
      },
      "source": [
        "cal = 5+(2**(0.5))\n",
        "print('{:.3f}'.format(cal))"
      ],
      "execution_count": null,
      "outputs": [
        {
          "output_type": "stream",
          "text": [
            "6.414\n"
          ],
          "name": "stdout"
        }
      ]
    },
    {
      "cell_type": "code",
      "metadata": {
        "id": "x3wLVgOYwKbo",
        "outputId": "7b6f183e-51fc-4b79-9318-2d100290f69e",
        "colab": {
          "base_uri": "https://localhost:8080/",
          "height": 135
        }
      },
      "source": [
        "# Area of Circle = 2 * 3.1416 * r\n",
        "# take r from user input()\n",
        "\n"
      ],
      "execution_count": null,
      "outputs": [
        {
          "output_type": "error",
          "ename": "SyntaxError",
          "evalue": "ignored",
          "traceback": [
            "\u001b[0;36m  File \u001b[0;32m\"<ipython-input-7-cfbb5fb4a074>\"\u001b[0;36m, line \u001b[0;32m1\u001b[0m\n\u001b[0;31m    Area of Circle = 2 * pi * r\u001b[0m\n\u001b[0m          ^\u001b[0m\n\u001b[0;31mSyntaxError\u001b[0m\u001b[0;31m:\u001b[0m invalid syntax\n"
          ]
        }
      ]
    },
    {
      "cell_type": "code",
      "metadata": {
        "id": "T1yl3Z_hwVeY",
        "outputId": "6b4574c5-32e2-4573-99a3-89198ab305af",
        "colab": {
          "base_uri": "https://localhost:8080/",
          "height": 53
        }
      },
      "source": [
        "x = 11<9\n",
        "print(x)\n",
        "print(type(x)) # Boolean --> True / False"
      ],
      "execution_count": null,
      "outputs": [
        {
          "output_type": "stream",
          "text": [
            "False\n",
            "<class 'bool'>\n"
          ],
          "name": "stdout"
        }
      ]
    },
    {
      "cell_type": "code",
      "metadata": {
        "id": "BNfGKsZZf_0D",
        "outputId": "b8c95b44-fcae-4009-f136-ba7f6ff85a42",
        "colab": {
          "base_uri": "https://localhost:8080/",
          "height": 224
        }
      },
      "source": [
        "# a = 5  # Assign\n",
        "# a == 5 # True / False\n",
        "\n",
        "a = 5\n",
        "n = input()\n",
        "print(int(n)+a)"
      ],
      "execution_count": null,
      "outputs": [
        {
          "output_type": "stream",
          "text": [
            "9\n"
          ],
          "name": "stdout"
        },
        {
          "output_type": "error",
          "ename": "TypeError",
          "evalue": "ignored",
          "traceback": [
            "\u001b[0;31m---------------------------------------------------------------------------\u001b[0m",
            "\u001b[0;31mTypeError\u001b[0m                                 Traceback (most recent call last)",
            "\u001b[0;32m<ipython-input-3-ac939bbdf3a9>\u001b[0m in \u001b[0;36m<module>\u001b[0;34m()\u001b[0m\n\u001b[1;32m      4\u001b[0m \u001b[0ma\u001b[0m \u001b[0;34m=\u001b[0m \u001b[0;36m5\u001b[0m\u001b[0;34m\u001b[0m\u001b[0;34m\u001b[0m\u001b[0m\n\u001b[1;32m      5\u001b[0m \u001b[0mn\u001b[0m \u001b[0;34m=\u001b[0m \u001b[0minput\u001b[0m\u001b[0;34m(\u001b[0m\u001b[0;34m)\u001b[0m\u001b[0;34m\u001b[0m\u001b[0;34m\u001b[0m\u001b[0m\n\u001b[0;32m----> 6\u001b[0;31m \u001b[0mprint\u001b[0m\u001b[0;34m(\u001b[0m\u001b[0mn\u001b[0m\u001b[0;34m+\u001b[0m\u001b[0mint\u001b[0m\u001b[0;34m(\u001b[0m\u001b[0ma\u001b[0m\u001b[0;34m)\u001b[0m\u001b[0;34m)\u001b[0m\u001b[0;34m\u001b[0m\u001b[0;34m\u001b[0m\u001b[0m\n\u001b[0m",
            "\u001b[0;31mTypeError\u001b[0m: must be str, not int"
          ]
        }
      ]
    },
    {
      "cell_type": "code",
      "metadata": {
        "id": "LEo6cEYsivwW",
        "outputId": "0c39cabf-d5b7-4631-adde-720c43723afb",
        "colab": {
          "base_uri": "https://localhost:8080/",
          "height": 35
        }
      },
      "source": [
        "# x = int(81.6)\n",
        "# print(x)\n",
        "\n",
        "print('Rafsanajni'*3)"
      ],
      "execution_count": null,
      "outputs": [
        {
          "output_type": "stream",
          "text": [
            "RafsanajniRafsanajniRafsanajni\n"
          ],
          "name": "stdout"
        }
      ]
    },
    {
      "cell_type": "code",
      "metadata": {
        "id": "JZX59KM3kLne",
        "outputId": "02a4ea77-b521-49f0-916c-48af22aa19b1",
        "colab": {
          "base_uri": "https://localhost:8080/",
          "height": 124
        }
      },
      "source": [
        "# a = -31\n",
        "# print(a)\n",
        "# a = a + 11\n",
        "# print(a)\n",
        "# a = a - 1\n",
        "# print(a)\n",
        "# a = a * 3\n",
        "# print(a)\n",
        "# a = a - 4\n",
        "# print(a)\n",
        "# a = a % 4\n",
        "# print(a)"
      ],
      "execution_count": null,
      "outputs": [
        {
          "output_type": "stream",
          "text": [
            "-31\n",
            "-20\n",
            "-21\n",
            "-63\n",
            "-67\n",
            "1\n"
          ],
          "name": "stdout"
        }
      ]
    },
    {
      "cell_type": "code",
      "metadata": {
        "id": "FwCMDnmCkebF",
        "outputId": "d4f6d6d3-9643-424e-96ab-75eed69f25f7",
        "colab": {
          "base_uri": "https://localhost:8080/",
          "height": 53
        }
      },
      "source": [
        "!python -V\n",
        "!python --version"
      ],
      "execution_count": null,
      "outputs": [
        {
          "output_type": "stream",
          "text": [
            "Python 3.6.9\n",
            "Python 3.6.9\n"
          ],
          "name": "stdout"
        }
      ]
    },
    {
      "cell_type": "code",
      "metadata": {
        "id": "s-b5wR3wlUOC",
        "outputId": "c882dc80-620c-437f-b1ee-29bc02be6a0b",
        "colab": {
          "base_uri": "https://localhost:8080/",
          "height": 35
        }
      },
      "source": [
        "_var_ = 31\n",
        "print(_var_)"
      ],
      "execution_count": null,
      "outputs": [
        {
          "output_type": "stream",
          "text": [
            "31\n"
          ],
          "name": "stdout"
        }
      ]
    },
    {
      "cell_type": "markdown",
      "metadata": {
        "id": "fE0wtvXlSITh"
      },
      "source": [
        "# Week-2"
      ]
    },
    {
      "cell_type": "code",
      "metadata": {
        "id": "B7dltQV1SLZH",
        "outputId": "7e091af7-9c20-4930-ed6a-511cd420aa25",
        "colab": {
          "base_uri": "https://localhost:8080/",
          "height": 72
        }
      },
      "source": [
        "balanceFaisal = 4 # A-Z a-z # camel case\n",
        "print(balanceFaisal)\n",
        "\n",
        "var = 4.5\n",
        "print(type(var))\n",
        "\n",
        "var = 'Samir'\n",
        "print(type(var))"
      ],
      "execution_count": null,
      "outputs": [
        {
          "output_type": "stream",
          "text": [
            "4\n",
            "<class 'float'>\n",
            "<class 'str'>\n"
          ],
          "name": "stdout"
        }
      ]
    },
    {
      "cell_type": "code",
      "metadata": {
        "id": "1VtIpepRUPRO",
        "outputId": "fd95de4a-af77-4f1c-c01b-e9c45581ea1c",
        "colab": {
          "base_uri": "https://localhost:8080/",
          "height": 35
        }
      },
      "source": [
        "# print(5>6)\n",
        "\n",
        "# print(6==6) # 6>6 or 6=6\n",
        "\n",
        "# Operator: <, >, <=, >=.\n",
        "\n",
        "\n",
        "# print(6==6)\n",
        "\n",
        "# == --> compare (True / False)\n",
        "# =  --> assign a=5\n",
        "\n",
        "lusan = 81\n",
        "print(lusan != 80)"
      ],
      "execution_count": null,
      "outputs": [
        {
          "output_type": "stream",
          "text": [
            "True\n"
          ],
          "name": "stdout"
        }
      ]
    },
    {
      "cell_type": "code",
      "metadata": {
        "id": "vVRXxYawUZKM",
        "outputId": "65581ed5-dc04-404a-a343-86b9b8a553f2",
        "colab": {
          "base_uri": "https://localhost:8080/",
          "height": 35
        }
      },
      "source": [
        "# 80 - 100: A+\n",
        "\n",
        "number = 89\n",
        "print(80<=number<=100)\n",
        "# print(80<=89<=100)\n",
        "# 80<=89  --> 80<89 or 80==89\n",
        "# 89<=100 --> 89<100 or 89==100"
      ],
      "execution_count": null,
      "outputs": [
        {
          "output_type": "stream",
          "text": [
            "True\n"
          ],
          "name": "stdout"
        }
      ]
    },
    {
      "cell_type": "code",
      "metadata": {
        "id": "EPKBDd2nYZV3",
        "outputId": "31d262e7-1035-47d6-9437-54437fd05eaa",
        "colab": {
          "base_uri": "https://localhost:8080/",
          "height": 35
        }
      },
      "source": [
        "print(2<4<9)\n",
        "\n",
        "# 2>4 --> False\n",
        "# 4<9 --> True"
      ],
      "execution_count": null,
      "outputs": [
        {
          "output_type": "stream",
          "text": [
            "False\n"
          ],
          "name": "stdout"
        }
      ]
    },
    {
      "cell_type": "code",
      "metadata": {
        "id": "eUf_LLFMZDr8"
      },
      "source": [
        "print(2<4<9)\n",
        "\n",
        "# 2>4 --> False\n",
        "# 4<9 --> True"
      ],
      "execution_count": null,
      "outputs": []
    },
    {
      "cell_type": "code",
      "metadata": {
        "id": "pVl1fNd-YaCj"
      },
      "source": [
        "v = 2\n",
        "print(2<=v<9)\n",
        "# 2<=2 --> 2<2 (False) or  (2 == 2) True -- True\n",
        "# 2<9 Flase\n"
      ],
      "execution_count": null,
      "outputs": []
    },
    {
      "cell_type": "code",
      "metadata": {
        "id": "pvD6rK6lZ7lB",
        "outputId": "51ce4598-6a5b-4cac-b270-eb270c869b06",
        "colab": {
          "base_uri": "https://localhost:8080/",
          "height": 35
        }
      },
      "source": [
        "print(2==2<=9)"
      ],
      "execution_count": null,
      "outputs": [
        {
          "output_type": "stream",
          "text": [
            "True\n"
          ],
          "name": "stdout"
        }
      ]
    },
    {
      "cell_type": "markdown",
      "metadata": {
        "id": "wgMEg6zrfeA6"
      },
      "source": [
        "![image.png](data:image/png;base64,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)"
      ]
    },
    {
      "cell_type": "code",
      "metadata": {
        "id": "YAE20q83ffBT",
        "outputId": "dfe50005-f05d-4974-b143-a50b04f417b4",
        "colab": {
          "base_uri": "https://localhost:8080/",
          "height": 35
        }
      },
      "source": [
        "print( (5!=6) and (6==5) )\n",
        "\n",
        "# && --> and\n",
        "# || --> or"
      ],
      "execution_count": null,
      "outputs": [
        {
          "output_type": "stream",
          "text": [
            "False\n"
          ],
          "name": "stdout"
        }
      ]
    },
    {
      "cell_type": "code",
      "metadata": {
        "id": "m0FQriORgVon",
        "outputId": "181bd67d-a2f2-4ca9-f33a-ff42cb85b0f2",
        "colab": {
          "base_uri": "https://localhost:8080/",
          "height": 35
        }
      },
      "source": [
        "print( (5!=6) or (6==5) )"
      ],
      "execution_count": null,
      "outputs": [
        {
          "output_type": "stream",
          "text": [
            "True\n"
          ],
          "name": "stdout"
        }
      ]
    },
    {
      "cell_type": "code",
      "metadata": {
        "id": "BAOJPlsPg5z0",
        "outputId": "9e1254be-674c-4092-f4f6-695fbe5ab542",
        "colab": {
          "base_uri": "https://localhost:8080/",
          "height": 35
        }
      },
      "source": [
        "print( (5==6) or (6==5) )"
      ],
      "execution_count": null,
      "outputs": [
        {
          "output_type": "stream",
          "text": [
            "False\n"
          ],
          "name": "stdout"
        }
      ]
    },
    {
      "cell_type": "code",
      "metadata": {
        "id": "jnwtsj4ph3bf",
        "outputId": "4fd1a092-d282-4994-e2a4-aecee1f37e9f",
        "colab": {
          "base_uri": "https://localhost:8080/",
          "height": 35
        }
      },
      "source": [
        "a = 5\n",
        "b = 6\n",
        "c = 7\n",
        "\n",
        "print(a<b and 7<=c)"
      ],
      "execution_count": null,
      "outputs": [
        {
          "output_type": "stream",
          "text": [
            "True\n"
          ],
          "name": "stdout"
        }
      ]
    },
    {
      "cell_type": "code",
      "metadata": {
        "id": "W4IQsxmujNbp",
        "outputId": "e32383ff-9199-472a-d08d-751d7eb5dcd9",
        "colab": {
          "base_uri": "https://localhost:8080/",
          "height": 35
        }
      },
      "source": [
        ""
      ],
      "execution_count": null,
      "outputs": [
        {
          "output_type": "stream",
          "text": [
            "True\n"
          ],
          "name": "stdout"
        }
      ]
    },
    {
      "cell_type": "markdown",
      "metadata": {
        "id": "H99XcqAjkmn9"
      },
      "source": [
        "![image.png](data:image/png;base64,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)"
      ]
    },
    {
      "cell_type": "code",
      "metadata": {
        "id": "qolYPIi2koMB",
        "outputId": "fc8ce07f-e579-410b-b9e9-b8d195f74110",
        "colab": {
          "base_uri": "https://localhost:8080/",
          "height": 35
        }
      },
      "source": [
        "print(1<0)"
      ],
      "execution_count": null,
      "outputs": [
        {
          "output_type": "stream",
          "text": [
            "True\n"
          ],
          "name": "stdout"
        }
      ]
    },
    {
      "cell_type": "code",
      "metadata": {
        "id": "dFx0_2NgfhTs",
        "outputId": "7ef02726-4723-4b8c-d59c-7056724ef6a0",
        "colab": {
          "base_uri": "https://localhost:8080/",
          "height": 52
        }
      },
      "source": [
        "#Start Program\n",
        "n = int(input())\n",
        "\n",
        "if n<0: print('negative') # right (True)\n",
        "else: print('positive')   # left (False)\n",
        "#End Pragram10"
      ],
      "execution_count": null,
      "outputs": [
        {
          "output_type": "stream",
          "text": [
            "-11\n",
            "negative\n"
          ],
          "name": "stdout"
        }
      ]
    },
    {
      "cell_type": "code",
      "metadata": {
        "id": "g9N3FHjeiMPo"
      },
      "source": [
        "# -5 --> 5\n",
        "#  5 --> 5\n",
        "-5 * -1"
      ],
      "execution_count": null,
      "outputs": []
    },
    {
      "cell_type": "code",
      "metadata": {
        "id": "o4vwWIGAigR-",
        "outputId": "74a34378-8d68-43ba-a75d-14058704f40e",
        "colab": {
          "base_uri": "https://localhost:8080/",
          "height": 35
        }
      },
      "source": [
        "a = int(input()) # 5\n",
        "b = int(input()) # 6\n",
        "\n",
        "# a>b --> a\n",
        "# b>a --> b"
      ],
      "execution_count": null,
      "outputs": [
        {
          "output_type": "execute_result",
          "data": {
            "text/plain": [
              "5"
            ]
          },
          "metadata": {
            "tags": []
          },
          "execution_count": 5
        }
      ]
    },
    {
      "cell_type": "code",
      "metadata": {
        "id": "yxr7LVRNvWyQ"
      },
      "source": [
        "# 7, 8, 9 --> (9)\n",
        "if a>b:\n",
        "    ~\n",
        "else:\n",
        "    if "
      ],
      "execution_count": null,
      "outputs": []
    },
    {
      "cell_type": "code",
      "metadata": {
        "id": "H14efMH1pUc6",
        "outputId": "e6bef5db-d201-4074-b12d-aaec206942cc",
        "colab": {
          "base_uri": "https://localhost:8080/"
        }
      },
      "source": [
        "# 20 / 3\n",
        "\n",
        "# 20 - 3 = 17\n",
        "# 17 - 3 = 14\n",
        "# 14 - 3 = 11\n",
        "# 11 - 3 = 8\n",
        "# 8  - 3  = 5\n",
        "# 5  - 3  = 2\n",
        "# 2  - 3 = x\n",
        "\n",
        "# 20 % 3"
      ],
      "execution_count": null,
      "outputs": [
        {
          "output_type": "execute_result",
          "data": {
            "text/plain": [
              "2"
            ]
          },
          "metadata": {
            "tags": []
          },
          "execution_count": 7
        }
      ]
    },
    {
      "cell_type": "code",
      "metadata": {
        "id": "DhHeC3B_q65g"
      },
      "source": [
        "# 7 * 3 = 21 --> 7 + 7 + 7\n",
        "# 3 * 7 = 21 --> 3 + 3 + 3 + 3 + 3 + 3 + 3"
      ],
      "execution_count": null,
      "outputs": []
    },
    {
      "cell_type": "code",
      "metadata": {
        "id": "pHBQvOyvrftC"
      },
      "source": [
        "# A. 100 * 1 --> 100 \n",
        "# B. 1 * 10 --> 1 + 1 + 1 +1 + 1 + ... + 1"
      ],
      "execution_count": null,
      "outputs": []
    },
    {
      "cell_type": "code",
      "metadata": {
        "id": "JTKifKqcqUAi",
        "outputId": "2512a069-05e1-4e0f-f9a4-99d451314929",
        "colab": {
          "base_uri": "https://localhost:8080/"
        }
      },
      "source": [
        "# 20 / 3"
      ],
      "execution_count": null,
      "outputs": [
        {
          "output_type": "execute_result",
          "data": {
            "text/plain": [
              "6.666666666666667"
            ]
          },
          "metadata": {
            "tags": []
          },
          "execution_count": 6
        }
      ]
    },
    {
      "cell_type": "code",
      "metadata": {
        "id": "gqFBzXn8pjGL",
        "outputId": "50970595-c6a9-4688-81d9-6f5dd517cbba",
        "colab": {
          "base_uri": "https://localhost:8080/"
        }
      },
      "source": [
        "# 1700 -> 1000 (1), 500 (1), 200 (1)\n",
        "\n",
        "money = 200\n",
        "\n",
        "if money >= 1000:\n",
        "    times = money // 1000 # 2 --> (2200 / 1000)\n",
        "    print('1000 taka note {}.'.format(times))\n",
        "\n",
        "money = money % 1000\n",
        "\n",
        "if money >= 500:\n",
        "    times = money // 500\n",
        "    print('500 taka note {}.'.format(times))\n",
        "\n",
        "money = money % 500\n",
        "if money >= 200:\n",
        "    times = money // 200\n",
        "    print('200 taka note {}.'.format(times))\n",
        "\n",
        "money = money % 200\n",
        "if money >= 100:\n",
        "    times = money // 100\n",
        "    print('100 taka note {}.'.format(times))\n",
        "\n",
        "money = money % 100\n",
        "if money >= 50:\n",
        "    times = money // 50 # 53 // 50 = 1\n",
        "    # money = money % 50\n",
        "    print('50 taka note {}.'.format(times))\n",
        "\n",
        "money = money % 50 # 53 % 50 = 3\n",
        "if money >= 20:\n",
        "    times = money // 20\n",
        "    # money = money % 20\n",
        "    print('20 taka note {}.'.format(times))\n",
        "\n",
        "money = money % 20\n",
        "if money >= 10:\n",
        "    times = money // 10\n",
        "    # money = money % 10\n",
        "    print('10 taka note {}.'.format(times))\n",
        "\n",
        "money = money % 10\n",
        "if money >= 5:\n",
        "    times = money // 5\n",
        "    # money = money % 5\n",
        "    print('5 taka note {}.'.format(times))\n",
        "\n",
        "money = money % 5\n",
        "if money >= 2:\n",
        "    times = money // 2 # 3 // 2 = 1\n",
        "    # money = money % 2\n",
        "    print('2 taka note {}.'.format(times))\n",
        "\n",
        "money = money % 2 # 3 % 2 = 1\n",
        "if money >= 1:\n",
        "    times = money //  1 # 1 //1 = 1\n",
        "    money = money % 1 \n",
        "    print('1 taka note {}.'.format(times))"
      ],
      "execution_count": null,
      "outputs": [
        {
          "output_type": "stream",
          "text": [
            "200 taka note 1.\n"
          ],
          "name": "stdout"
        }
      ]
    },
    {
      "cell_type": "code",
      "metadata": {
        "id": "-9WXDRvC1I7B"
      },
      "source": [
        ""
      ],
      "execution_count": null,
      "outputs": []
    },
    {
      "cell_type": "code",
      "metadata": {
        "id": "JJDS3Ee9sZwC",
        "outputId": "d9fbce14-448e-41fc-b7f9-6330bc313d2a",
        "colab": {
          "base_uri": "https://localhost:8080/"
        }
      },
      "source": [
        "2200 // 1000"
      ],
      "execution_count": null,
      "outputs": [
        {
          "output_type": "execute_result",
          "data": {
            "text/plain": [
              "2"
            ]
          },
          "metadata": {
            "tags": []
          },
          "execution_count": 12
        }
      ]
    },
    {
      "cell_type": "code",
      "metadata": {
        "id": "nMIU00Sqs2-k"
      },
      "source": [
        "# 90-100: A+\n",
        "# 80-89 : A\n",
        "# 70-79 : A-\n",
        "# 60-69 : B+\n",
        "# 50-59 : B\n",
        "# 40-49 : B-\n",
        "# below 40: F \n",
        "\n",
        "mark = int(input())\n",
        "if 90<=mark<=100:\n",
        "    print('A+')\n",
        "else:\n",
        "    if 80<=mark<=89:\n",
        "        print('A')\n",
        "    else:\n",
        "        if 70<=mark<=79:\n",
        "            print('A-')\n",
        "        else:\n",
        "            if 60<=mark<=69:\n",
        "                print('B+')\n",
        "            else:\n",
        "                if 50<=mark<=59:\n",
        "                   print('B')\n",
        "                else:\n",
        "                    if 40<=mark<=49:\n",
        "                        print('B-')\n",
        "                    else:\n",
        "                        print('F')"
      ],
      "execution_count": null,
      "outputs": []
    },
    {
      "cell_type": "code",
      "metadata": {
        "id": "lM_hRP7x6awY"
      },
      "source": [
        "x = int(81.6)"
      ],
      "execution_count": null,
      "outputs": []
    },
    {
      "cell_type": "code",
      "metadata": {
        "id": "ZD7rEVg8H8tS",
        "outputId": "88099a35-0be9-420f-f828-f142602131ca",
        "colab": {
          "base_uri": "https://localhost:8080/",
          "height": 35
        }
      },
      "source": [
        "print(x)"
      ],
      "execution_count": null,
      "outputs": [
        {
          "output_type": "stream",
          "text": [
            "81\n"
          ],
          "name": "stdout"
        }
      ]
    },
    {
      "cell_type": "code",
      "metadata": {
        "id": "2ZlhnPwLJlWD",
        "outputId": "56cc033c-9d02-4728-8917-bd49cdf49083",
        "colab": {
          "base_uri": "https://localhost:8080/",
          "height": 188
        }
      },
      "source": [
        "prin"
      ],
      "execution_count": null,
      "outputs": [
        {
          "output_type": "error",
          "ename": "ValueError",
          "evalue": "ignored",
          "traceback": [
            "\u001b[0;31m---------------------------------------------------------------------------\u001b[0m",
            "\u001b[0;31mValueError\u001b[0m                                Traceback (most recent call last)",
            "\u001b[0;32m<ipython-input-5-68e287bbf6e7>\u001b[0m in \u001b[0;36m<module>\u001b[0;34m()\u001b[0m\n\u001b[1;32m      1\u001b[0m \u001b[0mx\u001b[0m \u001b[0;34m=\u001b[0m \u001b[0;34m'81.6'\u001b[0m\u001b[0;34m\u001b[0m\u001b[0;34m\u001b[0m\u001b[0m\n\u001b[0;32m----> 2\u001b[0;31m \u001b[0mprint\u001b[0m\u001b[0;34m(\u001b[0m\u001b[0mint\u001b[0m\u001b[0;34m(\u001b[0m\u001b[0mx\u001b[0m\u001b[0;34m)\u001b[0m\u001b[0;34m)\u001b[0m\u001b[0;34m\u001b[0m\u001b[0;34m\u001b[0m\u001b[0m\n\u001b[0m",
            "\u001b[0;31mValueError\u001b[0m: invalid literal for int() with base 10: '81.6'"
          ]
        }
      ]
    },
    {
      "cell_type": "code",
      "metadata": {
        "id": "xyYyOI9lKIdc"
      },
      "source": [
        "x = '81.6'\n",
        "print(int(x))"
      ],
      "execution_count": null,
      "outputs": []
    },
    {
      "cell_type": "code",
      "metadata": {
        "id": "Lg1jLUTNLyTr",
        "outputId": "2828c7d7-318b-450a-9f1b-ad43a7cb4c31",
        "colab": {
          "base_uri": "https://localhost:8080/",
          "height": 35
        }
      },
      "source": [
        "print('44'*3)"
      ],
      "execution_count": null,
      "outputs": [
        {
          "output_type": "stream",
          "text": [
            "444444\n"
          ],
          "name": "stdout"
        }
      ]
    },
    {
      "cell_type": "code",
      "metadata": {
        "id": "N7GxSzKjMnBs"
      },
      "source": [
        "a = 101\n",
        "b = a\n",
        "c = d\n",
        "a = b\n",
        "print(a, b, c, d)"
      ],
      "execution_count": null,
      "outputs": []
    },
    {
      "cell_type": "code",
      "metadata": {
        "id": "a_V4sz5CNZaf",
        "outputId": "e24224f5-bf8b-4fb3-dc5c-84968d7db900",
        "colab": {
          "base_uri": "https://localhost:8080/",
          "height": 35
        }
      },
      "source": [
        "print(int('45')+45)"
      ],
      "execution_count": null,
      "outputs": [
        {
          "output_type": "stream",
          "text": [
            "90\n"
          ],
          "name": "stdout"
        }
      ]
    },
    {
      "cell_type": "code",
      "metadata": {
        "id": "WguL-u-HQZHa"
      },
      "source": [
        ""
      ],
      "execution_count": null,
      "outputs": []
    },
    {
      "cell_type": "markdown",
      "metadata": {
        "id": "PcnL-acZYLQN"
      },
      "source": [
        "# Week-3\n"
      ]
    },
    {
      "cell_type": "code",
      "metadata": {
        "id": "d9SMS9X7YPjt",
        "outputId": "9ad09007-f981-4696-adba-17108ca77786",
        "colab": {
          "base_uri": "https://localhost:8080/",
          "height": 71
        }
      },
      "source": [
        "# Algorithm: Take input(s) and provides desires output(s) and halt/stop the program.\n",
        "\n",
        "# Start\n",
        "i=11 # initialized\n",
        "while i<20: # \n",
        "    print('Bangladesh')\n",
        "    i = i + 3\n",
        "# End"
      ],
      "execution_count": 2,
      "outputs": [
        {
          "output_type": "stream",
          "text": [
            "Bangladesh\n",
            "Bangladesh\n",
            "Bangladesh\n"
          ],
          "name": "stdout"
        }
      ]
    },
    {
      "cell_type": "code",
      "metadata": {
        "id": "CC4-9hSMdBkK",
        "outputId": "00a6a9df-1bed-4b83-eb50-eee18ee8be65",
        "colab": {
          "base_uri": "https://localhost:8080/",
          "height": 71
        }
      },
      "source": [
        "i=11\n",
        "while i<20: # \n",
        "    print('Bangladesh')\n",
        "    i = i + 3\n",
        "# End\n",
        "\n",
        "# Step-1:\n",
        "# i = 11, 11<20 (T) --> print *, i=14\n",
        "\n",
        "# Step-2:\n",
        "# i = 14, 14<20 (T) --> print *, i=17\n",
        "\n",
        "# Step-3:\n",
        "# i = 17, 17<20 (T) --> print *, i=20\n",
        "\n",
        "# Step-4:\n",
        "# i = 20, 20<20 (F) --> loop break\n"
      ],
      "execution_count": 4,
      "outputs": [
        {
          "output_type": "stream",
          "text": [
            "Bangladesh\n",
            "Bangladesh\n",
            "Bangladesh\n"
          ],
          "name": "stdout"
        }
      ]
    },
    {
      "cell_type": "code",
      "metadata": {
        "id": "dB_Z44b4cwBY"
      },
      "source": [
        "# Start\n",
        "i=11 # initialized\n",
        "while i<50: # \n",
        "    print('Bangladesh')\n",
        "    i = i + 6\n",
        "# End"
      ],
      "execution_count": null,
      "outputs": []
    },
    {
      "cell_type": "code",
      "metadata": {
        "id": "nN7EfU_OkOSv"
      },
      "source": [
        "# i=50\n",
        "# while i>10:\n",
        "#     i = i - 4 # i -= 4\n",
        "#     print('Dhaka')\n",
        "#     i = i - 3 # i -= 3\n",
        "# #end-while"
      ],
      "execution_count": 1,
      "outputs": []
    },
    {
      "cell_type": "code",
      "metadata": {
        "id": "HMmH3u5wlBKy"
      },
      "source": [
        ""
      ],
      "execution_count": null,
      "outputs": []
    }
  ]
}