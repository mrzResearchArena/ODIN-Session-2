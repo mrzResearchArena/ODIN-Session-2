{
  "nbformat": 4,
  "nbformat_minor": 0,
  "metadata": {
    "colab": {
      "name": "Batch-Evening.ipynb",
      "provenance": [],
      "authorship_tag": "ABX9TyP1OoYWJOxLfrYVjEAkswac",
      "include_colab_link": true
    },
    "kernelspec": {
      "name": "python3",
      "display_name": "Python 3"
    }
  },
  "cells": [
    {
      "cell_type": "markdown",
      "metadata": {
        "id": "view-in-github",
        "colab_type": "text"
      },
      "source": [
        "<a href=\"https://colab.research.google.com/github/mrzResearchArena/ODIN-Session-2/blob/master/Batch-Evening.ipynb\" target=\"_parent\"><img src=\"https://colab.research.google.com/assets/colab-badge.svg\" alt=\"Open In Colab\"/></a>"
      ]
    },
    {
      "cell_type": "markdown",
      "metadata": {
        "id": "X2zaFCsYcXXH"
      },
      "source": [
        "### 1. Types:"
      ]
    },
    {
      "cell_type": "code",
      "metadata": {
        "id": "K_9W-6CzcVhE"
      },
      "source": [
        "# .ipynb --> Python for Notebook\n",
        "# .py --> Python"
      ],
      "execution_count": null,
      "outputs": []
    },
    {
      "cell_type": "code",
      "metadata": {
        "id": "XwIYyA2SPMap",
        "outputId": "d754f151-30eb-421f-dc54-58c3e8ac1804",
        "colab": {
          "base_uri": "https://localhost:8080/",
          "height": 70
        }
      },
      "source": [
        "print('Rafsanjani') # I love it.\n",
        "print(\"Rafsanjani\") # I deny it.\n",
        "print(\"Rafsanjani\") # যা ইচ্ছে তাই, লিখতে পারি।\n",
        "\n",
        "#print(\"যা ইচ্ছে তাই, লিখতে পারি।\")"
      ],
      "execution_count": null,
      "outputs": [
        {
          "output_type": "stream",
          "text": [
            "Rafsanjani\n",
            "Rafsanjani\n",
            "Rafsanjani\n"
          ],
          "name": "stdout"
        }
      ]
    },
    {
      "cell_type": "code",
      "metadata": {
        "id": "Ou6yR0vIS-u6",
        "outputId": "f36796a9-fda7-44a2-faf2-5483173e7eed",
        "colab": {
          "base_uri": "https://localhost:8080/",
          "height": 70
        }
      },
      "source": [
        "print('Rafsanjani') # I love it.\n",
        "print(\"Rafsanjani\") # I deny it.\n",
        "print(\"Rafsanjani\") # যা ইচ্ছে তাই, লিখতে পারি।\n",
        "\n",
        "#print(\"যা ইচ্ছে তাই, লিখতে পারি।\")"
      ],
      "execution_count": null,
      "outputs": [
        {
          "output_type": "stream",
          "text": [
            "Rafsanjani\n",
            "Rafsanjani\n",
            "Rafsanjani\n"
          ],
          "name": "stdout"
        }
      ]
    },
    {
      "cell_type": "code",
      "metadata": {
        "id": "g-mCudpRcbmU"
      },
      "source": [
        "# integer Number = {..., -3,-2, -1, 0, 1, 2, 3, 4, 5, ...} # পূর্ণ সংখা / full number\n",
        "# float Number = {-3.0, -3.1, 3.1416} # ভগ্নাংশ / fraction number --> (3 / 4)\n",
        "# string type = {'Manzurul', \"Manzurul\", Manzurul} # text"
      ],
      "execution_count": null,
      "outputs": []
    },
    {
      "cell_type": "code",
      "metadata": {
        "id": "E1vHGYvxafji",
        "outputId": "b0f16b86-e347-4806-e836-ea3fc2a10d44",
        "colab": {
          "base_uri": "https://localhost:8080/",
          "height": 52
        }
      },
      "source": [
        "print(type(-11.0)) # float\n",
        "print(type(-11.))  # float\n",
        "print(type(-11))   # integer"
      ],
      "execution_count": null,
      "outputs": [
        {
          "output_type": "stream",
          "text": [
            "<class 'float'>\n",
            "<class 'int'>\n"
          ],
          "name": "stdout"
        }
      ]
    },
    {
      "cell_type": "code",
      "metadata": {
        "id": "eOUYhyEhe-Oq",
        "outputId": "09621d0f-95e6-4e66-9f15-d776d52ee514",
        "colab": {
          "base_uri": "https://localhost:8080/",
          "height": 35
        }
      },
      "source": [
        "# print(4+5)\n",
        "\n",
        "# print('4'+5) # 4kg + 5 cm\n",
        "\n",
        "print('4'+str(5)) # Append / Merge"
      ],
      "execution_count": null,
      "outputs": [
        {
          "output_type": "stream",
          "text": [
            "45\n"
          ],
          "name": "stdout"
        }
      ]
    },
    {
      "cell_type": "code",
      "metadata": {
        "id": "Z8FhL-JAilC_",
        "outputId": "7316e9a4-58b6-40cc-e0a1-568cbe2e0dd6",
        "colab": {
          "base_uri": "https://localhost:8080/",
          "height": 35
        }
      },
      "source": [
        "print(str(4445)+'5')\n",
        "#print(int('4445')+5)"
      ],
      "execution_count": null,
      "outputs": [
        {
          "output_type": "stream",
          "text": [
            "44455\n"
          ],
          "name": "stdout"
        }
      ]
    },
    {
      "cell_type": "code",
      "metadata": {
        "id": "VRYAIkZUinQP"
      },
      "source": [
        "4450"
      ],
      "execution_count": null,
      "outputs": []
    },
    {
      "cell_type": "code",
      "metadata": {
        "id": "juqqytjRb7rT"
      },
      "source": [
        ""
      ],
      "execution_count": null,
      "outputs": []
    },
    {
      "cell_type": "markdown",
      "metadata": {
        "id": "NDTOrxfEcBTq"
      },
      "source": [
        "### 2. Variable and Value:"
      ]
    },
    {
      "cell_type": "code",
      "metadata": {
        "id": "d0O0JkcUcLdj",
        "outputId": "526fc93e-3baf-4058-91a9-c1b2ae81cd7f",
        "colab": {
          "base_uri": "https://localhost:8080/",
          "height": 35
        }
      },
      "source": [
        "a = 0 # variable (a) = value (0)\n",
        "a = 4 # variable (a) = value (4)\n",
        "a = a + 3 # 7 # variable (a) = value (7)\n",
        "a = a + 2 # 9 # variable (a) = value (9)\n",
        "a = a + 1 # 10 # variable (a) = value (10)\n",
        "\n",
        "print(a)"
      ],
      "execution_count": 2,
      "outputs": [
        {
          "output_type": "stream",
          "text": [
            "10\n"
          ],
          "name": "stdout"
        }
      ]
    },
    {
      "cell_type": "code",
      "metadata": {
        "id": "OpGDUtzNfZbF",
        "outputId": "16d7337e-3032-464d-e942-b50122cef008",
        "colab": {
          "base_uri": "https://localhost:8080/",
          "height": 52
        }
      },
      "source": [
        "# a, b = 0, 0\n",
        "\n",
        "a = 0\n",
        "b = 0\n",
        "\n",
        "a = 5\n",
        "b = a \n",
        "a = b\n",
        "a = 10\n",
        "\n",
        "print(a)\n",
        "print(b)"
      ],
      "execution_count": 4,
      "outputs": [
        {
          "output_type": "stream",
          "text": [
            "10\n",
            "5\n"
          ],
          "name": "stdout"
        }
      ]
    },
    {
      "cell_type": "code",
      "metadata": {
        "id": "QNUmJMSKmh1G",
        "outputId": "d54e5a86-85d5-46b0-a2a8-8aa3ad0093f4",
        "colab": {
          "base_uri": "https://localhost:8080/",
          "height": 35
        }
      },
      "source": [
        "a, b, c = 0, 0, 0\n",
        "\n",
        "a = 5\n",
        "b = 3\n",
        "c = a + b\n",
        "a = c\n",
        "b = c\n",
        "\n",
        "print(a, b, c)"
      ],
      "execution_count": 5,
      "outputs": [
        {
          "output_type": "stream",
          "text": [
            "8 8 8\n"
          ],
          "name": "stdout"
        }
      ]
    }
  ]
}