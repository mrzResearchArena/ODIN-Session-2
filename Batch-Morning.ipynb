{
  "nbformat": 4,
  "nbformat_minor": 0,
  "metadata": {
    "colab": {
      "name": "Batch-Morning.ipynb",
      "provenance": [],
      "collapsed_sections": [],
      "authorship_tag": "ABX9TyNY6KtaF/+iZXsfWxMekHFV",
      "include_colab_link": true
    },
    "kernelspec": {
      "display_name": "Python 3",
      "name": "python3"
    }
  },
  "cells": [
    {
      "cell_type": "markdown",
      "metadata": {
        "id": "view-in-github",
        "colab_type": "text"
      },
      "source": [
        "<a href=\"https://colab.research.google.com/github/mrzResearchArena/ODIN-Session-2/blob/master/Batch-Morning.ipynb\" target=\"_parent\"><img src=\"https://colab.research.google.com/assets/colab-badge.svg\" alt=\"Open In Colab\"/></a>"
      ]
    },
    {
      "cell_type": "code",
      "metadata": {
        "id": "V9eIV9E5R46R",
        "outputId": "ca13c07d-8c02-4009-c0c7-c473d1ada09a",
        "colab": {
          "base_uri": "https://localhost:8080/",
          "height": 35
        }
      },
      "source": [
        "# print 'Rafsanjani'\n",
        "# parentheses --> ()\n",
        "# print('Rafsanjani')"
      ],
      "execution_count": null,
      "outputs": [
        {
          "output_type": "stream",
          "text": [
            "Rafsanjani\n"
          ],
          "name": "stdout"
        }
      ]
    },
    {
      "cell_type": "code",
      "metadata": {
        "id": "lge574V1TtMd",
        "outputId": "7e99aec5-4686-42df-916d-83134d18b16e",
        "colab": {
          "base_uri": "https://localhost:8080/",
          "height": 145
        }
      },
      "source": [
        "print('*********')\n",
        "print('*       *')\n",
        "print('*       *')\n",
        "print('*       *')\n",
        "print('*       *')\n",
        "print('*       *')\n",
        "print('*  ...  *')"
      ],
      "execution_count": null,
      "outputs": [
        {
          "output_type": "stream",
          "text": [
            "*********\n",
            "*       *\n",
            "*       *\n",
            "*       *\n",
            "*       *\n",
            "*       *\n",
            "* ... *\n"
          ],
          "name": "stdout"
        }
      ]
    },
    {
      "cell_type": "code",
      "metadata": {
        "id": "hDDReZjEIt43",
        "outputId": "6c915ccf-115f-4f9b-f467-cf7aadb00cbe",
        "colab": {
          "base_uri": "https://localhost:8080/",
          "height": 145
        }
      },
      "source": [
        "print('* * * * *')\n",
        "print('*       *')\n",
        "print('*       *')\n",
        "print('*       *')\n",
        "print('*       *')\n",
        "print('*       *')\n",
        "print('* * * * *')"
      ],
      "execution_count": null,
      "outputs": [
        {
          "output_type": "stream",
          "text": [
            "* * * * *\n",
            "*       *\n",
            "*       *\n",
            "*       *\n",
            "*       *\n",
            "*       *\n",
            "* * * * *\n"
          ],
          "name": "stdout"
        }
      ]
    },
    {
      "cell_type": "code",
      "metadata": {
        "id": "cPcBjRp_JFsH",
        "outputId": "0b342d58-0dc6-4958-f910-b6156af39814",
        "colab": {
          "base_uri": "https://localhost:8080/",
          "height": 35
        }
      },
      "source": [
        "print('4'+'5') # append"
      ],
      "execution_count": null,
      "outputs": [
        {
          "output_type": "stream",
          "text": [
            "45\n"
          ],
          "name": "stdout"
        }
      ]
    },
    {
      "cell_type": "code",
      "metadata": {
        "id": "JlxNiQumUlxj"
      },
      "source": [
        "AB"
      ],
      "execution_count": null,
      "outputs": []
    },
    {
      "cell_type": "code",
      "metadata": {
        "id": "pwIFDS22U5YK",
        "outputId": "b8fe0330-f9c6-4961-963c-4e0de7e54e55",
        "colab": {
          "base_uri": "https://localhost:8080/",
          "height": 173
        }
      },
      "source": [
        "print('4'+5) # 4 kg + 5 minutes?"
      ],
      "execution_count": null,
      "outputs": [
        {
          "output_type": "error",
          "ename": "TypeError",
          "evalue": "ignored",
          "traceback": [
            "\u001b[0;31m---------------------------------------------------------------------------\u001b[0m",
            "\u001b[0;31mTypeError\u001b[0m                                 Traceback (most recent call last)",
            "\u001b[0;32m<ipython-input-6-e7c268b8f415>\u001b[0m in \u001b[0;36m<module>\u001b[0;34m()\u001b[0m\n\u001b[0;32m----> 1\u001b[0;31m \u001b[0mprint\u001b[0m\u001b[0;34m(\u001b[0m\u001b[0;34m'4'\u001b[0m\u001b[0;34m+\u001b[0m\u001b[0;36m5\u001b[0m\u001b[0;34m)\u001b[0m \u001b[0;31m# 3kg + 5 minutes?\u001b[0m\u001b[0;34m\u001b[0m\u001b[0;34m\u001b[0m\u001b[0m\n\u001b[0m",
            "\u001b[0;31mTypeError\u001b[0m: must be str, not int"
          ]
        }
      ]
    },
    {
      "cell_type": "code",
      "metadata": {
        "id": "zyAxZvdjVjCj",
        "outputId": "f52ced54-8105-4f19-dcd6-59c79378878b",
        "colab": {
          "base_uri": "https://localhost:8080/",
          "height": 35
        }
      },
      "source": [
        "print(int('4')+5) # Adding\n"
      ],
      "execution_count": null,
      "outputs": [
        {
          "output_type": "stream",
          "text": [
            "9\n"
          ],
          "name": "stdout"
        }
      ]
    },
    {
      "cell_type": "code",
      "metadata": {
        "id": "JJeXiughXpk6",
        "outputId": "6731233d-2cbe-4cdd-934c-a8a6d200c125",
        "colab": {
          "base_uri": "https://localhost:8080/",
          "height": 72
        }
      },
      "source": [
        "v = 'Hridoy' # text\n",
        "print(type(v))\n",
        "\n",
        "v = 34 # পূর্ন সংখা।\n",
        "print(type(v))\n",
        "\n",
        "v = 34.50 # ভাগ্নাংশ সংখা।\n",
        "print(type(v))"
      ],
      "execution_count": null,
      "outputs": [
        {
          "output_type": "stream",
          "text": [
            "<class 'str'>\n",
            "<class 'int'>\n",
            "<class 'float'>\n"
          ],
          "name": "stdout"
        }
      ]
    },
    {
      "cell_type": "code",
      "metadata": {
        "id": "rAQmmwUQaaff"
      },
      "source": [
        "#integer = {-5, -4, -3, -2, -1, 0, 1, 2, 3, 4}\n",
        "\n",
        "# float = {3.1416, 5.00, 3.32}\n",
        "\n",
        "# string / text = {'Sourav', \"Sourav\", \"Sourav', 'Sourav\", Sourav}"
      ],
      "execution_count": null,
      "outputs": []
    },
    {
      "cell_type": "code",
      "metadata": {
        "id": "-8or-6drbUsX",
        "outputId": "a2ef69a9-32cc-4374-d563-e979863add80",
        "colab": {
          "base_uri": "https://localhost:8080/",
          "height": 35
        }
      },
      "source": [
        "print(type('Rafsanjani'))"
      ],
      "execution_count": null,
      "outputs": [
        {
          "output_type": "stream",
          "text": [
            "<class 'str'>\n"
          ],
          "name": "stdout"
        }
      ]
    },
    {
      "cell_type": "code",
      "metadata": {
        "id": "zpNNdyyrbuE-",
        "outputId": "52779cea-461b-4ee7-ba7d-23dd8712ac7d",
        "colab": {
          "base_uri": "https://localhost:8080/",
          "height": 52
        }
      },
      "source": [
        "# a, b = 0, 0 \n",
        "\n",
        "a = 0\n",
        "b = 0\n",
        "\n",
        "a = 5\n",
        "b = a # b=5\n",
        "a = b # a=5\n",
        "\n",
        "a = 10 # a=10\n",
        "\n",
        "print(a)\n",
        "print(b)"
      ],
      "execution_count": null,
      "outputs": [
        {
          "output_type": "stream",
          "text": [
            "10\n",
            "5\n"
          ],
          "name": "stdout"
        }
      ]
    },
    {
      "cell_type": "code",
      "metadata": {
        "id": "nv4kgyuPjY9N"
      },
      "source": [
        "# Swapping!\n",
        "a = 10\n",
        "b = 20\n",
        "\n",
        "###\n",
        "# Write Code\n",
        "# Hints: You have a \n",
        "\n",
        "###\n",
        "\n",
        "print(a) # 20\n",
        "print(b) # 10"
      ],
      "execution_count": null,
      "outputs": []
    },
    {
      "cell_type": "code",
      "metadata": {
        "id": "upK7qvRSs66L",
        "outputId": "48f3e8c8-f802-4a4e-cacb-4e31bbac50e1",
        "colab": {
          "base_uri": "https://localhost:8080/",
          "height": 54
        }
      },
      "source": [
        "a = float(input())\n",
        "\n",
        "print(a+5) # 5kg + 5 cm"
      ],
      "execution_count": null,
      "outputs": [
        {
          "output_type": "stream",
          "text": [
            "100.5\n",
            "105.5\n"
          ],
          "name": "stdout"
        }
      ]
    },
    {
      "cell_type": "code",
      "metadata": {
        "id": "INhG-rsEo43p",
        "outputId": "4bc90b3b-e691-4122-cfe4-dd1b28a3c87b",
        "colab": {
          "base_uri": "https://localhost:8080/",
          "height": 90
        }
      },
      "source": [
        "# Q1:\n",
        "a = int(input())\n",
        "b = int(input())\n",
        "\n",
        "print(a)\n",
        "print(b)"
      ],
      "execution_count": null,
      "outputs": [
        {
          "output_type": "stream",
          "text": [
            "5\n",
            "6\n",
            "5\n",
            "6\n"
          ],
          "name": "stdout"
        }
      ]
    },
    {
      "cell_type": "code",
      "metadata": {
        "id": "C1OpOQa9qQTi",
        "outputId": "da794a80-0e32-42be-89da-85930e415840",
        "colab": {
          "base_uri": "https://localhost:8080/",
          "height": 90
        }
      },
      "source": [
        "# Q2:\n",
        "a = int(input())\n",
        "b = int(input())\n",
        "\n",
        "print(a+5)\n",
        "print(b+5)"
      ],
      "execution_count": null,
      "outputs": [
        {
          "output_type": "stream",
          "text": [
            "100\n",
            "1000\n",
            "105\n",
            "1005\n"
          ],
          "name": "stdout"
        }
      ]
    },
    {
      "cell_type": "code",
      "metadata": {
        "id": "1bEhMRTNqb5n",
        "outputId": "0ab5632d-607e-4c42-9a28-a9469e56cb27",
        "colab": {
          "base_uri": "https://localhost:8080/",
          "height": 90
        }
      },
      "source": [
        "v = 1971.194798564\n",
        "\n",
        "print(v)\n",
        "print('{:.2f}'.format(v))\n",
        "print('{:.3f}'.format(v))\n",
        "print('{:.4f}'.format(v))"
      ],
      "execution_count": null,
      "outputs": [
        {
          "output_type": "stream",
          "text": [
            "1971.194798564\n",
            "1971.19\n",
            "1971.195\n",
            "1971.1948\n"
          ],
          "name": "stdout"
        }
      ]
    },
    {
      "cell_type": "code",
      "metadata": {
        "id": "oujai4DCmNnX",
        "outputId": "3547a331-ce11-42e3-c2b5-76b4c071c3c6",
        "colab": {
          "base_uri": "https://localhost:8080/",
          "height": 53
        }
      },
      "source": [
        "n = int(input()) # default/string\n",
        "\n",
        "print(n+21)"
      ],
      "execution_count": null,
      "outputs": [
        {
          "output_type": "stream",
          "text": [
            "5\n",
            "26\n"
          ],
          "name": "stdout"
        }
      ]
    },
    {
      "cell_type": "code",
      "metadata": {
        "id": "JC848pkzpKs5",
        "outputId": "3205056e-4c8e-471a-a3d7-ae1066a5e22d",
        "colab": {
          "base_uri": "https://localhost:8080/",
          "height": 35
        }
      },
      "source": [
        "!python -V"
      ],
      "execution_count": null,
      "outputs": [
        {
          "output_type": "stream",
          "text": [
            "Python 3.6.9\n"
          ],
          "name": "stdout"
        }
      ]
    },
    {
      "cell_type": "code",
      "metadata": {
        "id": "THvDLtjepNtY",
        "outputId": "d5394e32-ac0b-4b9b-af05-76e4475a56ce",
        "colab": {
          "base_uri": "https://localhost:8080/",
          "height": 35
        }
      },
      "source": [
        "!python --version"
      ],
      "execution_count": null,
      "outputs": [
        {
          "output_type": "stream",
          "text": [
            "Python 3.6.9\n"
          ],
          "name": "stdout"
        }
      ]
    },
    {
      "cell_type": "code",
      "metadata": {
        "id": "eYdydcOXp0un"
      },
      "source": [
        "v = function(variable1, variable2, variable3, \n",
        "             variable4)"
      ],
      "execution_count": null,
      "outputs": []
    },
    {
      "cell_type": "code",
      "metadata": {
        "id": "ZTs7PLdkqvib",
        "outputId": "f7b13b25-52d6-4c41-d2a1-074cb1f3d450",
        "colab": {
          "base_uri": "https://localhost:8080/",
          "height": 136
        }
      },
      "source": [
        "print('Araf'"
      ],
      "execution_count": null,
      "outputs": [
        {
          "output_type": "error",
          "ename": "SyntaxError",
          "evalue": "ignored",
          "traceback": [
            "\u001b[0;36m  File \u001b[0;32m\"<ipython-input-9-8a61fc7e22a9>\"\u001b[0;36m, line \u001b[0;32m1\u001b[0m\n\u001b[0;31m    print('Araf'\u001b[0m\n\u001b[0m                ^\u001b[0m\n\u001b[0;31mSyntaxError\u001b[0m\u001b[0;31m:\u001b[0m unexpected EOF while parsing\n"
          ]
        }
      ]
    },
    {
      "cell_type": "code",
      "metadata": {
        "id": "jc8XX7qlzZAa",
        "outputId": "33e235c9-a7d4-4f53-9b4e-d50c40ef2237",
        "colab": {
          "base_uri": "https://localhost:8080/",
          "height": 107
        }
      },
      "source": [
        "a = int(input())\n",
        "b = int(input())\n",
        "c = int(input())\n",
        "d = int(input())\n",
        "\n",
        "print(a+b+c+d)"
      ],
      "execution_count": null,
      "outputs": [
        {
          "output_type": "stream",
          "text": [
            "1\n",
            "3\n",
            "79\n",
            "81\n",
            "164\n"
          ],
          "name": "stdout"
        }
      ]
    },
    {
      "cell_type": "code",
      "metadata": {
        "id": "ibcn9USRrB5X"
      },
      "source": [
        "# Circle Area = 2 * pi * r # r as input\n",
        "\n"
      ],
      "execution_count": null,
      "outputs": []
    },
    {
      "cell_type": "markdown",
      "metadata": {
        "id": "Wt3i0723NINv"
      },
      "source": [
        "# Week-2:"
      ]
    },
    {
      "cell_type": "code",
      "metadata": {
        "id": "OL-um-JRNGNk",
        "outputId": "da67823e-81ac-45fb-ee8c-7185fa0b9a36",
        "colab": {
          "base_uri": "https://localhost:8080/",
          "height": 35
        }
      },
      "source": [
        "balaceRafsanjaniSumael = 4 # camel case\n",
        "print(balaceRafsanjaniSumael)"
      ],
      "execution_count": null,
      "outputs": [
        {
          "output_type": "stream",
          "text": [
            "4\n"
          ],
          "name": "stdout"
        }
      ]
    },
    {
      "cell_type": "code",
      "metadata": {
        "id": "0_prLhF5Pmjm",
        "outputId": "3c60d198-79fc-4855-aac7-83154e56ea1c",
        "colab": {
          "base_uri": "https://localhost:8080/"
        }
      },
      "source": [
        "var = 4\n",
        "print(type(var)) # integer\n",
        "\n",
        "var = 4.5\n",
        "print(type(var)) # float\n",
        "\n",
        "var = 'Rafsanjani'\n",
        "print(type(var)) # string/text\n",
        "\n",
        "var = 2>3\n",
        "print(type(var))"
      ],
      "execution_count": null,
      "outputs": [
        {
          "output_type": "stream",
          "text": [
            "<class 'int'>\n",
            "<class 'float'>\n",
            "<class 'str'>\n",
            "<class 'bool'>\n"
          ],
          "name": "stdout"
        }
      ]
    },
    {
      "cell_type": "code",
      "metadata": {
        "id": "etXhC9dZQVTO",
        "outputId": "46ff8a26-0b45-4da3-d94e-5bf94044115e",
        "colab": {
          "base_uri": "https://localhost:8080/",
          "height": 35
        }
      },
      "source": [
        "var = 6>5\n",
        "print(var)"
      ],
      "execution_count": null,
      "outputs": [
        {
          "output_type": "stream",
          "text": [
            "True\n"
          ],
          "name": "stdout"
        }
      ]
    },
    {
      "cell_type": "code",
      "metadata": {
        "id": "MsadirXYSrYb",
        "outputId": "ee7b9ff4-150f-417b-b08d-f6643a49ea7d",
        "colab": {
          "base_uri": "https://localhost:8080/",
          "height": 35
        }
      },
      "source": [
        "print(5==5)\n",
        "\n",
        "# =  --> assign operator # a=5\n",
        "# == --> logical operator # checking (True / False)"
      ],
      "execution_count": null,
      "outputs": [
        {
          "output_type": "stream",
          "text": [
            "True\n"
          ],
          "name": "stdout"
        }
      ]
    },
    {
      "cell_type": "code",
      "metadata": {
        "id": "vWQKY5l_Tn7U",
        "outputId": "3bf7e58c-8954-4b59-f9ed-73ba8eadfc9f",
        "colab": {
          "base_uri": "https://localhost:8080/",
          "height": 35
        }
      },
      "source": [
        "var = 80\n",
        "print(100<=var) # A+ (80-100)"
      ],
      "execution_count": null,
      "outputs": [
        {
          "output_type": "stream",
          "text": [
            "False\n"
          ],
          "name": "stdout"
        }
      ]
    },
    {
      "cell_type": "markdown",
      "metadata": {
        "id": "HZPuOCVoai_a"
      },
      "source": [
        "![image.png](data:image/png;base64,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)"
      ]
    },
    {
      "cell_type": "code",
      "metadata": {
        "id": "QNuYpp4WaMma",
        "outputId": "6d8fc130-6ddd-493e-ca82-92ae72d8ab5f",
        "colab": {
          "base_uri": "https://localhost:8080/",
          "height": 54
        }
      },
      "source": [
        "print( (5>6) or (6==5) ) # or\n",
        "\n",
        "print( (5!=6) or (6>5) )"
      ],
      "execution_count": null,
      "outputs": [
        {
          "output_type": "stream",
          "text": [
            "False\n",
            "True\n"
          ],
          "name": "stdout"
        }
      ]
    },
    {
      "cell_type": "code",
      "metadata": {
        "id": "t1cmz6glb5Vv",
        "outputId": "fb70395b-939e-4a75-c9fa-91701152dead",
        "colab": {
          "base_uri": "https://localhost:8080/",
          "height": 54
        }
      },
      "source": [
        "print( (5>6) and (6==5) ) # or\n",
        "print( (5!=6) and (6>5) )"
      ],
      "execution_count": null,
      "outputs": [
        {
          "output_type": "stream",
          "text": [
            "False\n",
            "True\n"
          ],
          "name": "stdout"
        }
      ]
    },
    {
      "cell_type": "code",
      "metadata": {
        "id": "FzXr6ENwcFtr",
        "outputId": "00875b34-22e4-4c51-cd5c-56e9ebce0bfc",
        "colab": {
          "base_uri": "https://localhost:8080/",
          "height": 35
        }
      },
      "source": [
        "v = 50\n",
        "print(20<50<60)"
      ],
      "execution_count": null,
      "outputs": [
        {
          "output_type": "stream",
          "text": [
            "True\n"
          ],
          "name": "stdout"
        }
      ]
    },
    {
      "cell_type": "code",
      "metadata": {
        "id": "vIn8UCh9d8ir",
        "outputId": "04b53697-d23d-4cba-c16c-17ebdc212d25",
        "colab": {
          "base_uri": "https://localhost:8080/",
          "height": 35
        }
      },
      "source": [
        "balance = 989\n",
        " \n",
        "if balance >= 500:\n",
        "    print('You can do it.')\n",
        "else:\n",
        "    print('You cannot.')"
      ],
      "execution_count": null,
      "outputs": [
        {
          "output_type": "stream",
          "text": [
            "You can do it.\n"
          ],
          "name": "stdout"
        }
      ]
    },
    {
      "cell_type": "code",
      "metadata": {
        "id": "Muguv07ef6Fx",
        "outputId": "c50aade4-92ee-4067-95fa-a63879226446",
        "colab": {
          "base_uri": "https://localhost:8080/",
          "height": 35
        }
      },
      "source": [
        "-5 * -1"
      ],
      "execution_count": null,
      "outputs": [
        {
          "output_type": "execute_result",
          "data": {
            "text/plain": [
              "5"
            ]
          },
          "metadata": {
            "tags": []
          },
          "execution_count": 18
        }
      ]
    },
    {
      "cell_type": "code",
      "metadata": {
        "id": "BLFJ_ZLIfGEe",
        "outputId": "a1ea0235-2eed-49ff-abf3-7f76e5ef1c1e",
        "colab": {
          "base_uri": "https://localhost:8080/",
          "height": 54
        }
      },
      "source": [
        "# -5 --> 5\n",
        "#  5 --> 5\n",
        "\n",
        "# Starting Program\n",
        "n = -11\n",
        "\n",
        "if n < 0:\n",
        "    n = n * (-1)\n",
        "else:\n",
        "    None\n",
        "\n",
        "print(n)\n",
        "# Ending Program"
      ],
      "execution_count": null,
      "outputs": [
        {
          "output_type": "stream",
          "text": [
            "11\n",
            "11\n"
          ],
          "name": "stdout"
        }
      ]
    },
    {
      "cell_type": "code",
      "metadata": {
        "id": "I_1vPPkChKZo"
      },
      "source": [
        ""
      ],
      "execution_count": null,
      "outputs": []
    },
    {
      "cell_type": "markdown",
      "metadata": {
        "id": "XRuQqFXuf3Ms"
      },
      "source": [
        "![image.png](data:image/png;base64,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)"
      ]
    },
    {
      "cell_type": "code",
      "metadata": {
        "id": "a0yDK_3Cf5fW"
      },
      "source": [
        "# -5  --> 5\n",
        "# -11 --> 11\n",
        "# 11  --> 11 \n",
        "\n",
        "# print(-11 * -1)\n",
        "\n",
        "# n  = 11\n",
        "\n",
        "# if n<0:\n",
        "#     # print('Negative')\n",
        "#     n = n * (-1)\n",
        "#     print('if works!')\n",
        "# else:\n",
        "#     # print('Positive')\n",
        "#     None\n",
        "#     print('else works!')\n",
        "    \n",
        "# print(n)\n",
        "\n",
        "# 80-100: A+\n",
        "# 70-79: A\n",
        "# 60-69: A-\n",
        "\n",
        "# 50-59: B+\n",
        "# 40-59: B\n",
        "# 33-39: B-\n",
        "\n",
        "# below 33: F\n",
        "\n",
        "\n",
        "# Start (A)\n",
        "marks = int(input())\n",
        "\n",
        "if marks >= 90:\n",
        "    grade = 'A'\n",
        "else:\n",
        "    if marks >= 80:\n",
        "        grade = 'B'\n",
        "    else:\n",
        "        if marks >= 70:\n",
        "            grade = 'C'\n",
        "        else:\n",
        "            if marks > 60:\n",
        "                grade = 'D'\n",
        "            else:\n",
        "                grade = 'F'\n",
        "            \n",
        "\n",
        "print(grade)\n",
        "\n",
        "# Start (B)"
      ],
      "execution_count": null,
      "outputs": []
    },
    {
      "cell_type": "markdown",
      "metadata": {
        "id": "AEp-a9-1voG0"
      },
      "source": [
        "## BMI Calculation:"
      ]
    },
    {
      "cell_type": "markdown",
      "metadata": {
        "id": "s8S1cJCNv4Sv"
      },
      "source": [
        "![image.png](data:image/png;base64,iVBORw0KGgoAAAANSUhEUgAAAvIAAAF+CAYAAADgAf5yAAAABHNCSVQICAgIfAhkiAAAIABJREFUeF7s3XmwZVV5Pv5N0w09gIyioEIrKDigOIEDKo44D4GAGqPRSmKlElP5JqmUlaRSmj+sSvK16vszlTnRlEklcZ5wRBGUwagoiAwqIA5MggzSzN3N73zW7ee6e3Pu2Pd239v9ru5d5549rOFZaz3vs9619jq73TcKXYVCoBAoBAqBQqAQKAQKgUKgEFhWCKxYVrmtzBYChUAhUAgUAoVAIVAIFAKFQEOghHw1hEKgECgECoFCoBAoBAqBQmAZIlBCfhlWWmW5ECgECoFCoBAoBAqBQqAQKCFfbaAQKAQKgUKgECgECoFCoBBYhgiUkF+GlVZZLgQKgUKgECgECoFCoBAoBErIVxsoBAqBQqAQKAQKgUKgECgEliECJeSXYaVVlguBQqAQKAQKgUKgECgECoFZCfnaar4aSiFQCBQChUAhUAgUAoVAITB/BDZv3jz24W3R2SvHxjg4edlll3UXXXRRt2HDhm7Tpk1bXd1tt91mE0XdUwgUAoVAIVAIFAKFQCFQCOxyCKxcubKjl++9995uxYoV3dq1a7tDDjmke8xjHtMdeOCB7fwee+wxL1xmFPL33HNPd9ppp3Xvfve7u+uvv74l3g8l5OeFez1UCBQChUAhUAgUAoVAIbALIMAJvnHjxqahed9vu+227uSTT+7+6q/+qgn5VatWzRuFGYW8EcJNN93URPwRRxzRHXPMMVslVkJ+3tjXg4VAIVAIFAKFQCFQCBQCuwAC9PLq1au7H/3oR91Xv/rV7oorrujuuuuuVvJt0dIzCnkJJKE3velN3Z/92Z+10cR9m+/rNt+3eeJv37ccu0BdVBELgUKgECgECoFCoBAoBAqBWSNgSQ3P+9lnn939+q//eluqvi1r45PwrIT8MJdGDitWruh2H/2rUAgUAoVAIVAIFAKFQCFQCBQCMyOw7777dnvttdfMN87yjlntWtOPi4jflimAWearbisECoFCoBAoBAqBQqAQKAR2CgTifb/jjju6u+++e8HKNGchv2ApV0SFQCFQCBQChUAhUAgUAoVAITBvBGYn5O+biH+q/S/nnXo9WAgUAoVAIVAIFAKFQCFQCBQC80JgdkJ+XlHXQ4VAIVAIFAKFQCFQCBQChUAhsFgIlJBfLGQr3kKgECgECoFCoBAoBAqBQmARESghv4jgVtSFQCFQCBQChUAhUAgUAoXAYiFQQn6xkK14C4FCoBBYxghkh4VNGzd1joT+38u4eJX1QqAQKAR2CgRKyO8U1ViFKAQKgUJg2xEg3rOpgW2G/b1i9xXtiLD3d4n5bce6YigECoFCYCEQmNcPQi1EwhVHIVAIFAJzQYCQrN+wmAtic78Xxn5t0C8QXn755d29997bbdy4sUW0cuXKbv/992+Hv4n53VfWjwLOHeV6ohAoBAqBhUOghPzCYVkxFQKFwCIisHnT5nkLxxoEzK5iDJSI9Ntuu637yle+0p155pnd9ddf3x5+0IMe1L3oRS/qXvjCF7a/S8TPDtO6qxAoBAqBxURghwp507YMx09/+tPuuuuum9UvXa1Zs6bbY489unXr1nX77btft9fee3WrVq2axGhosDds2ND95Cc/6X72s591q1evbt6mfvBTuQc/+OBu3V7rWryzCdK4/fbbu5///Oct7/2w++67N0Mof4cffvj94vRrXj/60Y+6q6++uj0mT/vss0/7ud5DDz10NsnXPYXALonAps2bujs33Nlde+213a233trdc8897dB/HvrQh3b6cp8L+iDxKut7+ICnWR/13f2eXbt2bXfAAQdM6/EnaG+44YaWtv6Pux7+8Id3Bx10UIeXcIv+vJBBfm+++ebOLwFec801bXnLnnvu2T34wQ9u+fb3QgaDpbZ0ZlSWs88+u/uP//iPFj28jjrqqG79+vXdM57xjHkn2edn/C+dqeps3oks4IPJo/IvtdkgbV++zJ5UKAQKgV0XgR0q5MF+0UUXdd/4xje6008/vfvOd75zP+E7rJqDDz64GZNHPepRzaAcc8wxk7dkDWdOILrzzjuv+5//+Z/um9/8ZjtNaPcD79Kpp57ajNRshLw0brn5lu6nV/+0O+uss7p/+Zd/2So+RokgeMxjHtOdcsop3dOf/vStrl911VXdP/3TPzVvl/zlXp4uU9YEfYVCoBC4PwJEFY7Qdz7/+c+3QTQRc+yxx3Yvf/nLuxNOOKF5ivshwpFg5CzgYT7jjDO6Cy+8sD3rfjxy4okndk9+8pOnFOJEP2fAe//tvd1ZXzmriflDDjmkpfn85z+/e+ITn9gGFAsdCPhzzjmn5flb3/pW85Tvt99+3Ste8YrujW98YxPzCykwd1uxWyuCgU+W1PiOGxdCME6uux9hL75+nJbqGEQsZHm2tT4yQ2GAs/m+0SBntxXbbSZC21UHUw0i1MnQ5m1reev5QqAQWH4I7HAhf8sttzQDxVgNvdvj4Lz44oub55pB//GPf9ymfYnmI444YisDwCjceeedzfv99a9/vfvud7/bohsKecL5AQ94QDMo/UHBuLSdQ+w33HhD94UvfKH7+Mc/3vLRD0iXd47n7tinHHs/Ic8wExHnn39+e2zvvfduxvlhD3tYEwUVCoFCYGoE9FMzbF/72te6u+66q818Gaw/4hGPaAP8oZCPKCR4rrjiiu7cc89tA4F4ua+88so2s8aT/rjHPW5KIU+4//CHP+wuuPCC1n8NKvAPj7w+jWsWQ8jjEenhMJ+C2YPHPvaxk+n6vlAhwlr5rI/Pd7y5EEJePjkwbrzxxlYHuA/+4jez8chHPnJRcJwLPmyHAc33vve9Zl9+8YtftLJztBg4aWMLPRMyLn/aLseQetDm2TIDSm3ZuSOPPLK1+6U8ozGuXHWuECgEFhaBHS7kEThjTNDOJvBQ8Goz4j/4wQ+6r371q93v/M7vNCHfDxs3bWzG1eEZ6SA8RqQfGPdPfepTHU//bIS8Z01385DFy9+PD8kyToz8TbfcNLZISDiB6E/onx/7YJ0sBHZhBAgbx0Me8pDugQ98YBM3lrjoN7zlxHZCPPH97zzyl112WRNC4QHCCAd8//vf7zgVIsb7z/ubWCfqCDoiF185iE8Czz3DNBeiqnCNfMlvBv3SV2754YjAIYvhxc7SR+UI9gtRJvHCHHd/5jOfadizAWYv3/KWt3THHXfcDhPzrcwjEc++4Pf3vOc9jcthf8wTjule+apXNocLx8tiYD4OX8swP/vZz3Zf/OIXW5vXzvdYtUd30skndW9/+9tLyI8Drc4VArsQAjtUyDNODGkEbDw+Bx54YPOy83zwcBPijKS1sVnvbr0oL9qll17avO3EPTEeTwmSFbc4PWtqPevjxcswM4aMO0MpbqK/L6zTDpB7DLhzlgPx1iB7eTBIYMzjaXKPuMYF5Yl3Sx7F67vz5VkZh1idKwQmEFi5+8rmgeSZ1s/1G31b//z2t7/dPf7xj29coh/lxdh23brvUT+74NsXtHdT9HnBOZyAC7L2PVhnrXgELO9x1uZLV/BpaZw8WZ+/GMJOOZVH3BwEAt7hhVc2s4mLka50wp39+DNgcX2+Axf1BU/vKqhL+PPKG6CpD3UYzm0F3o5BmTMwNAPDvuR9KGLerLG8bs/3meTHwIfd0X7Vv/C0q5/WcJpvPWxHWCupQqAQWEQEdqiQH1cuxETIW/OadePWhPJCWJP+kY98pHlwkCwDwMgR9VnzGoLdfcWEkR+mgYyzDt3zEfc33nBjGyTw7MeAebZvxNzP+Dg8x5AjVQMDeUS4powrFAKFwMIjwFNKMPOC68P6oL5qwK7fEVl5gTVrvYkcu6vceded3YbbN4wdYLvHwJvAt7TD4Dz7pqf/33TTTU1ESZO41tcNvq2Txyn+XozAU33YYYe1GQjiHQcps8Myj9m81zOffGUAM59n5/IMx4kyCYuF4Vzy417tIQHmhHzy1x/IzDXe+d6f+h4O2Pr5nG/c9VwhUAgsfwQWx/psIy7EOYNt/ema1WuaIUaoXkpjTHmmeCgQGy84D4nzT3va0yZT9mLSuMAgWluYqXiGWTxX/eiq5n0hEqTdDxH2BhOW81x6yaXNi+9ZO9O438GrV6EQKAQWB4EIGju2GDwTufGWEoPEvE8i371CxA9+0H9xxTBwHlgHbVbPS/TrR2vthb5Q4izQ98URb7FlOPJC+EtnMbzIHARepsUvz3nOc1o+pWcZivJvj7XaQ7wW8nt/l59xs6ELmdZ84spASVvIEqahoJ5PvHN5hj3M0X9OPrTz7Z2fueS97i0ECoHFR2DJCXnETiAT64xmW4oyEvICD/gzn/nM5hHnnc8b/e7hifPM8GW3IYSM/KMf/eg2JX3JJZc0YxiPniU6psnz8mv/2Xjt3HPlD69sHjmi33Q+kuXRy5Z0nkOu4wg256e6PsxvfS8ECoGtEeABN2tnOZs+R0DjDOvJ9eVhIPDN4MWzOrzu+5133NkG97zyD3vow+63M4kBQJb2uR+P6P/4Q19untrNI0/uAu8EqJyOox939OQsQQYp48qxkOfwLWyzlGgx0u0vJ1wqHvk+hv0Zj35eFxLnYVzaUt92TOeRr6U1Q/TqeyGw6yGw5IS8pSrICYEyIDEeDDTDHfGedfWqjBFHsv1zU007ipcRJvh50xlo3jaG3jaYJ4xeZMqUfZqDuOTDy2UXf/fi5rmXTy882bbS/QT+nnss7J7Ou15zrBIXAtMjgAcIeUtgeMh54A2iffJW66M8p8RvAoeAGTzXCaS816LferZ55G/7RXsR9glPeEJnv/rN926efGfFPeL10iMuIN6lz6lghk9oA/MtWzcmXQMI79KYDRCH756PV92acByCi8w+DnefcW9+B8MAQ1x4iODlkfce0bgAC7vxyDNuk65BzDihHCeItHCZpYVxTkRASiM8DDOzoDD1sqrliGYnw71mKGBz9NFHtxdWI37tBGNpk93J7E+vPHYrMwuSgIP/8z//s20Rqv7MRrSXTEdbDIszPD+uzMNzMLj7rru7y753WXfVlVd1N9504+SMqfZhSZRDHbADZjZuvunm7oorr2j5wvEXXHBBswsJOJ6Tx4DP9qcp2/Oe97y2/Wg/wCM7zZip5WTSDtgvNkgefKp/5YR9nFDqwvMwgrEdzv73f/+34ewZtodttGPau971rvaehn4BI46ozBLLJ6eXnd4sDdPuzDZpt5agZolpP9/KbSto7cZ17RtG8mcpl74jLXjJjzjT1tSlcklLu1IeM1zy49k8N6yr+l4IFALbhsCSE/IMBoJE2sgYSTEcEer+diC7rBlFGvHkzwSH5xhuRsYSG8YbaTF6/kZ8Tzvul0t0xCc95Mkjd8mll7S/TXUzBAwwI4kA7ZQjfsFn/u7nKefHXZsp73W9ENjVESAgcATBQiQQ10SlQPwQS/FiO6efERZEjX6KV4jDrM2Olz7CiXjSv/vLPAz2CerwDq4hcIhWwi4hYhe/4C5Ci+DziVcIGaJOPC2PBxzYnfDcE5ogd41YGop5nPO5z32ubXcbMUcgve1tb2szi33PrTIQioSbGUvbbJp1JCKVf1zAr8qnHM997nO7k08+ufFi3gOIRzqzHl5SFacynXbaaW1nl+ArfnvxE7WvfOUr21IgeMMLNxJ9fmDqQx/6UDs/DDjUoEN+DJZgLA6fROpsg0EDThef3cW8CJ24M8NgoPHUpz61/UotB5G6vPueuxvWykXAK1c/wNAOZzCHs6AdEsWPP/rxk7M4Bm0GXZdefGl3znnntLQNOpVLu9BO1D9c1KV8eCeM3Vm7bm3DXhuBs98cIeYF9zvP3km/v42x65Zgve51r2sDA/ZJW7bTzSc/+cn2Xpm0j3zUkS2uqX6zxCDrb/7mb1rZYWVgd/zxx7f2kZ3htAl9Tt/zAq5nOMG0bbgLygXTJz3pSd1rXvOa1ucWY3vWlliFQmAXR2DJCXnkQbQjI54AhhhxIj8jfi+7Ikb3ZRqdV8OoP96x6eqUAUGC4kYsjAtPi3OMrbhvuvmmbv/99p8kZukgKNcRqcDY81gwwgiaF8m1GCh/y+NQsLvucK1CIVAIzB2BdWvXtX6n3xLc+i6RQ6joo4SVF0Txhr6m79qDW18X7G5FyBCNWRKnDxNbBFg4yL0Ei0E+ARvx5jwPo0E8DglHpSTyQEQT0/gkO225TtDgBqLQwftPkCkLwcPT7p4E3OMl3ni+eWLlx4GDMrDJgOXTn/50S5uXVHmyQ89khIM/lJsw9DyM8u5PnCk+YaTsPgl4WMCFQJaPfuA9hp+8icsMJ34Wj3J7VpAmQajOEnB83jPKrAKMDURc6w9aBsWY/Mqrnh/rIzAJTXE6iFF5kDd4axvahMHc61//+jYQlK7Bk7rJkiKRh6/VjXIJ2hycPWP5Jww9J132gL3i3YeVNJRBucWVgZX0YastajevetWrJnfEUTdmkpKWfCcvEfPyaPAHI3EkPmn4O9uXui7vt/7i1paevIpPGfpBPrU38bomTuVN2u7VDvweg99v0B4MErRzQV60We3Cc3DXX5XdwHN77vazVcHqSyGwEyOw5IQ8rJEJAkAoPEYIGMn6URSGCuEJiJiR4JnzAynWrPbDOLGMwJxngHlFEBCSyb1IFznxjhH7AvJHSoxi35MkDgMIhGdrPAEBuoeRGmd8XM+SodkYpq0KVF8KgUKgW71mdeMFYjweY31KP83L8BHX+jVB5CBAeHr1a2Les/oq4eY6D6PniR/3+RVPAkjfd64fcA2P45Bj3M8j/rd/+7eNR/o7zeAx1/FFBhmEmsEDoU6cEbw82nnhXpmkLZ/Oed59BjAO3mfr8m2X6RoByeMd4SXNcN64poNrCbss88CJ8uAZ6QjK6CBY8wN7GdSYlYzIh6+BhXLDkVdX+jg6XMjZkhd0OUL6Qj6zG/LuMFiDcWZHZsOX1153bfuxMPvTE5owCWdLK9sEyzOR75z8vOAFL2j2Qx6kCfcMgmIffMqXtie4x+yF+mSf4KatSPsDH/jA5DsZcBSv5+UFlv4W3C8fbB1s2TKDRHHFvhD9RLg2CWN5ln9xwlAZXTvi8CNa2w5eEfviEtxnYOS8/I4LzmeWRttQX+7XHrQ1m0gQ9waLPP1msVMez6kjecqASTu46LsXdQc96KDW50rIj0O9zhUC24bAkhTyxLTpTWsUeeaN8BEDDxOyQ2xIzLQro2ebyqGIBwvyGQYGy3lTf0gFsQsMLpIWvynNTCMiKekzDjwtSNS9nkWK4kFm1scisRib/t/9POT8VNeH+a3vhUAhsDUChJcXUnndI4j0abxAROKEZz/72ZMim1OAB5aXUH/V5y2JwC34gOCMJ5EXk1AhUCPcCO14UCOmXPdLsPpxeMZz0v/Sl740KbjxBXFmHbXlIQQZsSQ+jgkHL7XjjC+d0fLHObD3Xnvf74Xbce0gGwFcc+01bS01QYgrBcKKQLXcRVnwGHHKk47LItTtBnbiiSe2tdN4Dya4kACMiBefmY04T5T92GOPbbxLXPI840gYeC7eZB5r5+SFyHzjG9/YcOOt5kSRTmZKDjn4kO7Zz3l2E/4ZABCl6jMDs3EY9M+JzwyHgZG8yy885dUyD/klUC2d4RCSj9SHa5YE8RyzNdbz8zzLv2Bggfef8pSntDg95xmYBUs4q9vg5D71r0wwUA71oz1aKiUP8qyNws3ATts1MIXTn/7pn7Z8wJc9hKsBnQGAfL75zW9u9ypr2qTr8iYP8iVPEfVxJOVziGfqLufdZ9CgzxHx4oGfPhERr0/oT9qPtiQv+hQ7qs/pZ4LnKhQChcDCI7DkhDziYGziDWEo41FBSDHcDC8SNRUdohjCM07I375hwgPlecTKS8ALhXylzQAwxog/QiHrQpE7o0PAMwr97S6Hadf3QqAQWBwEGgeM/uu/+rFAMOubPIDEjuA+/KH/Rlw5z9NJ9HgWz0QIuUbs8tBn96qsBebNFIgRzxKY/UG7a/JAIBNoxF/4x8uav/Vbv9U4I4H3Xz4IOPmUZ+/fGAQQ3/FciiMHgZQ4c04enFcOIlA+fVc2wtnaa+vADRAEYl96hJi0DSwIxle84hVNMBOV4oTDhtu23gWI5xlfEqYnnXRSE//S4Kk97dOnNUFvYJKlGHA0sCDqpGPWUl4IVTMHcc6oNwLxgQc9sPvVX/3VxunxKpuNGPdS5iSQgz/kIe88iZdHmbA1mHnTm97UPNfihj9xfNaZZ3Vr1q5pmMkDsW7AZQAiKI9rAjFrHToHkvgEZc9gKvfACKbakHutgdcG4hn3zOe/8PnWXhzqQb4JZo4kbYfwXz96MdVhPf/f/d3fNVEMD4c6lM+3vvWtLR/qKzMdvot3sYL+pI4T2GEz2IT8G97whklM2FF9QT2o/9juxcpXxVsI7KoILDkhH89LjKTvCICXiMFlSBkpZOftep6VU045pXvJS17SpkQz1d43svlbJY/M4uT6PwYC2fKoIFJGEIEjHeQqIE0GiXGI5whh9r35u2rjqXIXAjsSAZ51opooI4SJC57IvKiHN/Rb1yJsnCNqiVEi3TUcQ8AKBBFBTNDxCuMBnsWs7cZBBvJZ+pLyE2fS5+32AqhAREqHmCbixS1/eMfyCcsBibx4ZD0jT8Sv+wg/6RGYPvEO8asMvofX3IsX8VPKKX/S7u+G4j75IOYTcB68lJnI9YyAD3lgI2Jdw4viO/XUU5vwj9gmZHEvHuXsCFbyIx7lFs9uq3Zrcd9x+x2THmN8rTxErPIOBehcRPxkoXp/qF9xGMjJT3YzIrZPGK3fJ5TlT/7lQz4tqdK24Bt7Ikr1AP8Mppzri3jfxctL/rKXvWxy1jZtJbbNM9otrK0v10YzMFOvMGN32DnpyQN8OLS0AdecE6971YPn1a8AR3l3v8O11KPP/tEe2IZgcJeZHnWvL2YQavcjOGpjsIVNhUKgEFh4BJackEcyDAYjiiRisBAXUuaFQxy8Ewwe4hAQF08O70VCX8DnHHKM5wI58ibwnoibl4ohETeCRfyIlJeep8+z0pY/AwCGWAhJTiZcfxQChcCiI0AcEMTEAhFDEBM5+rBP/dz0P7GDS1zHI8Sc2Tb9W79u77iMRJr79W/CyvOCe/BMBvGEH8EacdaEHwE4Er1ZsuE5cfK44ytxSUca4nHNc7jFlrXOJ8gj0ckbvs+++7TTEWPKiLPcHzFpAIHniDeCLtzmb8IJfyZI071mMIlbgxR5MQCRprhbelvizGyHc/4WJ/HJq65s/SA+1wxkYC5eh/M+pWuf/ZGMbDuzyIv0YBD+VPY4a5RRmfoe72C9VcKDL/JIJBusqUt4K5vlNh/72MeajcDdWX7CUy6IO4MneSQ+PdvHz9/xqicvEeDK5sXl2KFcV++5ph1qf54xYMvgSLm1IXH7W/tV587BThxwyqBIHO4zYJJPZXZfyuEz4j35C8aT+d0y0zOAb1ZfsyuOm+XDQFAeCPmPf/zjbemRfml5mPbv79nU3awSr5sKgULgfggsOSGP3IhrXiykyzD1ydSLZLZ0YwSIb4LfekMkF09bnskgoC/oPYdUEBAjE6+ZeAl5BoThRZDWJDLO8ZggWCIekSEree0T+f3QrROFQCGwKAjowwS8fmjGLLu46PMEjsE3caHvEqyEkJDnDnrgQY0vTP/H4xlOMStH/FmDbOaPkMIvApHIWeAlR3wgDWITFxEySQe/mC3ED5ZLfPCDH2x843w/yF/WYDuPq3DOHXfe0e23/36N+yZF+xbvqnzmnGf64lKeCMCrRmu/iWrvDxGr4s15fJmBivwovwEKLhUMSsK54U6f+A4/9svQF2gw8t0RUSyvOR/vNRFLZAvylE/cGq9y0u97vPs83h4aEwhHdsMMg3KKX1xeKFWntvEk4i0j4ogxQ2F5kPv6A6YI6+RHUtJnF4JlzrV8jYox2sZgMkfwtSUjG5LlXnDQNuVHPYlL/fsubfkTfE/58z1psm0ZVLonA7ckLN/y7LPfRiYzto1/yIcB4nHHHdcwtsZfXWpvyseOminXt/QRS1TNYPHSD5chbWNW6vFCoBDYgsCSE/KMGIOCaE1PMh59ArcuHXkxBggLqeWw367nEA3j1vd0TVXjPEum0b2ohRhjzAkBniWeeQI/a2nlhTfPVKy/4/mYKv46XwgUAouDAG4gQAkxYlQgiIil/JCPv4mmeCQ5CQjq/HgT77x4EiKu9H+iHB8RKPo5rydx78Av8Vjfu3GCh/qCPPH1f1DIueQj1yPi8l1azhFi/g7HjHvWuRW7T7wHQDiZKTDQkHdlJhKt2RfwFcFl4ILX/K3cyofPiC3bBLY4R0tLsgtXn3vbxXmGYbnnE81s8qJ+LVdS72wE3lZGn/AQ2AXLi6xzNwAzGCQ6MyCCfY4MVHxGTLs2VdB+2AwzALAndA0kHfLBZmmjgnoWp+/+zsYLU8U9l/PJo/iT75Qh52aD57g09QMDIINnA1kDVdgpI4yVX9vK77S89KUvbddrac04NOtcIbDtCCw5Ia9IjCZB7RgGhpch9eMlyM96VJ+8OQwpw2lKjzcLeSC0EZW1z3HGRHw8bD4RKuMsPqRkVwWkhIx5WHjvGUzpxxs/zF99LwQKge2DgD5PoBqME2cOg3z9nHeTkDMIxwv6tHst/9DXI3TMrhkM8CgSt/o9cUKIcRo4R5wJ4jZgaN7FEVdk/fK2lDYiDlcRedJzTlnkY6ZAjOFLeSJeCdkINKLq3//939uWvZwjMJBnmMSry4ON09pSiBGeyz0QmQQj+6CueOV5iR3qNjbALI4XWS2bMrj59V//9ebQMYBhd+CkPjKDC5d8H2eXgpv43ve+97Xdbgh3AwWfmcVQB8s9wJhHXn8g1m1FCU+DR+VMWbOtJgwsgX3Ws57VBk0VCoFCYGERWLJCnjFj1OyPPJxe5T1ikJGz4F7kgUh4Ce44YjQtPfrHoCFuL7iGwBm9HIGSIWPcCXVV4OH8AAAgAElEQVRkLyAeni0iwCfDyjAge4ZCeogsXpyFrZaKrRAoBKZDIF5GO3foj4Qq4UpkWfPNS0hcWO5iDa+BNyFvN5D+i6r6Lz4h5ogw8ej7BCCParzsWXaCKzKgT/5WrVzVnsuLlP1885BnOZ6ZgCy9yT24i2CXb84CLwhaCjMXUY3PcBOPLp7KshVp4URlISA5KXwXCH8DIN7rJzzhCd3aNb98sXIm3Pue3Pzd9/KO+3s6L7b0+nFOl/5M18QDu6OOPKoNUOBpUObIoI6NcBi84XYDIN55Mxp77j0arI3+EasZuMFOPcHYueFyln6eLvjWBW03HMua8pz2koESzGHBfmT9vjYmfu10pjDOGTXTM9uCb7Ofo/YlmKkRfNfe7T6kXNq4NqYfwtKMj8GL8ulLyqds+lkJ+dnUVt1TCMwNgSUn5JEfMkZsbRrSC0SbJ3Y7UDQkyCAyfK4jXKTIGMaARFyLYyja8z0E5Vlx5KfFERJBgIzEI15eK+Jgr3V7tXWVCGm4a0VgD9FKexzpOudwfSbjNreqrLsLgV0HAX2daPVJsOGDCCeigYAn1qx3952I5a229K7vUSWy9GnewyyrgSIvInHvPNFClHjekRc9s+aXo4Fnv3HQ6F8CniDKbSdpaz7xmCXoB6KQ8MQHDmKcEMdJ4pfXHPHWe9659lLq6Pcr8IilI5YHKqu8KIs4cJi/I+KlQXgRrfL04he/uG1jKGR50lYZHHwJx+Z0BHjO51PdtNnQUf0MnzHwcc0RUSyfEYhZ4z1dPma6BhcDK4elQ7bKJCp54e3Lrl7N3kpfetqKgZS68I4AnNKm5C18rlzDgM8NmqwZv/KqK9vfaYscTpahWLcPZ3kRtE+zyQaLPNrul16wim2Qt8QnbX9nSZT67b+QLF73yy+7Ji7fhdSTvGoP4kq+U+/iVgfi9HzslOflJw61xOW8F4cJeINBs2DaqHfYvvjFL7ZBEltq8OhvGFcoBAqBhUfg/qy08GnMKUYkglh8EuxD44Jc8pPQCAlpISAkwsAy6pmSDolNlwFEjrwIc946hlBcnnUgISQu7LHnxEthyAthNQM8MqaeR/7tc5Q/wbMR7f30+wI/906Xv7pWCBQC4xGIoNAPiYl4OIlanOC6fqpfEiJEHSH+4Ac9eDJC13gV9Wm8ksCzaGnddddeN7kM5cADJtbTR2T1ZwrxkLj3P2DiB+bkyRp3eSLO+2uwx5WGowD34Id4/8VPcOUIVymXc67Lv+CFSttk+jSrKC/SJCTxTGYsiUAcSVTyjvLID0MTsiMHirgTf5/bhvfP9fs9904IRuVI/OKIF3f1nhM7sODWu++ZGNQE85nSMguT9xIMVgxqsjZ7/WgJFXvCQ0x0wyXLQXzm7wycXO+LYfZGe5DPhAymYoPEbUAQmyHf6sBgDuZ9JxOvvYGddFLH0sshDff7Lh3tSbzSEqSjrbNbgvPi8oxP7YgTKt/dIz2DCAfxnUGp894b8HJuZm0McuU/7a0lMgraV17s9oNX0teHsu0kDDjEtEX50ObMfvT3nk9c9VkIFALbjsCSE/IRziH44ZvuCNiPTPCs8LZl/Srhz1AzyM2rMiKQvocjUIUkQ1C+C0ieV54hEBBmvCq+u58BRMoILqFvbN2fZxhdfw8NUDPAW84n7cnI6o9CoBCYMwIG4folgWEQ7pOAxyX6Gy4hZggOHtG99t5rMg1coe/zUmcnFxfFYTCeZSqEindjiPLdV9x/nbN+bukOYZMXHHETDvroRz/aPL9+9ZKw6gei0+wfAYXbCKvf+73fazwmyL+8++SBFaTlu4BDCDwe5vPOO68JJoGo4nG39lv58CHeuevO0QzkmtWT3nDYeL7v2XVvjghSWETMu5bgb/npP+PveIaH8Xhuj1V7NHEXnva8+w16CERlbzv2jAYqV//w6oare6U/E2daHvV//+//bfz9K7/yKw1zgj7PSVdZOXtgqH76QRpwgrU0m4gexeUZ+fvhVT+cHNh57rrrr2svW3tRuI9L4pSOZx0R8QZVBolsmPaq/NLt10E/T9qOLTu1jSwfk3eDTXnKoFX6vN7sk7S0WYM5z6X8ymLZmUGrvuCa563p/9CHPtR+kCyz3AaW7cXwEQYJ+gjB/1//9V9tUABjszoGDfKpLHBrW5yOZrArFAKFwOIjsOSEPKLhZbADDSOKCBFrAq8TIsnaRucZYVPYPAzEtoCg+96emaDc5wH7NA/VmaNfHAy5I0OkxgNjkMCgMOR9g5K/Q3b9z3FGx7n+MVO+6nohUAhMjwCxQUz5JOrj+SNsiCZBn8MN4YfESDzp057LADvik5jPufai7JGPmhB3o2Ub4wK+8Muf9oA/+5yz20CC2OF5FbzTs/7Q9Vs9+v3Lv9+8lwQYkWZNt3QPO/SwtmwGBzqIrbw0SSw5FxFNGPtbevjKvQYRBgaWkRB8RJl7XIcT4SweB0HnPO7NACEYJLOuOeezHSMPcZsRGO2fbuvFXOs/5762h/qWZxPXur3WNeFH7LkmDzhX+Sw1kVeDD3gqiwGJ5U/j+HRYD7zABkWWRgmwz6+kKrOBjiUtbIw01X+WqORv6chbfxcZuMDUcqsvf/nLk+9OKa+tktWbdNgJ+MahQ2jn13TTxpzjjBKXepceO9Kffe7bLjZQuyXM816Ye4nq//iP/2jC3Xfxu8f9WQYmT8R67BhHFVtn+Yt2IV7xWJZ11llnTf7eASziVOvXqbricYdh3h/xKV3lgLF3ESxjuvUXt7a6Va/qc6rlqMM6rO+FQCEwNwR2uJBvXoiRLUAWCFCnRzAf/vCHu0984hMTU8g9Ie8+hpqBjsA3Pfz617++7Vkbr4f7kJtjKOh9d70vyHnpkDfCExB30uBhsLONwQID1DcoXsZF8OJjXDMI4PlJXvpV4lzWL7o3htHf4urnaW5VWXcXArsmAvqt/snLmV9VJU70yQgS/Yo3PMvu+kgRGDzY7vWMgIdwACHinHuItOm20ONJlk5b5nLpJU3o6N+8zBwPBKCQdeE84TiDsMNlHBLSkMdsK+k6zhCPe/pCG2fgt42bJn7YDgbSJH7zYifB2A+ewV9EKhFnHT+hfMLoV06dw1t2blGO5FOa4dPJ9EfLbzbfO7EkRPztudF98hsRi8/XrJ34kao8515xe1eBU0YarQyjfPGmO84444yW5ewyBPP8+F6/LOP+lvaa1WsapmYotAd1KE0YZjlmBnuwko6BYL9utQXnIz7FJ7ifeIaHcwTzww97eBPyZoUcnpWWkKVO1sEHA2U1wMsg033sjvbgnuGAxXfxG/Bpw+IksuFn0NLay6iM1uJ7FyBLyJRZu/aM9px6+clPf9LdcOMNDR/n1YHBozKljalHefFdPuWNSJeXzDJ45pOf/GQbLMq/a+JQPtjEfsLIjy4OB9ENoAqFQCGwzQjscCHfxO/IEGVqVYmyRg85IYcYFNcQKeJn9Bge4tovDVoWg3gTPBcPR5bfNM/PvRsbwTgQTsS2T54Lxph3gUFBgDw7iNmUuWMoBLK0hudJfDH8npPXYYhQcC+SdB8j0kh2tC61QiFQCMweAZ5h/Vaf9Ul8RKyKJVxCYBGW4wLBY4B+1FFHNY9t4hCPQ+D1JD6lMV3AH0SxdHliedktn/CJ6yLwwhM+CR35s3SHRx/vGNRbq46X7CjjF2A9Kz9Es+fCb/iRICfkeHnbFrwj5wORFs/0MM+ZAbjm6msmd3CxZeMzn/HMNhOAu3CyEByIOVhJuy84cZqyBccMOpQ7g5XEJb7k3ZpxWxISlNmmEW6u+1R2ZXXMNuDS5z3/eW35lPTVZ9LE3RG0MOclhps8EMqCskhfcN1vmahzopkXny1RJtgrM5w23fdL3rarmToUCG7LP9ka6bJJaU+W+yg/O2NZVES99OHYF/PapnvFa9lW4k688iTPxDPMPJ9yyLt93OFvQJmtRz2TQS67SWjHDvHaw02dKGuWI4nboZ16eVf5ifm8xKrNxdbKIxtttke/0bZmOxhrBaxQCBQCs0Zghwr5GAREkRecknPCFpmFlHKewWboGD7kxmj6m6i3G0JIsBmL0ZSzgGDE14zQ7hNr+PrnQpq8L0jnVa96VZt6RLICMuTtsq/0MCBMz1t3Sigge3F7JqK9/wwDhZh5MJAr74l7GZkY+WEa9b0QKATGI0Ds6ncENCFOoBEW+ro+T3i49tSnPPV+69MTo3t5Y5/znOe0ZR0RVhE64rREgXdzv333mxR643KECwgWIgZf2MOdsNa/CaN4dn2X73hx3es5PON884iOPON4Yp9992nCVFmUiSj0N/4gDMUljxwNuDHcEkGafEZAx8sqP8Tg9T+7vi3ZkK5ZTc/jQmUg2A0UpIfXwl3i7L+/hMPd7z7pwI4INFviuQw6PJdBgPXbv/Zrv9bu4dXN7AGOlEdiFx9nictQ4I7D/+HrH9697nWva3VuWY360B7ECTdli8A08CFyg3k8yJ5xrB8Jee8YRKBKX1wwVx7cbTYY9gK+10Ze+9rXNlF82mmnTc7K4Hb1BSfXTj311DYT8tnPfra1OaJf3uDWd1yJV1qe0UbM7MBY/tgnz8g3DJXZwKQ/ayzvz3ve89ozls4og2UvBjkwMUBVD9a5w/qmG2/qzvzKmU2Qw6vNqozaVwYa8qMvnHzyya38ZhrELS8R8cooH9ojRxsRf/wzj99qG+lxdVfnCoFCYH4I7FAhj4yQD6JhgHitYqwyDYkAI7QVEfEgO4YXufWnMol0IUZ8z9V7NnJ6y1ve0rwRSAmJ894jGgbHvQnSts6eESMKrDFF2rwKxx9/fCPIvmfJc+JAhCeddFL7kQxlECeSGyf8GSdEj+AE5Xbw5NQawsmqqD8KgVkhEEGr7/AS/tEf/VHzEgrEMFHEg4gvss1iP+IMtj1P2PFOehEwz/K4EkscBrgjvwgrDkI2S2D6cRJeHA7Ezxve8IYWn+WCDnwiTeKI+MIfOAGvyV9mDSLmCEMe4/CjON2LW8KVlmlY40wU4iz3iAeXEYv9IL3sXCJfPK8Et6UmvM4EHu7CsTzAPj1DWBNmxK3ZASG79rgeQfj6176+cTKeVD75JHSHM5k40lIL8cIjW0S2GdotQjm77hDy8TBvVZgxX7wke9yxx7W0cTyhrUzijWdfHftbvgxcLMVJWdQ3eyP/6kDdvOQlL+kecvBDusu+P7E/unr38imctIksqYID4SxddSMP2qTyZIbDeVh5CZf9koa2Z4DHvhhMinOIl/zL74te9KLWtvIbJyBQFvgYCGrr7ovN9ClP6kH87Aw8pKfe4Q4P9s7f8vngQx7c3he75OJLusPWH9auqfcEM0Ti4YByjc3TttvgczTw0/a0V/nynHoMvmOqrE4VAoXANiKw24hQf6lkp4js//zB/+n+3//3/7p3vvOd3V/8xV9McdfcTyMfS1L6xjHekLnHNvFEvzj+Rq4VCoFCoBAYh0D4ou8sGHffuHMzPTvT9XFxzuccb+g73vGO7t/+7d+aeOL8ICYJ0De/+c1t2YSQZYnE/sc//vHmMfbjRUQdQW3QYcccA4qZlhAp23wwk4/5PDufZ+aKpTT6NiP1J55+Wfvn+2nMF4+55rPuLwQKgeWJQHiM4wXf4ms7QG3rsrMd7pHfbfeJacyFrJa+N2Ih4624CoFCYOdCYFvE10zPznR9IZC8+aab2zpsXlbeUMsheGR5i3las7c3Ec8bLPCcOvr5y/p7nmCifjHDfHCZzzNzLYM0HBxMSa+f7lQCXjrbI39zLU/dXwgUArsGAjvUXR3iXEioi1AXEs2KqxAoBJYjAtY/W35hnXhb+z3a+94aZqLf7j5emrTeOy+mEv+OtiZ6tNRE2NWFa2xJPPXLsR1UnguBQmDnR2CHeuR3fnirhIVAIVAILB4C1oRbo02EW4udl2G9E0SkWwNvLXbe7XGPXUn8KJCXLK2TJt6zTrp55Ef7wwuZBl683C/NmPPu1HQDmaWZ88pVIVAI7IoIlJDfFWu9ylwIFAI7DQJ5gf+8c8/rbttwWxPqBLt9x+3Ak0CY5uVe5whWAt4uJHZv8WKmJTkJu/rs5q5e/p2mg1RBCoGdHIES8jt5BVfxCoFCYOdGgOfd7ly/+Vu/2ZbNXHjhhW2nHOd53BMI0wh5L8Py5BPydkqxi0p28urfv3MjN3XpSsRPjU1dKQQKgaWFQAn5pVUflZtCoBAoBOaEgOU0trO1xaZfMrX1n+U0fuXVS7D9QKBaSmP7QFsMEu+2YDxg/wNqi8A5oV43FwKFQCGwNBCYtZBf7J0MlgYclYtCoBAoBJYPAvGw27uekCfKedqdJ+R55ROIePuW2xffWnjP2Mu9v5xm+ZS8cloIFAKFwPJGAE/3lzvOtzSzEvKbNm9qBiA/VjLfxOq5QqAQKAQKgYVDoP87GfkhKmveZxuyI8tyW0oyfBF1+H2m8g/Lm+9zjWeYTj/exDWfOKfK3zC9+l4IFALLBwH9Or/wbDvgzZtGv6W05fcrhn1+LqWaUchLhLGwnVn/Z7bnkkjdWwgUAoVAIbDwCODnGAC/ODpd2Hzf5m7Fbiu2+jXavvHI/unbYlCmS7+uFQKFQCGwKyNAxBPwfjFbWLlqZdPXOBf/zvcHTGcU8hIwFSv4NSprMTMVMPQ4zMfzsCtXapW9ECgECoFtQaAv5GcS4pnGZSz8eBRu37BhQ/eABzyg/UCUnW7MvC4HIT+0NcPvM2E6LGO+zzWeYTr9eIf2cXjvdN+nyt90z9S1QqAQWNoI4AS/5nr22We37X+9o4Rzhfs23zfaSmx++Z9RyIt27733bsT/gQ98oDv33HPbVACj4LN/zC8L9VQhUAgUAoXAfBAYenEi0sfFZb181sx758nhF1+tl7e7DW8Rp81QRI6La0efGwru4feZ8jcsYwn5mRCr64VAIbCtCISncO0vfvGLpqvjhTdjOmLleSUxKyHvZ78tq9l3333bbgjCkAjnk/rQYzFXMp5PmvVMIVAIFAI7CwI4M1ycX2mdjptzf3HtRAsIDkPMht9n016G9swz84mnn1bV02yQr3sKgeWBAB3N+fLzG3/eXXfddVv/rsdo2eN8w6yEvGlX4ZRTTun+5E/+ZEGW1gwJavh9vgWq5wqBQqAQ2FUQ6HvkS8jPvdazTHS4NnU+Ajw2LHHKzTDeueawH9dcn637C4FCYGkhYG28pYynn35698d//MdtFnSSg3ZfZCEvIS+7HnbYYd1BDzyo223Fbg2dkN18SG9pwVu5KQQKgUKgECgECoFCoBAoBBYPAQP+o48+uu0C2Rfy26KjZ/TI88ZbR2ktjzU9u6+cWMPT96D7ey4e9RoALF4jqZgLgUKgECgECoFCoBAoBJYeAvTvtdde2zYYoKv7v/Ux39zOKOSt6fFSFKHenyYcjh6G3+eboXquECgECoFCoBAoBAqBQqAQ2JkQoKNpZUe2olyI8s1qUU6E/EIkWHEUAoVAIVAIFAKFQCFQCBQCuzICEfXbisGshPy2JlLPFwKFQCFQCBQChUAhUAgUAoXAwiJQQn5h8azYCoFCoBAoBAqBBUFgru+fLUiiFUkhUAgsKwRKyM+xuuzgM5cXe+cYfd1eCBQChUAhUAg0BMrWVEMoBAqBmRCY8WXXmSLYFa/nhYVdsexV5kKgENixCPTFXW0ysGPrYrFT39Z96Bc7fxV/IVAI7HgESsjPsQ6KWOcIWN1eCBQCC4pAifcFhXNZRJYlNgv1ctyyKHRlshAoBGaFQAn5WcH0y5tsGdQ/DjzwwMmL5amfI5g7+e3VHnbyCt7OxbOsz296CNoWpwJhZ4vgTRs3Tf7Gx3bOViW3iAio13s3Tticjfdu7Pbbf7/J1IpfFhH4iroQWEYILAkhP5f9NPNLWKtWrdrmn7+eaz0xpDfeeGN3zjnndB/60Ie6/fffvzvxxBO7Jz/5yd3DHvawZlzLWzY1qlkSsNAYqZel5KlSzrm06akRqyvTIaDe5zNDNtVzS60dDcuujZ977rndP/7jP7YfEnna057WPfOZz2z8IxT/DBFb+O9pIxs3buzYoMUON99yc/ed73yne//7399+yv35z39+q/cjDj+i23zf5gXLQ7Wdxa7Jir8QWDwEloSQt0+9X7q66aabutWrV0+WFrnkcNJ9vE8IdM2aNe3wfXsFv8B1++23dxdeeGH32c9+ttt77727Bz/4wd1DH/rQJuQrjEeAF9GvAt91113tUMcHHHBAE2F77rnn+IfGnBXPrbfe2n4RjSFl2HxGNItXfD73WrdXt2L3CY/lmKhmfYpH7Jprr2n59pPKyjFdkD7Btc8++3T77rvvdLfWtW1E4Oc//3lrD/rl2rVrW5vyOZug7dxwww2tP2uHOEXd9WfYZhPP9rxHu/rGN77RfexjH2vtXv6PPPLIloX84vb2zM+uklZE7s9+9rPutttua/yjnXHkPOABD1g0GKSrfX7729/uPve5z3V33HFHa59szkMe8pDGRwsV4lwpQb9QiFY8hcD2Q2BJCPkf/OAHzcv0v//7v1sJO6TC4PbDYx/72O6YY45pniiEtr0Mr3wQjCE6gwoHgYfY46nZflW3tFOCx32b72sC4/vf/373hS98obvgggs6xpAH8dd+7de6Bz7wge2YLsCWwII90fbFL3yx++4l3+0uueSS7uabb27CmgjTDgi5pzzlKd3jHve47onHPLFbs3ZNe3ZbZgAuv+Ly7r//+7+7r3zlK008zRSISoPL17zmNd3v//7vz3R7XZ8jAul/+h2B8/d///etT6rzF77whd1znvOcGeubcCfI8M7Xvva15uUmyn71V3+1O+GEE+Y0uJxj9rf5doNDbVpb5JVXjgqLi0Da3Pnnn9/90z/9U2cAiWt+53d+p83ILlaQrrbqUNccVz5zbqFEN67OzFafKxcq/sXCp+ItBAqBCQSWhJD/6U9/2iFJhpmBHhdCND/60Y86Bw/+M57xjGZ4t4dXnihlPAlLhMobgujiHZbnbRGM48q8nM+pR94kgvu8887rPv3pTzfBFC/6s571rO6ggw6asYhEOrHyve99r00xf/GLX2wDg5/85CfdnXfe2dIQJw8ZkXPllVe2w4CBuDNTwms237oRF7H35S9/uRm7mdqachtgap+1vGbG6p3zDeoRruoXZ2gP2oAlbwcffHD37Gc/e9q67g8ErrnmmhYHD/cjHvGItmRBvLyd4Zs5Z3CRH9iwYUPLGyfCsE1ntmuRs7DLRY/7u9FGzVdccUXjMYEtYHsWVciP0jULydaY/TVjra2zORwGw/qfT8Vcd911bWbHAOGwww7r9txjz5rdmQ+Q9UwhsAMR2OFCnuG85ZZbGmExUOvWrWtLVZ74xCc2AUakIS3Tipdddllb1nL11Vc3b5rnkNqxxx7bPehBD1p0GJGdJRPyKV9EnXOOhSDVRS/AIibQ9+pIhsEhfj/+8Y83Ia+u3CPAjaDafcXuM+ZIvf/whz/sPv/5z3ef+tSnuksvvbQtnTn00EO7I444ool3ws492od2QeQT/ryzr3zlK1udzce7dPNNN7cBgmeFhz/84U0sHnLIIS1O7XLopTe4MEA57rjjmtiqsPAIpB2Jeb/99muDf31SPamT6UR4+qk4eLa1RXXs0/d4u2casC18qWYXo7afvOfFV08qe39Z4uxiq7tmg8BuK3Zrt+nb2gVOgvVUTqfZxDmbe6yBZ1vUM47LAC42ZzZxTHWPvH/rW9/qPvrRj3bf/OY3OzPdb3zjG7ujjz66W7P7ml3enk2FW50vBJYiAjtcyA9B4YFdv35997znPa95CJAmEmO8iDXeMp7Zyy+/vPvkJz85aYjj3V0sQW29NQKdKixWulOlt9TORzwxdgQ1L7bDml51aCpa3fL+zCXwtH7mM59pQv673/1uM2aWVj3pSU9qXlRtRJraxqMf/eiWppkdAwntxjKeIx81/3XElu4Q69K1fOepT31qd9RRR02+3CyNftAOiEGDjOkE5VwwqHu3RmC6vpZB17Zg1h8obEs82+vZhSjz9srrckwn/ZjIfcELXtDxYrM3BvaLGRarXrVvvGomnGPkrLPO6sz0HP+M4xuHVigECoHlhcDUynQHlYMX/vDDD++e/vSnd4961KO2ekGSV5eQet/73tf9z//8TxNvptYf//jHNw/CYm7BJn5CHrmGYBGiI+emExg7CM7tmizP0cUXX9ymn3nPLS8xKGMczJjwkkfIzxYrIp2hsUTH7MtLX/rS7i1veUv3hCc8oXnjGVlxueb453/+57Y8glfeEiweesLfvaO3GuaMR6aw1bP1/I95zGPaOnwvGboWr1xmF+K947HTLmZbzjlnrB4Yi8BcxY/66R9jI62TuywCfZui37/jHe9o7cVSl8WeBZ5rW55tJeEtXEm8czoIZhr2O+CXW1s6V/w1W0TrvkJgxyKw5IS89YBEF0FPOPvMLjX+tuaZx9eLsbzy1i166VFY7J0brJWMeM8Uvu/+3rxp86Knv72bylyJ/PYNt3dnn31284h7IYy3/Pjjj2/LYBgKAluYi4HizSfIxWdQ8MhHPrKtZR4a0ezgYF28aWLrn6VnMGGNvaUw8wnynSUy2uO6Nevacg7vSSjHQu4cMZ/81TNbIzCXtrVcsYuHmKBU3pS5Bo0LX6OWt8QBYFYxmyvMlRvnk7PFasv4jKPBYIT9Ym8tad0e22nOB4d6phAoBKZHYPQKz9IKPAWWKyCxGCyiKYGxIuKIOmtbkc9s1yKLM8t0Ep/0BNfsijJd2LR503SX73dtSMTDtHlzCdXppvJ5hIYheR6e912a4+LjLR8XVz+O/nWe8GH+x6WXZ9y74fYNzXNuytYU9O/+7u92b33rW7uXvexl3V5r95pcTz6beKUFG8tp3K+OGVJe8axLl3biilfVPbzl2gdjpRzwGq5lH1eWcee0weDp856N9zSPnL+lPazTcXHUuRq9VFUAACAASURBVKWLgPptszr+jep1GNRzf/lU2lu/7Q37Y+7xXH8d+zDu/vekM0yr387c32/vs+U9zw2XgMl/8u1zunzqQ+nnw7IOyzTu+ky8kzjcl3ymbw3j7987vDZbXuk/l2eC/5A7I27lrd8+xrWVYX6G6Yg79ZlrmdHrYxSuHlce52IX+3lNe5wN1p5XLt74lbtP7HwkLufyvpd0OKiEYduZrpx1rRAoBLY/AkvOIz8bCPKSGqNB7FkPPVVAbLwq7iPUrQ2MhxdpiQMpE4DW3+dlRqSG3EKa4h+S/FRpIkHCkaFFytKw1OPHP/5xm85kGF3n7RWnmQY7nVh3KX0CNIbC2nxEahbC0hTEzwtsxx5e5kyN9vNidwPp8UbzZJvFsCTEc2tX3n+fbfl1P0+6NeGWNsnPYYce1nZrmE0QhwEXjzgPj2loefRiqDKv2nPCSIhrnIGaKg2eoni9LcuxvEoe1VVmYNRx/lZ23vhsy+fFaeJ/tvuLj8tHP7/qxpF20W8f456tc8sbAfWrD2WAap20dzOy9en111/fZn6IHhxjG0szNtqcmSi/ZzCbIB68ZP119iqP4LI0DS9o8/pYf4CAw6Zrg/hO/sWt7+Ae8eM3+dQv5FWZcOAwrvRrZfvSZ7/UuNb7H9nZJxsP6Hf6qf6OP/Cbfm/W1LOWt3m3ZNxLxPKUe92PD2GHt4bbC8sPbrxtw22tTnAcDKRrBvCA/Q+438yol9avve7axhvw9Yw0cYvyw8F6d1wx7rdJmqgdOXFuuO6GttkCHOFk5g+vjgvih71drzIriDdgnxerfSq3/MubvFg6qr7x2T23T/yKbz9++WMzcCG7Yo07fGPHlElbgYW/cXGfv7RVL7laAsmmXPnDK1vbFd8nPvGJ5jiBvziVEZ97x2jdXuvG1t24ste5QqAQ2L4ILEshj/QQIgJCgtN5phCifwyv5ThnnnlmIzHr64lshItgeXAZabucMBRIfWjUZlM1MTTx5CBd5GgfdVvdXXnFld2tv7i1GQP5Z/gZIctFHC960YuaMRGynRyS9sKnbfIYfIbUc+4fBnlXVj9Y5f0BZT1htE2aPc0f8+jHjBW0nrGW/F3velfbEYgH/VWvelUz7DMtSYmAhpV7X/e61zVjzzhmtxh1pbz9AddsPVoxSLBihLzoDAOGV707DHYEWCuHF2zVLYwMSFKGvuAf4jbb7wRKPFWzfabuW7oIaIetLY7+j3zz98uodmsA7XcuvvrVr3avfe1r2+4e+pi+5f0N4s53fV+fIVgNZO2aRMBOt/yKKNfPL7rootZnxScu4puYIhbtgHTSSSc18RzPacSgthihNuxT7tVncN7pp5/eykFwc2jgJyJZPxL/i1/84iZK9ZVwFzDEKR6i793vfnebbXvFK17RfmFUucRtZyoYGBCYifMbCoLdUKSrHL/5m7856SwZgozPCVL3fuADH2gODb8JgIOGQj5lJJK9h0N8CvL/B3/wB1tFLd/iJuIt+XPktywIaGXFtfjXEkCOB+/emPHtDzik6R0YGLz3ve9tHCO8+c1vvp+QlyYu5EzA2cp01VVXNc4S1JfraXfqDlfJJ5vz27/92y1fBjKcNO7N/T7ZK22GU0hZ8q6YOoUbvrPjm3pgz/bea+9JfpS+zQD++q//um0FbOCQGRRt2cCILXReO9GW7ZWvDtaum7h3nOOoFaxCIVAI7DAElp2QR3yMCS+HgPAi1CJ8+2jyxnzz/G82g4OAkSqyRU4+EbrnxOdvh/sQ+zihPKwp+XHw+q+4b8J7zgiIUzwMM083Q03QMmoMIK8HApcHaRMJeUGT8GZUeVSQtk8k7n7598nwPfMZz2xp9w24a+JjtA1c5EO87ieu99t/6xeaiNsf/fhH7X7vGyRPBkhzJW0CYPgjT/LvkM+5xgdrXjmCiKFiuOD4kY98pIkdO9I85JCHdJvu29Ty//Wvf71tdckIWUvPmPlUFmEh3qFQpwyudiIoG8O3zwNGomD0A1QMYYWdBwFCRx/V/gxytUFCz28Z6C8EmMGkc/o3AdefFdJ3tcE1qycG58M2qB1/6fQvdZ/69KeaUORgsHaZKIuXH3/4myfV39JxXV+dHIgMIOfZdq/+QKQZGGirBre8tAakyuWatkzwcyLYyteAYSjm8Y+8KnNmBpXVORgRw21QvUVsrtp9VesLPL34Wr/hDce7eKDPW8SpGQP5zcwBPI961FFtd6pxAQYGCu7XH6WlfMFXnu64/Y7ujC+f0XjB4F768CJQHQJc1CWeVB5xGIRFzEeYi/faq69tZZFP4fWvf/39sobf4eOFfzaH4IYL3KWdfeBjC7QPWLAJ0swsgXPsiHI41LW8Ka/d2uRLeXzywOMgcSqnurz+uuu7U049pdU1zMUn5DvBr64ywBCPWZlwpTpyr++ZOe4vcb1fwetEIVAI7DAElpyQR3qMCOISIgKRCe8Yg4pMGVCkxzuNAKcSihdfcnH34Q9/uPvSl77UjBBh6MeI7IiDpKTDQJsCJXyROtHrGjFNcE8bRvwo7Rzx5Mirn9X+z//8z2aclYOnjlFfP/L+J88MKeInUB3KJi8vf/nLu1e/+tUtaSRrupV3Tl5D4tddf10zEH2CzSAC4TMArikjw85DMwx333N3M2Dub4J05A2SDk/4dDMdw3im+g5HBkO+fKY88JrpnQP5ITgIeYaWoVKH//AP/9CMGMHE+0T4ZJ95goFRhB3PICPfH+hMlc+pzjNowUG9MG4C3IOv9Hk2HQZL8cASKGX8pkJ2eZzfY9Uere2GB/RlnmDtkGCyTa7lB8SS71/4/Be6Sy69pP2Nx9pyj5FoJJzCDUqu/fMq85D+63v/dfKXg7Uhv1qtv+u30jMLFTGa93jCXelTfTSJSbN/vLXELrFtZy8/lqU/yBcBi2suufiSNoDAedIzQFCW/oyiNORXW9Yn8QVnAQwIeAPqgx54ULdqj1XtOxG/z377tAGB8rsfH0pD3M5lcwB5lS7elSdpRLDefufEFrLyoq/FEWDgga+ChXdi2AH9MNgS8V//xteboH7/+9/fBkKw5aBxv3IQsZf/4PKWrwh9PENsP/e5z235xx3K7nPf/fedHATI67j3bpTH7KvZU2XCFyeMHDPwWb1mdRs0ccaYwXCvPHNGsUfyZbe2/iyEAYp2Y4mWNiWf8IC/Z2Cv7PKiLj/3+c+1ejGA4lhQBte0P+WAAV4k2pX/wgsubO1V2mZmDAq0V3hLR36UQT+oUAgUAksTgSUn5JEosYpckSfxhsCREfJDjj6JJSRjGQhyEiLYEBYRJR5eLAKd8GcgTZ8iLII6ZIWUGRvT4Ly9BLWpR8KX+EaGgjzkIKYdthtk6Ey9xqgyMAjXgVQRIsNs+pe3B1EiaAaMCGCsv/KVrzSvPAMsDUQrvzzcWYLDCCN+ZUHqDPHaNWsnxaL8MIJInNDNc4Soe+N96TfFu++6u53ntXcwCoyxgYb4FjLMJz7lJUIYWOLFDAdDyDNKHPjRKYaOyIY1wwY34t+AZFuDNqI+1K0lUsSXOiE44CtP/mZ8GTzGNXvNx3huy0BiW/Nfzy8sAtqZ9mAdOO4hDA3MtVP9XjvgNNCftVHX8JO+2w+ErLh4bXGaOHGTJSs4gbjTvvRl7QkfaX/uE7THxj8jjuwH/R9/GdgS8a5zXFiqkm1gtVm8Km4DX/l1r8ECrnNdmuFd/UteMkPAKaBtc3Tw4OtreQk96+5xDo7zXT5xHH6RPyHbtBLUBG3eHyIk9WtC1bkMKOLF9zy+wtfKkDXh8h2hr8wXffei5sCBhbox4Ld1LU7Hbfqs5zNbwOmiXHDAzzinL+S3AnnMlzhylNHgLIN+OOL9tu59hAks8NcZZ5zRcJcH5ZUWgT3VmvskidfZhpe85CWtvaROtQti/KEPe2hzIMU5JC9wUV9w4cjCj7iKrVF+9QQjy4occVKod/d5PssXxxS9ThUChcAORmDJCXnGAtERaIQZIcWwEPgEPO8UkY6MiWJinlEdZ9Dcy5giVZ4mRM5Ti8wQFyHdjNTGTd3td9zeRDsCNABA6gYADFSEfKaOfUrP0US8KeUt67QJTs8iSZ4u+ZZHa+8diDd5ReqeV0aGmziPwSZCGYVMbxIDBhpwQeaMnPgJhNGCmdaMpE1MMIKMXYyt88ol/mG4d+O9zZjDWlBecUo3syLDZ7bndwaSOOIhI3AYWYMtogPO/SDfMHrTm97Uyr4QQd3KQwYhsGd8nSdAIvJzXf1mEKWNqut49BYiPxXHwiOgD2YQPow9gtP53KPuCSlLK7RHYtQ1PKL+CSEeY7zz7W99uw0oCfR+Ghs3TTgm9Hei1ODZ0ha/kaDvcVSEJ4hX4s0aektl3K/dRWD382yWSl+PSDNjgHfM8OG9BO1V/5amfOE8vHHaaae1PmSAIuBeQZkdAk7DnyeeeGKL+5gnHNOWtITPImoJQPd5zgAYZ8WL3sdCnmEVrznRb3Cjn+Ex/UiAhzwTn2wEASwNTpl42d0nfc/zjMdBo/zWnw/fV2BDpKGc1ufjfGJe/RLz4popuAeHyxvOljd/awvStcTPAEU9GpjgMQMQeSPo1aV8aSf99Lb6u5vIB9wMRt72tre1GRb5DscQ4Rwx+EcbgKP4OTcS5ME9BjLqgo1kH+SH/RMHvpV/ed0Zt1WeqT7reiGw3BBYckI+QgkhMgKIimBC8gwB0hEQke8O4lPor09GWIiMSGV4GAPEbOmIuExxMjwRaW36ckSmSMw55I6Qeb8TGCTkJk8Of+d5nwhVHhgl3nhpI17kiHTjbcm9MWaMEUPEeEqPQJV3HjgDkCbWR54tBkD+YZC1p/HQySPyzfIjfxvg8EQZABHqDOAwyAOszUpIi/GRhjzGiA+f2Z7fI2bUt7LJZ2YWiB+DE3XnPuUjjLQHXsijH3d0ExjBez75Xj/yqBoYEDeWV2gj4tO+tB8iRB4skWIUCYgYQcabANMmInLmk4d6ZvEQUJcJozm2sQm5J/flxXReTUtEJp8dtQVtDc/E60vMe/+EYCP0Vuw2GvSP7hG0BzyhnxNRRLY25jPppe3jGZ5dfVV7M1uJE/VP/b/x2OaJ93TEhxMJZwMMToh42aXrOUFcq1aOtu4d5Ue7xkH6FnEXsd1uHAScLL3DH3F44zScmj4WPov4Ey+R7RB3dnzRd5rzY5QHwTWHfoIDXcOBOMsBn74AxwPKh9dx1kMOnigjnLJbjOcNTvA5Tjv4QQe3sotL+eCWF3stGxE/jjGISvx45sADDpx00rAb40L4ILzMtsBJumboLKsRpCmPDu2IPfCCqTLifQOXfjnVadpdPnnhcRvHTkR84jY767x4tSPl1xaUBydpTzlwJLzFG3sGm3B+7kt7HVfuOlcIFAJLA4ElJ+TBgjCRKLJGNBHciBchCQgbCWaZA4+te0NAiJEQdiAs3w0SsnZ8cop3RG7Iy7OMrfukh3TlwbmE5COk6rv0GKQYXfdKQ94EhiZbMSae/r3O8eTx7DHWhKA8x7OOjAl5hhY5Mwy8LMQBw2iWIYICJspIWDIUmYJl/HnzsnyG2CB+BTg4TwAwEBGswzwm79v7Uz60A7MPlh4RywwlLHiw1B1PooGN+3gi4eAeBtN9BEW8YXPJvxeDHbz7v/Irv9KM8zAwkoylnTsIEOkzzHbIMJCSP0JmqeA5zP+u/l0fVm/qJ/26j0nOh1sMuHGN/tUPEaXOqXN9Tz8mzhyu90WRNqMPE7BZHpI4pTlsL3jOEg3i304t4cHkywvf2rjBbJbqiNd2jLffdnt3zjnntHQSbxPyo/4Rh4d8E/7u0Y/0IfeGJ/plNUA98qgjm4NCHEI/vyknvs47QTgGL+qrBjRZqmP9vvRwLUcF77U84ThCHU648YjDj2jv1Nx7z72tfxHq8ku4Pvbox07mA19LBwfKE2Gsjq+57pq2zFJ+YSd9f6srXKEuxOcc7mcH5MPMyZ4r92xlhLUjgj7tJWWHGVsjDnyNZx02Qth0z6aJ5XgjrocP/OXNwEF8nuU4srPY5C5co+cSlMFMD8wNFNmEPuapB/aG08cn3ndk9iZtRZxw37xxwn6J26Gdxi4mvskM1B+FQCGwZBFYckIe8cWDzWCEPEOaDAIBSyj728tMyBtxMp5In2FGzsQdoYWg/f2v//qvzVA1gh6RtYAM3S9+8RCMvjMEDIL7kjYDkGfzfER8n1QZJoJaICQRsNAn0nZiSzB9L48EIw8SwSgv8tzPJ3JlGIltwhvx971nnnE+nirLdXjjQspIXb4IWwZaeQwUYMQbBW9iIi9bTZXfft4X+29l4mX/6Ec/2mY55DvvORjUMIQMkKlkU+JZ68sQK5vtMHlP1el8g7Y1VZC+NsA7CWfpWPajDdjdQptcP/LqjxNEU8VZ57cfAunbUuz/3c9BOGi2ucIFBGLWYTcRv6X9EUzaNCGFowTiby7tI/kUV/hH/OLV7ol56RPHlpecfc7ZjR/dL8if59xDRGqr+I7H2oF3cEN/hjNlx3+ey7MzYYJTeIjNWIlT3DfceEPjRGnHwaLv4D/340y8FXHblk6OOHLlitFOWqv3bP2a8Da40b/6otMz+CDv1BD98orX9VX3ygcsnA8mMIhDAFYwNFhgTxLGtY9wpPoLXsqlbsWpnt2T+o1Ix9tmbA1UBHZJOfuh3+6Sz5nwblvsbhmYag+zCbONezZx1T2FQCGw/RHY4UI+ZOUToSBOnlZ7NSP0YUCO1nEyKF4oQ4TI2XHqqac2T0QMJ1JHajFQyBVhOu8QkLlnY2B5Mwhp4pagdT0iPQZMnEnDcylD7mNEHIjdwCQE3xf7/XKJi9FX9kzxMgbyzehMGovRFDBMiHnepSzrkAdxKJ+XuxgPXnoDIsIcJuJ2nWFjMIl5xoSxgilcrJ0kjhc7TIqP0QvC0wXl54G3+4YBm++m3q07dShXgkEXEaAcXiLjDVVexp6QznsO06U31bW+UMg9MerqFJZmXaTPwyrPhIb3Mwj8uYi0qfJQ5xcPgbTHcSn0++xU/Xf4HH7oCzvP5VlpGWgTsFkmSDhON1gcxj/ue+LX93FXgh1J8JnruIRjAI/JI17CAVlighfwEM4ihrP2X1zud0Qg6xPx3o7LT85l5syMoMECviaSs8Qxy4D0Ienr03jIzIe8cdjgMQF2+pdniHkv8Fr/Lc8JsL3lponfrJBfASacPjBQZtwPC5i7x6drhG/yoezuTT+fTGDwR7hZHLjHYAEP4FSDFzN0Bi3ZF146tkQ2yHfNwIZ3HT9JE5enLvtpz5SPZMs7T7GH6jpx5Xry63OqpWRTlbXOFwKFwNJEYIcL+SEsSIihCTkjnHaM1gsKBOkJo+28GAIGyp661owiUZ5X66L9rotnCL9Mg5qCRfwINZ71kJr0/I3IETsxjQQJwL6wjTGLIfQpfvfGQCJOeUfK4kPMfTE+LC8PCi+NeBgqnyFt3xnLrDl1H2FuapXXN2taGzajMkuPoGXMHvXIR7VpZwaGoWBQxcfrxBiLk0FjEBlMZRH3Qx/yy901hkZgmPfF/K7u5DWzL4wqg+7lPLsODZe5GLjALkbMIM/sA4NpWQFBPdcXYFMP4wzrsOzqG36MODHgWZimDbgf/hW2HYFtaZfp87PNReOeLfwz+feWc1PFIX/qftwAMM+El3x331wGe/3y5+98RmiLF1caYFrHjkfwV+7TFqWLA3CnssXRoa9oy1mj7Zk4LMTru+fTP1KmcdhyOnA4cIpY8kPgOjLTedVoVlEfyTa64o2nncea6DfoSb7NOIoPp+I1or8/CFLODXdsaHHKj7gMCvC++5XZs/AP78t/BlO4EJfI9zgPuXxkgOBv5Ujd+a0AHMNm4GGzhF6glRcvkmbgpEx+rE/Z1ZElRfKm7ubSDoL78DN2yvlhHQ3vLU4aIlLfC4Hlh8AOF/J944gUrYFEkEgthqGReE8Drd/iYSXS4tXiceGJyvpMhM5AIWvxIkpefiRrypnYEnie+gGx9T1kWRYzVdXKWzNso3WfMTbImBAVfOaecb8sKr/OI/s2kBh5qXlpDFTkvXlpRmsl/TqtwHNDoPNcybsp4wsuvKB5phhlRkL6jzj8EZNLetzLMImXMLaLDmHPY8S4yl8MXv8Ho1Keqco+n/PwDR79HUGGcTG0PNuW0/BuM8DeISAy1GFEUt9QwQVezikbbOChzIxlX8j3p5OTn2Eepvo+Dhf5ZahjiGFtZkl5y1hOheT8zhMqeTdGXcM+4i7tQV9SF8O6yoBbXakjvIFD1BFvKt5wxEtrwCt+67N9ajf5zEzYsBTSDK8Nr/mOl/reXgLa/QbgwyBvXko1iBevMo0T0XlOGfCGPqOP44Ws6edg6OdfPOGqlNmnftTS2G38ji0p/zCv477LMy7j5dc3CVyzhrasjNdaPeifHBRwUAbLB70PwPuOr8XjPt+vu/a65iwhuHGB+FMXygNb9xPseM8WmeLDHYLz7teOfGoTEb/42vM4M/GmXPIGF/fmUzrhdVzuOc/DiJPEp61ADUo8p53iJIf7/Oig92/88JX4h+11HKbTnRtyjfgSp8/0j8ThnGfGXZsunbpWCBQCSweBHS7k5wtF37skjkwbJz4kSYRHsOXFIgKANxehMVr95Rkh0hg4cWUJjr/FFUPoXiQ9SewjQys4H6PiM7vwuDbVDgBZN4nkb77l5kb4DBVD0qa3R4OE5O3gB49eNBt5mKTNI8+48VIxap5nHLPW3b0IGg4GALxNjCPDBR/3M5K8QnahGHq5W4F2cDBYgeO+++zbrR8N4JRzOk+n7FoeBTvBtLo44NUPTajMYDiHRnX4fav4RnXkxTjpEFLih7PvDL0QMbZVRurLnBGArfZLqEZU8dpqz5nJW7n7L5fE9RMIb+j7RKU+pH1oUwb32k1/5xB11kTeaIDdF3DyMBRN/XTCFc5pZ30BpX1oo+vWrmvtQ7vSVuJc6MejnIL43CffOMlAQz6HbdI51zwHi3i3M0uYdpm273nC2ad8ea6f18wGhveSF/lNyP3DvOQ6DuNIcRC3PNUGLzA34DCA4VmXV/nDyfhKWbKjjeUouM5hUJUlcwYI4pE/wSAJtv1ZMQN4O8j4VI/33PtLj7znlEW64mn12ttdqF/H8AkO+QwX+W7wyDGSbYftGAZ3or3/joDyabsGF0T8CaMZZufkbVtDPw7tdabQnzFUvgqFQCGw/BDY4T03Rm5o7GaCknDve7AQap+IGA+CFkESt4yfTyHGEcn2jVbfEBFfPOFzDQwfw8gTZD16hLb1of1BQz9e6brPi5rWrMe4+olycRkAMODK6G9GTtkI77z8axrYoIGgYTC9BLbvfhMGmgHzwhkRbxkS48nTx+AQM+5/0pOfNOnBn2uZ53K/svWPuTy7EPfCMZ4xeBEUpv1hRARMJUamS1tbIQ6sy1fnvHriU0eps+mer2tzR0A9abe8x3iAWOL1JJj0hfTxYcwRZvrNpZdc2vqMfrl+NEjUDvoifvjsQn3XJvThffadGGwSU7gps4v9dNLvM+i2ZpzwNDh3bhgIXO3Odbjo6zjBuZmWbcgHnoQt/Fo/Hb1kKqTP9v+ebV/BYWan9A37tPtUXmVTZ4KlPJa/NFE+4tB42uXdvd//wfe7Ky+f4C8DFfipswjp1Ks+rO9lJtUsrSUsypXyr1n5yzX1Q/zUwb2b7+3Wrlw7vDTtd2WxFNBsA8eK73bg0Z6IezwrD8qYDR0seTJbov3NFstkom+3ps3Y4GIGcAYe/o7YZ08zizyX+OreQqAQ2PEI7HAhzyM1F1IKERFgDFWmqX32jTDSRuZI3X08z5ZqIP+2nnokvojicQQqbgbAc4gX6U3nfetXI/EfIY284wVH5vJngDEM8sJT9bXzvtaMHEPNq3Tko4+8n7BgbGHAK0+IGyAwVAYCMewGKLzswQoOygET3kfT04yNPHnelDaP2PbwyMfwDjGY6rs8wf6WWycMMkzjhZvqGV54uAt5eTkGS/qw9uuH1qkSEjxiJ510UhvsxJM/VdzD861tjLy2t99ye9tykiHXdnjc1NFMv9Q4jK++zx4B7ZynVd/muTVQ9WuefqjJQHqq4H5t/8c/+fFk+7eGeZxHfKo4pjsfTomXOKIp/dGzBg04S9AnDUS0y2FIf5HfD37wg92Zo1+CFTgthsJcGyeatT08wynglz1hkR8bGsd34sN5RL/+BVPCunmnR0fSkxfpSsenI9w9VbyeVU/ZQct3ZcVzuD+7aOErg5DEg0Pho4x4GGdddPFFrUzqiaPC53C5or3U0+elhef8GjR+826NMshzf6ahLa0x4zKyB9miksg2YOjXWTz3/ZmZBs4oGABoVwaIcFFeff9Vr3xVd9fdo8HBSNgL4tAeMnMw1YDTvRk8DduTa2lbLdJtCLFH8t9/SXpclH0sxl2vc4VAIbBjENjhQj7FjkFAejwDxCmiHnoJfEfOBJO1z0geqVtzybMRDxYy9fIro4FciVy73fA8WJfIUCBqpMygiJfHhMcLoSFYgwCGkRBm0PxwiE/PIFefzShs8W44x1AwhDwtPEniM4BghHmXrAXtB/lyEJXnfe28do/nrQdn2OLFz2yDPBObjMQVl1/RnvHiK0OlbJ6JRzIvwSrDsU89tuVBnokCZeKdJ+QNbqzRdN98gvLH6JgCv+POOyaXAsCRgWv7Fo/ukz7hcuPPbmx1Q0DA3X3qO2KKoVN2h3MMPqHM8Chn25JuhDdDrw7yjoF7vNzqfoHH1hQ2oRBvPJHv/Qrr7wkXz8JTm+gLeUsA5FuQH9fgrxzi8hkvph0otC+YEkFezLUvP4FYYXEQgLNfLtVfCXl1bscibcyvjhqwayvaiX5LRGlzuMM+5ThG2zeQ88ure63ba0EyOk54DSMmnLyISlzmtwfszIQ/9GXtPmu5tUPlkmezPkLKFN70iZ+0d2vCcaPy4R/7zhsQa5Paetg72gAAIABJREFUb8QbztP/5IWwJpbFo6/oC/0gPfeOCynvuGvO6SfyFWcBPlAHmYGQH9f332//Sf6277o+Lh/ZCUp/VcdENn5Uz8PlipmxdA+eN5CB2emnn97SN6iRHpzhq13gXN/xNNHP2w8DbaPvwFFO+ITzlcuRe8QhT9qjc+2HAb/5jZaewYxrCZlRFqfz+Hg4kHQtvC/NLMMSx3CpYOLlSEoe+5+u+566wmUwx7vSVycGMcpu0BeOw68cJ327N1mI+qMQKASWBAI7XMgjCkQSkiRqEaBlJgSfrcT64cc//XGbnkW6jA8DhbBf85rXbLWncAwXwUjcMYb2VOa5Nv3OW0oIILKN92zsrr726mb4ED+DxeiJs4n3LWvUbe1FDBBxPuXZgeT6xswAwAulDI+DoRanAQUhL11eI3Eoh+sMLlHN2Lz2ta9tP/SEQBP68XuOSFn/8PXd+d86vw1mxMHjH/GfF+RC3qv2WNXSZECITQIUeTMg4orHfj6tUvmlI26/ZCleYjkiKobY1LP7GM4LvnNB94sNv2ieSYKCsTOAYVwYPXHCwjnflVG+4cgwE96m3z3H6KhX+PoJeyJGGnC2TpXRZ7ji3Uy9KWs8ZASegRdvpiCftszj4YWbfDlcZ0Q955OH0EGYaLfanTom4ok0ea+wOAjA2guMmfUyQ6UfqXufBIl2on1oNzze+r525G/9GA/4oSV1NfRwzzfXEV3SnSoQaGbCXvGKVzSei1jXV7RXzglC9+LvjrYwHPVx3nJtndhTPv2jL+y0aSIWZxi4GkByeOBIA0x9Q1/AS0SqIC0DVZjoM3hY2812j/28K5PgU7l85txUZcx5efMLqfqzMijv+d88vy1HI3ql19avj/Kfl/o9c8B+B7T+L6hbZcFbMMBZlguNC+pRWpw7uMWg3QwcDP0GhfTkw+BcG4ANDNyHR+CkXvoiXjrylPL77u/wMm7RHuUXR+Dj9773vd1HPvyR7u577m6CHBcou2fUk0EK3oW5bXWVK+8/DNOWVrz60p6ubY3DZHguAh2ObID+wJmEs9kh/IbHOXjkW9kyqBjGVd8LgUJgxyKww4U8QkUqiAs5MVKMGsImqhFfPyBmogvZMHY8L7aV5H3vG2IC3XHMk47p3vCGN7RtKnlzGANxEl9EJAJGkAiUsScY5QnJMgZ+gMTSCVOx8frGC4tcI+JD6PLKm8bzhZylxQPOYNlXXLrx9CNLxoUnTNkZcJ5B3kSeowjPfvndp5zIn3D8zGc+0wyRuHmwIjhXrvrly36esTVa3hnwXNbOwpDg3VYRo/wwZBB5xLMG1nmCJHUGOwLiy1/+cvMA7fOAfZoHn6FgPA1E1FuMHVFiy0nGRJ6VFZbKENEvfmJO23Ed9rB0EC7rR561fhjWme8510TKaDtPni1/qz/tQpqEURv4bRHxhBQhpC26B752CSEutce5LtPZKpP1ZUYE1DNBZCBPgBmw69+cATyrxKk+rG3jDX3bfeqSsDz0sEO7V7/61Y1D1OtCBe0jhzgjeofCj2Akjggmn7jB7FrepxGHdi3PuIqn3QCFdz4ivs870tKOYWJG0DXiND88pC0bTGdJDzzkKe8Q4Q+D46wvnw0ew/THPSNPdsNSF/qsgZTBiTLIi/457Cu479D1hzahq69zsuBJeeM1NgDDGeOC9AxkxO9vfJ5ZXEJVG5Fvz+MOOBOy/sbd8jgu7tRjvOH9+hSfMnhOXQniZHOUMQMYaXlOe3RNfaofZSSacZaBljbrvv6gqS/eXZtv8Kz42SF2BlYGHuxUbJK0cLUyaafKN5u6nm+e6rlCoBCYPwI7XMgjOaQdkkC8SBsJ8hAhkz6BMbiIn6HiRUN8vG6M+jBYP8lD8hu/8RvNWNsGjNBkOA0WeMszvStOhuzFJ764e/RjHt0EIJKbFHgjYRdPfIx0DIV7EuTVd/kkEhiF7GXOUDNijgQEL13p8RQRgQyV5/uGIveLGwkzFgxjdqkgcmHI2DPkfe8JYcrbxbPMW0RAu5/RevRRj25GZlxaQzxn+g5LBvPM0Tpe4oAA6ec7OMHfoc7kmaAg4GFFlGWJjzLY1/6tb31rMyaMTabXGUGGXduRjnsZfVg6IqYNUlK2fEpTXhzan3bm2Uwh2+p0xX0r2gBRnTO0PIIMHYOrjtMmYbf+sPXdcc8/rrU1XmB1yUhW2D4IaMPaEh5IG9HP9XF1FiGvvWv/6shAWFt76lOe2q1dNzGr0+/Hs8n5VH0GLzgittLexgkh7Rs/aXuWf+ibyhBuIVgNDs3Qya8ZIg4OvDjV4Nug3aBYP+Bl1R8NpA06DXbiHCE6DeS1fd5r8fc99n0MIuT6ZRlXnulwI1BxqgGvAbegLojzCFz9LeXSt3iMzcCa8fJdf/d8f7ZyXJruxfnKKA6zeLDVfx2CtPR/fKttcBq0NjGyKc7NJWg7POrypTxxjnAI4QXnN9y2obU1dSsP8oS7HAadZmfxemZMtJ+0pf7AcLp8mT2eKqS+xOuAs7Kytb7Lj3zhVekR+NoZGzPOqTRVOnW+ECgEti8CO1zIIxfG9eSTT25CDmHECCKXvmgCDc+s+wg7Rmgq74l7s34SmSItz3omO0Dwdklfmgg9exkjcXmKaG5xjcQekiVWGTtCVXymavtry0OW0pMugYrUxUlYMKj90ITgaBBhUGKqfSYD1X9W2f2aLQN19113Nw+jvEm3vx4zO0/w+PCaS0fZrUk95onHtPQR97aStbwTHn51lVeR5zNryuEiTxHQ0nNOfrxoZumP/MGpPwjhydtr74kt9VIv4oUjQSIeWDM26pBHkaFnxAmU/gAvdcPQGggaLPFQMljZKq6PLwHwspe9rHlKYeRe9d4PPFYMLxHggMF83zXYKuL6MmsE9HMCUfuAPwGbATvPp4Hs6jWrm3dRn9E/1Kf6mskT7xn1+eznPLvtAqWNai/SmUrIGzBrX9qhfmZ2ZqrtMLVvM34veclLGldoswQm3tNe5dMApe0Ff/AhTXAbxGrz+ppjGMJ7+EyfU2YDbA4S3HfH7RO/cUFU4iZcxyngPRpl7Ics58B1p5xyShtUKBfBi7tmE7I0kdA1wNZPCUZlUDZx5kVXXBBc1adZTVgopxk3ZfJugfzEaTIuD+IORnESqDMilRNDGrhBnhy4XZngoN+PC9qYGVN14nn1muA777pBGG4S5wmjdy/wCn7QJnAfPPEsHuF0MVNsNlWdqisDFvkQ3K99wsgyT39LU53J+7j2p+61bxxsAKFcWS6YvGpXnpUPmMinT4MJg4q8O2D7YnZptvU8DrM6VwgUAouPwG6jDj3tHJ3Lf/iHf9i95z3v6d75znd2f/7nf77gueI5t46QgA/JJFs++1l0HcEhIcQ3F/FJXCIlz4vH0Tz+o2UzjCnjIA+JN8KvX2DGwz0EvbT7P9YyFTCWXYhTOWIYc69zDBtBKv1hdYzLQ54Vrx/QsnY/5WFACOGhd1G8WROfWY7kadw08lRlmek8fIgFRkc+gq/nGJnkC4aC6/LOMHlmWJ8pv/uIflj5FAh5RhKm7lMe98GRcBq3b3sMqTZ324aJ9arigkEwbJGPQuqLgCAKPGMP6/5ezbA/YP9RHkaf2kJEVOKoz+2LgH5poKcNaA++a2vedTEg5BU1aOS1nktdGRA41L1BgfY67GMpqXajjRpcWzZGxMnPuL6sTSXgQP1Hn/abBK1Nb0mvPwBOGye4pKXPC8MdXHLOWvT0M+c8J+hv0ms8toVPh3n03bNCPv2d8g/7a7txEOTRgeNwAn7Aw+HCJrpH9SOokwh0dafcmXHzt369bq+J3WzClcM895MPX7s37+JY2tfH00BNvmYqi3zERojroAeO9n4f5VcwyPcOll9yJYiJ57e//e1tWaC41aN6EKQtLZ///M//3NbSm3UwK/CXf/mXbQZSkHeDUO0CB4mnecdn4BntQLuLjcqsN7z7e+S3REbB/dpb4+pRmuFReRwuecoz9VkIFAJzRwAP4atzzz23e9Ob3tT0zH//939Pvgs09xgnntjhHnnZQIZz3bd3tgUOcO5HlMMQYzaVUe7f3wzSiFiR4VD8TmdUkG8MmfTGpYU8hemM0jDviXfcM/1ye853yz0Y8WHeh2UcF98w7am+KxuPd8o4k8dzmLbv0h/mn3Bg8F2LwY2AkQYj5Zm+N5xRGpYl9cRweV4+GbBxdZK0+uWZqtxmPcbFMdX9dX5xENAW+sua9JEsn9Nu+r9cPJscpB0SnkPP5LCN+p72lfv36/abHGiOS68/mBjHgRl45llliDe6P9uU6xHBvvtbyKCGmOwPbnO9326T/35eiWf5HJde/76p/k5/lnd/Zw157pcmkd9E5CgdHOtXZcMdWebSH4T7G2dO1+dSlvAF/hC0jyEvTJX3/nme/eQhAjd4i8+7QUQ8h4llkjzp/TYz3L/es337w9E0DLGNw7Y3vK//3TM4Pjw/xGFYx+4f1u90NmK6tOtaIVAIbH8Epl5Qt53zMiSX4fd+dlyb7nr/Xt726e51bTpj0I8LWTOEjgRk3I9/qrxFFA7TildqeH628Is3Xr2kPa684neeMZNm81T2vIFJbz4GbpjXmcoiH/Ig/X5e+2mPy4dznosAyac4GOsY6uAwLo6+eEk+CZScT1nE4Vyr8xF2gu/D+3J/ZhiGWNT37YdA6myYIrGUgfLw2kzfx7Wh/jPD9qutDNt/hORMaeW6NpZ2Pnx2yBfj+nDikQ8CzTP6RrYm7F/v57Vfln5eM9hI2lPhPF35xuGonMm/cmagkPQSX/LFI423XHf/EOdh+tJ09MvVvM+jQcMwTFX24X3Sda944JHZDbOjN/38prZsR3trM3hbZh37cbgvwd/Z4QsWlkAJyctM5RvmLd/7uDrXx17cwSWfQ05Tpuna1VTp1vlCoBDYMQgsCY/8kGzGfe/DM84oTAXfuOUV841rXL7mS7bJw9BQT1WO6c7H8M2ES65LcyHSnS5P012Tj6nSn6kM/eeC/fCZ4fd+XuLlG6Y/rh6H54bf+/EO45uu/HVtcRCIMBkX+2LUz3TtbFweZntOO5uqrQ3L0Re9fQfDuLY5fHaYn3HlifBzb56fDudhnPnumaFYbmWchSsp+fI5lxk+aQ/L1LzPo3/DMLxveL3/3b2JJ2Uyu/ewQx/W1ppbuuPleMtmrHf33gPs4kQxqLRW39r4M7e8iOw5729NtT5/uvwMr02H67hyDttaHCLDeOt7IVAILE0EloyQXyx4xhHXYqVV8e48CFS72XnqclcpyWK02YWMcy5xzeXeHVm/Eb2WLxHtlsd44dXGBjzu1sJ6qdW7PJn5I/Rd9xK9l37NNHiJ2guqhPxyKfuOxL3SLgQKgV8isNML+arsQqAQKAQKgUJgMRFYu2Zt21GGd5swJ+ztTGMHGzsXCd5RsLwp72y4J9sc283nhC27xyxmPivuQqAQ2PkQKCG/89VplagQKAQKgUJgOyJgWZOXeG0TyktvvbsfnvKbIZbR+K0Mwt36c2vrXbeVpn3cDQBsGWmnm+Hyo+1YhEqqECgElikCJeSXacVVtguBQqAQKASWBgKWw1i/77AvPlHOI//zG37ebdy8sQl4L786CHpee/vxt18QP/yIVggbMwxf9F0apatcFAKFwFJGoIT8Uq6dylshUAgUAoXAskKAOHcMA297/4f3bHubNfa1Ln6IVn0vBAqB2SJQQn62SNV9hUAhUAgUAoXANAj0d/nJto7ZFYZY7+8cNN99+adJvi4VAoXALojALDb/2gVRqSIXAoVAIVAIFAJzRIBYtwe7w99+3Gq4J/vw+xyTqNsLgUKgENgKgfLIV4MoBAqBQqAQKAQWCIH+Ovdxa97HnVugpCuaQqAQ2AURKI/8LljpVeRCoBAoBAqBQqAQKAQKgeWPQAn55V+HVYJCoBAoBAqBQqAQKAQKgV0QgRLyu2ClV5ELgUKgECgECoFCoBAoBJY/AiXkl38dVgkKgUKgECgECoFCoBAoBHZBBErI74KVXkUuBAqBQqAQKAQKgUKgEFj+CJSQX/51WCUoBAqBQqAQKAQKgUKgENgFESghvwtWehW5ECgECoFCoBAoBAqBQmD5I1BCfvnXYZWgECgECoGdDoE777xzpyvTciqQX6a999577/eDVsupDJXXQmBXQKB+EGpXqOUqYyFQCBQCSxSBu+++u1uxYkW3atWqlsP77ruvfa5evXqJ5njnzhYB7xdp/XCVeqlQCBQCSxuB6qVLu34qd4VAIVAI7NQIEIvx/irobrvtNnns1AVfgoUziFIf4359Vh1VKAQKgaWHQHnkl16dTOYIqTJqFQqBQmDhEKh+tXBYLkRMPPGbNm7qfvLTn3Tnn39+d/nll3d77LFH99jHPrZ70YtetBBJVByzRCD25vrrr+++853vdJdddlm3adOm7qijjuqe/vSnd/vss88sY6rbCoFCYHshsCSFfFuXNyKPVSsnplo3btrYvASZckXyswmMA88CT8L/z96dBVtWVPnj31BMRTFUASoiSCkIgoCAggOoKCrO82zbamjboUZ02D770PZD9/8X0U++aHR02x1tOzVOOM/igBOoIAiIggUyzwhVTEXxP5+89b0mm33vPXeouqeqMqt23DPsnbnym5lrfdfKtffJFqFtXMqK8fA3UYby+oFN3aYHR+futHO3085TBHoxW4v33Xffw8TUjvpTtLdx41T/dt9994ecvyUIhzq1l7LLLruUPEh/09fg7JyFOBLBXY6rPi0Gwz6AZDNOKcYp9RtL80bJGOpbH9d+ne39toWAMU0ahrl29z13dytWrOhWrlw5PZfHmbf1/DR3rIvohW0LkW1fWnr66quv7r70pS913//+97sNGzZ073vf+3Z4Ih8bkHSX+zfeX5ycpdSp/dmjzXXr1nU/+9nPuv/8z//sbr755u79739/caz2WrXXYLS+X0d73xBoCGw9BCaSyCNhu+6xa/frX/+6O++880pUgCI7/vjjuze84Q1FkY1TGIebbrqpu/HGG7s//OEP3Z/+9Kfuuuuu62677bZi8FetWlWM/2Me85iipA477LDusY997KIUFSXIIF1xxRXdb37zmxJdCkmIUq5JRhyJ/fbbr3v0ox/dnXTSSd1Tn/rUJSXAyM6f1v2pu+yyy7prr7224CDiom0YrF69ukRcjj766ILDuPjONAaX/eGy7qyzzuquuuqqQo7Wrl3bPeUpTyltHHrooTNdNvbnxjU4n3/++QXvyy+/vLv11lsLbvr1yEc+snvc4x7XHXnkkd2xxx7b7bPPPmPX306cbASQbeNv7L/+9a9311xzTXHgrB/z7PGPf3yZxzMV68/6Nz/VYZ2aHy94wQu6E084cVHrf6Y22+fjIXDnnXd2t99+eyHyf/nLX8a7aDs+S+CJ/fvqV79a7Fh06YknntjtvffeW7zn1hon2foqAbZNo+DY6N9SFvp6SzomSylrq6shMIkITCSRv/OuO4uR/d73vtf97//+b3fRRRcV7F772tcWIp8SYjwE7D333NMxCuqxXfuDH/yg+/3vf19I3/r16zvfK4g88m7b8GlPe1r3nOc8pxCBRPyG6p7tM9HiW265pfvlL39ZyCyiQBnXUfCh6ynoI444opCRE044YeiUeX9mR0Ck/eJLLu5++tOfdpdecmn3y3N/WTCBQ8qjHvWo0iYMyHrcccd1e+6557zbcwEH5stf/nL3X//1X4VcMwBPfvKTO9FPTsNiiXycIE4JjM8+++xi6DhMDF3KQQcdVNoypsYatsh9i84vaFgn6iLr/q677uouuOCC7jOf+Ux35ZVXljVtzC+55JLuzW9+86xEXmcQRQ4AgqQOc+XAAw/sDj/s8G71mtXTu3WNYGzdoaeP99prr9LoQnXQ1pV4y7Z294a7iw357//+7xKEEpQQaBGg2BpEXluIPLLNNiiz2d250FBPdtzZRPp8a/RjLrna9w2BbRmBiSPyjPIPf/jD7itf+Uoh8CLpFr/F3t/2Hto+T1oHEk8BqsdfRhuJe8QjHjEddRaZRwicq01E3/vnPve5JTrPqMyX0O+8YiptBnG97dbbCoFFEJBIkW9KsS6INlKBwCPQIvPadJ2nNgz1cZwJh8RzKC688MLuzDPP7H7+85+Xy+Q4Ii0h1PoOG0Qf9mT2GYPBoMaojtOmc370ox913/nOd8quBxKvD2S56867CtlaSKkNB1n//Oc/FwL/4x//uJA5hkFElcyMv37beRBpveOOOwrBf8UrXtG98AVT+baNzC9kFCbnGmNqLmX9WiN0BOf03HPPLY44onPEE454WHQ9aWQcbg6e9Zj5Zd2t37C+23f1vgted5ODUpNke0DgnnvvKTsTSDwiLc0lKZvm75Z+so/1kR2wpC0uBld9kHv/k5/8pDjdbOI73/nOOR3vxbTZrm0IbO8ITASRjyEVwf3ud7/bfeMb3yiLXQoIgkaRIZfjpEdk68/2rMiwqDhih5Dabj/55JMLmUf4KJWLL764EH35gAifKAEF+brXva5EcedbkAoKz5H8fAT91FNPLSS6T4wRdg6DaDWCyYGQWuT1Qkk8mVfsvKIQcwpT5BqW6nYcddRRxbngQIhm260QSadYyeOeBA6GNIVxSnKWYWnstCfKr09yLRmbB0f/RDdhvhAizUHjJEmVMqZ2a5A2UdjDDz+8e/azn13+wgyh0xfOideMn3E1f/TJOCxEhnGwaOdseQSQC2sUoUHg6Qfr2Xw2zzl3dmz233//4kDXJY45PWHeut61u+26W3md9Wuutmj8lh/L1sLsCLAXUj/pLWT+6U9/eiG/bOaWJvGzS7bwb+ntL37xi8XmCmA973nPK2mdi7F3C5emXdkQ2PYRmAgijzyec8453Te/+c0SGUeojznmmJITf/311xdC6jOGmwJLGdric07yCpFTyg/Bk3suNQc5R5wRVWSAgpR+YQvxW9/6VveLX/yikFxpJoccckg5dzFFOxQxBXzwwQc/TPmSAblALMmwy4qpIVkMiciuBAKLqMsVR3SluOgvgs0IaAPG+iu6LQUJ8faazAj/XM6TMSC/MXK9+xo4XZQzxWzc7r1ndIPx6F+/T0PjN4S1ejhF+mWHhgHwFwHTp6RScNCcK1fefQaisp/4xCfKHLIj4XvR2j65G2qzfTbZCEQPIN8lZeuxh3Yb7t5Q5q81T58ccMABDxnrcefbZPe8SbcjIcAmsB12au0ysiGORz7ioQ7qtoJJ3wYUmzeykY3Ebysj2OScRASWncgzrrbKv/61r3dnffmsEj1Ftk8//fRCbhHrO26/o9ycmQhaDPKQYaYYGHLEUlROJBaRVd+LXvSiQiZF9CiOKA9OA8KLwIrqSUexO/DMZz5z0WPGEUAgcyNtX5EhIko+z/vFNJxdCSRc35FXxBYx7+edMgqi54j9VVdeVSLeUppEtMfZSi0RzBHBRq7tpuTmVg4CBY1QIVgjHv8wIj+fPhoXhPx3v/tdkU8U9pRTTule/vKXl92T2uHihDzhCU8oDgrC/6lPfWo67cI8QvBb2XYRqNeu9WKH5egnHV1ukuREmsPmXW7eFsFspSGwLSLABh74qANLYGXI3m2LfaplXrnHyrY7uq0PYpN/2RFYdiLPKMtL/+PlUzcrymV2SIGRCy3FRgmpRHhDwIe8eOchfMg88if6ikgz9oy+iHefTIsoO882HwLPsVDPYp/eQu5s19spECkWJaxLXxbfDX32kIvmeJP0AYR1zZo1JWKpXSSeHOlXnAZGAtnfc9XUDa76Djs7JXMVux/IE4frvHPPKzgi0Zwj0XhOkzZDvuoxGxq/mdrj4CHlxtX4cFAQeelSue8gUVr1IvaPWzv11BqpTeYROa758zVlJ8a5i91tmUnW9vnWQcAYmqvmt90zf+XNmyPud7FDZOzdyD3TXMu85GjOdM7W6U1rZWsjEN086eOeH2eia5NOQ3ZBk/qxwUuFHzzYoMXaoXHk2XW3XUsfWmkINAQWjsBErCAKQ66zLcRXvepV5UA23dBGqbjhRxlHsdRRZATPQQEy+hwGebNeO9SXnG2kdffddi/nu7EWqV+Kkrb8pXiT9jJT3eP0caZr83kMk0i7oy61c5K2GAdRyzgAzkd2x1Gw2hIllx/v6Thvectbys6HaLg6kOWMCeMTsq0Nr8c1osZFpJUzpJgvCBpnRZ+Sp5++amvVXquKg2KHR8qFay//0+XFIZBu1cq2iYB5a96YPxw8zqp5vnb05CcO69mjG6GReDtsSaWzG+UG1/4vVtakZWgumkf1mqQn6BFzWtvmXW7i5kjQJwIH1pI1ZW3NFBCwg+B6T5Eyv8lKB918y82lbnVp3/X0lshs5Lez5HrFtXbf9N3u5W2331Z2rKw/1+cme+kYe6zco8ikr77jhHOMrQ19s+YddKDghzqHcNEu2bWt/xvv39hde921xZFSv8+z7qWFwFAggSwz4aGd/jHfGapPUir1BX4cPOMxpFfpY4f+28EV/ab3H3HAKEWv+n2KWgb1CzAJFhlvgQtY1UGB3M8DW+MggECe3NehPhg4YEy+2YIKgir0F1lh6FzBl6Sk1HNUO9rTJ/M0bVor+mdeGjdjA2vnKvQ1XdkvrlEHWZ1v3inqLuM+ksk5vrMGyeZ93R84GAsy1Y8Kzvyzw+pa97KZN2SCiYBQKw2BhsDcCEwEkacM3/ve9xbDJNUjir4mkhTxkDIe6iIl56ksFK2UGVF2ETr51G4eomQonig37VIwV19zdTFcnneec4bqn89nMUyMGwMRQ9wnCPOpc0ucC4sab4RirsIgIEzubZDGJEqOXEuroZDdREzR6+uDm6YcGa9ThojVXG3O93vjzdDCnywxbmSfzXjOt512/tZBoO8IIriIBsJk/nlykZ0gqWEcTCk2nDZE3s3SrncgMpmbXpcfgxvNTa8dbjjPE6hqh5Ou4LT6fYtAb5naAAAgAElEQVTcII88K552Yw3Zjcr9KIc9/rBul9V/3QXMujf/6CU3ZHsWvjY+/OEPd099ylPLk7bczO17BAjZe+UrX9m9613vKkRYcUOvdaevSJDH8prP3//B98sN5x7HmkfMcnDsXjnsdGbe27lw4+EPz/5h97Of/6wQM0SPDhZUkY7nLychuEdv+utcJJNjDG8y2flSrzFBOq09+Ns5c3/Ok497crfbfsO/A5Kxqf/Od1YhhR//+MfLvTrqedOb3lR+zChjWI+lsfCULT9AZTwR0Le//e3l/iiEXv/0MwVB5yR97nOf6z7/+c93cH3+859f7rHKzZrqN2/MLaTX/Lvg/Au6i353UbFvHB32zZixU8ZEHR6BrP2h4gbuf/qnfyoOhB0m59u1DoEuP5C3+TcGrQNjypll8/I7Js41jsYrDoB5ngCI+j7wgQ9MjzVsHBwDutNY+stJsq7UT+frr8/h5T40snlalDmWuvUbvuYlPDip5ofCgfq3f/u37mMf+1h33733TdvHl7zkJd0//uM/PiwQNYRP+6whsKMjMBFEfs+VexYFxROnFFJq0jfuQFE4CDxvngGhyChCT2bh5TNkvvOrsR41Rzl6sotHFSoiOPKuh6IT48rQP48iWzeKqOif6CFlyinJ01NmilD169lS75EFBiARtKK0R5G7oRIiQoHrF+wQGgYvTwUSWWTEshNSDLN/m0mUer32q7ZL/eMifZnhLSJoXiEq+hkyj2TUhrp/bXs/mQgYszj1yJY5iRggR8cde1xZ4xxMhFtUHlkKIYlj7Sk1rnWYG7vsOhWJLp+NdEMc7swPUUWR89+e/9vupz//adEXCGxdRNJFFRFZOsf5iLD1kPsyipMwWvtkNhevuPyKQm7U74Z0kV5EHvFxjl0o8nFQ6kCGNtzAjcib49YsMo3E6bu684NsHtlqPSJQcLCbpT2EzLl0pHOQTN+TnRwcCToLnvUN4jBxnvXkfiK61V9tONRNx9HD5EgghcwKPbHfmv0etjuyFLMN/ggmnYRMI9tvefNbupV7riw41usdvuaIx+UKOsD3iUc+sZBSDhPCW4j56HN/9YW9gLs29NW4hJSSX/3GRJ+NhfkHT30njzoEOcjpHJgb49NOO6082awfrEKG6VnyGSfXIf3ajK3MD+RxYjiGDueTTxScntNX87WWNXhbN9qgr5XoaX9hQEZOgYdB6D85vHfzLfnMA7KYb/rnt1j0JQ9K0LY6zDHOpXPMDRjHNnI02EP1wdAcglMrDYGGwNwILCuRpyiUKCLKIJ9ZzIxIlApl4JirRBHaKhRRojgoMIQTgaPcRB+QegrFowy/8IUvFMXMWEkLOeOMM0pUaq40mLlk8T3DTeExzBQq5UaZei0iw9AgmstF5snCODiSIiCK3Td66es0ERlFgZxPodv14DR5Uk22fI3dcvWpHpdgThZExhxAQhiMrbEjMM4caecsHAHkCClg9M1Z93mIvtsVQhIQUiQTqRIsqG98ja4Zp3WOOF0R0mr+2A0QZUaMFevcekBCtJfo5Qtf+MLiZIQcOpee8h7BpHesJT9OhSRe/sfLi35ws731iRjSV7W8Ip6ID6JlTn/pS18qdXJEXEsueIiQ03nIoigq2eBV0sxGRNIhmvyyl72syIBwIbfk56y4DsniZLi/iPOtDW3q6yc/+cmyMxCCaTfTzggdQr9qH3bIpTbpcITRL5Pqk/chysYyOyLO8X6+Bc5HHnFkwZ585Lrk0ksK4Q7xretkH5BdxW6sHyMkp/6FWMamCPyo0/fG33yy+6If7JXxga++Ir2i/XSOes1HssGF/olzwy4h+vprPggg1Y8ohjUcfGaOsxX+ar8urlfXRz/60TJfXEcne8iCa3yG3IuAG2dz1nfOYSuNr3mh6K95pR1zSfucTY6i/pgPdpyQdfMTubcbY744hxNnHoTI77P3PmW8jTW7yoHkDJiX5r4HUcDI9+qml5960tSvmz+kk+1NQ6AhMIjAshL5KD+SJVJCGfajErXkdUSlft3vHSXFOKmPUaKAKW3RF4qbAhElYeRFEijlZz3rWSU/37UUZbbW+3XP9Z7ii9NB0VFuSAXlSCGrm9IUSbMDIMIiYicS5PW4Rd8oPXLOhsVM9VH+CDejcuFvpyJqzrVjIUWGIZuprLtyXXlKDWwZJgbBD2kxRGRhSNTvdTn82/xanV5LXxi3IOIwo+j1m4FmDMhpLJMWpD9p3zXk8NcBe985pxiq0SMtW9m2ETAXzD86w7oyP5A2xASBRK4RGGQG+bX9rxh7c6GsoRGB8De6p173nPl777u3kDOpASGHSLZIv2ABcqLQL0gZp12bggMcCfMTsTZXa+cW6dMmAmduI0PW3trHrS1y5lc8rc9CjldN/eJp5PQXQUOI9J3+kBZCl6lHlF49Ukc4IAi6NRkiqF1kDMnUlvVO5hB1RDyPpBWVJ3uipDCDrTVlxwGW+uc1/elzehZh1C/tqxvp9RkCrLguf6MfjGVely/nUeDoCUbnX3B+GSuEnJ6nV5HSusAfMTVmsCCzMaRXTnvOaQ85lzycGg4CzGFDf+srgp6C1MLbwSnSV+km+uv8BHK0YTzyw0iI8tpRUMccVacSO5i8eJ9xdKLT0ibirK/qYM/iyFkDDmtCP+2EcC4yD/Q3JN58iaNjXmWctaXAUNv6qh7zhu1ynjbNB4+OJrO5b8zJgaDrs76pKzs7sDRvYYLks70JJGmHPP3xSn/b34ZAQ+ChCCwrkSdKFPnQwFASMbC+93rcwugwThQjxSNCYruVkqHIKBwHZcHYyUGVl0fxKFFg47ZXn+faul8MGMUdQ4h4UHwUp4Myo8g4HvpMBsp3rqKNkFHYzIblUF3a2LB+Q1G6v/r1rwrpYPDkfIq4DMkQXGzjIjYcFFF4hj6EZqitxX6mf4w0o0YuUTFjaewYFDgi6H3sYQJrBAb5b2X7RsAc2H+//ct8RL7NbTtG5oAoIUJdBwo43a5B2BEI7x2Z5yLQIogcVjt75pA63vrWt3avec1rHhI9RaCtcYTK7xconAntu5Yz0b+BL3oIqfTaOX/zlr/pXvrylxa5EPRTTzm122vvUUR2s+NpTpOPrnCdYMHjH/f47unPeHr5rYzTRmkafrth9ZrVxdFHJhFMaxUJtY6QOATTzekcADpIvUgVnWm9wA8mSKDrkDgpSYr1Zr2rw6EOMkhRqvUQvWadwi0/PIf4vfjFLy5y1efqT0h87TTMZ8ZyRjgTAgpIMsJtDOBOT6U9/UMkoxP0BZnXV1Hru9bf1a3Zb810gIAM6oIjgq4gwRyTEkXerGMQfZFpuhR5f+lLX1psi10ibWtX6hYnEJmFu3rZh8985jPTv7odh8+8NAccxiKvzQ1twks9cRrJpe43vvGN02mk5vM9d99Txokc//qv/zq922IesI/6khI7q362yriYEzB1n4b5te8++5bdL33iZMIdYbczBFPOLEx9ri+w9Zptsxbcw0B2fTJe1iunS9FuovnTQrUXDYGGwIwILDuRn1GyJfiCAqEo/aWQGDIHpUJ5UiSUue8pe0eI/GKap9xF6kQYkExGl7IPyaSwKDsyUPgiQmRJ1F40KCSaUnV+tnv7cjGoiUhySrQ3bmEUfv2bXxeDjWww8Iy1KE4M+lBdDIfIjjQA58sDRmJg13e2KPpiPP3P682VejLEuIViZ0jcxIw0yLdkDOQTM44x0tkeZpBF10Sqzh6lFCQ9Ydz22nnbJgLWMiJgh0uurnntl4aT044wIQ52ZLKLM1tPM88QNGsWEUKIzPma/NR1iEwjfOYg/SJyba1IxekTebIiZYrrEN/jjj9umsjkCSjWTpx1n2XXj25A5E848YTubW97W1m3nF1HUgPzGxZ2Huk4hEpbicZHdvXTXRwVOil9to4cB+x/wPQuZYid9Whtus8paTd9PLNLYBxgaC0mvc0vUOcmZPoojpU+eT/fQhZjT1cYX3qTMyd9yNjFQaNr9dFf4wI317rJOE4PnVI7feTm1BkvTqE2XKuQFV6CRElfgTuSHJuibyl0NRKN7NJZdm3JZnxC4p0Lmzh75f3ITjjqxyizM8YnNs3uqACHuaZOh/HKuvC5ec32uEYfgsu0gJtfGAdzCaacL4R77Si6rmQ+qo+90ncY2okR6GEDTzzhxOkqzWH2WH1ek4djmNSk2Dyft9IQaAiMj8B2TeTBwHjl5h/RKySeERZV8exzRFiEiHKk1ChkKSL+zqTcZoOXEmIAGHnGw7an1xRcUlkoOkZEFEXUKE+osIVO6TOyokEKg2db07kIQb9QiJQtw6DdEjUbkZmZChkoTP1DamyHipAg5+TVtmg8ZTtUGD5yIkj6IXpvJ4Hx2JLFONktYPhELeFHDkSegWU09Z/cyA2jIhLIKDNyjKXoTyvbNwLWn7Uc8vHMZzyzrMH8QBwymVQs6zu5wDVhqlO+zB1rDyFPTjwHQTRZvUPrxGdIDHJGx1i/1lpysesRsA7NV+v3Wac+q9xnQr7on7nSv5BD10qPOW0UKY0jXd/fQx/YnUQSrRk6wq8hW7shy4mGu44O4uwgmsge8k0/bHxg43REG27WYYIT+jTTjetwsm6RWqk66qOz1BHn3t+QVHXW5HU+M9Z1dK326AO6gQ3gVCUtRX3Ir++Qco4NfOBol5HOoGvzaNu0zz4gwEgxfWcOaE8hs3YQWGOgbTjC3ucOOiy6F+7Oo0/pJt+RCc4hyOqFi7HpH3X6Fxxdk7mPLGs/n8cJJKu2EOfsPpjfxkP9ZFOPJ4yVv6ODnA7z2b0edaBIvZHRnKKD1WE+szPGvb9jnMecuo485pS5UEh9Zbcyj0sDrTQEGgKzIrBdEnnGyDONpdJ4tJsbrigWBJ1yRlQpTQYZIURkKXr584mWI/sLSRWJYve3T24pawUhoPgYS59pE8FgWMjiNSPKUFJwjEdunkrEOaMaQ6QON+qKFPUjSTlXXVG+FKocd2kAjCvyIEL37ne/uxiofolxkWJg+xQ5ySPHRH8SnSQHGSllfaOkY6wRnMUoaHWKFtqq1kfkSHscNX0wXumf8UWcGB44mgMMHJm8Z7ha2f4QQGxDCMzLknbwh8uK42meIFfWiEgyYobshIxm7daoIDlXrruyEDtrzbxDapC+zLU+itp3wyXiqm5rwLq2vlNClMxD9ZiXUmHWbs6THgoiDLWHVCJa0S05p3YA9DFpINojn/qzS1jL7zrfI3rqQn7pjRzT8o/IXk3i4YyU5uks9C256Dr6C/7OUae61NvHO3rCXzL3v+/jPNN7ekZ/EUtycKY4OcHIdYg13Y/E0312FOkMbacf+mKeKMaQM0hvHvTog0rEmw6PXhQk4rjpI51krtiFYVcylmQhQ3Sg/pkX5pb6Hebk7bfdXpyRuZy49F9bri3EeDT/yRInyRjAO9Fu9TvMa32Nrp4Ja7Kb684zJ2Yq6ucgmF/qR+L1NyXz0nw1v7SXz+KA1HXnu5naa583BBoCf0Vg+yTymx4o26nyVJFVSk404R3veEeJxiOglB3FLRrvEWEIPzJoe1S0nuJaCJEfZ3JRYog65Yc8k4PCZXAoPxEhRmTN6jXlHPKLnORXbus2ohAZxkMOnkrjGVKCMTiUqDY4C3YCRJAUESmRdU5OiFDdjjoZDLmP0mrIixC5LiSeQqb0lWwjxyBrH+Z1mcl4POSk3ht5p8gBw+tpGRwLRhlmDDM5GWYG2O6C7fQ4Z+RjuBn6IaI0W7vtu20TAVFnDrpxR8LchMiBN2drIjpu78xvR00Kx7126LysgaE1O3T+0GeLcY6H6hvns5BMeoCuQkjpXPrTLqI1569CbyDz1mi/RC/5PM6Nv0kd6p8/13u6zbga76OPOrq0mV0FpJruUL8dFoex5Owj/XHs1OEagYBgS/+aP86hV+g9RL5fOAECBjARSHIoCWr0z9d+9CLZvJefj8iPU2DLRrBpmZPaZsvovtxcqq7s7pJJ3+lQelJ6SwIb5qGUx/J3dOg/vZmxmUum+eh0dc7n/Lnabt83BHZUBCaOyNcGbSHGjaK1FS76JkKCkDPcotWiuRSeUhtkkQYGiVIUdZEHiTSLqDl/S5A+fVOv+ilUslKwSDtjwBCW7dNRNggj8+pXv7rkZPYjyRQhuRVOCmUe3OpIR5Qmo3H2KGfcjVV53jR83BwlytQn8a5TX3LObc2LOjE6a0fRQ7jJQ0/aCgPMEDIUjLr3yLz+INyIt6gm/EVnQvzHXYDaQ8LkapILUUMSRIDIQH6GjQGDrfb1Ey6+9zkjvyXGdNw+tPO2HAJ9/cFp84QZUU8knm6wvkPs5ytJieCPblZcirIQ/abd/OroQq53zUKuS3+jD6xxxNbasquHMNshoyfoIwfimMh7IvppuyaOqTuy+buYiDydSEd4hKGb+OnW6669rugkwRHpHJx+hyiymzXNEzLTsetGKUjmC70iWKEfSW3UDzuWdluHyDY9RM+pL/cNeZ1IvJtO3UugwIDt0S5c6SS5+vRXnZICw/5RfgRKHaN7DDgUAjAJqOjvpz71qfIEI5/DM3JJRdQXepc95JDsuttUKlPGAX5kc+hvovpez1UyvupoJH0utNr3DYGlQWDiiHy/W4kI+NzruYooirxvUWNb2bbSX//615doc53aEYWD6FO4thpFMig8ipyxl2ONCOaG1ZnajnGb6fv+53U/KHEyOHzOQDJiSK5CoUvBcTi3T7RTN2VL2ScSTul67fzIp28MLyUvGo+Qi3D7VUg3Mg1FmOAkVUlEyrUMnOvsKNhJcMOpbfNCcEaGiBza1ZbPGXbnylknE4xFihhP7c2XyDMuZGKAX/yiFz9k+zlpPb4nx1133lVu5jUntB3DaR40I9Ofldvne49sTIoNImcnisNsbhy6diptQs/H0S3OM6/u33j/2GkPk4qq/lqnc+ku68Y5Dz4wlTMdvWld05H/93//15155pnTqR3Ot7boM+uNTqInQgKz7lLPUuOTFBI6BylP4Obue+4uBNuNmWRKRF6qJV0kik5GxJYOFhCi55xLlyH1eVqNX+hWrzb6RfuuEehApKVzJmikz8E8cw62cKKnfZ8nwKRe54fE+yyvzcHcB8GhcH8TfQpfwRZOloCQPqvfe/qYbdRP9sTTbdaOgjF0d7+QxcFh0CY5/V1sqfVu08GLRbNd3xCYQuDhK3jCkZlLmVCkFBhizuhSooi6CFydnxjDncisKAvFn/QVdbgeoQ5B9TeGKjCJoEcJ57OZSEE+dzNRSlJdGDvRckqXIdF+39jNROLVRbZ+lNl7dcFE3dKM/Ly4yCQjRZF7/NwLXvCC4vDkmfT1FCADZwIO6mLUYMBYwAemMQQUM8PD4XCdPjDorhGtE7Ujkyi6H92Sq57Sx7WWoX4d5V/+jv7XWNeGVTtuGLZbgLhxIOywuGE2T0mYi8TMJEP7fHIRqG9U9TqOsDlplw6R55B6LxKZtW3uD60v87iQphGJMb/y1BWR1KGILGTMZe1aL+aY9+Zcn/iZw74fOtQzzvwkl/pn0jn9kapJW9rt65mQuP7nkclfpPbLX/5yicbrh2CHCK9+igzb+fK59S+gEuwFAsg7VHdf1sW8L/ps1A6drghE2CEUSafLyC9g4/GQzqHHjCe52Qwph2yCtBMBAoEIeCH6Bx9ycNGXdH/SWfw1vurWb/aGk+AmZO/NFzqefq/HymtteJRjnJC63+ZwxsPn9djkqV/SgMhHzyqcCONx0YUXlUCL+u1C6IexQd7tUhmvPM+/btPr6Tm5+Re5M8f6smccc36/nv5758c5MRddB5/ZglT9Otr7hkBD4KEITDyRt/BD3ryuFclMg0lhRqkx1K6Pwu0bEMpt5R5TJJXhRU61wUCqJ3me6vG5eiki9VDKRRkh5lMPLygi9duInNOfV+eK/NjiTb7mSG8WQzLbjUUz9TufkzNtMQ6iSQhtomf6Jjffkyty4+hcdaqHYWOgRH4QGvUy1DW22oaZA06+V+ob/USd9JshDN4MhffBFd4esda/4ct5Sh/j/nvnMNwMMoPNaRCFYqgRttRTKmtlu0KgryOQBA6cNAP3eHAopRdYY7lZVBrbxvumfshN6kOewGIeIkbmPRJqnYpsSoFQzN+6ON/6EgmNs2vOaV89dRmas1t6IKJLQ7z6uqvffjlvpN9Gt7tOkztywwGJt7asJdHn173udeWpO/RX7bTAyDmugWGtn/rtLeV7uCPccKfLBWlE5L0XoSaTca11rVQafTLG/iYy/+er/lx0mvz4PEI0ek9k3HfeSxuk89gSn8EqDx+gQ6ftxaijQ7oN1nVazVyPn9S2dND8zgHcRef1g/5D5AVxzEuOiseb5oei9D0la2ZLz0k2IU4BfR9bOuREL+VcaHU1BLZnBCaOyNeKhNGxwCk/StJr5Hm24nrGeTo1ZXQ+A5LIdP9aaRauoXRzt32iMwwS5RvDwwhJS/FMarJQishwbfj79dfvoyxroiEyJELIyFC4Bz76wEI4l+pGW8pS/ba/3dSbnGHpNH4am5FJmU2ZI8IMxPvf//6Sr88wRBF7rYQkUM6wFAnXJuMi+sMAyvd3g1UeJelaREvE7Kyzzirb9ba5pUPI+V+7+ZnFkTFt9HEOMTGWDhEq6UNudJQGYNfBeCWPdKZ6+vW299sWAvVj+fLafEBi7EBZw54AxXm2Y2RuWPt0zL3331tIRg5zBBEUWTWfzFE3dUpPQJSUzP2ghLSq143rov92vlxvHpvXdZmLNM30feb4TN/PNmK5NufM57ccXJN1gxjb5fKeDrG+Txs9GQZefR1tbQqYIM8pQ+vPZ+lT/Xq2/sz1HT1Dbxl3DhzniqNljBKBj05Ql/PpOvIKVtx6263FKTvnp+eUfhpLAY04cOZN0f8jO5PdPraHEyC9U7RffXSgc0u/q0CONs0/85D+52RwQOBAj5pfGbNgUv5u/g0Of+EqUMPOSflxz5MfK1OfMSKrtvXX+JCTbes7oXNh6fu55ly+78+zum72NbsP+pebfcdpv53TEGgIPByBiSDyDCfllCh6UY6jzyhTSg5hdIRs+x75ozxD2OuuUWaUoUiFqLGUEooDiexHxdSlHakfnmDDQImoiDrbnmR8KSXGiCHwJBznUYoUqC3KI55wxHTzST2pyXq+HCLyDL7IFgNjWxqJl0NO4S60aAee/qofmXVzK8MAA6RWTrxIlIiObVd4wlypjSncEs1ZteeqIp96nWM8avzVhTxJU7jxphtL/SJCnCgYveWtbymGsE5JUJfvGaGvfe1rxfhxNoybMUCA6lKnHMVY1PK6lhHlQHz7298uhI3h4hTYhdh9t90XCmu7bhtFwPzlWEojQJjcDGheWM/RNXRJdofqbpqD5ixdIJpvZ4kjL1XEd30ypD7RUc8jNw/Va82d8OSpSG7Wjr9DOmKu1MGtMQRDcvXbRcboUo4KUpjorv7qA31C38CbEwTr5Jj368r76J+Zvl/I53SqG+PpQE/V4YAZI3otOy2JBtMjGWs2APkXYHGd9BWBCGma9QMQYKXPzvc54k7f2AnMr197n0cRZ77pi+voM7qPrYKlnPqk/iVNjC5/CIkfyVnrPHVlF9q4wJ1eZrvoa/0zT5O6aXxCnvvpXnNhnHZzXuYK+fRtrkIW+t+cgRkbCifjUs+j9Fed0fNz1d2+bwjsqAjMvfK2MDIUAaVP2VOWFCyFTsF4Dq+IQh4H6TViiCBSRBa780RKKEuFIpOXKLJLASOEn//858s2o+c/54dCXKcOylo0A5l2PoMvgkPxUi6IoUI51pGmKE7RmvI0mVFOrPr0gRHP01lEb0R8KNU4K5wS0b2rrryq+/FPflxuqtUH29IcA+0vpmS7HJHVdwSZAtUnKQEUI+VJkXJihgocKVYOBRJTopSbUw6izPtOVLaEsx0MLyRdv/2yq9c1ideuujbev7EYIvUxMoyO+VCu21wSXfrVub/qvvv975b+yFeFb9J31IGg2YFAuhhIZAuJd8iRr+sc6nf7bLIRCHEwt8wB4+l1DP9M0mfe2elB6JH5REJdYx6qz7yv66JXvEfcfWe9W7/0BIf+mKOP6Q46eOp3F669+truwt9dWHQPB9raoovcE3Ly00+euqFy5ORaJ9aTue6v+e6I7qv1zFB/yOpaOkkbIaLq6O8QuL52GqyROCwzEST9hY16yzmjqO+ISk47+sGLXqM/paHY8dMXaXPWpLUuOCJAwfGhu5F6a9V5szkLsQlDfZ/vZ2wF/Uzf03n0gvajD33vvT7DH/aINGxhlV96JXfS8zgAwbSeK5wAOofuR8w5fa6/5eZbulNOPaU4CdFV2Q0yD6V5GZMnHjn1a7HJ648+JZfxMObay3wJFgl40H305qc//enyQ4P64trMFX/pdHaAjdEPMnE0FTgYb33ThjHM59HL2u+X2IOayPdlzDVk0q422V128OzRU9S0xd6ykxxgTpFfUB6az/322/uGwI6OwLITedFbixj5smVN0Vi8/jICjAHDqTCifoyIMqQoKB6KWJ43g+uzKCpKwNaoZ427jlKlNNYeOtriHt0EySirlyFC9v2l9Bh6ERwkcShaESPr3Cgucija1g6jxWAw6ORSj+8oQed6ior2KH2yUWxyTD1Zx02giym1Mddf/deWtu0W+J7hpfQZB/2oC+Olj4yDFBhKn+yI0LhKVRuIDsPNKDACnLXsuPT7hyjAMtEaMoju11uujAVZ1121rkTJNqzfUMYTdpErfRP9E+nhHEmnEOVC3oaMUF+W9n6yEQjRoDPihGZ+RU/M1gORY+QaqbM+XUsXmJu77TL1i8i5wTD12N2zPukic8+6ca21K6WEo6uU3PvfX9Zdfc3VZf6be/KR7X4huIWIjXasFHPROvOZv+a+teLvXETe9daLA/Ehu2tmWp8wy/n+pv7orSLQ5mINwUMAIwTXVxs3TT09JechWna4jI73IFEAACAASURBVAPiJVBCN9Mb+qpNZNYhEEM20WGkFUkeIvL5zPnOWYqydrSjpz4BHHaDTVE3u2Hnk24LESUjGRB2RFNgR4CHLtHP7NDm8aND+sR9GPSNuYlU04GCNeuuXFfag4/2zQ96zg2pN9x4QyHUK/dc+bCd2BDiYGOOl93onadSTOlJ/cpTdPSBfkeS45SqI2uDvuRYJc1R31yjb/qjnTzaMvPGnHSOI1hlbOr32smcMs+Gxth9T8YCvtrk0LD95GCHyQA7gRc49dtbijnR6mgIbG8ILDuRF3WwcKVUfPazn50mzwwcg1krdMYCeUvkzOJHNI990rEl6hVDxri5KYnBQqRF8Rkb0XIRkCgmisdrRBvRcy5FrK5EKfoDTi6FYnQ9g1ArdMpJtCM570g0OW2bUt7JfxR93nPlnoW4U+Lyt11X34DUb3sh75OCRG7Eg2HRNmwoWgaqVrhIgXMZYxGSt771rcVwDBmtceTRf231x7K+1hhrFz4OmHo0YJ1TjMT7PPcPiIYaV9eRT8lY2kVgTDljxtIcWap7DsbpcztnyyFgrjLuxhqBsab9tR7HMfwcUgSbHnGt9WB+Onbe5eHRxswrDr5zOACIkINOMfc4y4q1SzY7P0ibgAB9Ih3D+qnXEF0VsoPQxelFvpCd2QqyZD1xdOkVckUvDV0HF/jQs17HeaAH+kSJE6P+nK+NRGajX7WBIL/2ta8t0XdRZ3hwbpBI9yAgjA6EUVBFm4neq3+I5Km3dsbS7lCfxv3M3CAjAq2/ZHDY/RSoQNphkHkFI9fQGXZKOR4K26AOY5wdlT52zjO/3H+k3xwbhNovA3MgEFV4wtF59NlBjzmoO/6E44ujaI6RNbLofwItNRawXL9hfQlI2SUlL3vlWvPTToldBbbIGDg/426emTP0p/4J6NC5p43ub9Bn60pgxbw2LwXDfD/alyntDPW5HgvYKvqorn6BnXbUy/GFN4wEvsiTHWwO8lxt9etu7xsCOyoCs1uMrYgKhYXkItW1AvB5lBniTLl4ssuqvVYVokdp7bRilLdRFeczNJSZOhFS0RWGV7ScYku0SR0UHoNL+TqXUmR0KbPIknxF6Tk+YxTyM93aI5vCODuH8kvUncIS4Up9zqewGAfRQdEHxDlpPIuBnQLN84WRVzIiLD6nzEPcQyxiVGNYEQmyI8MMneuGdiZmkzGGSh0vf/nLy5hxVuqbynK9dhkIbSHeditE0kX7jF3Gqcixaq9Sj5t0GWA3HjIEifTDj5EwfkiU8Zzp8Wqzyd++m1wEpI0lEo1YiXZbe8bdfJmrmP9SF17ykpeU3TPzyvwxT8zBmYq2XvGKV5S55XpzS1AAOQv5tHbMeesfMUNGIpNzfJ9i/WmbDpBOh+AljWeuG1BdS39waukSeHjdb0NbdIF2nU9mToxzrTHR6H7JjxUhgDCx9jkl1q51qliTdCAHBSElT3ZQb7px5FiMyJrr9R1B5NjQKaKvdKB66pSWWgY6QD84Kl4vtgRj+oD+R1zZheOOPa7Mmei2kGf9gJWxM1cQXrqGLoWbSHh0UvRsX0aYaE9dAlR2chxsDxxdzyHwGraCTrB+3NrHTTsJdZ3O87362Cnn5yEF+gdXQRr1axve9D6Z4Wx9eCLTAw8+UGyBgJhUMTYRgTYeIvrwyBwy3+la88X5AivGtE+ugwV52US6WR3HPOmYweAJnJ2nbmsXDuSwk6U86sCpdq0zdbfSEGgIzI3ATqOFNeuvLPn6gx/8YPeRj3yk+/CHP9x96EMfmrvWeZ5ByVNCItcURYi7th1Z0AyG94koeS0aRbHVUZW6ecTQ1irDQKG5NodrXUeZU2bqo/i0348mBCaRlT5x7HeXsaJckUx/69JXhNkSnS9Z7rdZvyerdvSdAUkJdlG+9fan8+sDNgqFTrb5OhkwYFz0H7YcJn/75CGyllSau+4s0ZkY+owLY5UCe6RH3+Cbccn3xq6kAu099RPnq9esnr7Wiz7+D/myvZl4BOr54iZt88XctG7Nl5osz9QZ859Tu/6u9d2lv790er6px9wZeuxp6jLn6BN/Oaj1jqFzXI+ckEeZbV2by+pBrhSEzXV93VO+rAoM6DMEiwyuSbS4P7+tK+W+++8rjotorPORbDevJw871RfSN8LG4VwHAkc2+EQHp53spAWT6O7U59q6SCdENpHp/u5jduSiM8m5FDtpdJG6kXj9MybapmfyUIHMK+Rd31zjfJFjY0p/uQ5uOfchHeu9Mce0SU/BUn0JpNSnwoGuggknqtZ10dO33Xpbd9PNUzu65ObwBWfn+G0Q9pms+uNXuv2SOVkTuNGmsfPe4ebff/mXfylzAul/29veVnZfaz3P8VGnz6K/YaYeJbo3c4FetivjfP1B2M3LoWJeXnvdtWX+s8fwiV037uoYCvwM1dU+awhsKwhEd3Ck3/72txcd5J4WDv1iyrJH5Ckii96xkBJl0id0qYvio1D6xnEcZZw6aoUlajFX0RYFTalG6c11zVJ+H8Wq7yJLddGX/PBT3+jPJcN8MIMBgzMXXpEBoSCvSNZsclHwjhgI80eUVhTTdUPXzjQ35upv+37yEKjni3zzJx39pKmbMTeTi3EktibNz11W79KdfNLJJW99aN4M1YXMuTZ58bVu6J/vu9nWTOZyyOS4ugIhdO04u03WFRl233n37uDHHFyO2fqLSIZMIrC58bLuW41V+jAu6Uok2bpFqvOjXeqPHVgK8l7La7zWrB4R8WP36uS3D/Vfn+CUMdAvke0hnTLOXFFP7dBlLgyN8fR3m6YCVanfX4QXLtJoFO8R/swrjpSdITsHxs1ukF1eehe+xjDnpl7vzbkEa+JQGpO62KE65OBDHra+XK/0cdCW3eVxinlpnPt1uLYvxzj1tXMaAjsyAstO5IEfRTPuQPTPH1IGdV19Ek8ZPrDpgbIlPaRY+3LMVX//fO9ds5Drhupays/INGTIZmtjJsU92zW+q3EP4Z6t7T5e47Rbxq9Kba6JfS3fOOM8V3/a95OFgPlSR5THmS8PmxPV3Bn3evPaPJtrjffn8xB62szc7Ou1ofN9FgKW7+e6LnLU9wCELM3Vh7RBZ5an18zDYXIt2coxcrZT8lSr1EUWr/v4R8b5tjndUPXCPOnvPvTPgwWbkNIfv758/euH3sdZSZ+Hzpkeg94tGpnf2hWxVsjnx8o4c/CxKyN1U/Rf4EQ0O45Y/vb7IfXF4XN/i84ctWF3x48jBqe0X8s8LgbjnNeXK+0sxXgP4dw+awhsrwgsO5HPYo7CH2cR1wpgJmVgwOZSJozLgzsNZxbNVC/FHAVZv+5PEMrRVmG9Vdo/Z7new2Wm/tW4LaV8ZVx7hqpffzBLlG4uGYfG1zX9eyb67bT32w8C9Vyebb4M9Xg+861/fYinOmodVtbP5h0ir+fSZ66dL2HNNWWubz4KGRu1OxtZrbGaS65+f2er17lpv++oR77Z1r5zhtbyfGXsy1zGYobo8dC5PuvPITpeQaD7381UR/05XVZjEodoGpcxKnFuPxhFLofdZpF/UXvkHrGXl69I2+QABAN4utlVyswPfvCDci7iL1/d1n4eLmAsZ8K+Hqsh0TPHxsHKuXaH+w5i0sHmmnND7bfPGgI7IgITQ+SBP87in88gzVRfic6M/i2k1MR8NpJOEc6kDBfS7lJeM5dcM+G2lDIM1TUfzOZjCIfaap9tHwgsZq7OZ74NodWfg9OyzOGw9uuaaz32z++36/tSxyztLganfvtD7+dqf+iafLYlZVts3bPp+Nn65Dtt98lo//1cdcz0vRx5hxuYPSjBDbkIupz8dX9a1/3i57/ojn7S0YWk5+ZhRN99S55zLx2HcyIFxyNSpREh8ByGEP+Z2p4N09m+69c3hI9zlgqjfnvtfUNge0Vg2Yn89gps61dDoCHQEGgINAS2NAJIuN8gkScvzeb2O27vzvnpOeXZ9Z7RLiqfx1fmpmQ3IXvcsac3Pec5zyk3libqPx8yvqX71upvCDQE5kagEfm5MWpnNAQaAg2BhkBDYCIR8NQZNxF7EoZfFfcbCQi96LunyEjBScqLG1jdZOqhAq7z6FMkHnn3JCSpOq00BBoC2xYCjchvW+PVpG0INAQaAg2BhsA0Ap6k5Bn37smS5+73NTzK2dNokHNF6pObpOXTI/1+A0BajveJxC8mjagNR0OgIbB8CDQiv3zYt5YbAg2BhkBDoCGwJAi4YXWxz6NeEkFaJQ2BhsBWRWCW26O2qhytsYZAQ6Ah0BBoCDQEGgINgYZAQ2AeCDQiPw+w2qkNgYZAQ6Ah0BBoCDQEGgINgUlBoBH5SRmJJkdDoCHQEGgINAQaAg2BhkBDYB4INCI/D7DaqQ2BhkBDoCHQEGgINAQaAg2BSUGgEflJGYkmR0OgIdAQaAg0BBoCDYGGQENgHgg0Ij8PsNqpDYGGQEOgIdAQaAg0BBoCDYFJQaAR+UkZiSZHQ6Ah0BBoCDQEGgINgYZAQ2AeCDQiPw+w2qkNgYZAQ6Ah0BBoCDQEGgINgUlBoBH5SRmJJkdDoCHQEGgINAQaAg2BhkBDYB4INCI/D7DaqQ2BhkBDoCHQEGgINAQaAg2BSUGgEflJGYkmR0OgIdAQaAhsNwg8+OCD201fWkcaAg2ByUWgEfnJHZsmWUOgIdAQaAhsAwj0SfumTZu6TQ9s6vqfbwNdaSI2BBoC2xgCu2xj8jZxGwINgYZAQ6AhMHEIIO8PbpqKwu+0806do5WGQEOgIbClEWhEfksj3OpvCDQEGgINgWVBQER8p522LKH+xS9+0V155ZXdypUruyOOOKJ7zGMe0+25557dzju3De9lGfTWaENgB0OgEfkJHfCtYYAmtOtNrIZAQ6AhsCQISG9ZscuKJalrqJK77rqr+/jHP95985vfLAT+la98ZfeqV72qe8ITnjB0evusIdAQaAgsOQLLTuRDWB/Y+EB38y03dzfddFP3pz/9qbvrL3d1d66/s7v//vu7VatWdatXry5RjgMOOKB7/OMfX97PRnbvvffe7nvf+1533XXXFdA2btxYDtGZFSv+qtjLdugoanP33Xd3++yzT/ekJz2pO/7440tbiynqTSToz3/+c+nTjTfe2N12223Tcuy6667d/vvvX/ryuMc9rjv00EPLNWT33VJEkvTtnnvu6W644YZy3HHHHd26deu6O++8s0SM9t1332633XbrDjrooNL+ox71qIL3TG0Hc3/hqU9//OMfu5tvvrnU/8ADD3S77LJLqQOG++23X7d27doyZktdbrv1tu6Pl/+xu+aaa7r169cXbCM3TB/5yEeWPjl23333pW6+1TchCNQpDeuuXNfdfvvtRY9ce+21RX+Yk4p1v8cee3Rr1qwpc2Pvvfcu5MtcUawT37ey7SGwYcOG7ne/+133x8v+WOzGIx7xiO6UU04pY7ti9G9LFTqUTqV7zLPLL7+86O/FFvOWHp1JDy+2/nZ9Q6AhsP0gsOxEPoqKAf7tb3/b/fznP+8uuuiiQnxDzhhXBleU44QTTuhe+MIXdk95ylNmVXLI5Sc/+cnuq1/9aiHqjDhyXBt2wxgizxBQ+u95z3sKuX70ox9diP1CCwWvbo7ED37wg+6cc84phgaJFsWh9JHdww47rDv88MNLJGevvfYqjspiSGcciODqL4L9y1/+srv44ou7Cy64oOALHwWh0V94Pv3pTy/YkmkuA8JYXX/99Z1t5R/+8IelXnX+5S9/KRgzpA5O0YvPeHHpE6dBH5eiIGrnn39+d/bZZ3e//vWvS9/MFw6ZsvbQtd1RRx3VnXLqKd1pp51WMEbcWtn+ELDW7tt4X1lrl1xySfezn/2szIfLLrus+/3vfz+9nsxZ6+uQQw4pekQahLnBeZcW0Uj8tjc3EljgzH//+9/vvvCFLxQ9S4/R5894xjMe0qnZgj8L6T19y7bQeXPpzHHqj3xsldfqZyvyfinaGEeOdk5DoCGw7SCw7ESecf3DH/7Qffvb3+5+/OMfd6LXUYoiZ5QxInrppZeWyKsDWUMYjz322GKY+4UCFM1ANJ2nIHEI6+67PTQy+2A3+rc5ao1kIrYIPMW5kKIuh35xSjgSv/nNb4rcIn7kWL3v6u6+++/rEkW65ZZbSp+QjtNPP730a6E7Am62euDBKcUvMilChGj/5Cc/KdFzMiAtSK4imlR2QEbOBRldQ4YnPvGJRQbR+n5RB8fAjse5555bxk+fjZfjvvvuK8ett95a2t2wfkN3zXXXdM95znO6k046qV/dvN7DFU7nnXdecY5gm10OY8dhgOcNN95Qdniuu/660u8XvehF3dOe9rRG1uaF9rZxMv1gHpoTnLsrrriizGvFblDWkvVmndEx5ozAwTVXX9M945nPKGvOrlgj89vGmNdS0j3GW5761VdfXRx6Y0z3I8JbsqifraATOZR1AGUh7bqe7qR3r7rqqqK76eZjjjmm7JoKSLTSEGgINARqBJadyFPAImhf+tKXyl9R26OPPrp78pOf3B144IGF7Ir0irr6i6RRbEgipSei1i/yIqV9ZIuTAhQZfupTn/owghzindQa5+2x+x6F7C6kaNvTCpDiM888s/uf//mfYlhEp0W9pZjYXQhxFzUUQUKgEWrRHektCAiHZr4OhXzQTfdPGS9R62984xvdWWedVSKU6mUQ7Gxwahg6OwQIEMLv/NrxEansF7hykJD4j33sYyWlhjEzDkg6Mh2yLfKPaDNIIqXG7vDDDu/W7LemX+3Y7xlqxk1OKtImfQKmnAT4MoI+M198z5nSvlQiThRDuJidlrEFbSduFQSk5BnrT3ziE2VeGGdOvPUm6o6ccy4V5N38MRetO3OeE3DlVVcWPWNNNCK/ZYaNnlWWOqKsPvoH8TV+9I/177VxX+r2+ujoV/+m1qRy9c8d9z2nwGGe/r//7/+VgMTrXve67qUvfWnZTVrMju24MrTzGgINgW0HgWUn8pQVAknx2gZ91rOeVYgZA4x4ST9BCEXMRO1FYUXSKG9RY+TNeRRqlDYy63XeU3wMO7IZoz7TEDlvMURv5xU7l4hgotVIPFJ+6qmnlvYR6ZSXvexl3be+9a1CPJBODsqvfvWrkuJCzoVG5XfeaeppCeQQLYfPGWecUfBCzuWMy11HyuHPsfjOd75TiA05ODF2QhD//o4HI+lc6UJIvBQkEXxEWpQf1gwZpwnBUjg1l/7+0u7wiw/vzr/g/CKDevsGcKYxibPlfNH47373u6Vu5MucecUrXlEcNZg5hyMh+m6+fP3rXy8pF8aDEdSu8e2nIM3Udvt8chEwr+iCL3/5y2XnBym31uRGCwSY7+a+ua5w/ukaOobzzMnlyJqv5i0SaN76mxICmvdbmhguNdqJSNf6cKnbGLe+LUnmDzn4kO55z3teGX/z4LGPfWyxI/X9UORc6vGLI6Hu9K+2ReNiU5/HmRT0cNx7373T91YlbXAhdbZrGgINge0XgWUn8iLRiCPje/DBBxcjy/DWEXFRVJE0RdSecbKNKsosgrznyj0Hn0wQxSrKr44TTzxx1jxpaSmi6eMSzKFpQbGL9pETgUSIGZi//du/LRHCvpOAfCKkIsnIhX6JIsOgJv1Dbc30WZ7SoB8IShwkDkJu7Mu1cGH0RP5F7qUwIcsi6dJR+kQe5oi88xTOib7ZRVF3PW6IlLH6yle+UoyRyLg8VucgS6Kpcz1RIkYx6VRy8S+88MKyK6DNV7/61d0b3vCG4pwoOR+RQ9wZQ3n0CBtiL3dWfxczxjPh3j7f8giYTxk7TqVdL06a10jcq175qu6MF51R5u5shcNqrZoTdvp+e8Fvu7P2Oas41ebIbKSzJvdLTQxnk3kh303KPJ+PIzEuEc556rbLRxc997nPnYbJ9/VYDeE31/f9a4bGO85S6qrrzOuh6/p15736OJf+0t+CWXSmwE6/rfnUO1N77fOGQENg20Zg2Ym86KzILyIplUYaTK2cKELbpkg+YobcMsLSThyibKL5IYRR7hSe19kqR5RFvJH6GctUIHvGr8f5wpaoHQQRY04GgnnyySeXnYOhGz31SWS+5HWPIkkcFkQeCXbMN7WmllHbtmPhmif91OTZa/cMiKSLxouyM/yiluSJ0ajrJJ8oaEmTGTkBIuFSauKgqHPTg1N5o3Y3OGZINPKdVB75q4i2aNlcT5SwawADY8dBsssAJ7sIdgLUox2lllck1k27Rx55ZLkhl7zIP9Jmt6fv0Iwztu2c5UcAwbGWzQvz0MFBNMc5zC956UvKbsxc5dDHHlrWnXrM6YsvudjdMmW9IoMIvTJfole369pcvxSEOrptrr5N0vfW5HxIPNn75HRoDHJOjUk+q9vs19XHZq7v++fP9b4/zjPVnz71bZ33yHuOfns+H8Kof1573xBoCOw4CCw7kUcGcwMPEsiwSg0pv4w3UmopyLw0DgYbOUeYRWnlxCL0IexR7DGijD7j7z0lO2QUllIxkge5EF0XRUGgRQqHSLx2yY0MS3GR941UiDoj1gstwcBTORxKifKM8JX6k+I1jJFaMiLMwXymR5+JfGZ3BHlHfPyNg8Ch2vnBqTY4CUgVx0bkEwnndEnJkf4yHzJtHO1wcALsYHA+OHWi8klB6htRZP64444rh/xpjgQij/wbG/3tX7NQzNt1WwcBY2bdW2McO06i+cdhe/azn9294AUvmF7j5nx/fLM29ly1Z/f8059fdId0PY4mh8BulHnGwXauuaZwOq0Nf+mneh3N1HP3y9y/ceppJvRXrc9KoMGN6ZumdFNZnyM9FV2VOl3j2hC4+nOva32nPfWpK05t/gaHyFDLoh7fp3/+9r/XTuqPDi3n7zzCZbOu7l+j3jtuv6PbZdddylrTj/54pD/kpPv7GKjTNdP4b27Pdb6LLPSD1w73XTnfbmLwcX5eD2HvO23PVMq4b5Yjr1NfZIjzV9fBHkRWf9WRo/StsnXqcb75LfAgoEJP5mlc5qKdTbakP16LCfjM1Of2eUOgIbBtILDsRL6GKSSwNggMLWXnO4TNd3lCAMNAgcdYpa4o1rxnIBjCGIP+0MSI+DxKun/OOO8pXWSRklUnx8ONpSLGZBr6cRL9oZjzPHftI7pSjpayFAPa23GIIfTXwRAFOxHwIcMES4ZFkf7DESkGrfo58oyfMXPYTWEk1Sd1KL+CGEM4Wz9joDJGe63aa/ppOhyB/tjXdRlzMiJluTcCrvCV2rPLitH0X4JdmNnkb98tPQLWvBvD88hRzuRpo7QKOy0p5tYQaczcDDE2NzmF5qS1mydjSb/SjjSyT3/602XXkFP+/Oc/v9yvM1PRrjrc++Im8ptuvKk77bmndX/3d383TcbNWbI9uNOD3U0331T6wfHnwJubdB6dwOm1K6fdpIppN3M+69dnggDS+chM9pe//OVlvZFd3QigNSC9kHNPN9k1/OlPf1rWh37BER51iT6QSqcuAQbBlGc+85llR2MmEi8w4b4FT7fSnze/+c0lZSml3hnkXOdxoZ4idO111xYyCwNpJWTitLt/gYxk6usO+sXOGwfPjia96wZRf411xl37sL/yz1eW840Vh9DY0w2cf+fSww62Rlt0nl1VKaBkSfqnc4JR2qAjOYMcRE9T8tqTu3bfY/du7ShgQia7mHmYgPF0Lfsg4OERmmRxIPbsnl1ojqabuulEbZjvnFcpm0ktfMjgtTcNgYbADoHARBH5IcTrSIOIBLJcG2gEmDKNcVRHrbQTCWNMRGr232//cgORou6iiEeRMX9LNGz0moGt6xiSa+gzxgch0A6CS9lLARExLIp6lHIyUyqJ8xlaUWv9ZBwWGmWZj+xxLhgG8ockiFgPRahSN4O3917jPZfdeDHI+pQ21DMfOXNuwXA0Vozz0M3AtYHfdZddCxkgq/P18b577yvEIvdDDI1j+2xyETB2nEw7M1KlzAWRVzsziE2fVM3VE3MDsb3owou6i/9ycSFPCJNdQmsSGf/iF79Y5g/ylRvGh5wEbVlPZPva175W7g0hz8o9V5b7SOI8uDZPdkJ2EW3t0B3Sxnxv/WkfieU4IJSu54DWbXttTSHCUuNgg6SHBHsaGDLpevjoX/SoG+s9VQuh1BbHGKmvC/k5B+f/+vxC5OknOlUdCCQnY6jok7bdbM6hcLN/vd7taJBl3WhHhZPg0cN5dChSrX5jSyY6lONGH/mMU6XOaYdoJKMUS/PBPTju9dEekqvPsQHRDdqFNycNbnD3RCP9pCMSMIJrGdMR0faZMcvvEJApJf2KjfGAAfK6Kf/s0f055ErwIzvQZCAPAp7dWrrNmOhD5gHZjZ2dosiRXSI7jeQxRxqRH5qF7bOGwI6BwMQR+ZnIHSUrrYNSZLwYNSSe0Vq5x18fFRkj56/DdRQhxSpiJS3Ee4XxEr0S+WIwnE9ZMsZJO5lrGtTEEYFnxClpdVHQSLzXzhuKcCcag+gyDqJDojDk3hrFVvytN93aXXv1tYUExGBxKvZbM/W0j1qObI8zqp6FP07R75J+M7omqVDjXDd0jt0ZmMEnhrY+rx4PuwH6YXzNF9vV6zesLwZ54wOjFK7RuLSybSHAuaUjRJgRPmvZnETukHJlJh0y1FPn0gGPPujR5clK1gCyyjGQruM+C1FUUWOkE9n0hKYhJzL1m2ecgRC13Eye7+kHkWNPzXE4ny7KE7icJ62CrkJQETu6RV8RVPKkiGxbX+ZycVBHegY2fgzPetMW8ujeI2uQ3NYDmYKXtqS/Dd1bgNiq76Zbbpp28q09MmtvpkJP07najI6t16Zrkf1PfepT07+zQZ9LMzTGzk1gxDi7oZludc3rX//6Mj5Zv861pkNwMzb6XhdjLQIvYs8585cu4RyJkrMB9JNdB2MNV3VzBuza5PHBId5wUKf5p5D3gvMvKGmSuZZ9EsFH5M0rOy7kTBDJTkh+04Msxx1zXLmB5HsDMgAAIABJREFUn2NhzqlL4TAJDNkN0W9ja25y8sz9VhoCDYEdF4GJI/L9oYihppQZNgeFR5lSYIgawuazulCwDp8zVKI+FCBlSOkryJ20FwqRolQXMk0xj0vma9JAQVPYFHzaIL/Ph9JqannJkmcfMwg56qfA9LFZyPvamLoePiJSV6y7YtrBEaETpZTf2y8MkGv0iTEfp8C97kcIxzjX9s8x1rAxH5CFfunvqCAryIQxTcQNOYFDK9smAsjW1X++upAyhCbRa87wfEi83q9ZvabMD+tedNPcQJrNb3MGUZJOYc4lhx7Bsj6s2X57t952a3HGRWWRcykxnhZVyNeIdJu/CB1yLlqN0IuoPvm4J3cnnXxScR7Um0drihwLQIS0msMvfvGLSwAjOo9za10ij/SOaK40HQSanMi/SLtotjWD1DuQQvrQWtInbfaL/pFXeojzYRCneKb1T0bXwACmHAm6LfrY+JFDtNqjQ9XNOUHOpew8Yv9HdDut2KnoF84ADNQlDUjdItF0Nnyj580B4x+cfB6dQyckhU5km1Mg7QVZN7Yi94mM09dSbpD8BGXIFsINU/NFgXfIvPdwpNs4Hq4x9tKB4MZBRMrVDRuRd3PtgP0OmCby6jjpaSd1u+y2SyHydBdHDvlXhx0h42iuGnv9pavjkPXHrr1vCDQEdgwEJp7IU1jIsZvRzv/N+UVRU2C2uEVSGBWljs5EuSdixHBQnIyBaI06Q2jV5UDkPV3GEysY3oXkTjP2ZGUMkpaiHQaHAR8qkZtM5GUYGIikDzAIifgw0unvUF2unysdxznFURm1p22yJZ8VoWcwRJ4QmOSV120xGogH48IAM+zwHiLG+YzThURoK9gMnT/Up3wWp4vsSAEsjKloF+OaUuOsr7AMrq4l61DK0Gxtt+8mBwFk2Dq78aYbp9MVzA3rZK65P9QLaXbWgTrNyUT8zRHv6QaRauQc0RUUkI5hPiOeSnRJnfJjHYfM5R4Zc9O8lery+c9/vpA0RPutb31r96pXvaqQ87oPcrylZzgXsZTTjnDaEVAQwTio5DG3kUk6yBpF/N74xjeWvzmPXJyXfVdP7WYi9HYZEPl+BFsbHBoReQEUulPwBA76ceWfrizy5xG10SkIMmeIfPpEt9ZRbDi5h0D+PHmk6Ogrh8O56Qtc1SNK72Z16Td5GIB266d6qUd7xo1sZPGe/OZHUhrhyIkiI6cJPn6HIjqMjoIdPShf3VinH0hz7iHImGsnOlnb5pL7E543eoISB0bfos/ZFbsOnBcOBb3EcUlRJ3yNL/2qXalX2jDungDGOQiWzicvhyXyTFfWXjQEGgI7DAITT+QpKgaMQfvz1VNpK5SjG6fcuNUvFLLCGDBgjBPyyUAikVF4lCTjTaFTtP4ispQmRSnis9TR8L6sQ+/JzSgxdrkpM0aG/D7rl2zjIh3jkhlRqlESUdmpEOlCVGDDUIlQMZIw6tfH8MNGmhMizxiLEtl+ZvzUgTQwprmBDOGOg9OXfdz3xkQkKmkKxgqBUDdir234wM/BeRPRsxWvj4xmHIrMkXHbbudNDgLZkTHW5r05mh9A2xJSIpYi3NYFksZxRcTNw6zLzCdr9veXTP0GA7nMSboq0WPy0TP0GYKI4OcXpxFT6yaOffqCuJnDzpfycd211xVnYu2hf3XwrbkU39GZHHFBCeQvRNsasDbShva1ax3Tha4NGU99rklkOvn5PrO+7OLBJvXDAfEWbfe0GgUxRZjzhCr3rdDJItMOug7hReIFUvr6RptZz3Cgbzgd9FVy+uv+TwNRvai/pz8T0JHSUt9Am11TmIm6k1Pfg1lfNk2oWx8U59GP9CfHxGtYwzQ7vzAWOKE/vfYXhnAybg72ynXlhvzRHOdAmRteq9M5KXXfYtuqrreXDYGGwA6AwMQTeQSQEXNjEtKmiIx4YkJyC/vjRKHZMhZt8Rx1URBKELlEdilWyhMZVC+DwgAxlLZxk0vqWdMzRdL7bW6p9yHEomCiUX0SijBwOPyV5wmTIYMT+eCgeNqEOkV8EAvbvYwEbP2AFGLOYPcL4yKKRBaGyE19jJFrRI0YVySLMXcOgyv6NLRt36976D0jqT+MGYdBG4yeNs0LT3HQRvll131Hv4a7155lLBlrBl/fEHqHPrXSEJgPAsgZQm7eI1Oi6IgYJ9X6yBO11Om7b377m+V7UVrXcIjzOweuMQ8T+XbjPefU/JZKwRHoBw+sMTJomy68+Zaby9pSlx9B6hf6gb4T6BBprn83o9YLdCS5RImtfTny1qu1ynmpo8wcYW1yDuhVupMeyRrM01e0TV7pMHZMEE51Icsi84odEE4Agqwe33PEEddEoes+wRhedLaiD9a3z+KQaNcxuitqOtUmn9X60mt60l/tStEJPjkPLrmPgK0wpjfecGPpv/6aC3VxPh2t6AcsOF/GlezGLUUf7HLS01dcfkUJTOkzHJD35PbTn0mt1MfSt9Ff84D8dX1ep6/TX7QXDYGGwA6FwMQTeREY26pyPhkPqRSeFS2SFOVejxjFKrIiSiTKoyTK5C/lGiPFcFGsIkaedMAAa8+zkSnkciPtLn+9kXZrzAzbs5S/6HEiXQwIDM4797yHPb+awmcEKHg7EMh4rhuSNxEixvRHP/pRIeKMFKMrpea00WP81AHD2gilLukEMERIbFHDUA4vY8TQF3IzMjrkYnA9fk9b6megUhilcQo8jAeHCibG/znPfk6pT9vatVuDjCAZZEb+Y3i1MZ0rW0Uux2m7nTN5CFjD1q/xD6nxtI+lKH3H1RpAHDmPdARHkI5A/hBW+sg1SdtAtJFYc9I5HM6kYkwHD0bpKAi7Qm6E1tNmpLdYM/11ITXEOVlX1oP1dNvtt00TeTovh3bIReaQZ23lh9qye8GRj6Phr/qRSjn78E0QA8accI4GEksvciKsL6R/7SilKTthsEKwRfid432i/tYgGYybdugPARPyWrtf/epXS5DF2iU/cqpP+uszdbpGW/6qoz9e48wBuiQpMIhzdBIyHrugXvJrlz7xQAA4kG+oRA79tVNj3Mnv2jI/Nus67dJRnIiDHnNQd9kfLiv1Gk+6sq+nMqbaLHZthFU9P+LIDMnUPmsINAR2HAQmksiHeIsSfe5zn+vOHt0UpSCR733vewvZTJRiaKg8cYbiS4lR8DfK2neMbH4dlHEQ2UWaf/yTH3eveOUrHhYdG2oryj7fkT1t+0vZ1pGwoTpqOZ2PmFP4nBXGz1a+9Beku1+0V1//jne8o7SfCFMtF0PCSGoD4XDDl10ORhm2djA4P4ztTDsRIu4Ivz4x7HYzOFnuYXAwjowiAy/ydOqzTi3vc8McYuKc7Az0+9N/z7gFU31C5Evq0+GHlZxZ0ULpCvrD0CJTHBFEBukggzHybGZGNSk69fZ0v832fnIRkBIWRzdSmteInTUz7lrLteZXUu+SIoF8+gyBQ9LNV6T46KOOniaR5h1H0i6ROW1u0h/kUKdor2h8iJfvkUNPfwl5tGskVce8NTej92r0kbwUdVhLctb9DfkM4QvZy/m1HrCe60ff+s76RSpFj2HIAUHaBQSy/q0rulFb1o51bddPH/LoRnUFd7Lpk/roCjq2kOGRHuO43HzDzQUjOggecQrsDMIqhz6oVzu1jrNuyXP9ddcXWckTXecGWa/jCHidI5iwDdrgmLAvbIkSUkzOsqP3+z+U+skHI/0YIvLqzxj763zkPNjX8zG2wDXwcV7BZvTaHJvuR09u3zuUe+6+p+jnnJt+tb8NgYbAjovARBJ5hlHky3OYRasYGETzla98ZfeiF72oRDwoxXHJ4GzDy2gzOAwCRU0Rz6eI8KQwdGRDAhSKmnKPEp6tXoaScWEIo9wZMUpbnXmEWZ+Awkr0Dx4MrB85GlLyvneoE/F2w5W0E21yGOCKxCPBc5Eh/ZTKojByCAsHiIHlKLkeORDBtK2O4CMtIpF2QBywmaud4FX3RxRPdBQOiAgygVDdesut5fS777m7RAEReX9FG+XWwhTGxsbrkJ4Y8NnGpn03OQiIJBs/u07WBd2AgCO8486nujeuk2In4mt+0AEcgqzhnGsuH3/C8d3Fl1xcznVI3aI76CHOpMMa8Jn7d7JG6vasAQdyai5bu1IyEo2NM5Fr+qk20jbk3JOv/KDZQDGn+wS2f1rWlH5Z846kpFnL1i9skO44E+TluFjz+i7thL6so8l2KkT17S7QK9ag8VJqR6KWR/8ddEci2H1Sm/ONu/F5whFTj4vs92vofX0PBR0pF5+DQv+xL9o17tr09ze/+U33o5/8qOw4GFs5/OxPdlfqNoZ07ZAMC/2MnkqpXy+0vnZdQ6AhsP0hMGwJlrmfSN9//dd/lWcsI2lHPOGIkuuOyNckfimUaLZyGYiDH3Nw+VGY+ZQ6cs2A21pFVBFNxIChY9SGom11O85BDhBchsXBIIsQMd4iy0i47+uCVCu+E9XJo9H6fUh0S7Tss5/9bDkYbEbqTW96U7k5i8EdlwxpS9QRUTcuiUKlXfXoAyLC4N9+29QvFXJIGETyJGrVl3Wu9+pGEpCP0593enmevbo4Tak3dcRZIZ8xyWMG652Zudpr308WAuYUxztE3hpzfwuH0hqcT0lkFjFNFFm9iGUdKLBOEHO7QNaQ8+1m+RxZ5VByWO0Iud65Rz3xqIeJQg8gq9a2KL9cdnJ7TZ/1gxP0Ql30jy4gX3RPSHtNfufjoHJ2Ob6cIn2Dp/VBH0nrIZM+6edjDnpM2eniHCPwOSe54863M+F899KoV39n0ivG0SMgPd6RUyGQkYh6+l3ref0iWwIF9TnBIX33tw60OJfucV+AdoyZJwLRg/QJXcpxEejwdBtjTMdwnNiH2frxsIFuHzQEGgINga2EwMQReQrUo8mSf80QPO/053VnnHFGiThTzn1FvxisGBhkHhH2E9oLKXk+NENA4ftLTvUyjuNE+ZH+3AQn2oaQ15GsvB6Sj4Fh4JFYr+Ejv9dWtv75DGFhuDy7WjSe8ULEPZPao9KS+z5Uf/1Z7ZDEiSAb/Oot5ppIICNu0iMHA8w4zncMa9KPcKk/7ZPPGEiFUK/vSjrOKA1DSo/Imp0LZAnhOGD/A2ZMHZqr/+375UcAkUMUy29IjJw3EWNEHgmdL5EXHXcdAqqIyKrDGkwE1FzSpnmLQFurCKw2XY8Iq8OByOdGSjej9iPs6rEm6QlzEYGUynL4YYeX+1+skZQyhzc7vPnMnK/n/WJHw3qxLgQggiPdYD1LuRNhFwG3ZugkzsNBjz6o4A975+o3B52zfMvNtxTHXfAB4SerumYi8uqEl3Q9WESPZA3Dsy7GBy7qq3crpkn86Jn6XrveXzqhLnQsEq9dfdDns0epm6LwghP0hDGls8kkem+n0rk+q28eXiz2M11fOy7OGWdHd6a62ucNgYbA9o/ARBD5EFDRd7/0h2xSuEi8nzZH4t1ISdGOUxhDypCyH4r6In0Ko+S8RGe1r+QaRpjRqNNZhupDmO+/Z+qmJm0yXgyCG9hE7BgGhiU5rf0+aAPhZ1SQCA6LqNu4JUYyfXadFIRdd961VMEQ2PKXquQpL14zmq95zWu6d4xy6vfZe+oHToJX3W7fqOgHfNUJt3wPozgRDLrzkAC7KxwIBpphZxRFuHJdHIMQFp87aofBe98nHWeIFPRzgLV/38b7SoqWg7xrR9G/kg+8Ofd5XHzbeZODQNar6C3yab1kniHWCKWxN184s9ZB5lo9j5BQ61JaTU3irTvzJM65nnMIzXWPktQuB2LdKI1G0OF973tfaUsUl9OI6FsLCKfPax2EuJOZk4BMktX3SOUeK/d4yHoK4pF9aATIv1hSDysy2UFIzjs8g6kUFP19/GGPL/2yxjkoyD9MXE9vudb6vGv9XWWtJZKtr3WaEh0Om+w0uF6RsqO+6OLoWb/a7Uk3fd1PP9Q6YggfnzknOxdJ+0HcjYUnbZEjuzL6oY+i9kg8XfXa1762pPKRZyiYEn2lH468n2nc+t97n+vqMTc/Uwc89cP72KyZ+ts+bwg0BHY8BCaCyEu7uPCiC8sv7rmpk5GjPG25esykXz2MMh4i0vWwUXa1wo0ypAgpRIYT8fYaofO9iJLtYIqeIhchYrzUE9KvDc4FGW25imSJYnvmMGNa6h21gViItjFkolWiweond4xULS/Cz7C4adS2LqOqvyJAiyn6RR7Og6fKeMymfFB9FAGEqx8ukU4kEpgSvGZrW1+HyHQwyHf6LfpvhwXpsDUvjQDZyThylmAOKze8If6MLCcO0cmWfQwlufRLCQnwWn3FgRhF5MwV/YSr+kRPORF+2MfYjNPH2frfvls+BJBz88VukkfFmmvWJSJtflmT1m/mYD1HIrXvbrv1tu473/1OeVoKRw+ZlnJhbYi6cgAyr+r1wQkVVHADOj3lWo4xEm8tI4DmGZ2QeWZuOrRBP5CT/uAMXHrJpaU++i7tDaFLD119zdUlCu2xlWQKiUf6shPlWn3O7thQXf3P6sdkSg+SMmPtSksTXbdeQ9y1o+gLp4ZOQ/bpU4RdFL+k4IwcZsEC59UFttpTn/5b924qtV6dy2nqk9X0ha6gzxJEqCPyIfZ0eoivvxl/1wnUGCfzhR4y3mQ1Nr5LoEV/6WHzyKEYy/79Cg/p2BK+kQ4E59gLbW9Yv6E4HebBXDZwCUVpVTUEGgLbAAITQeSvvOrK7ktf+lJ35plnFsXOQLj50nOQRchC4hOVGAfXvrILEWQM6lxwBB7RdYOWgjzKW6XIlbTtNdn+4z/+o/vmN79ZvnvnO99ZiEMMqjYYKEbMwdC7RhuecuGzvmFj+DgH2tc/0aBjjzt2wUS+JrTrN6wvJBaJF4lnMBERPxQjLx7O+ucaBoKDw2gOkZ/S4c2ldorqzxDpOD/X33B9IdEe52lngmNiuz0/DqNNRXsMFENqx8A8gCEH6e///u/LayVt1oRFHfkRF68dK3adqo9T4Ck/2kbeTxs9ncITihju+ZCc9K/9nQwEEGzRWWvO/Rl2vBBOhBpBROjN38c/bvQLoaO53S/my8YHNnaXXHpJyXd32C1C7N785jcXEq7+zM/+9SLHnELrGeH1CFfnm7+IrMi2X+asUzDiVPveTbCcW2vFbsDXv/H1chNtfuFzyMlEMO026KM0F+u3lg9hVV8c3KyVvuwzvecsW5d+8RV20lmQ7PIDVCP94Tt6Qz8jH7KrL4gxzOk6pNe1efTlUOCCDPpQdsZGcjuffjSGdIcASG6K1Y+MoUAAfUKH0c3at661UfTA5kCNv3YN/HXE8YChtoyZ8TZ/OBqcKPI6L317yG7MZj01E3Zb4nNOGmeVjHQVnNZdua6Mv0cvD82RLSFHq7Mh0BDYNhBYdiIvAiQfXnSN0bDtuna0tc24iAYxJkodZaHIQswp9H332bdbvWYqR5xByy+VOmfVylXdqr1XFcOaKBkFL4omnUUk3I1bIueMC7IpZzwEsh5GkZyrrryqfMSoud51otpuuMxWM2cAERVlYhARdYaEQUT86+KGXkSbUWcsGRdkgrFikIYi3w+poPdG/xVkBZ7//u//XiLxDGC2u0UFk/pTotgjnBiyIYJrHDgf2do2Th7bZmwYUjjBleGxNY2U6zMDj0RrW7+QaI6Z8apLiY6O8vcZWE4NnOx4GC8yxqhywNTvBsPMCfVqm/yMub4gFMbEuDL86kfSjAej3YzgbLNn8r+rnUzrjENqTEXIPU7VPJGaZh1nZ63uVaKyv/j5L7pf/fpX0/eKIEgIOmdgtoL0cSCk1XDS6S5rQ1TafEwd5KzXLxnNUfOV3CL35jIS68Zz6T12Gfo7cYn2I8vakO5BP4gOJ5VNvSHzZLcOogdm64vvivM7IovW5SGPPaRgaf2qn05KXjjdsftuuxdyrG+cEk6U34kQiKEP8nsU6irnj0h2v1jPnGn6wHqWRsnpVp/0HOku9BNM6QLjaaeSLPS6z6S7yF1nK7RBZn2IDose9j44hBgbX1jRYdI44c3ewJLu0jf1cSrImd0DARb6LvoYDsGv38eFvjcW2k77+qEP5DJPfnvBb4vjCJ84HmyW9/0A0UJlaNc1BBoC2x4Cy0rkRUYob1Ex5IySZAAUES8KDHFUKF8lhtx7io9yFUGXt0kBIoQUPqNO2fpMFE29XjMQlDaSJwrO+IjUMAQIAIPOyCavM4ZL2+RbuefUD0Qhmb5j6Pw4CzlSGHqyI5WMIoONQKhXf53r+sv/OIqyjSKDztEeEu8cZJ+sMRbTFY/xgoyM5a6771qIdP1jWiJhiDnizIDCL9GsvI4xSYoQGZLeonnPV7Zzom/qQ14YE0aHMWd09dXNYww1XOHxhje8oUQqU/RPSXvZ1o7hvXvD1JN+yi7B6B851IfQaN95yBoZkH71GHvzhiPAiWGM07a/3tu2TttjwNlOmWAEkLDXv/71RTdYT9YZQp9dNoTX/DRXrHl/E9l2Dv2DPHtiilQzJDzpEzPNEWtUdNicp0NESa0VBemzy+W73Gwe+FIfQil9RxAA+SIzZ15EmhzkrQt5Q+LprmOPObYQavXVTr73iT7rw0zy94fTuqFTyU5PHnnEkQUj+otu5HiQc+2I7NYPA6DDYGGtnfPTKV2LwFtnMECCh4oIu7RFukDbUnjUIf3O2uWEc5ZganzgRU/Dh1z0uB0Jn9eOgj4YX3pE3+kdY2690x2wIpN+6I+69M91vmcDQvydB0OYGI+kXNHR0a/6lh8i0yZ5FDpGv7Lz28eATEkRitPg2rSdMfVoUeMBS3qc7jv3vHO7PVftWXZtjY/5L0jh3o1G5PtIt/cNgR0HgWUl8mAW1RK5RgIpYoqckQu5DYH3XU028x7JpNgYFQqSQrO9rT51IXReI/cxDDHq6kMCRZZEyU55xilFaVPYyLBt/DgOFGeJEG92KChe1zNeUeKZNgwuQs7gMwgiacgtp8QORCGUm7dMGR1tM4CMm+tihNP2fKYjmRhLfURskQ31aBPpgEHdfjfKcBnR+Wls4aqvIu0cCu8ZM5iQa/V+q4vxYLwYQ5HEODvq1WdEgyG2A4FMiZ4xSEMF4YFRjaFI2/4HjB6vtznK5jp9QCoQCLKYH6LucQD0m9zGRV3Pfvazy7gycnZYGGXfLQTTIbnbZ8uPACJnnonuem28zUf33Firopd2hBRztKyNzXPKOkMK/UWg6Y/sOqVnzh8q1kaeKW4+2alzLQKPXFkn9c3mdR2+I6eosjmpHusSoZUKZm5bR9ZEIrL+Zj6f/vzTy25bbuJVX4ij9U4eazC6ci5CX68HGBxx5BHdZb+/rOwiwoos+mvd0a8pZCK7NYUQK4Ia2X1LauIQfq5F1k8bpbshqD/76c/KPVJ0DdIuCFDI+IiE77rb1L1H9LTz6XaHtslOzyG/+ouM0wf+0gVFL43SVNLHPVdOPZ5XP+liuhCxp5tc5zzXxDEU8MiPzgkMcRo9eIF+0ebOm/66E2i+sTPahpkjerHGwOfa0dfMSd9nXuqHvpPb3NaePtr5MUe+/e1vTz/znm4jf/oXLIYwb581BBoC2y8Cy07kGa7klVPqMUxeO1IYkSg+fylhSo9SFQVWKEkFMaaMKUJpM6LHnIOQW9cj/JyAp538tO6oo48qqReMUKJa9dMuQgBEfxkoaSqMkdeMN+KZEuWN4COx2hB1sxXPQHFaKH3XM9buAUAmRAQR3hLJY4BGyn4hJYZb/0W+YMsg+RzJ0Lb38GQ8lBpXZBnuiIm/MFMiDyPICPne9SKbtv+DN/wYWf3S/+kf8BrdhDpUOB3qdp0xEQ1zGEPkIfPBOcYzN606n3MUBysG0HzigNhZEflE1owbWeciNUPytc8mGwFr3pxADKVOIWjIoNQu69TaN/aIV9aAdS4n3flInLlqftW50Xo903yxpjneHFlOurmnfTfnJzVmpmvVu/deexcnFzmV/iPIQG5O97qRg2oNWl90hF1CekZKjSCDteXzOuJrLVgbzrO+zfmFRGg56NqhH1ZcNvWLtj5TX9GBI2KtX3QCvStiDEtrVeqLz2ED17lSlELm3/3udxf87RzqP0w5InQP/QgHfbaWEVe6Uj+Nl/byY08woHO1T15/kdwECJx7y623lOvgS3bj8NznPbfUq3/OMVeS6mf3lN4ml10Dc8guoPrJ341UmvPZAJ+pk5OWXZ0hHa4O9oJOcg0dTWeV+kYlcxDO+63Zr+w2u0addiVgU+86mG/pY/T5ZK/YJl1DoCGw1AgsO5EXhaaYRbUoKIaZQg1xpwyLkd0cCY+BDPlkDBk7JQQ4qSAMAIMrSsLAIX2upzQZCAcD6HzkEUGNM1ArYeTa55Tmu971rkK6KVbGmEKujbanLlDwPlMnA0NZM0TrrljXbbhnisT7XnvaZvRCWodu0FvIoFPqCO0///M/T6e4kAWuiVzvs9c+3chtmI7eMWa+Jxtcyc84xVAwMsYKfoykyBiHymHsXO8aJMI1SJJ6GKKMV41V+uXc4598fPeO0aMwEfCVu4+wPerIh6T0IBGw0a5oJgcBSSOvsdW2MYE1LDkw7p2QctXK9o2AsUfOEHrzjwMZMkavWAvWr79IkzXrPNeYLyHxeVLNXGiZwwgl4qhO+kW91kr0x9A8T73msX/Ot5bIctoo2mz30FqqC7JHTyUqHlm1E+fVawScvhOV1zZCOZsMQ320fhBHeuNv/uZvyinWEvKqrugm5Nl6tm7tdmmL7PqC1NIR2Y2cTQbnOwQwODSCLYIC0Sl0PtJLLvXqH6x223UqYJM0FHLS43S9MbHDQq/SPeqHk2APp0swBSnnbHC8HNquI/LRj9K0zBVOhmi4z0Xd46xpF/ZvfOMbp5+WRMb6+z7OxlHQSH/MTfos9sq59ROSvFYXp9N10hPho00YSQtzvXlcrh3ZyVYaAg2BHQ+BnUZKbnj/eDMWvv7gBz/YfeQjH+n1G67dAAAgAElEQVQ+/OEPdx/60IcmFqUYtqUWcD71zufcpZZzS9e3PfdtS2PX6p98BBazEzb5vVs6CWMyZiPpWpskfSGaLc3KU8fsIn7gAx/o/uEf/qE4HcpQXzyi9MzPnVme+CUyz8l573vf253yzFNagGDpplOrqSGwwyAQnWgX9u1vf3sJVHz605+eDkYvFIhlj8gvVPCh64aU8dB58/1sPvXO59z5yrHc52/PfVtubFv7y49Am9/jjcG4OI173nitLu4saXjy3OXz2zHMrt1sMnp8rwi86LfdUzsEDLEfqJokJ2VxyLSrGwINgW0dge2KyG/rg9Hkbwg0BJYPgdlI3fJJ1VpeSgSSjpMfvJLWKH1GOidyLl3IOXL0PS3G/U1S+KROJQdfqk8j8ks5Kq2uhkBDYDEINCK/GPTatQ2BhkBDoCEw8QjIXZcP72ZaN0N7QpAbouXKO5BzZB1Bl+/viWdIvHx6pF9Ou1z63Pcz8R1uAjYEGgI7DAKNyO8wQ9062hBoCDQEdiwEEjn3ZBw3xnuSkRtxHYi6VBs58yLzzvVAABF4jzH1hDE3uLqp3w25biiWktNKQ6Ah0BCYJAQakZ+k0WiyNAQaAg2BhsCSIuAm5jzVyBPHpM/4ZVc/yOfxxCL0ChIvMi/NxtNxPCnGY0U9w9/TtDgDrTQEGgINgUlDoBH5SRuRJk9DoCHQEGgILAkC9X0PyLxHNnqcp0dqyoH/w2V/KL/M7fGTcuOReI939GhQxN0z8h0esdlKQ6Ah0BCYRAQakZ/EUWkyNQQaAg2BhsCSIiB1Rh48Yn7kEUd2J554YnnsZNJvRORD/H2meD59fkdjSYVplTUEGgINgSVCoBH5JQKyVdMQaAg0BBoCk4dAyLm/+REqUrYfi5u8sWoSNQQaAvNHoP0U3Pwxa1c0BBoCDYGGQEOgIdAQaAg0BJYdgUbkl30ImgANgYZAQ6Ah0BBoCDQEGgINgfkj0Ij8/DFrVzQEGgINgYZAQ6Ah0BBoCDQElh2BRuSXfQiaAA2BhkBDoCHQEGgINAQaAg2B+SPQiPz8MWtXNAQaAg2BhkBDoCHQEGgINASWHYFG5Jd9CJoADYGGQEOgIdAQaAg0BBoCDYH5I9CI/Pwxa1c0BBoCOwgCeZ74DtLd1s2GQEOgIdAQ2MYQaER+GxuwJm5DoCGw9RDY9MCmhzR23333dQ9sfGDrCdBaagg0BBoCDYGGwCwItB+EmgWc9lVDoCGwYyOw085//eVPSOy22247NiCt9wWB+++/v/wirF+D3XnnFg9r06Ih0BBYPgQakV8+7FvLDYGGwIQj4NdAReUf2PRAIW7eN/I24YO2FcQzB5T8auxWaLI10RBoCDQEBhFoRH4QlvZhQ6Ah0BCYQmDTg5u6jRs3lijsLbfc0u21117d6tWrW3R+B5kgmzZtmo66X3HFFd3uu+/erVq1qttjjz3K60bmd5CJ0LrZEJhQBCaayMtHXbHzim7FLisKfCJijvlsZTpfPa7ZddddSz21Yk69W0IZy6XdecXO04peuw9uenB6Kti2n09fpi9c5IvIEVy3JAaLFHVel+uX0sc02+AtLWJecG4TJ1tjouXW7847TaU4zLWuhuZJ6ulH2+kPeuMnP/lJ9+Wzvtxdd/113YoVK7r3vOc93VOe8pRC6rf30teX/f5aX0r0a//7bf190dmjqfXVr361++hHP1pI/Mknn9ydfvrp3fHHH7+td29J5b/nnnuKg9NKQ6AhsPUQmBgiz1hQAnfddVe3YcOG7u677y6E+4EHpm4sYyQSCdl3333HjoTEyNxxxx3d7bffXki9dhT1IX0I3t57793ts88+5XWfCC50OBBlROAvf/lLObStb3VJv0T4tL9UbWtD29ICRBThsH79+u7OO+8sMniv7ZUrVxa5YLHffvstWgbYqvuGG24obRm/NWvWdPvvv39R8Eul5M2Ne++9t7vpppvKXxFT2OmLYhzrPi10DNt1k42ANeZf9Ic5YA6ae3SIuVEXJNzccJj/Bx54YHECUk+CBblGfeq+/PLLu3PPO7c755xzuoMOOqg744wzCpnbHgvsbr311qIn9P1Rj3pUWb8zBTu2VwKfsTU34PC7/5+9O4uWrKjSB36QYkYFZAalAGVUEBRBAS0RJ1Qc22611W7bl+7VvVYvn33Qtbqf+k37wXbZf5dTiyAq4oAzzrMyKKMTMiODyqRM/vMXt75r1KmTeTNv3ap7b1VEVa68efKciB07dnz72zvinPz5z7vPfe5zBWfY2JOe9KRG5NcryTy75ZZbip9T+LJ99tmn23XXXbfGKdL61DSwojSw7EQ+hBKBR/44yksvubS77PLLyjI2Msb5AoWDDz64e+5zn1sc6L777jsVKeSwf/vb33Y/+MEPussvv7y77LLLurvuuqsADpJ50EEHdY9//OO70047rTv55JOLY5dlWwyhDnGuM90A/8c//nH3zW9+s8hx1VVXbWAAT3jCE7pDDz20O/PMM4sMnOU4hzmr5ZS6Rln/Rx58pLvyyiu7733ve933v//97vbbby+6pXsBhMBIZumUU07pjjvuuOK4F9N/8u2wZofuRz/6Ufee97yn+9nPflayVxzeunXruhNPPLHUvymFzLKmghIk/uKLLy7jSq/GFaHXb/bBXl75yleWvunnUgURmyJ/u3ZpNZBscezVPL/uuuuK7Xn/xS9+sUGDbMB8Y4tPfOITu6OOOqrYiYB2qGQF0HU5B2lhh7BpayvwCgZ/4aIvdNdce03p49+8+m+6F7/kxWUObWtFMGPc2RdbQFCTlIE1rcwljCTKvvGNb3TnnHNOUYn5Jdjl01ppGmga2LwaWHYiL5tz1513dd/93nfL8rXMF1L2m9/8phBtRPC2224rGXOk+4YbbigaOf3006fKyv/kJz8pBPZrX/tad80118xnimVuATRiz5Fr48Ybb+ye//znF+K5GDKfzB751H/ttdd2P/3pT0v7CAbyLGtRF/1ENrIakSBlqcg8skuGr3/9692111zbXXLpJYUEa4/ufcdJkeP6668vx8mwWDL//R98v/vSl77UfeUrX5nvqz5zgGvXrt1oW9M05s2BRh9ktrJCbgGDcaVn8iP42hGoGD+ZU45Yv571rGd1xx577AbN1fVOI0c7Z+VpAJkyjoJkwSo7N4/N9ZtuuqlDMOrCvhF8NnHAAQd0p556anmtPWRtt9vuu5U5wdbUqcRGzGdBA0IvseC12GB35WnxrxLpu/ma1Qd9fMpTntKtO2PdBqt1CaCce/PNN5cK6FMiRNla5ladURbUwBPHtsYg7q9WMP1fxtmqr9UvKxYSK3TEx8D7RuSn12U7s2lgsRpYViLPGXC2CNmHP/Th7pOf+mTJpO61517d2WefXTJAHPXVV19dQALhzdYUBPUFL3hBd/jhh2/Ud/td77v/vpIJRygRS9dySoKBs846q4CxDC7nz/F/+tOfLkEEkvj617++OCXLyYtx1trn4M4999zuE5/4RCEZ6jnkkEO6k046qSzrIxSIPcIhcEE+vevXK1/xyjmnWe2v36iTUxyQlRRAnH/++UXHiK4+Pf3pTy8BEt3++te/LjJccsklRQ/ZqoLcWAWZZl95nDbdIVLnnXfe/DghPIIwRRYz+02nEL+c0idUAjl9+eIXv1heSIQtQc985jMLUdcnKzu//MUvu9vvuL2c4wY1WwX0xQpInPDWQjam1eXWdF7GDvFmux/84AdLIkC2lB0qsMGcy3jLpBfbGM1zdirQgwvwBSacccYZg6thcIrtILnmrRWsxeDCatC/vpZ5OiJo+pibOstcXL9X3N+SLOaeue619957l1U3rxNOOGE1dLXJuAQaMCdyMzisl0AR9NbB8BI006poGmgamKCBZSXy5EJ4kek77ryjkCzL3qJ4WSCkEzFD3ADEFVdcUcimpd/sf3Z+7VQ5WlkzJP2rX/1qIeiCAKRUphnhO+yww0qQIIuABCAA3/3ud8sWDfVy1C972ctK+4spt/3uttIn2X4yk/2YY47pnnHSM7qTTzm57BkHdoIYGWVtI9SyGDJatp/o/05rZl+6r8kpR3v5ZZcXci5AOvKII7unnvDUkimhDw5bn61M0BHdWj0Q7GSL0UJEPluj6El/EWd9t52Fs0eiH3xg7mY44+TGRHuapykh8fXqhMz7Zz/72ZL5oTN9Ma4CJFsljJ1+60e2EiHxxlufLfciHcZ5ayVj0+h2tZ/DJsxfwaqbEC+66KISCAsa2YH5g8ibd9lSBRvYhjlpRUdmHrYg+OYA23HdrrvsusEN9qtdV7PKL/gRyB+w/wHdzrvsXAJkSYAHH3pwXi8Iv/lpZeM73/lOwQu6TmlB8qxaX73nB6dXbw+a5E0Dq1sDy07kkVmOlLN4znOe0734xS8uDjg3uXKuHLPvPvzhD3fvfe97S1ZMRg1ZlIFzTskMjJwLcuYdgbRnD7lEyF3/hje8oXv2s59dRizL47bRePoEAvDJT36yOHkkT91PfvKTFzW6yCb5rrn6miKPwOTVr351yYQfffTRpb9klE0UiCD6gg7E1LVIhiyzgGNTyy233lLIiba9H3nkkaVdBJ2OHdOOgEdAk0DJdiPH6XZSUZdVEplNDp1jR5qPP/74omMZ0Pv/dH95+tCsWZr++e6jKDcd/vCHZXzpjl5f8YpXFJsRIGWrBWJvnyZbsfXGTWr07Pj+++2/qC0+k/TQvtsyGsgc15q5wm4Fj+xPsGouW6mDI/vus2+5R6Qm8oI6q32XXnpp96EPfahcm2CWrTvXHN1lzfCe+S3Ty+VrRUBjGxpckGyAVYJl8zw3kpPOOKTI2pt75lcr254GEPms4Oi9oA921wmYbU8rrcdNA1tOA8tO5N1oGtIuE4Q897PACBtSiZDJxMq8IWiy+cidfdGF9I2WftVl+wXnjBgrbmjzqLDTTj1tI2Iqi2QlINtQEFnXZhtP9kj2wWrcEHF2ggc3t9ragVwg8pbu7TsnJ6eY4gZbT4mwR5+8+ihLKMPFgc6aNa7B0/YgKxDaRXAERHWmjDMWwAga6FEm3TYg8iMz427m6mfb9FkQYGy0jwQgA1ZFSiZvlPlXZu2La9If8smgWjkwvmxEUPLU455a+habiW7ZjP7JLAoWfU+3xpd8raxODdQ2xFataMEDJNJcQtKNOduwxe2hhx+a31rDlhIcI6y24LBNQbT5L+AXhAoKx938ujq1Np3UwTjEfIiU1/vCk4UVrPvb+9aus/R5Om0u/1l9nN5cEsVuNlf9rd6mgaaByRpYNiIfUJS5Pe4px5V9dp4D7bnr/YJQIujI7RFHHFEIoj3lsvGWynfbdZQR2mvPcplz7fmWtfU9xy1Dh+yt2WG4u7vsvEvJIMvaI6Oydr/65a8KsUXybclI3f0goy+rDBZCjtgiHepEHMmO8Pav5/xkicnsiTIy2gKJPMGmX/8snwUp9IXQIjHaL5nx9c+vDylC5mWvcwOf8wVKddatbjdjF5KdG2qRIfrWH0GZknPSZu0MZ3E0iDy9GG9bkPTLk36OOuao0qd+0TdZQgGJ4BDhYw/GRiBg+1Ad9PSvb59XrgaMY1aOkHmfjTEC/5a3vKUIzrZgSb09DRGNzQmwrc6Zr7n/xioaHKjtYt5+12cYzRV1ZG4IFhT4lSDSsb69T7I159dPuqq3q80yCkWu0Y2H9e9uzOtiNB/y95AsudY5j1qzMQb3sQtuqccKBl1o1zkCAJ/rgKuPF0VfvXPqfta4kPP6Opp0fV1X+lzsYb0OZtFvv50626y+vi5r2eu/yZF7D+IDYjuTfveg337602+332fXSWzVdtk/p/7s/BT96ut70rX6mTGedF77rmmgaWDzaGCY2W6etjaoFRB5FbDbfvRjLn5xY1T6AOV7DtKL0whgOA/xtBxeE3TbPDh5hI+DXzvKaiN9h649dP6my1oQ9XF8HLttNm4OlcG1zz2EL+f3ZeurCfghtTLsCvIuC55AgBPoF6AuWJAF5ARl5pEThH6h9vp19T8D5H7g0D8nn+k3GTXX0fW4a32fcSCrrUCCHuTffnVP/rEP3dYHfYjD6zu+xfTPmCIMZNWG17gis8g+vKzacFaCQOOjjjrDOK6OdnxlacAYsjNz1Bx3w7htYLLx0zzadB5zRnYZbPAuwIMdttax29QVGw0GsR3zIqTQqptAwJYvcim+l9knl/lvxSsEcEib5QetHtmu+8Pv/1DuFbJtTN/SFrnYKluHU7DC6kE/A14wcYRlChyBX/BIfUmGkINsVungju1Huz969yKfa5HN22+9vehDckE/BcNe+mUVQ7LDDcL+9lQwdd99z93lXh/HEiS7Vv/dVKwYMy/FKqk6J23dI4t+GBOrafosYIOnj9vrcXP326zvb6l0Qsl40QVslQiiYzhHz7VeJCP0oWy/lCRYH9dMQ1aDK+rUV/r3YqeCRnWQhU0YAzZiVTpY1MfEYK3VyNQHcyOLBJeV1zwxqNzbtNvuc4HkKJDdfrvtCyn/3e1zcqQeT3PS5+C8642TvsPKWQpZptHNLHW2c5sGmgam18DGzHL6a5fkzD5w9SvlJJLpAj75oRKkl0MCQG5OUzgigAikETaOjuMHbsnY9+vXfslejMAI8VOngjBySoBZcV69JSb1JGPietdwntoHwJwuYATaSpxJrs07oHX9zjvN/SKeQCRP3uifu9SfteumwRAZ/eFY6HUS0aUPxAWBd/Mp57jfvvsVR+t+h/wYTzI93jmdfNaP6G6WPnHuruOAkICM11Adxt8YGH/nsiXOm22QfVL/huprx5ZfA+YQYotIslnzEyGSSUfIgycL4Up6ghRaPWLzCDzSZQ4joDvtuFPJaCrsJUSd7akfMbOF7lOf+lRZ8QlJRc4QQSsEL3/5y8tqF+ww14bk8p26/Wqs+qzMeYUMZjXSnLQKVVaiRkSYzP36zA92bl7a/+/JXUiwumCnugQC5uhLX/rSsmKIyKce5FVQ8oUvfKE8dUtdb3vb27rDDj2sPOlLHz0hyPeusTrmmiRP3LNgTpIDnrqHJU+xEfCTiV5f+7evLXNYwNTHxcgC783X/3nP/3Tf+va3SpKAzLZJmtfTltTHbgRdnmQmANFPOqF7drDP3vt0xz557l6tF73oRUVPZRVzypvzySPYgee2Znoog/u06Ix+8tsXCDT9w0pjyU7qp2n1+8WvWI2M3OzeCqWX8bHiS8cveclLip1ZNap1KlDMKrGbwgUCZGK/xpQu6ZYc5BdgDa2M9+XKZ3js1bfFcee3400DTQNLq4FlJ/ILdSc/uw7MZBOSqULOZKjyaEOghJgBN+d4AU7OIgR8nCMN6Za5d77i2I5rdpzf3z1Ozhq87r3v3uIYOE3Hbe3IDZjjrndcAIKMHHDgAd0VV15RHGPAse/kJtWzmO8siQN5TtaNqdpGiOwxXwiY6dwNrhwWh3Di004sTkVmRzDDmSslW+N/lbkpf4+WfpPtmlb2ZJGm1UvIPvmMiwCJjSRAm7bddt7K0QC7QrbZKyJj7oTYTiNl7JoNmp9IkEAUkc8WLuQeHhTbXW/D/kZ6BIJIFTLE/l0nW8zW8hsNiDgiKgP82te8tjvjzDOKnP1inrvezbeCAdvTYB3CDc/I4G/2Kjv9+c9/vsiKaK4bPeoxW9hSr3PMZefZXmgeJhBAVtWjHwgt/ERWEe8QY7pNH2CZ+kpGebRSkHuRBDmO6593L32Ds4959GO6HXbcoTypapdd554ElEQG/eib+vRX8CXoGbeqJhmgL7+5bi7ASvZZgDBtSeJAPR5DLFASBNKtV7lnYjTEAjaE1/fa9R1809dZiv55ihL9x0b5FPbBVwnwogMkH8E3/rZ/2pLY91V8npUON+uzjawewFi272UcrCQbA7hN30lw8IP65Hpjbqy0IXCApfSjv1Zf/L3XHnuVp5vVW71m6X87t2mgaWDLa2DFEHkggpwBlSwZFzI7Atg/3vnHzg8N5VcbOR2/QmorTEqyqzIKwBFgKYhpblgdIqYh9xw6R5VlRW3ffe/dBShTImM9TKnTO6fJcQPqEID63HF/O1ffZdyAMWAeasv1hQCvJxc+h9A6n6zjtsOMa5useVQjx4PEI0VeQxnrBEyyW8DfjbF07R4E2SVZQjJ50b1SdOT/6L3Wl72h0xYEQ5vqlUEjN6KBdHCQtd3UdVq54USRALLTj3p8bmV1aoCdI7OZ42wfGTTPh+b4uF46l40iL4iP6809wZ6tEAqyo5RtFqNX7OcDH/hAIaHaRqrst/cZSZXtdcO6m3C91HHIoYcUXOtvW2CL7qfxexOugV2eMCW4QCLhARuXkU2wjdC5DjFHavVdFhgRRd6tECCJAnT1CAbMZ4SS7lyPzJpT5pK5owQL6SEBcwi6783X/A6H40gimdxb4HxBPFm0aX7VSQGywliEUn9gpZUCfe0X8uy4w47z+EKn9CxTLIMvcz5tgRd+cBCxfve7313GFZFFmt2HBB/gnOMItWAK4YVj2RqZtthLsK3GsloWsn7yE5/sLvrCReUwHyX7bizZjkBKAEpvxsF48xkwypPSQuSNE3xjEx/72MeK73NM4CWTT/8IO1t1DixOcsK4GkufYTp7UAfbcxO4FSI2q+/mkXHUf/Pprj/cVZ4yNnSz87Q6b+c1DTQNbFkNrAgizwndc+89hZzVBBzgAxnZG89797dMAhC2ZAv4lrqEGAdgLTemzEISFiuXNgBwgoI8ZUN9jnMGQ3KQexyJl8XxhB+OgY45AHU5RreIBN0i43TqcY4c5lB9IcBIQrJEZBNYGZesaHA6swQzC+mLs+Xs1K+vbEO2ihwcbrZRZfzUF4KCwHNMSFpKAqIhXS4kS/t+eTWAfJof7Flhp0NB5+aQMjbN5mQ/EVH788v2vfW/DyEYZqshWLZwIIgCTqSOjYZo2eaACJuHiBYS7NGZ2T+eQEI7AmVbV6yACRDe//73F7sWRMig3vvHe8uWDgSR7ZuPf//3f18INtnMXe3aRoHII4Pk8a6UG2UHbhyPHsntwQIwCeG0MoFICh6QdvqgC0QxiQhJF5l4Y+R8uhH80wlMt1WmX5LIgcEIrLmuDwKSgw86eKZscfwH/fIt/Adse+5zn1swi1xeVmJ8j3DDRgFLP+jqyzn02TWCAGMiePLAAaSZ/unE9/RADkGYoI8NeLgCPBYMBnedT25jqtDdP/3TP80nWYylgI6+EXbjoi1tIPPmxy+u+cV8tt15tiV51z9zhix8Amx88M8PdkcefWRpy/UJKob62Y41DTQNrBwNrAgiL+vOMQMsezsBmqwQgEnWx3GOcN1oORlIWopcDNAupPoQOwAnS5Esh+sWIn01iVyonXHfhyggK5buZbKyfYiTzZMO6uvtZxwnG0DmoOhP9kU2iN4ck+VDCDgSqwGcuiX7Z57yzLH3FGRckJQLL7ywkIM8GYbT4nwU8vs7n/XL3wkE8ve0OkNYOB+OStZP5sv2Bc7LEj251JVghwwIgPOSwaeLVla/BgSJ5mZWyxC/rLpt7t5p0/xh6x4pG9Jdzz9EDqlFbmGZYBP5TmacnSLNiJYbOZFqcxBRN/+QW0RPYc/IvG1ofpDJ3zLHSC5CLHuc38Ywp7SF1JFHex4/i9Ar5qA5gCi6Id05jkV2Gfey3W1CETDonxUM5M/WomxfRNon/f6Ga+CZoAe2ySLrtzncD8TULWMvWPe3AMHcn3XLBz0JlAQ32ZMvuEHiBQV8j3GKfj02V3Bi3Mg5a9GP5535vPKS8RfE9LGZzgV63tmx9q777XVFF8i9wIpMbI1PZCdkl4nn9+g/JU+X8e5RqwoZJC+Q/DvuuqO8050+sy0BBl/S1yWcZBvTYvI43SSJE1827rx2vGmgaWBpNLAyiPzIASHtiCZyCODjKABSsvRABjgANQ5uMXusF1Ibolkc7UgmgBhQ6oPxUD31Of6e5hr11OdpL47RcXqhA4GFJdj+kqfzOXeyAv/+z6M7xpl97atfK9uT/I2IyNj5G3gHuGVgtI0wKEPbVehFcIXIexcAIDOCgDgV52R519/Rp7ELuBu7+vNCunKDnJUEBAdpQ2YsT7tONi3kgh6Moe9ls5AkzpDu+o65JjFD49mOrUwNsKc6KEtGfjEEpCYbCTrTa3Mndpn5nNUdGWK//lz2sI9IFFKkLvMREUOuBcqeUY8Uxg5TNwJppQwR965tWdtkZM09duy4ts1x20301TxIlhbR1W4IOtwU+EuMIIYC2RTnJeMOP80VxwQVkgH0Z3tOv0SGzBfyuLavG9f1dVjXBbsEFXDDah5MM08R2XrbEcwju/MQ3XK/wpOOKGR01iJgEPBIWOifpINVVnpWHvrzHPmFfcYQ/gk26JG8NS5N6lvk0kZWirNPvS+zOuGYoAGOCjLoQOBCLvYTzIRZxt546osgLcfgXu4XILtXEk9rtp/zCeyFHbuWPVqN0XZkqzG+T+IbPvZHrn1uGliZGlh2Ih9w5LQ4vCyZy0IAFqQNsCKcuVkLmFlyBZjAvXbgdQadyuMMFwKlhx58aH4Ptes41R3W7DC3JFo9m3nSMALomhjUTmDSdb4DtvrIoXBe+lT27Y6eyHP9DdfPA35/uROxAPScjkyLPZB1dpI+1GvrEsLgfDqmlxB378nS0yunKsutzv4Sq2DLVhwZfmP0whe+sGR5OKBkeMiOTCA10YH+GU+OsvR35HQeeXD6Jx04X+bO0rdsqCyTAI8jtMrAQXNQ+oG8hDjpPxIfHRsf+iJPK6tXA2wpBfHrz4tZeua56cEQthHiXOOKx+P6jHBp6+STTi4kvtjVyDYV10UORNd8dI25xia9l+z6+oCWXcqgm4+y2UgZcvu1r3yt22W3XeaDcxjpGnUhY+oxR81rBaEz3+BGfjvCXEcM7ZWHB+ZGvW2DfKXeUUAtqJh//O8oK68f2kr/YYBj9TPqk/Eli5Uv8jkdbcMAACAASURBVOvbpALP4Irgw9N0yCjYpkdbh8xp+MAP2HYjWCG7ub3uuevG3hQ7qU22kfmvPwJ+K3uKAIwe+kVfc/NvTd5L0LM+sMoY9q81Dl50BnvoJ/r0ro9s11g5Bw45x7lsK2OqXgEbfcHkrBLY668eiZOs1NYyZF5YXZH15x/hpmDBy6+Xsx0rNcYLRqfU9u6YdlppGmgaWPkamIy8W0B+QAJ83BQEzNaO9gECOwAO1LwQNuAOkPPMZg7qNa95TfeqV72qkLcQxRDiAJTPAGocKIXg77zLzgUYOSjnA8FD1s79qNEkNdQBgjY4JzIDZ20HxMfVwTFojwPjyIFr2peZ2XW3XQsJuHj07GZPXeg7SxmVrBxYdrX3U/Y65IIMHOGb3/zmsmyPKJApzkOmxotus/XGUxJk2V//+tdvlMWWBffEDuRDRinP766JVZyfMSRvArL0L7qog55x+ukft7z81re+dd7ByehZwZFxQxQSKLAJDptDlj3VJ3oVnJCLzvqOq99W+7wyNWDczNUQEXaEsNly1bepcfO+tkH1pC62qu7Y0aZqIDfAwgUyKgixOeKYIJSM5lP2yqdNx71CGvVb8Ow656sDLpq3CLzkg7lu2wzihwCed955ZftLtr8JhO0RNzdK3aN/wSntZqVM3YXoj3QLKxTZ+jyKMTLlPedG/96HdO+JKG7YhAUwB2En01OPf2rRO3JtK435TDd0BosR8Dz9JvqZ5h0+5l4K2IHERq5pbrav+xBcm6Zd55JdMOIdhuchBvTt2K233FoCOQUe9VdbHSezR4Qab7pyHV9AH7buCIKMvZXRftLFCo7v4DScZCtuerWd69Rnndodc+wxxQ7UMevTeabRQTunaaBpYMtoYNmJPAcKLO0ltOwKdBSknlNFrG0ByQ1jMhkyCz5zBrINbtLMI8w4O8e9ZIp8BpzjSsicdmS2vCscOce4UKkdln4AY6CszTi3SQ4g7SP/AhjtO1/f99xjz0LIkzXKdpVappBj1w4VGUKgX++rdJ421EeXlrFtARAcCZRk/RR65TxD0jkC57txz3hZ4rXs7Xv16Yt+cFhxWurRJwGEpfK1h6yd339fk/8h2YeOrR0Fesg5gmSFRkZe5pGjS1sIvf6yDU6KE5X5Q0iM6VIStSEZ27HNqwE2bb6bawiroB0usInFZOYRvZA98ynbKvQixHREa4uNz1rYKiwxL8ipvrIF4sEHyhzRLqxTN/zRnxTzKUTe9zAFppERcVMXIhas0Y5VADqQ9TbvzFk3o1qhQuyRQokRBDEZW4/ZTZGdDzmfpq/kKnrxCMfRe/Q17lq/54HIk1sCgZwIvUf3+o5ezNeQVn21mmAuDxHdce3kOL3DBrqBVbmvipzB3kl1DAUjk86nc+OJoGdVwRjrKwyE0+pkC84TrJDNmPXlMa7GSeDGB7rOO33JtCPnyDx9ydDrW7mPYH3yyqN96W3d6L4yYy6Z4cUeYD7ybquNOs0fejavFjOHJumkfdc00DSweTWw7EQeeIW01wASkuf9kCccUrKoAAqp9UI2gSNQAj4IJ6ADpMgaJ8Xp+eyVfaxD6tQ+sLdlhzMCsl71MufQdUPHkImyJWYkrzqQ5awODJ3vGKcCSPXHu+I5zOVGrNE/GeV///d/Lz8u0wdZ+kNQ1cFRIanJxo9rz/GQBETXj71wmGSmK04/AROynK0sdI4Q06vj9C0baKUgKxDGhsPifGR+yMVZcTqupYtk1zxzetwPdY2TnT7JibBYseCIjJ/MGyJUAqDR+HP62hY8cFquU+hHVq6vx3HtteMrSwPGFA4Y32CEYyH0GdcQ4GmkZ5vmvpLMKHK1ECmdpm7yJAAwx3JfD/ngi74EZ2yjsDKpX2yULBIdIcvOVdi7631vS4oba0MCzQ0Btqd6IXfmIvIGW8xDzzi3ooa0WXV74xvfOK/HafozdE7kGvquf8w8TKBNHqtpyLwxgJ3667Pj+mj7JIwKAe/Xt9Bn7dENGaNX19TbhBaqI9+rJy+yefXLfffe1134mQsLJiZQMb4wEyZmdYM8bMxnffPu+7poiw2yibe85S1ltTU3RyPfdIag+5EtNmA83cirxB5cL3AyzvyIezcEGRJh6rBiA0fp+PTTTy9PtVFXw8f+yLbPTQMrVwPLTuTjzMYRbWDp5kvOCeABekQTgUcikUuP0wKEwIeTQGidj8CFpE8itwC+LHWOHAvHpw4vwUEALc64BskEII6RP8vV559/fiGOgFk2Jo4OqA6Bv2MINIDVDrK5x557zLct+62PXguVWk4yWT4OqPev1e+QISBOVhl3pIY+ZPMQYcvhvst+Xv3iQOgqv0KZurWFrMs8WVaWdeSwOGa65HyQcMv73kc/mVUuZQdkcW1k6svrszroEZFDjLLSUOtVXemzbBWHql42kUz9OJ0MtdmOrRwNhAi6FyS/YcCm7LlGBJEQ9qYMzTXH63mIzKiHfbIRCQB1ILrZ4ucac9iLzanXvvqFCkxif+YSgq0kOFcHIh5bl7m3/QURg3P6gPwh9AnU2SwZsvrmO1jX76cg20u21gqb7L1VKxlinxFl89xcMidyAyTd0k2NIQv1kQxFrtEqg3cBtdKXKfWQn2xWXs1LGAGn4YvnvSuwxfFkjHOvwUKyDH1Px3BcYgKWkU8fJ/mDoXoc06f+C8YaU7pU9/e+/73ywAZ72Y2fIisO0xFm40rP9Cb4lHzgd4wx/dV6oys/iLj/fvuXl+0wl11+WbnJn70i9fyfcfXiGwVvRx919HyCRH0SXV6CoqzA+pEo1/hs7sD8JELWjlY9lXE+uXzZStNA08CK0cCyE/k4XRqJA6lJVgHd9Zko75ySjCtnB6SQtpJ1GQGe4lgy8urh9DiJ7CUfInDacB6HKzOfdjiS8iiw9TezqT8ZHn/XhNNTH3bfbfcCxkCdXMk4BdBdO0RStY/Iuxbgy47kZqvSqRlKiLC2yAGMF/r1VHrnSJANgB+HHJn0n06ck6V/ffMz7f2SjCadc1bRrQyQl+Ixe2SzDJwbz2IH9FMTrX79PtfObogw1DbF2SFqCBW9InshVUN1t2MrWwMJrOEAEiuoFywif8ZY9jFlHBGJzcAE1yDz6hWYCxCReKW2k788PPeUJfMamQ8hHLI/12rbvBcMKxIDfbvdfde5YNT8Q8JgjXkPv0LAko0PDqb/5qg5Oa790uioyOYeeMCB3R/++IdC2qyKuVndNjp/m3/6LMCFGeSYpehjAoDg9KTryQvjBC1efozOgwbMU/OWbo2lIqgyX+HIphS6g11JRJCBXskNrzalFGwc/TPeEkswzjs7IbuniHnso3d903e243vnfuQjHyl+IuSeLMG/QuRH41wX9s32YSiduf/h4tGeecTclhsBBB8giOtfq56s2maVVUbeKo3gzljweYI+waz2FxPwbIo+27VNA00Ds2tgNtSevf4Fr5Al4exkLWSe+wXoxnlx2MCP8wWE2SZRk2MgiIzKNHGIssd+dANAAdMhIu0cIIjwJSMPhIFm7SidxxkgqRwA5+c8xXlAj1PUPhIgy5HntJ94womDbSMPsmTazrYgciYr0tfHQp/pipMC5giK/nCIISfjrueQna9vnB49cerZl6o/9LFutN/SMedzTMahLvSgH9qU4eHUFITB+ZwyWYxNPRbOlWWiD/IjPq4Zsom0N0Ri4gQFZnTPwcUxPe3Ep210r8A4fbTjK1MDxpwdJbsIA9itlSFzHAHp3w8y1BP2IbPp+e7mtLltVaq+38Z17EnJHnlzQxHQImRDQSH7ve13t83fPI5QkYnNB8s8BnLPx809bpKts3u4BjOc27ftfnDrM5kX2nJiju24145lhc98gi3mp35byfCSwFD0hRwp5CbHUNDgeL5DQl1nDi9UXAM/rKjIHsuW33TzTYWQwixkXoYe9njOO3kFOIst8APe0BU7oWOkW+JlHIk3fnSkTzX+GPuMfwKsyOXXUPky/slKQ2zUE72seFiBrIm16/mJz372s+W4z/ocnau3T8SNOd3BUOfqF/9j/OCctmXZrXb0r42c5otXit9CyKM+I7+5UQcWC+leW+PaW+ja9n3TQNPApmtg2Yn8Bz/4wfIow5e85CXdmc87c+KeaQDDASHdQJZjBGSWapM5AHQcVsgix8hhy8bagzpUBAjIXp5LzqEBcIAXhwrYBBz/9V//VcDSOUjtP//zP29AurUt68H5IAiWdJHZu35/VwHufkEIZMjsY+VkOLhk5MdlFPt11J9reWXd3MQK2F/72tcWcjxUgDAnLJiQtaPnrHogCpyM1QaZJfLRF0eCxPcJB0fsOL17CseHPvSh0qQMEn0Zg2wd0Abn5EVH55xzTnfRRReVMXW+R1tOIvJDfQnhQeIvuOCC0h/O11MxnnXqs7pH7/5XJzZ0fTu2sjVgTiAygkpE0N/mIiIom43Msxk2NimbKAPppm32hgiZt+zTzaDsXemTZ/NEllLGGA4hobbC1CSGfHfedef8vRnmlaA22fZo15Y3+CK7qh5bJNy4nacs+Q7GDSUeYBGyiITDGkE/mYfIVDBE4E12q2Cy9GQyz7UxKZOeQIbc0UttIfAWIVaXpME0BWbon4y8/sJTWKkteoKDZUvM4/YqN3u66X+xRf1INHzRV1t2bH+BY0N4DLu8jJv3afGH7gUi9KwddWtXZjyrjuqkL2Nyy623zD/Cl14FeK4fGsN5mxnpLcEjfbuGr5C0CjkXQNDjNL5DsEI/giWrMwIdMnhpZ9q+R77aVoLrix23dl3TQNPA9BpYViIPKDlU2TTgISPAyQBzIALgOBnvzv3EJz5RbiICOoAyd+TXgOxmMg5ClgHAIZSW37/85S8XIouMaisOUvscKNKJqHN0bhoiR0hqgNa2G0EHcqioj/N6/MGP34A0uNZzen3H6duCgmx4Kg/HrX0gimC6UcnNZ4IToGofvBvYkJTFFPXqG6DnHJFZDl8B+oKeZKI4AjKQ0xMtBDI5l5wAXnawOJfRf+RooQygdhANZFzfyeJ6Y6pPQ8EUB2e8tI/QWDJW6CJkyrusGlk5YwROIKBwXgonyk7UhdjRLX0gA+tGz6E2JrPeXFsqbmXFaEAmdfvt5rZ6uXlPsCeryW7t9bVVwMqOOYjgshE2zibNO0EoUgdzzDt/wwmPbj3jjDMK+Qo2ZP4XYjSqA7kxf8wtq2jqZLtuIDzowIPKvTzsjQ3b7oDsww62z/bs9a4JjmNWwKwYsnnBvDmJlJEFZpg75FGvc8kPJ73YOnzUT7KQEdbZqgGbkMY+GUOSya7f5o25of+ZZ/2BznG6qIlasED92oGzEhJIKzx2jMzZapetkAk4fE+Xxoks5EKAYbB5DqvgoHM2pQjsYD58hfF0zY9YfbG9pK9ftmN8ySdIgmPZqid5Qc+KfiQ7n890Tl7XStDoi/qcC9sTgMWPGG8YqX7jTgc1kTeOXmybTtXdJ/rIN3/INslrRYq9mSf0b1y0QdbYRK1PdsenOVfRBnnIO21hG176WZd+kmfa+tp5TQNNA7NpYFmJPFEBJQB3g5AMMqcEfDkYToGjAmQABwgnw+paTsB59dKrx5dxLpwmIgroZMXVDVhdD+w4McezzzCPXOQ8PB1GxmaaAnxl9GqCSCbAiEgDa6QSIMs8cR5IKNIpq6Zd36sD0UUkEFjOezFAGJK+z95zhD0Zf+RXnxBp5BxQIwocPwLNGfhb4UQtB5N1aOvAQnrh8JEmRCNZJk7MOCt1v/p9NN6OcUCcT75HmBAZvwiZ5Wj6EnhFRg5YJt4Y6wsHZguGrBjSdMD+Bywkevt+hWugthfz/h//8R/LXPn4xz9eCOG5555bAnO4InA21xGMEN1soUNmzV3ZcJn4s88+u9jKUAacSkJiER1zCnYIBtib5AJiSB5EW/vwJveEmEcy/eZfTYbVS0YYkZs+XQcXvMMB/SA/omYO2MesTXpQL6xREEFPTLHCKYCFI/BRIJNEBwJpC4b2kDWrGs6hg3FF29ry6svuGnULPMw1WKZO2EoepFPdMN04wJyMn+8QS79D4Vr9R3qRZQka2G/VYFOLhISnvQjyBFZ0Z/zgC6wnAzymG7YBi2HoM056RtEdzEr//a1fMIr89UoGudUFO/Xf2FvtgVnGWJ9CrOkJeYb5kg7ah5N0Vdu3vlsBZk/wWN1sTKCQrZDsRN9cH3/IZowVHJTA8g6L4T6/WBcBpwDM3IGlVrKNYT9gmDQOtX3AbG27fpY6JtXfvmsaaBqYrIFlJ/LAydYPJBeYlu0ot99RAA5oxWkCXiAapwAYPSrL5xTOOuDKcdiegdwhdeqzdQSZd43zAI4gQZZXNgPgysb3g4PJKtz42yxXegScwlEJKNyIRIZkq/SXfLJVgNr+XIRTIFL2ca7Z8EanjVsaf8S2As7cHs1f/fJXZR+q1QdEA/HNEmycCSeVX8r1Lsu42GwY589p6VvGhKNJNmu81HPP7zc2HKNXv6gHAcsLIeEIFWSHnXByyAWij8QjWVZppvkBmH577fPK1ADyAB9kk9kwbJBxRUiS1UWikCP2yG68EA3fOyZhYM4j8UhdP3s91HNEX7uIJntmb7ALsTenzC/tskUYhLzDIfZn3ocYp25YAccU9dji5/oE/+xYO/prPmhHP9RNdkQ62yjYd+730T5iSi8h6uqlHwRLECCAgTuIn2PwsH6Rtc46DxF55JAcCvKKVMJsMuqvbLj69UF9NblDlAUrCLxkgkK/CDH80cdNLX4UiYzrnr2uYAYCDYuRV3hozOk1Kx4SLsb2MY99zPzqZZIj3rMKoj/pExn9Cji7QIIFJ3QlIBM4sRHjTCfsAz7BLYkm+iWX9uFYn/wK3pLVp1/ysjN1kNXKDH0ZT+PgRQ54bl4YC2PuJVjS/7qow7jwFfywgHOaVde6jhB5x9idPukH22ulaaBpYPNrYGOmtPnb3KAFS9ocqv2qsk1IL9CRPQGaCtDz4gzza6L1TWlA03OBPblmu+3nnmTDIZx+2lyWjFOUPZMJAd7aAHIAUL1AEIEHwLIagLAuefbzkGqQ3T7wcWACDZl9WSXOjZMGpPqlINMcCEcP0DnzZPUA66T9vUNy9I/R3TNPmQsKPKrTS9AioAG2ghftKDIxghdOAPEF6jJZ47KT/bb6nwE7R6KdvuOrQT/X1VkoDg3xSGbP2Po+22dy0zLHz1GyFWOoJOtkPE899dTSD7pFJOKM+7K2z6tTA2witpEbIo23uY7AZvUN4anJKFsQtPv1U3PP9hyrVJNIPGypi9+1ePFZLy525VGzcMuKFkxRzHmZT3jl16clDmCNUtt6Ppv7Ehoy6cnyI22wAvlLnbCG/Qs6EF3zFUG0jYIukmU3h5E/2+X6BS7BUPPDeeZZ9lc7F/nqk/l87tfl8/HHHV+eUZ75RW4BvIADIT7qyLnfe6Dfft/hHx0ZN09OcZ2XrYrkm2V7x5Bsjglu6OWMM8/o9thrj6JfWCjLbcziYwSE9CuwyfPWjW9Kghi6kmjYZeddSr3FN4xKHnQgMNFPmIrEJ/suK47csoNsCRPk/Pd//3e5NyiBprrSlnqMMV3SqzEN1kUuwY6ATF3aZh+Ka+mPHPoGJ12fledczzaNAf9nm5qMfNr33g8scl39Xp+TLTrab0R+SFvtWNPA0mtgWYl8CDrw4QhkTjhgmSPvyCZAQCg5xzheAOvcFOck2wpU4lRcJ7uMaAMsf+emKiQTkXWcc0MGyNEn5bXKgeab3vSmQvjV7RrXDpFucqgPqXcdh4lgAGUOTN8BnXN8B4g5iWmAcxoziG6BO+eBvOg7vSI3XpwHXekzMEcm6BiJ35RCN+rgHLTD8amXU+k7c+2QlR5f+cpXlvN8plvZxpxPL/SDpMuE6Q8ijzwlc68/2mUb2VqwqX3ZFD20azevBjJX2DeiyL7MZ3Yu6xoMqYkJe4AfVmuc63NWdMZJC1vY26te9aoSFAj2XS+49Dlzy/VkYr8J0BGjbOlit/1Vpth3braVREAmYYVsqYwsnDBH2b95Sm4Eun+/h7lsztGHhIXsfIhV+qZ+OGh+7LvPvhuQ+IKjoxf9SJT4W0CO+Es8DBGzXXbdpRBI8tELmWGrQq+nnX5awRhj0J/7jiOZxg5Oms90t+tuu85txRnJt6klNqLfAiY6hMcSF9ozfvAq+tUHOJhthZ4ulCKA8tAA/aJD58L+2Ff6TLfaoUfnGcOsThpn9Vt5PfaYY7vXve51pe0ElPxcgrfgIP0g8rAu30Um9qUu8tbBEjvTvoBIgEJW2fv+9fyPMZBEYld1wqPu16Rx0Jagwepvtk/yaUuxojKp3fZd00DTwJwGthtN1rmUwhiN+Pptb3tb9653vat75zvf2b397W8fc+biD2ujXnoF+MmiAeL8bZl0iDSn5SFn4bt6b7a61M/BeQdC2coxjkSnXtf42yvXqH/SdfrFsQFIgQMg1S7nEcepjiEnuXiNbnhl9Bs9endM3/90/5+K4yRfnqqwVO0iEtnqpK2FMvwhHdHvkE7o0Hl0TrfeQ458V+t2qfrR6lk9GrDN5KGHHyr2nXnpbyUrUJl3vh+ysaHeBkNiY65Tj7p95z2fXZ+te2u2H+HLiOwpkSP1O78u6s7crM/NfFCn72EI2YMhqSOyOMf3Xuqs6xq6bgMhRh+yVSfzd6cdd+oefmSO8PbPrT+7znnRs+0m+UE6mW/EtJY1/Xd/w3/8x3+UDLlg7B/+4R+6d7zjHVOPzSSZ+t/RheSCjLofciKr19B49a+NbTlej2vdJ/XL0td6KMfW26O2BEXeS2A3sg83ScPf2h58p1hlVpfr+/bi+xyHgbHryJP3jIdgwvnB5Hm/OvJF5LCyM9RGv776s7rTbuZBZDJHMgcn1dG+axrYVjSQuWHl+M1vfnNJBn30ox8tCZpNKcuakY/ggKBP8qZ1sJM6T2kKkAugpN4685A6gNIQ8ATcck2c+tC5tTzpV5x+ADX1ZVBnBc9JfR76rtZvZIjsdTZSVmwpS71kP029feDnzDidyBpnGJnZTP1T631n1/88jQztnNWtAaQ5WdL+vGIPZQveIgiLzOxQEkEbNUGttde3v748fU2z85wzdC4iaY5MwsZg1DgsmyRfvsvqZj1//ejRQqXofsx5fXzPdqU77ryjZPGRa07NypzXpD4uJMek7+k1ONeXtR4vulbqMY9tpf5yH1NlS+ou4za6tSl1q1PgFaKda411xkq9xqv2B/qvfsFGdNe3p0n9rL+bx/r1wUuIfO2/Flt33U5/jKeVr53XNNA0sGkaWBFEXhcKkK3fb8iRzIPiDP3rO7++UxwC57r6hYh5zp0VsCJHTUg5MpkY3w0FFTN0e6ZTyUDXybq5GIh7Tdv/mRocnTyJVNQOJO2TjQ30nfnQ+NaOduj7WWVt569+DQi0M0f7uDJExqfp8aTrtBG8qu3ZsaUgSJHPnKjnbV/u2L8Vq2kwpT9f5tvprRT02xn6TAdZbcy8red9H1v0xfm2QGXbiHtjbEuxDWZSP4faX4pjtT6GxjtjGXwaOqcvhzr7OJZzYptZtehfK0jwL2XceJFLGYfhkbsEIgOBVq7vtz/N59qn1fJNwvxp6m3nNA00DUyvgRVD5AsgLP4hLVP1eBrgnaqiTTwJ4BVQXb/kvonVzXx5X9fkGeckZq584IK+E69PGWp3ufQyIHo7tAo1UAfafVvfHN2p7btvz/3PC7U/6fxp+zINiZ8kxyQZxl1Htn6CY2jeh+Bpwz0Mnh7jBlQPIMgN9/aVr0QMiF6WSraFxnPacch5484fdzxjudD348a8Pt6vY2jsp6mnndM00DQwuwY2M3WeXaB2RdNA00DTQNPA1quBZIjtwfc4RDdhKmtHN1t6kMBSPK1m69Ve61nTQNNA08CGGmhEvllE00DTQNNA08AW0YBMbbZyeIKXm748Zch2GkTeE1b62d0tIlhrpGmgaaBpYJVqoBH5VTpwTeymgaaBpoHVrAE3uNo/nscvelSim4o3Zc/2atZHk71poGmgaWAxGlgxe+QXI3y7pmmgaaBpoGlgdWkg+6dPOfmU8kjj/DifZ5p7FG5/r/3q6l2TtmmgaaBpYMtqoBH5Lavv1lrTQNNA00DTwEgDftDqrLPOKrrIvvmmmKaBpoGmgaaB2TTQttbMpq92dtNA00DTQNPAEmgAec8jgdu++CVQaKuiaaBpYJvUQCPy2+Swt043DTQNNA0srwaQd49y9EhKr1aaBpoGmgaaBmbXQNtaM7vO2hVNA00DTQNNA0ukgfbM8SVSZKumaaBpYJvUQMvIb5PD3jrdNNA00DTQNNA00DTQNNA0sNo10Ij8ah/BJn/TQNNA00DTQNNA00DTQNPANqmBRuS3yWFvnW4aaBpoGmgaaBpoGmgaaBpY7RpoRH61j2CTv2mgaaBpoGmgaaBpoGmgaWCb1EAj8tvksLdONw00DTQNNA00DTQNNA00Dax2DTQiv9pHsMnfNNA00DTQNNA00DTQNNA0sE1qoBH5bXLYW6ebBpoGmgaaBpoGmgaaBpoGVrsGGpFf7SPY5G8aaBrYIhrwK6R+jdSrlW1DA0M/VmX82w9YbRvj33rZNLAaNNCI/GoYpSZj00DTwLJpIMTdr5D6NVIvpRH6ZRuSLdZwfqzqT3/60zx5N/6OI/PNBrbYULSGmgaaBsZooP2y6xjFtMNNA00DTQM0UBN3f4e85XjT0tatAaR95513Lp20KvPwIw8Xm9hhhx227o633jUNNA2sCg00Ir8qhqkJ2TTQNLCcGrjiiiu6H/zgB92VV17ZHXDAAd3pp5/enXjiifMkfzlla21vXg08+OCDhbR/61vf6r7+9a+XQO7wQw/vTnz6id2RRx65eRtvtTcNNA00DSyggRVD5IHjAw880D388MNl2dJnf69Zs6ZkQ/785z93O+64Y3Gc2Z9YL3MP9RMAOzdZtPq6meuvewAAIABJREFUofMdS6YlS6rjzpvlODkeeuih0i/161f6mXp22nGnztK9Qs5NbZ/+6uyhesmh+C7f+0yW7bffvttpp53K97MUGSpy33PPPcXZrdl+TffIXx6ZX3bWj+0fNdqS8Ki5LQmbmsVMRoyMbENhN0r6qy+Wwn3vGLvZVH2WBlpZ8Rpg414wgw0o7EGpt0HE/tk8G1lozv3whz/sPvCBDxQy97jHPa7bY489uhNOOKFcu7UVuqBDOopetuU59Kjt5nagfv/73+/e8Y53FDw588wzu11226UR+fXGz1b4gMynYPPQ/IhNmZ+Zp85bjP/Z2uZe60/TwGI0sGKIvEl9/fXXd7/85S+7q666qrvmmmu6++67rzhhr112mQPNo446qjv88MO7tWvXTuzvDTfc0H32s58tjnfXXXctZPXuu++eJ3/jLj7jjDO6s846qzhqbW5KAW7avO6667qf/OQnpV+33npr6Rdi+ehHP7p7/OMf3+2///4lu3f8cccXUtwn4GQYAsRxstWkpJD2R/7SXXPtNd0lP7mku/LqK7vbb7+9+8Mf/jBPcvfaa6/uKU95SnfMMcd0T3rSk7rHPvaxE9srDv7hEVkfEfZrr722u+yyy8p4/eY3vykBF13vueeeJXP5hCc8oTNmT33qU+eXp8fJPc3xR20/CgxGOkI0tEenv/jFL8pLn8jG0Ro7fTnuuOOKXh+7x2NL9Y3QT6Pl1XWO4O7Bhx4sOMEOYcjNN9/c/fa3vy02Upfddtut2OVRRxzVHXLoId3RRx3d7bnXnsUuBIRsZ9oyy5ycts7lPo8OfvSjH3Xf+c53iv7o5cUvfnF36qmndrvsvMt8smGSnAmSJp2zmr5LgmU1ybylZb333nu7b3/7291nPvOZgsEw36oV3K8L38Q3X3rppd3Xvva18pWA+BnPeEZ30EEHdbvvvvuWFr211zSw6jWw7ESeE777nrsLIfv5z39elq+RXkvZCG8idlmwJz/5yd3Tnva07nnPe14higjnuHLnnXd2F1xwwTxYJDvn/Elk7uCDD+6e//znlwz6Yop2kl248cYby1K8/nzjG9/orr766kIw9CsF4CG7SKiMBGL/mMc8Zj5rPknWIfmAqGsAJqdMFu1qnxzAU/t//OMfy/fO22effQqYnnzyyd2znvWsElQ4NkRUnK/c9rvbCkkSKH3zm98s/fzVr35Vvss5Bx54YBkzgK4cffTRJXiZtU/l4vUlMukTspG2BRQyQtpG6NiLYE8Q5RpBij5tbSSj1s22+HcZbytC995Tgkr2wM5//etfz5P5Wi/ON8ePP/74EryaB8cee2wJpmch8VurruEe7P30pz9dyJa5KvCBCSWhsmYuuWEeOdcLiVOQsG05c7+12sRC/eLDYe9Pf/rT7n/+53+KTcRH94k8nyOZBbvPO++84vde+cpXlvknodSI/ELabt83DWysgWUn8g88+EBnyfL888/vvve97xVA4CROOumkQmjvv//+7qabbipkFFDIEiGijp9yyikdsjhEODkd2fBsJznssMO6Qw45pJORm1SSkQYoiyF9uSlK21/4whe6j370o2WlgbMTeJx22mmFsPv+lltuKe8/+9nPyrus8t/+7d8Wp6nviynRhay4zPsll1xSAhqEm9523233QnBlrH2+4447CrAKoJBefyt0a1WiXzh2Y3TxVy/uPvjhD5YADDjrm6wdMEaOfve73xWQ/upXv1raUPeLXvSiEiwYs8WS+d///veFsH3uc5/rvvKVr5RgwiqAsRUU0TPb0J6XgA6p4yystuy9997zW7T6fWufV58GrDZdcdUVZa4JVmXk2Zt5biVu3bp1G3SKXZoXMEfiwGqS4PU5z3lOeR8qcCDF314CgsXgw1D9K+mY7XGww5wyryUm/J3gPLKGxFv1pHvlhS98YcENmdUhTF5J/WyyLJ0G+PDYCr8J/9mLY/2yw5odynE2xQfAa76PL2o209dW+9w0MJ0GlpXIm+yyuJwvwnn55ZeXDC4yzanKVHO6iDAi+t3vfreAxIUXXlhIIjLKaaTUjhUoeHFMyCWS95KXvKRkaoszfnjkjEf/4pjzLksna+xa8s0KLkgkkEISLrrookKQAZWboqwmWEK0mkB+hBSJl/nSN/3ceaedS8Ywew0XmyUUyKgP2RUAIbSy/Rwt0isDom+W0e3/lSFBkhNwIPFHHnFk2XZQFzrRtwsuvKD74he/WHRkq5Nxe+Yzn1l0zfkLuARm9Kp/tjs4lx7222+/0vYsunUt4EfK/+///q+7+OKLi72oQ+CTlQQBhYwie9I3wdFdd91V7MB3z372s8vfrtsaidh0037rOAsWmGvJ7plDikDx0EMPLbZma1W2yCXAMx/YhSV+c9MqmSLIO+KIIzZSjm1kymKDz40qXMEH7G2Gu3SHXMFCWAGPdtxhx/k5g+wLmOj+fe97XydRYsULHteYvIK72kRbQg0g5/BUIisEvh/8ae7PD/x5PrnGRznf/EzCbQlFalU1DWwzGlhWIk/Ltp/cdttthQxyHpbkOFNOAfHiqDkM5J6D/vjHP16uQdSe/vSnl/2byjhiCFQ4oyOedEQhe5x1XYBPXTiyOOzFOG6ghCQgmsgrgJKFlq3Svn4gko7LFiLRyLr+INtXX3N12Rogs8GBLqboE9npTSCkTXoVSNCtbL+MJcLNAXPcCLh2kV7Oma7XVvchRE9I0Je//OWyQgKokXd98y5Y0jfHBQRWVd7//vcXYm1VRfZcBp+OBCvOnVbHzlOvoI/OvAs2ZNlf97rXleCEzMabHQmYkLj//d//LcGibK0+2mKTlYZZAonFjEO7Zuk1UAdfiPynPvWpsjojWFTMtec+97nFLswfcz833skiC1YF9GzI0r7MPDsQlMIbc3Hfffct2fwUN2qzP6/YLBIyre0uvRY2X42CFvOGDgQ55hx8gBf1XnHH4Qfd0gUd+js3mG8+CVvNK00DSYoMydX3r0PntGNNA00Dm6aBZSXyAECmJzdFcryWuPvbSmSSkTNbOpBMmTTZbFnf39/1+42yxlTC0SQjIOrfd799C2nt171p6tv4am0iuVYQBCjIIxL9xje+sbTP+csMJktohUDmy8s1+oXUO3exRD4EVeZf9hvJte1F5tp+xhAT0iO/aSc3jMq4I/y2+aSkTllwKw2INF0izK95zWuKs0ea6rLP3vuULTa5MdVWlwQJArdZCp3Z9kM35EMiBCZImZuTlWwL8P7Ew59YyIggApG3jUnGVkDxxCc+cZam27krTAPIAVJurnz+858vASh7QOJf/vKXl8ByoSfKyBq7RuDHpn784x8XIg+LPJGkLiHxCGsI/NZI4vXZzeTTZNX1PyQevppzdOM9JU+0WmHm08RpGmgaaBrYqjSwrESeJt0Mg0xyogifTDTn2t9SgvhaLrf1xfey18jZzbfc3K3ZYe4RlbUT4eyz1KcdmX0ZvM1N5JED+26RA9k/AYgb62rymH305NMv2z2QXNlqWWtZQtdYcVhs0d9jjj6mBBLaQOoVjrrORHO+ggak+GMf+1ghN7LpCHhuYqtlkOVHjAUe+mb83MRqr7IgpiY4Mnj6gHDZ5kIfrhWIGet6vBbqp5UFwYNrjT99WgUgQ/3YMu3Tq7YPOvCgshpBBu3LMNKzgFBpN1YtpPWV9z3bZaPG0nxhT2wSNtg2Jqi0kuS82FiW+oMpPluZc26eZiWIlaW3YhMiHyKapEAwhVa2hUyjfpvXdSZev7PVSJY+ZN4jGpORj9U89PBDUz3lZsjKtFPj1NA57diwBpruhvXSjjYNbK0aWFYiD6gReK+69El8HDLHgZAiws5BBDn1hx4cPWFm7of35qtJ9gzh5KyVScQx2fvFZNpCYDl++22RcUGGLDWia5uQc/Q3L/L4e7dddytPzUCGnaNfMvr2gm8KICO3Xv097n3nGOKL2CD8ta6GbgxG7mW1FRlv15U6ttvY8Qqa9E3wRRYk3NNtEPtJY1Eq7xVtWOFA4BAxKw1WAwQh/RLCtdPOOxWiLysvCNB3eqXfpx6/4WPR+nW0zytXAwmWjat5ZhuMezTWjbaqCdxSYmN9PPHZSzBoG45tcGyCXbMP7+zG41VHOfiNFGE1IDgBX9g1mSQKQmZhlnlvtcs86s+7utLgW+pQn/MF417+1hcyW/Uy79Q5NIcSfJgn5ouX+UJmBS6SEY6qwwpEAuHgmPt3vOjCueaY8xT10JXVMVsczWV4nCePmZf0B0fgSZI0rlWnrXv6u3YUbMEOf/dX8pwrWJB0yD0M2pKUsC3OKubQNUXAgZLgQ0CShyd4N14J8rLCQC/ayD1EdXXBlRLgrE8UDTRXDkkWCDDVr9/0pj226m+61x/vVi7HPeIyY8I26FwCqx5PdRk/8j72MY/tdt1t12Ivxq32ZeyU7l3PpuhdiY+B1fRKvlmSXdFD/V7rp2/3Ptevcfprx5sGmgam18CyEvlpxeR8FADGcXN0CtDlKPpk1Xc10IbUulkrhL1UMCoBlcUQ+NSR9/vunwNLoKsAaQ6LnOoPma+vC4CTkXPiePWXAwO4yd7321rKz3QF5JOpRhSAeZxc3RYHzUnIZvfvNxiSybmcQ/ohEKCfOJChazb1WHRNj8aArNrnvNJ+ee74yLG3svo0wE4Fy17G1DYwe+Jn3a6l52wTSXXPBlyxaoSICsLhxVAJSTWfBQG2mrl3JHOXranTdjaPsnXvyK67zO25H7K5EHLX2yakTlt9yJKneZhrsM4qlKc/2S5nDvWDFPUj8+7PcaO9XyJ107u6ye2F9Ekw2MboKVoCDvXIvv/pgT+VYNs2vy996UsFg2wLfPWrX10SLlYb3/Oe95RVQ7LBKYQV+fVoW88S1x9jhKi6h0lQpAgA3ABvPtoSJ/Ci56Fi+x/ii8C/973vLVvy7N13nS2CsxD51E9f9OoRpVZMBSEIvXEMsZZQsSJjmxY9LRanJHTYhPGMrcJY2MTnGD9JDmOgX8agvi8jMjufjtVjVZHe6cQKZQgzu5DUILeVVfrtB3mCMmPDtmp7MG7slT14TDBZ+CLt9usYGqd2rGmgaWD5NbAqiDwHc/e9dxfgtTUCgAEvLxmgfgG+HLwXMuedI/vVr39Vsll1CZBtCmgBPW3KvCABnBhwVDeHHoCeFCwAX33hgAF3goF+3zbHZwQmT7ZRv3sSBCBI+KYWfRYUIAH+TsCwJYIUY4pMyDQZj2yvMj7+Rl4mjcmm9r1dv3k0gEDmR5/MEyRMJr4/t6dpXZCNaCcTb0uZuhFM23WUOoMoy6xNxNK7+y4QZsTKCzGUJUWGc7O5ffuTyCds0qY6ETX3/iCCsEudCkyALT6TEWlDvGBbjV3qsk0oj+PMakGCcuTYS33mheCH/swFKxAeD0h+MuiX+rXlGngGy8wdQYb3EEq68CIzHem7v7VbJ2IQafpEXK2I1EQ+pDl9Ugfy6hovcxiRn7XI7l919VXdZZdc1n3ne98pWBecJkuwm15vvunmguOKLXnwu59VntQ+bKE3TwvL6iN/xWa92IdgShsIOTmMtbEURPSL+ujAYz7JzU7VQUfq8b2xVLdgz3jSP5kFdHf9/q6yIskeBFGCCufGvxhD/Ve8w8uhVc6+XO1z00DTwMrRwKYztS3QF9lTgCcbhMgn4wV0hjImQAyYOQ/YcTocJWfQz3ogAAi0l/NnAe1+1wEsouqd89IWEOfMhuSsr+dMEWjXxCGSZ0sUjp+zkK3mrMmBxAwtseoXR0+nIRkLyZiMPLLAiXAeHJHMz6boe6jd6BlBT6ZNP7Stfxwf/ZYxGQWI3dyvrw9V1Y6tUA2Y02zPVgN/s8lsiZhVZLYpGy/7ymYQLKt+5nEITU3k2SzbP/fcc0u223keGYvsItSuR4Ltt0fK7eE3XwSy/R/Hiaxu3v70BZ/uvvyVL5fzZWvdI0Mm8rk+99Ag+8gY+1UnGc3ZkHlbyDyBxy9sepKPumRZEbwQawRTdty59Kj/irkjYUIPEguy3kiiYs4qboTVV6TRteoIrgqIyKw+cy+Z3jzS02dZe2QUiXVt/ez+YIFrFXNV5pxOzN+nnfi0chMz3J+l8B/G4t3vfnfRnT4ZC6sbghkJC1tOZKo93cqPi+kn3WdL0bTtCT7OOeec7hOf+ETBOAELgm4ctAOD2AjM1f/83gWdDxF54+03VgQGAg26PfGEE7snHPKEUp+6JLjo1LjSWfTnHgV9cu8Te+CXjKmniR1+2OHloQfOZ+8CQG2xO6tIrTQNNA2sHg2sGCIP9O65+56SQeA0EHFZoGTfEE3OB/ByDC94wQvKkm0/o+paxzg/Tl7hNDg6AM7p+Q7YOS/1AW5ZaCSWc8z30w4lJ4QgcgjAkVPkOL1zQgsRVk4OMJMPQVGHTM0sjmRcsEAugM+J0Ald0BN9CI44V8+z3/txe3eHHX5YAXJLtUOrFAmQ1JkffaKjSf1DOlyXYkyjm0nX1bqnw2yTcZxuOLA6E8uGjNua7UePxBttMYht6IfrtZmXYxxZK6tPA8YZ8cgWO4QLqR2y14V6Zz4I9NiK+WcOmSdemU/e8zIvtYPAuw55RQrz+wTOg1XqMqfMEeQQQUKOEbEE6M5F+v2K6he++IVSpyy17S5IpuRCAntEzY24ggekFFlHymSo3eSr3HXnXSVri/RJXMAzT3SSWc7jfOGALLitI8g4gplVze0ftX336N3nnjwFI81N88WcMn9KNnmU5bUdBEYioXBAPwVSZKcL2ztca5wQexim7/rrb5ijPwIATxiy7ajeciRYghmIqXMVqy3IKxKvrmkL+eCEMRAUKOTL9hltGQ9YyJ723GPuoQCOwRv9iB3424ut5O++HK5xPt3yU+7doBeBlGvYhaTUxaMtLnTsKWAINHItyDAewUR+QDBmTNmRMbTFyT1HbE9b6rAqJLh0Ld2Qz5ixJ/al397ZoJdtaFaz9T0PNYh/YDNZEen3rX1uGmgaWJkaWDFEPhkR2SkAxFlyHEAPEMlgcLqAxr5LgFbf2Bb1AieFIwCaAI9T5tg4DyAZR4rMOp9z8JIRedOb3lScFDDcFEBLVmTWYSdfVhFkSnJz76R6EnTEAdTncioyZ/QnoKFnDgCAc5QcBQfiGIePGAiSOIWhQqecs2uMDZ3WAUecXn0tZ8rheFeQAuPbD8KG2ssx9ZIx23QEeZygbKOXQg91va5BhAQOzqfXvIytv2eRYZJ87bstpwG4gHggmUoCvC0xlrCDLSFoHivrF4NPO/W08kM3O+24UyGkkgESBPn1YSQRAUe8D107t12H3LK3khOIsL9d94pXvKLsgUe49C99EkAgawIBeIbkCQAkM0LkZZ7Vh5AidILx17/+9SWLbcuM72GEQCE3xWavubni5tI8kWbcaLofaY899+ge8+jHFGL5ox/+qMw5skqGIMlwRDvmPLww3xUyZeVDlt2qXzDB9zV2wG/k05OJBG2ILnJM3iGcGyev65FmdZFF388+++xu3Wh/vj3q2vfAgYcfebiMK4IP1+CDsdYWXJm2TbqwjUqAJ0jhr7RLP/QhoUH3+hIfB5+1Tcb6Rl7tCmRk1QWq7rn4m7/5m/I0MuX+P91f/JfgibzmAbxT9It/03+2YmzgOnzXb2PhWrakHa88oSgBcfzjON22400DTQMrQwMrgsjnaS8Iu2wSRwTUgQsHZwlSkTk6+KCDiwNAvCeBK0AEyjJAIY7qA3jJLqkbIUVygSViJ9OlHWCXoGBLDlUc9wN/fmD+ZrL77xsRlz/OPfGBU6gLHQBtsnIO/Qy+/iLwsj6cgv5yCkgBEu57f2d5HlHgEMYVjonj4Gg5vK9+9avF4SELsmacVfQrWKBjjlRQ4rzacY9rY+g4Ai/Akk3UT1k2N4A5rk3HOElt06G2OUaBoW0Ozuln5Pu6HGq3HVt5GjBPkWOEgz0Z8y01V7WNLCHPf/d3fzdHuEfkfdc1f/0BKdsW2Lq9yd7Z/o9/9OOSBUf0Q1gdl2CAd8iqbSaytwiyvsFFBFNBvLxgE5tH0OCZ+ZxCB+Y2fdCLYCdkDE7k9yNqXZFllpLzPfLXfPOUFLKqH244lvpzPP0lG5IreQDr9Vs/4IYnt5Q9+qO6yJytRAle6K7OVk8rs+u/9c1vFR8CA+iXX8hjjMlKLzuu2bGQaDgioGJfs+qGTGwD4aYPwV5d4I+AzDhaXUHe6cEYwqsbr7+x+Dbfu568xtp4wlvn001WLwrWjR77CbtTEnQE79iLPqqfvQmC6TjJLGM2zo+qvw6uptV5O69poGlgy2pgZRD5kbOShefUOD/ki8OsC+DhJGS+sq0CIHEO/QJ8gLEfNELqgLOsSzJSgAsJ5UQ8ccLSZByHdgAjgst5LLYAXmUcSI6rFxArHp0IZOmBQyYrZ9Qnn3EOzkXCX/bSl22wTA3QkWnXW/KnY9dwOEDd93TkGOeF9HOs9ADIveoiAyjTZwxk923LufWW0RLw0y4tjku9+qweAVIeVSfzU5f0c5we+sfJg8QbV0RHveonMwfluBUVfZGBZ0OIvmyUsZbJ86K/vGYdm75M7fOW1wC7iU0mKMwqiznXt9eFJKzJmjlQl6EVG3PJtgSENJnwkB3v5hNcYqsnPe2k8suzZT//bbcWIqbE7pBMuIOcIZHJViN2bNi8V/RLnQieeaUd/XQ9Ygir6AVhs4KnLngqULcNR/DtlSRBLecGHZ7iQ2RXB7nuu/e+0r7P5nhkcV6SJtEJjIIRsuvwg+y2jdh2grBa0VB8B6fMa3XKotM3/cxabr5xVNevfln0pkh0IPFKbSv0JyON1MMwr9o2pm0Xtqhf/3N9dEb/xjBtsyO4RT/G+oabbpjflukaMjkH3rEJGC4pgZy7zjn1liTzwcrLo9bMtaN9/ZX04lclc9QlWOA364x78Dg2QsaGj9OOejuvaWB5NbAiiDwgA0z2mXJGL33pS4sT8ALkWVbOuyVroAbgXcNp1qCTvy0nZlmzkNVRNgxgaQ/AcXiAVfb9gx/8YHG4yC6QQ1anKcAyoA0YvZS0gxxEnixn9+tVh+ucR04yCyYAsL85NJlvj4NLJiV1AG/ycvyWTbMnM99zSPTjyRlIuD7GkSMqyLz61YP0vv/97y/Owj5K+qWnGtw5Fhktsmq33Dh3zdXdHXfeUbYI6C+ZXUMHgi+Oh3yyQtrR/mKcJMcr8287g6BFVp7TF4gh7Z4WQT/aTdtsQB/Yi5KsfZ+09cekfV6ZGijL/yMbM3fZNrtCKNnyrCReDxMEqDNzFamECyE3tSa06bj3lMxv7wi3wr73O2C/QsQQajiW4L60O8q2I6sImrkvQDDvfnfb7wpO5Vz2XM8V51lp0m+B6Z//NJfYMMfVabuPgEGAi7xdcMEFJQGAvNmCRm9wQHJDIbP+ZI4jso4Fixz3yrFy0ajoZ8nu7rhDuZ6MjtFh6rLnPud6J69VNdhq5dX2Gtl5c/SwQw8rRD4YCkuskiqwkPx0OWu59/575x8LKqMPP1KC3T4XmXs3vtfj6hyfYVt0ke9rmepj/FXGSmBlzPRPW+whq83GmE8KtucmfLglWJSIELRJXJx33nkl+KEPfksQ5MVv9m2Fvo2zrU7kEDSyB39bNWAHiL0AyRiQvdbJrLpu5zcNNA0sjwaWncgDDuTKkqeX/e+O2atpqVWmgsMD6sDfY7QA0Ze//OXiSGRhEcp6eTGqVG+/AFEOR/3b7TS3X9Reew4FIVSQU4S3dnD9evIZ+OU87QHTLC0jFrUTtgd1qKjDuWRLlhEIZ5uMfuo/5zapAPSa6Kfto486eoNlXvJyHN4FLhyDvnOslnplbjgey7+CCXXGQdGzjFpZDh85AQTa+ckYkR9ZCGHwWDVOKDcA6pfvar1M6lP/OzK5XsBiNcW4IUpelurJidTkJj57jbWP8Oszgja0itNvp31emRpAco0xQoUYIdTIeLLds0rNJpI0YJOyxuwjK0vqczyvkNZp7VdQgNyaF+wwxeqgttms+aU/ecyiv7Wjn/2Vybp/5O62m0sa+BuuwTJbdJA2RNK8RuTJgLitG+0Nt5LmRkykWj8SfKhbm5NeQ/qNboa+6x9LAiVzkGxw35Ni7L83vllBpC+YuHa0mmA+LyZQg53qgTv2rW/uknGwAgCvrRzyJci4fgnQQuRhrCSKQh/GvV+sCrsOfumLFVBYCodtcTTWftQMsYfJxs54BK/Zg7367M8jLCVTPv7xjxfMdq36YaprGpnva799bhpYHRrYGDmWQe55R7l+aRPQAXT/ZBQQ42TdOR2P9srWDY4KCHqpJ9mgSd0Acup/1F/miDVCyllYFUBIs7d0mrq0kyV4TlvWKKAs+wJ8p9lm4zwg66XkmjhnN8Eh6lmaTf84fM6DrLIsHFatz6LH0avIOcrYhQjFWVuyljGnA0XmX2aeHjx3GJHnfOMY0i5dydgjAxxKfnAGubK8rz6yItxuShWAyRK6Tja9X1/qXehdX8nLAXF8nqAhsOMUowf6d05sguPTnvPZE9kmEaSFZGjfL68G4IF5ZozNVYQVIUZaalI6jZRsRhDI3s1BcxghYsMyyuYXW8m7882vHFsII5BPMjnfnHatoj4vxXxD6iUlkM0Qe9eSqS76jpSrR33ImF/0DAkUgCDpbnKlI8E5Um9+aMdqpntl6M5Nta73d0pJoKyXLasV6Wvk3UCgGT+QHylH3s1buOGFbMsM01Uy9fDTNhV6OfCAAzfYRjJts3QEk+gywcO01y7mPKSdfmGnFUNZdO3rn3eZeOPnne1Ep/rteL/AUMkIBVlPwkIwJuEkyWX7FJ1aKbVCzYZD5v2NqKvfOAssBA9eth+6Hr4L8tiC6+Fjru/L0z43DTQNrDwNrAgiP+8MR7wa8HJKtYP0eDLAIrsr6y07IavAQfkFQo4L0c81CznXDEPIpPOzDMmhB8iA7LR1qZNsSCrwdK0soUyIPk2tIziSAAAgAElEQVSqy3eA+brfXFfAnOMMAVBv2Rt+8OO7N7zhDYMWFKceWTljGT/7JZWQhxB6/QbsOY4AcXJkpVuEm+x0gSAh8/qW812vLeDvJSPkO46X/H0ypR4rCsnWZ1l/sDMLHAxhIa/tP7VeE/wgYFY/yGkVRzaMfHRqbLaEQ1+gG+3rRWrAOLJFASGiipyyVcSEjQks6xKbdWwoeGQ/tl0hOP5GnJD4kkkfBcAhWosUt8z92CX7qzHH3+RD1vXHPHrZy15WZEDmvRD8FOeSx8scQ9rLvvhRJlvxvTrpIAE2siYz/OtfjX7Z8zvfLn21iqXQnTYkALRpfmaf+nyjS/yHQMi4eboN0ivDbOzMUckU/TWOSL7VEduBEPxg12LFgWn6u7mLNj7ykY+UxIWxSJv64gUfhwg7kg/3yxiPVqIlsfzNdugFRltNMZZWUNmrrVj0ZgsVPFaHuo1nTeb5Dy/JD6s+VkH8uq0AQD3qs7IqSCADOxTMxp42t85a/U0DTQObpoFlJ/J955p9lQERTguIu1mVIwRI2TsO9GXjOLVsZ4k6CiDaPrN+z+c4NaV97QB7zpET4eCA40JgVojk6MkBCrkAIHnIaklURkYAoi6g3Ce52vdd2Rs6upHX9/Y+1jd2FYI+vCuntKuO9J885aat0bGauA/tz691T17yc7KIkkwnB+u9JhP98YpeHa+39TjOaXMMnIX6vWSVjGHfmWVJOvWNe++3Xwda6s+453qrARydPuibTODuu+1eAp2FxnacDO348mkgti4DaV+18UXk2ZhjhzzhkHm7DwmPzRhvBS6YG+ajuZ6bptkkQotUly0761ew2Jj55cWeBZOIUm170UjsT/1W1wSxinPrrX7sUcCgzhI0jNpmnzW+mU91IKFuMjvO1hXXI+CZe/X8kIF1HAlE0p5y3FMKeUPkvUuEeL46gikTq1/T7pGPHuBvwej1qxeRq/R5YCshfKML2/PyfHf3Bfg7ZBf5lcE2DhIFcGmxhTwSM7CYDshrXD260VjHJlJ/rb+Mf3DCu3Ejv7+9nKMg30i1FWJZbsGZ/tiT7yXZ5LNr6QCuSppYAbWdkT4V7cef+LvebiMBcsJTTygYpi+CIWTeyyqAlUertvRmJZQM8WPq1l++xRaa/BYLQu/eK/OAXQgA87sDfawtArbSNNA0sOI0sOxEHoHl8GTEkymtHWQcF8cIfDkt14RcAkCZiIAtDXMsyW5s95e/AuOQ9gGwOmXEvfyNEKx51JxqajDTjrq1jSx7BBugDNiSm+MAmIgpJw7ULWsrALwPjuoD6LJQnA2wB7bAuO7TkOzjjtGVF4JTnOyIJNDvUEkb9Hzv3XNPnUAOMh76EtJN9ji+fj9Sdy0zZyUjLtvDgdKrrTz6Vjso1/rMDujW3/RQO6HUrz9pe0gG19MzORAVBME4qCs3d21qdm9Ij+3YltOA8bXytf8B+xeSJ+BEYpATpAkxDsHqk0k2Y/zZB+Ilw2neK4JnRAahVpwXLMlNmOYFbKn3u9c9T5AARxBScxomCDrYvXnGvs0pxF5bAk2kK0920qeaEI/TLIwxx2sSXxN/18FUL23bomHrznnnnlf6TW8IoK0X9JU2Ix8ZYZr3vNSZ7UX5PnhNp/VWoKH56XpBEiwQYBizm26+qQQW+u/+F3KpGynNY23H6WCh4/rCHmBLcBbmh8TXz82PrWTMEWp9gvV/2W74PolgyZ/v+3PZIhS8kRSymuCeL1tWkOP88FUCBLq3QiIYDe6x7dQ55C+svngddOBBZTy1QV42ZLupd1sd8wSxvn4EA370SjCgsIs7br+j4LPgwJwwHxyfxgb79bfPTQNNA1teA8tG5AEk8HIXPrKb/XkhYVFFnJTPnGIyST674QfgAOraaXAsdTAwSa3bPbJdIXoyegkoZIv2P/CvjzoDlOoDch/+8IdLBgXIeaLAv/zLv2yQZQewsvIAkyO3NUW2QxDAgYUIRybLy7YHeSEHAJZz4+jGOcJJ/SGnNhAGy6iyLVYEXvD8F8w/R7q+Pm2Um4p//cvu5z/7eeknR0CvdFzrspapOLn1jk6deQ50xpZeZfzcWKVv9rNb3jVmdUF62MAnP/nJsuzLyTrPEzgQtiF5HUv7G5ww+sBRXnHlFWX52ItjknFcN1qaNjZKI/N9ra2ez8i0vdNIkKw28mQLiTnEbmUqM759Yst+2Y056UeazA92KmtrW4v7PuprYvshtEi8ef3tb3+7EFFtkSfXpF2kCHFk24JSQYf5H3IkWDa3kFWBrv3OcAXRRrxlTUP4+iNjbiON7NpcscqVMgn3tO8XY+ECmWAP4i1I8bz6bOfQR/3xoqv8nc8Irn4IRPTd325WJROMjtz1SkHkU4e2BUwCa58FI8aQP9h/v/3nt/zYu40AG+PFFlhKx2TT1wT39t0nqOvXjYTDQ7o8YP8D5p/lTy/JnNd/u57suU/HZ0Eh2W1T0X6dSBEwkMW9AIst7Iz+n3HSM8o2Hu2rk58xnnUxhoIvqyauq4Nb43DCiSd011x7TbHVXF/PgcXK2K5rGmga2DIaWFYiDwwvHv1YkKVBwMkhcEocDrBXgCmAkhXxeEE/2FT/QJSMRE32gJjzOTsl+8THqfMHP/xBIZqWFQUNMsZIZG7+jAzeAbWbxThCJFcGyQ1jMloplqZlkWRLEAvL9s6XZV872uso41QXTvzzn/98CSQ4do7ctZzYOEc+ri85DrgFJW64Eihdc/U1xWlxaiGyORdw05V9kp4EdP0Nc498syx/5JOOLOMgO6ZOdSAxIfPeizMcOQgly/L0RDf2v1o6RpoQHns3a9LhGg5D+0iFZWn6VZAgDrBP5PWrbrfeClBkGcmKmCFoXsgOUuSRd8Z1IXsojbeyojUg2GfHyTALPGUjZTg9mQMhYevwxLl1gTNs09w455xzyjuMUZfHt7IRczvFHCy/eDqyU3hlPsAYgcO5555bsAY5dg0ype3cuyPQKOR0ROrYP1vOPIJnsvGIlO00iDz5kXhzT/bW9i9YmOJac8tc0YZ+S4BkPiJrCKtiHmQ+5J6RYKI5ryDI5qP2EmDom/PyCpb6rP+lzvUrfraoJdCPTObn3ffc3T1690fPrwjKiqd++sjfWQGRDbYiefcfR79jsfeNpX/0IFDq49W8Mqb8A97CHXrjZ+j5wgsvLIkFwWCfsBpX37EJyRhj5qEI+s2W+Ai69bdXEjQJoIyRv9Wb+4r02dg4Rr/qsoLEPxhDeqWj6Nx56vC5v6+fXnxHBt+zZXXqJ59Fp7FfxwVJa7YfrQCtX4XStvpdz5Zhs2PsTAAjMEwfp1Gxa2N/05xPP600DTQNLK0Glo3IBwA4AmTLD6fI3sqUIHBAnKMBcEAeIUbkEW5ZH2DD+Xq0VpbCqYYj/fxnP9/9+Kc/Lk5TJoSjBMoAE2DJhsmUy4BZipQZAZichsytzFz9JIeoPADtM7BXH9Koff1IQSIsqWpD/Z/5zGeKg5Xp951zATBnLGPMgQNUToNjRQw2xYGRE7BzHhwF3d1w4w1lGdaLLgL2dCmYiGPRB3IITp5y/FPKykANvulPnI/xEnQYJySJXuhTndr1N4f5mte8pls3yojXxERb6okDM3YhIDKaSESKvtCRoIudIANkpMvsoWVHzkHOBHvshmMzpjKtgqk43PmK2x+rTgMZQ3PlrW99ayEkglD4wJ5ly82z/KYCm2JLv7/z990f75n7NU3BNWLHfqysvepVryrn1wF8FBOi4x2Rgh/ZCsfOXGdum3PmAIzyaFTfIXrwTIKgfvyhAHTtKLCHA1YZ4Y1gJE+NIpO5mvuB1MO+YQUyiqTlJsY8G938EZwIhskDQ+GfuQ4vbacRXJhDyLL5k2eR66t5nrke0qrPCeT7pNcWjzwiV9v6DbeQQeeqy3zXN+NBdzXpg0OwwVYa+CsrvNcdexV56Wz/fWf/Aai+MdOxlUA4ZLwlC2wlgc1WAchKRuMGy+Ex+zKmsun9QhcwCx55ZcUY/gnKyK3ok3GA+zLz+k8n5Ljqyqu6K6+6srTPB4Q401d07G9Y9v/+3/8rfoo9sE3YLECAf8aTHUuGsXttsxnjrrAVYwKHBROwnM3on88CKN9LJJHDXDCe7CJjvhBJj80kuPCZLai/Xk2PHtWXfiagyLV9XbfPTQNNA9NpYFmJvAkMXDgTgCIbIhMrO22LyX777teNXEsBPMROxoCD4RAty9oyArQCNgGR394wd+MOMAFIADDL35yw44D8N7/+Tcke1c4W4QN2shgKsAbS6vY3EA/Y+turLj7r0wte8IICjogtuZEMzoosCSo47ttuva04c4RYYHLWWWcVx7cQgC40vPrNsXAgHAGywKnoN+eVve8cDgcmkyYgAeTkkMVyvVLLog5kQIDAoegDR2gskQu/9Pjb639bziEDh4jAW7ngZPrFeEaHHHj+9m6csirhb+OAgHBeCRiQA31ROCZOiw3FccmE0ik7ETAMOZe+TO3z6tCAsbf9yrz0w0g//NEPiz2yZUTbdq0E+cYewUCGncN+2QKS5dGuHt2H9PVLtsqYo4IBbbJ7tsjm4VL2X+emyuCVeYFcWQ3ysjKUkmDE9wJNGGGest/sX1cPYgx7zC0ykN0cFjTAQXiWYs4gb4i682xhE8iaH9ozL6y8mTswDn4KMOpECJ2Yk8E788212ukTee2qHxm3zxuWwDmyuh7ZhO30ULBztLpBbyl0iWQjocikOas9+Fnw54lz+DN/wSL+QE4RU+MMk+jWtjt+JVgIp+65e7Q16He3lcQLO9AnuiC3ftMBG/JuHBTysyn901fjb0yQbskG/sw19G7s9R055wfoSKIKZnnFx9C9NqI/4+U+I3XAZmMpuHOOQDGrPuSlSys05CC3bLz+CGDuvOPO7sCDDixyaEOf2LM62K9r7K1np/odGRZSuf7VflE/8ur7RnWpN/7E9/TmcwK/hdpr3zcNNA1srIFlI/JEMeH9SienwgFwQBwtYEeCk5E1yYElAAM0MlAcBPCqSSZHABw9lhAQci4BqgAm4AVk2gbgsnqyHABQJpwTCZiS0d+KdgI6wCjgzgkCdCWk3x5S9SII5AG2uRkJuAsctI/Qc4Talf3x7rpNJfH6bjmdnv7t3/6tu/yyy7vLLr+sLC+ThSMqe1lHQEqvgpxk4Tl2Dh7B8F2/0A9Z7S9WF7LEYei7zGiCBIEW4s65qFNAQW/9wrlrn55zUzDdsAlOOERqxx12LOSFnOoS+CEtSIlxVPSHjTiHbXBMZODIXbupeu3L3j4vrwbYmvnMvtgK/AihRCoFfFaazDe2wcbYGkKU4E7Qap4gMuO2siFdiLa21IMgmyPmrwy6INmWHvU7hywIOLkQUq/+fSHRHILsV5clLqzcwUHEivyyw/42r+CIQFebkg3kXjcKkBMclDk/mgfJ0ptLCCOiBbfMT/NP/2Ensil4MUfIq5gfzoe7MtSC9mRXXVsHDZEf/r3pTW8qjwOGCVYLkFXnm3Pk1X7Zojfa3pFCXu2an+ZxSB9c1Vf6NY83tWjH2Fq5fdyej+u+8725FT3EWBCmf+Skl+AOnVjRkMiA5dlT7vvokZzBnvgC4yNxYfURDsEouC9Roh2FHXidffbZZRze9773ldUbddFv/WQjf9OP4I4/ZNt0oy5jFFLPFuK/6Iy+ycTO2QcZ1HH7HXOP+9RXtqIOcuqnYJKO6lXLafCSzM7z4n/ZnLGMj+yPX3xv6iaDMXK87nv/uva5aaBpYLwGlpXIm8yAxw1FCC3AlSXxklEyyb0ALQCTteZ0ObLcDBYQTRfViegBE9ch2ZySAAGBRejjZLJHExACzGSg1anECaZu13GAyQDbT0v+gFJIv/OBknO18ZMf/aS8I74ctIIkA36yyhpzHv4GjIBtGhCNXP33PDkDGacn/fLoOYS+bAm4c+4pBZFz33327dYeuraAuT7Rdd2Xun5OCDnnLKwcyGxy+BwcXXMSjnPSiIb6/O38ocK5r3lkTbmGDvRb+8hPnSl0Hr0j5ZywtpAc7We8jM/BB41I/KivHJL68nSGcSRtSKZ2bPVoQPZQcOnFNvNDQ0gU+0DiYQi7MicRF1lTc828N3+zfWXcnDMX1CvQdg6yLBBgj+pk8whs9p4jr+zUfIJXZDOnh4q5qo7yVJMRJmjHiqQEBBw0B9i1OZR6yW2F6cgjjpwnx+QyxyQ69Bd+micwzHfZR62v5qSXQCPzMpjjsyDE3NF+VtXGBcJu7ic3GclKbkGPOQl76KrswR8F4jWukQlG07/khf4hgcYzv09Rr2AM6W6aYxlTY8C/PG6fOV9yxc+v6K6+5uqie20aQ3is7SQAYEx+j0JbcAmmeRTy0096esHVBDf65gXn+SdtkZ9O+B5+hy7plu1JNhlHNgM7+TZt1zjp7xOOP6EQd7oxplmZdCz2wi75Gn3UB2Mu6GCfEhrGXv/UQQ7X+V5da0erD+Tgg8g9DqfH6Zrskkb77L1P0Yd5wf6efOyTxwZixlqb/IYVGPpmJ+PmyLi22/GmgaaBOQ1sN5o8wx5mvYZ8/ba3va1717ve1b3zne/s3v72ty+p7oBOiiwS0FM4BgUQ5+UzZwZ4vfolYOpGsocefqhkOZD4lHQ1xA+wAnLgB9x8XwNZP0hQj2xTllZlmTiyOtPUlwmIAjZyJDNYn8M5AFmgW/ezX88sn/UjDsx1MuaAX/u1vgG5c+tMEIc9pNu0D7j1R53efU5RVzIr+qSoW321PPMXVH+4lpOR4U+Qk/f6/JKNum+kzz/O6VO9GU9/G7+sChhf7ceWhtptx7YeDbBvc5Nds8ss+8c+9JR9ZuXIZ/aykH2yTStY7F1dzmeb/maPyWIn68r+Yv+wZSiTHa3Xc9X1cEJ9Xj7X88s18E+dSSbUtq0u85Ie8p7VqrSXa72bLzLO9usrqUu/kHFBP31lhWHcHBYk26KI+JOhLrLCdDFJB+eff373jne8oyQ6lH/913/t/vM//7O0PS6hsEEjC3yoZWIf9KN/xrNfP/xjH8kO1+OTrYm+p5PajnKedy+47/z4iohIh3QvSECmjbGAi+6TAKm7w4fBxSF51ZVAMvYWuVOHa2MP+lsXbfavn4T9Q2pmK+Qw5wRmArnap0au+lq2zT4FFuzCOfwgvU2yk6H227GmgdWkgeCE1eM3v/nNBUM++tGPlkB+U8qyZuR1CpiVHzAaORNZDBmLcQ5joY66zsszf3d41A5T1UeG+WcJz/mz+WaGCKDMwSwFMHkBbm0pdf8ysIvt85As/bqSccrxtDl07ULH4lwD0P226uuH+juufvWoM/voh3Tv2gRx+TXLcfVpe1P6Oa7ednzlagC59pqlTGMjbFMmW/F3PY+yrc53/bpi/5PkUVeui23365l0ff2dusjjJTNcz79J87Rff11PXUf/vHyWyEBsEVQlbS3UpgDAj+Ahqwit4ER23moDMrjQ9ePkGXdcfQnyp32YgGuS0HENH1X3MW3Vffa3seQrFuqD8+huKGmkbt8Zz/ioSUmjoX6nv+RerD0M1ZtjwWl+gS+3tUgZh9++c162Xfk8ru9po703DTQNTNbAshJ5IFeAbuOt0xtJPY1DyUXz9W5Uy8YHnDsrOG5cy9yRIQfMWSmWaIfAbSGgH9fWLMeBbN3OYtvUv/xa7lBfIlOdAZ21rdSrDgFevbQ9S59nsYFZ6m3nrlwNxD5JOMlunJe5Oq19Dtl7/9p87tv/EC7UWnRd8C3zq1/3rFpfjP0PYewscgzpaJLc9953b9m7bSuRlQik1fYSZF7WFm7NWuek9saNQ7LK/THJZzKEbE6rj4xpcExd9a+MFxus8C39rGXMeLh2sT5qIf8zSV+zfreQzaU//THtf5613XZ+08C2roFlJfKzKH9aAJ2lzlnP7Tu6PugWcB69akBbLADPKtu48yNPX7baSbi2L/dQffpV98c1yRRled45SwHMpY4JAV7IEmfoh6gU2wiWou2hvrdjq0cDNWEidU3UMjdnxROEiJ1NY2OLscEQv6XEi/4cp4tZ+l33OaO/UN9qnJnUnvNs+agfSGCftXtj7PXeHFss6r5HTv1ZqE/64ZzY0bQ6jK2Nw7Httl+/gjzSRXRV191vJxidsZjmvW9PfZvotzFNnUt1TvpT+5FJAfhStdvqaRrY2jSwaoj8SlB8H/R8DhhNAuDllD1yzTuV9cIM9WVWOdXRdxSz1rHY8+ed74js+0XKVpoGxtnjNERtIe2x881tZ/05uZBMC30/a3398+s+9wnguLb7ODPpPPdDXfLTS7prr7l27kbQ/fYtNwevHXgM6Lh6pjne75drppWzrn8p7Cj11TINyTfUr2nPG7p2qN1J522O7/ry53MZi/X3afTP2RxytDqbBrY2DTQiv4kjuhhA3sQm2+VNA00DTQNbVANLRbAEBG7gdZOxm2kvuXT0o3xXXlH64oYv++Nzn8NiMtBbVCmtsSXTwFIGSUsmVKuoaWCVaGDC5oVV0oMmZtNA00DTQNPAqtSAH8RT3CTpcY15Go9jgodpVwJWZeeb0E0DTQNNA0uggZaRXwIltiqaBpoGmgaaBhbWAHKeRz567v8/vfWfyiN9ZePzxJOFa2lnNA00DTQNNA1EA43IN1toGmgaaBpoGthiGsg2HT+a5TWpLNWWnklttO+aBpoGmgZWswba1prVPHpN9qaBpoGmgaaBpoGmgaaBpoFtVgONyG+zQ9863jTQNNA00DTQNNA00DTQNLCaNdCI/GoevSZ700DTQNNA00DTQNNA00DTwDargUbkt9mh///t3VmwHVXVB/BOQoAQkDBPAgGEABFUJkFmBUWcEOVDLat8sfwsKbUcHn2xqPJBXyjLskqtcvgcUBEBZ0UFBRFkCKBAEhXCPAWCQBLIxNe/fbOubXvuGW5u7rh2curcc073Hv577//6r7V3d2fDE4FEIBFIBBKBRCARSASmMgIp5Kdy72XdE4FEIBFIBBKBRCARSARmLAIp5Gds12fDE4FEIBFIBBKBRCARSASmMgIp5Kdy72XdE4FEIBFIBBKBRCARSARmLAIp5Gds12fDE4FEIBFIBBKBRCARSASmMgIp5Kdy72XdE4FEIBFIBBKBRCARSARmLAIp5Gds12fDE4FEIBFIBBKBRCARSASmMgIp5Kdy72XdE4FEIBFIBLYqAi+99NJWzT8zTwQSgURgSxCY9kJ+06ZN1cYNG6sk4y0ZJnluIpAIJAKJQCKQCCQCicBkQ2DaC/nZs2dXc7aZU82aNatgn4J+sg3BrE8iMDURWLdu3dSseNZ6IATYjvXr1w90Th6cCCQCicB4IbDNeBU0UeW8+OKL1aOPPlrde++95f3lL395dfRRR1cLdllQRD2hnykRSAQSgZEQwBMPPvhg9c9//rN64oknqm233bY69thjq7333nukU/L7aYKAvifkvd9zzz3VbbfdVs2ZM6faZ599qoMPPrjaf//9p0lLsxmJQCIwVRGY0kI+SLYb+M8++2x1++23Vz/+8Y+rv/zlL9UhhxxSfepTn6pOOOGEat7286oqdXw3+PK3RGDGIyAae/PNN1ff/va3q6VLl1Y777xz9elPf7q64IILph023Ti122/TDojNDdqwYUM1d+7c8vrTn/5UXXzxxeXvM844o3rf+96XQr7GaSaOi+k63rNdUxOBSSfkGU1Eadn66aefLuL773//e/lu1113rQ499NBq4cKF1R577FEhWdGxbgnJiMqvXbu2RNQY4X/961/V+nXrq+22266aU//LNL4IrHp6VfXEk09Uy5YtKyslnK299tqrOvzww8tqycte9rKyHWqkpC/1/WOPPVbdd999JUr65JNPVhs3bizf61cRs3333beMlf323a9rfiOVk99PbgTaAgJn/OMf/yjj6Zlnnqkef/zxauXKlcPb6URW8QXusDK3YMGCarfdditjRXJ+Jz6ZM3tO4Q/54hA85O/pmPDvAw88UKLP999/f7X99tuXoMdhhx1WItPmluuO/B3bFeHQ7ovpgs022wyZSG1lNx5++OHSNJzz3HPPTZdmblE7Nm2sx8PsWSVg5vXCCy9U++23X/WqV72q8G87WRlfsWJF9be//a0ce9xxx1UHHXRQteeee/7XCvny5curW2++tXr08UfL2Dv99NOrxYsX/8fYa+efnxOBmYbApBPyDIIXg8pofv3rX6/+8Ic/FJEmmv6GN7yhevvb317ttNNO1Q477DDT+mtatPfJlU9Wv/71r6uf//zn1Y033lhEEdH9kY98pAiG7ddvX83bpl4t6ZDCMWMIOHm//e1vS5SU0ycfxtW4YESOOeaY6rTTTqte+9rXlvw5g5mmDwKx5cG7C9ofeuih6u677y7R83AS//rXvw6LAwKUk0g02BrDcTQ25s+fX77vJOKh1c2pnD5oDrWE02JOfuc736lgRzxddNFFZRvRLrvsUg6CN/EWuMDe3943bNxQfh8Jy6mGV9NZmWp1H6/66nuOzZ///Ofqc5/7XAmmcP7e8573/JeQN0YI+d/85jfVj370o2rVqlXFnr/1rW+tjj/++OJkNxOO//znP1/ddddd5Tdz+JWvfGU5JIJ+49XOLCcRmKwITDoh3zQAjzzySMUjF12TGBYREhP51FNPnayYZr16IKBPf/WrX5Wl6tWrV5ej9bVI4Jo1a4oQFwnsZEQd5zxG48477yxReZHU3XffvbysvsiTsbjm99eUiL8o7dlnn10d85pjZpQo69EN0+Jnjh0Bz+Dfcccd1S233FKifcaAvcwcw3D4jS0RQFH666+/vkSdjQ+RZ8L+Fa94xbQRoKPt3E0vbSriSuTZXJM4xxFg8bk4Tps2VqufXV3whr2VznCQ2mJstHWZjOcFJ3nvxE+Tsc7jUSerFVZH2WrzzBgy19pp3fp15fdnVj1TxL8AjPGFw42xdhKcsbJGwMcKm2PkzUZkStqOXfUAACAASURBVAQSgaqadEKex/786ueLsWVMYvnSRakMsogbwrDUnRH5qTeEkTERRYgjY5E+YlxEVH8idNG+kZbqifLvf//7JQ/GwnKs6LvVmgMPPLDkySEQlbXMu3TZ0pI/B3HRokWlnEgjlTH1UJ25NRb9M5a+9a1vFVFJHDDwlvYj6h6RZOPFWLCkL2LPocQleMa4I0A7idAQsU0xG39PRzFn65AVLFiKyM+bN6/Mx9hmYrT5TJBZLb3kkkvKPHznO99Z8LNdKW8iMDPmpHEgeEJo77jjjqXRHOiRAjHbzt22ROwl48z5uNk88nc7WXln622DU0Zs7UoR30YqP89kBCadkLdMR8gxtgwzj10i1ohAhlgUjQEm3qbjhG4SWr9CIc7p9/jxHPSxBKrffvKTn1Q33XRT2QZDeBNb7gQRUT9CvHm70KgnMn9h7QtFoIvE2xNva4SLzl73utdVRx11VDEgcDBG7IFmKH7/+9+XiLxorUj+SSedVIxCpqmLgD7GEcbQb3/32+qnP/1pGUM+H3nkkWXP7YknnlguRLT/PTjC2LJSc+aZZxZH0PYuY+PWW28t22uIUOPDe7/L9salcTddtpIYFbY4cKqtVBBn9iRzhprinKjiGHlZ/bD1EQ5wG2sRPxo+HHR098ufzT3zk5FrB233lh5f5mI9FiIZL+bZSBF2xxkf9tQbKzB0rFcnPDkJHMmnnnqqjDHlvbSpFvx5k4ot7bo8fxohMOmEPGxfePGFIryIdZPb8jihJppKzIugEWUI4Ygjjtii7uiXwPstpBBNh8iC87WlE1m18+7nmC05p1m/dl3H2girp73pVlrcwu93v/td9cTjT5RleFukvLsW4vnnnx++V3Mz8kfgi8oQ8bfcesvwxbEihkTX+eefX8R8JMZh8ZGLi4gj2B979LFq+d+XF6FH1LlYmkiJKFAbx/w8+RGI/dn3rbiv+tnPflb98Y9/LM6bFRci/V3vele5KC7GcnOOh0AnTgn8yy+/vGzFwSfEvO+cK/IXyXyUl5exHJ+9ExnN1J5Pfht0Pnean5HHoHkN0pvKJcYPOfiQss1IWZ3KI9yIKu/wMs+8w8J3wYEjnT9InUaDX6/81a/drvbnXnkM8nun8gY5v3lsYNs+v9/x0RxbY9HmQfvYlqxMiUAiMLYITDq/VoTLS6SMcT7wgAOrU045pXrLW95SIm0MiO/tbxVd6zeNRFpNIkJyxUjVojNePjeNU6/y5BdGv/0+Uh165TnWv0ebO9V1rMsK/Na+sLbspbXd5cV1L1ZvfOMbq9e85jVlSZ5w1+dNIxP1IOJ9v+qZVSWKKiIvGu88Y0IexIdyiCxiYvac2SUif/LJJ1eLX7m4/GYrxZIlS4bvAz7W7cz8xg+B9RvWl+i7SLqtdhx7/e3CZts7OP3mXszbGO/GUSzrW81729veVp177rllG4k85Gd8iQ4OmpQVEcbm/PJ3iK9O47tTOZ3mZ7MNnc4Zi++CD6yIwc/ndoo2iLyag+3EAYp82m1v4hB/t88fj8+d2tVPuf32Xzuv0ZbXzsfnwLaTbemnHMfEcZ36YyL7pVN787tEIBHojcCki8gTdYQ64eViq3POOacIMtsnLOMyuvbP26Zhua1XCvIdieRE+KUgOO/u3GDpT3IR1yBJ3bsl2z26LcO3b2lGyHZLgx7voqRC1vXypOhIk8y1nRBmjLvVsVt92r9ZGrU9Sl/qU5F3Ufg3velNRSzELcjiotf2+T6rlzxE1R1PuC+sb2tmW44LXKVt5mxTnK+4kwbcrOR4aAuRZ8x42febaWojYEwR8Bwzq3Yi6QcccEC5A427WhnTxHhEz6O1Mb59tipD+Bt39tgbn5zMo48+ulywh4ci2l6c+zqA4FWu4dj82TvHwMv3IeTxRyQPnhskmZ/NZB96MxnX2tXvihKnt1tqXhMANxh55ygpW1n4QMQ98DSHYYSDbaPwt9VSzrjygmPk1YtHYv99m5+jLoPy20htlZ9+ilvU+hsHusuO38Lpw/fbbVvflnjz7W+jHvJVR5wVf7fr3Kns6M/Csy3OdXwnZ6hTPvFdL/vS6yFlzlfveOFNts7n0teNtnerx2h/Kzhsfo02jzwvEUgE/hOBCRfyDAESYSxiH7Q91AjcBWuIzjKv+4wjKUKYmPvH3/9R9nA2xdtInRukZZ8nsvLuFoh33Dm0b9pefGUTCIShfbbEJudhpx13+g9SjzJCKDgHudsecvtt9cWVy5eWejFo2qZdjJwIoKV/+0+1y/fqEnsArS5cd9111Q033FA99OBD1SmnnlJdeOGFw3WKch0fy/7aLjnnsssuKzjabuK2iwRJGB3ESWQQP/aXE0APPvBgtWbtmmLY5KdO9qxrs/N7GeCRsG5/TxAx/JdeemkpW75wgLG22EKlniJ8vQwjjGDKmSPSd37Zv52sMLzt8vWni+/ivs/Glb4JB6BXme388vPEI2Asm2+2anHmza03v/nNZXUmREI/41ff22rl5cJX45GzJ+9999l3uKHBH94JPu8EtXFrTl199dXlFqh4iVOx6y67VgcceEAJQASXzN1mbtc7JpnLT696utxmDx9xel20HXvPcRb+s/ffyqT52t7Wo8JRPyuaHF8vd/UhXOOe+uaPbW0cYe/yLW2rrzvg3HOOcIRtcMo/77zzqte//vWFr+TrwVjqiAN9dgzh76F75vOXv/zl4gTgFY6VFRKClojEAZL84GMeBp8152JsnxK8+d73vleuq4ElfsNttsmpTz8pONPx+pnjZkXX+MEn6g83nM/pV4axpC9nz5rdtd86lS8vfacPveKC6lht1m+4ll3Tn8oKDIxtgYoYc/I3po0zGBgfeJDz5Fj8yjbaKhbXNnC6fK/PYx5wupxrVdPfeNBxymGfXG9kLBhb8VyFTm1rf9ecG9F/3kda0Wmfn58TgURgyxGYcCGPtCIhptvvuL08AIqBRiivfvWrC8kgVMYMiSPJu++5uxzHgOyy69D9jTvBgQSlIBkEg8iQOGKzN5ah8xmhI0CROaQob7ctXFhHf5FvMXabDTmCZHzVGVkT4c4jqhmxuEhX+xgSxE3AKocBLQ+2OnBhIXB1jIgxA6lOHpjEwLZvsymCMoxXvcWA0+DOEfb6MqxEK4Ok7qKO2oP4CQ3bBuwnvn/F/WXfOKJH5tqgLAY+bh+G1DlR/QiiTrj7Tr6Mp7KVy4iKmp5R72nX/ni4ykjnx/faxaB7J6BEzcq+3Hm9bz/meFFH4kwiKBixYqTrsaD9maYOAuYcx9A8iuikMY8jiDBzKRzYflplXhNU5iexhHfwy0MPP1TGf8x7eXoFXxGw5uoVV1xR5ryxLarvGBxhPhlz+MN4P+Lwka/lMa5X1Pv0He+5CMQwTomouDloHJvPjvNyn25COASgtmo7DoONi7xdzIvr4KRd6uWlXeakcs0jHGGO2JImOV6bXH9A6IbgVD5+4By4fay8IjkOBl7mlpWOEJmc9HDaOfSBKb4p5daYRf2HxWAdJeZ8R1kEqDI4BcErw4X3+AMH4Vdcee2115Z24Xz4KiP6liA2Djj62uZ2tfN3nD/QQwNxizz/cuNfqptuvqk4DTjHK1YvVNf4sIqkLKvCgieu61FX/ciRcStQn41LeBPyxgb7Ij84yJN9wqVw5eDJ25jxim2qbIStjbfecmtxGPVxjFXnqIe6O8eY6OQk9oC5r5/D0a5qsxy2ua8T86BEIBEYEYEJF/KIKgwCsmcgRTAi0hb7qLUAQSE8hoyheWrlU9WS25cUcR8R1pFaGgbCvei/+tWvFhJDoESh80UikGKJ9td1QMbq4DgXvzFmyM3nWAV45NGhe5ozmgibeEeujMFJJ55UhKbPITqQMENHUDPw9okTtBKD5m+kKjlHXZvf+b4ZeWaIGXz1ZWA5Cs53jiiLuiJ8RpABVTayVj8P4IiIlnoT+4zBVVddVfJ8xzveUVYEBk36UrlIWp3kyRgrm4BwMaI+lBjSZuoU3fG7duor40OKC+uiT/8jk9YHIo/AI0LCcGh3iIlu5+Zvkw+BuKORC6aNH2NNX4bo9nmQFE42UUXcPvfsc4VfzCGrf5FqGV8cefOU6PEwGxzkWONJwIGwVieCUV6/+MUvSrCAaPSwM2V0SqLU7rzDMcA/hK9VBmUZ6/LkJJgDeIY4J+bK05AXHV44wdjWFvOMaHN3KPkKfuAucw4nENjmpToJhNhe5Dzna5/rD4KPA8twEHAZTFxXIMhibqsLPMwvdY4n5crDebjV6hmHw/kwUEdOi3e/hzMddYCRsjlU8tdudSP8OWxWPAZJ8hIc+cY3vlE4VX7q5BVOBsGL80Moaw+HRNAlUj98A9+vfOUrZXUCrtpmbFpN4IzhMk4F/GHAxngA14c//OHSn4S0cqyMONb48eA8Qh4eHEn8LU/jjlNrDBo3gi/61m+R4MfZNBZxPIzDMXOMMowvdgJPsyFuEZkpEUgEpg4CEy7kQRUGQ4TYkucD9z9QCB9pi1JISJEgEylHfM5Zcf+KEqUQQWCk+okeIz7nMAoLdl5QljUtpSJcpIYELSsjfNGxiMCJLh126GHDQpqYR5KeUCfajJQRsfox6iJHDAGiRtoRTUG6hDdDx5BoEyHCQMZdXNSBkGd8CArGTj2aIsX56stYy0/i6DAY8pSQuigMkeAFI9F6y7ki44zr6udWV6vXri4X+hH86spgqHsstZbM+kwiguoposSoaXcsp7vDEAci7jTEsPeTjItYSuaIaLvX2jVre0bUtZmTp/8kBovhYrj1+aDCr5/65jFbFwFjwPwgJI0DY9Xc32He4E96Nj7wB2EqH1FQHGF8NKPds+b8ex8xMWTOEUZ4yhy1cmYOG6d4wZwmVIl6/GDOEWjmaDjQUPK7LSyEFu4jhAliEXfcR4gbs/JSpvmEmwhQ5cmLsCtzrsZCkIDow2G+wzFn1CsCuMl41y6ij7O++267l3x8HyIVz8AynGV5CHCYy3vusWe55oTDAi99cM0115R3WMWtPwlF5+HsuAUojHHDL3/5y+LkaLdIMwz9JrWFMgfhhj/dUKLHcBGkwF9Edr8JxwgMWZ3geMkTP+qzuNUo3BynXtrvZYxps5XgQRKscDzej606ymLLtHPDug3V82ueLyu4+h0ObAdM9VPzmgV46Utbt/SZdtv6aBuNvNUTZjf++caywhrBibBZeA6XCzQZN/IWsIotX9ptvKovjH2Wn5WZplM1SPvz2EQgERh/BCZcyCPQ2Ico6iRKhJTiIT+MK9FsS4kXI/fy/V5eDAXiRVAEZ0R5e0FIFBLKIuJuU8fQIUiGC3ESmYzhN7/5zSJAGWEGU+QqouGeTse4EsnKR8TyJFLf+973FkNR9uNvM7dcTCVfj6H+2te+VsibEdVW4pnI1FaJoXQu4ypKHnfmUWdG0fcI1kv7GRoYMOzqj6jhAy+CRDTnyiuvHP7dCoD6MbQMbBhbYoBDw/ngvGgz48d4yBPeI+1Bb+MtL9FCmBJaDKj2MvJe8JZCjHuPNnlvJ8KDsSlGtW6zRDSUbVBzuw9fRolRk4dyCDR1gj1hM4ggaNcrP08MAvqRWLr/gftLv0r6sQibOjI9aOIMG1cxRozB5piM/F7aODTvCl/Vx4fT7jH0HHfjPrYzEKjmtUgqZ9xcJsZEZJt7781pQpYDTXCZGwIB9qSLBOOP7bYfimQTlur43e9+t6yumZ+CCLGVLpxicw0fEHXm9Cc+8YmhZyzUF+DiLfOBEw9Dzi2+wR2RImCgjeYPLMy3plMjaovvvHAfzLQNrwg6wANnyV898JZE/IdQtVUOTs5Vd/iFkPdZ/fDfbUtuK+fututuJVosv6YjNFzxEf6AK86VFxEPV9wf1wJpr7p6ccbwPJ7Q3uLg1Ft8mqIWHlJwVrtYY1Ef4lfCXJ3hID/1Vn/9CHdlsiE4Sd3wNY6EKyxE7mGkDRzO4487vvroRz9ajnHhrAcnyhPexrEy5KsOyiDOOVny5kC6S5M7fXEErESHnYG3sejdeGo7VO025udEIBGYXAh0V0LjVFcGGHla8hR1QpIRDY5oTVRFJP2ggw8qERWin+FCVP0mJEmwuqWlO6dEFL8Y8DqKjPCQnGVu5E9AioaJVDNSyI5h9p0XIc2IMQCEsou4pDYZIleGAmnLSxSEwY3oCqOhDnEhKDyUTXSKrHAMIl95R1RSXowLIRP3xi7GZ8NLZalYO2AaF/G6+Ex9JW2Jvw8+6OBC/tos6QuRRfUhWvRRGNxyQJekrcp2zQBnSFvg7YLEiU7qQiRwBDIlAoMiYK7hBxxi69npp50+fI2O3wjgE44/oURfH3n4kTKf8IXgABEZd8NSLt4i5PCYuY57cERcn0JcCV6YT3H3LPxH1BHQtoHYqkbMeXF4iUM84lx1Icya2w45+c5vCmd1cY5kXmhHODPe4ztBCdHaqJOVgBDrUYcory3O5a0eAg2EKO7EgVYOiM8Q5yVoUwtfnIfb8BAH4PgThsRxP6uupSGbE75VBp4WFBIZJ2b1RXMlIoS5uhDQuDC2uTSFfDPvTn/L02pKCPpO5+JctuSss84qjpy+9B6rjvIV3IKJ/PSpZKsmB0H/SXFtmHETY6/8UKfgN0GVcFYJd6saVpECR46VuyyNxgmOsvI9EUgEJhaBCRfyiA7REKzIlgEgHIlSBq2dHI+MLVUjW5EdBjGiwO3j24KaIWSAwwDG8SV6W4tVhBjbekTICFGGWP2IZyTMSDJEomIIMZav1SuiWJwCRjuiyCIxVg0suRLwxHXspT3l5FMKYStb2xmZe/95bzEoIipwEbUP8mXsRFsIZe+xl5O4QNbqACf5M2SwYQzV3fHErFfUTb7aph8YIJEdfzOiVh4iQhXGto1x87Ny9aFIkv28DJRI3Zmnn1n6rVeKSGCv40b7O6y0L9o+2nzyvJmJAM4xlznt7lnfTHjBb8Sulb2jjj6q2vidjWUOifyaj8FH5rC5TazK0+9EFQcgnHTcZpzihhiz5ldsByL8cF+IZscS/PIhXnGUd06+uR/8Vcu2Um3nxZazfnszeNLxeEF9Quj7W36Oifdmvr4ncnEpbnOeaDNBv7C+YFMdcSaOIm4dh7s4B6Lc3gdNAgrykqcUW4PURR/oK3/HC84REQ9nR7uk6LtudcC/Rx919LDD5hznxx2BnItvOTVsnJUGSV/GNVY+q5fjtBknw0LQyiqpMQIr9iLq3eYz4ym2jHlnb2J1mS0g6HF80zFSz37a2K39vX6L+lb13Z23dlm96pK/JwLTBYEJF/KIhCGLW2OVPYz1Vg7GSCSC8WumMGqiEMjL8bGcHBcUxfFBwD4jPQkpIjIXTCGSJhn6XZ6MkAi46Awhz+AwWowCAlVf0WoiWXSX+Lb3kOMxHLWud4GEqGUQ5CkaReDGKoPzvTwgKcpWrrz+9te/lTvzMEAib7b3OI/xEa2Ki2HVi/FWtvbP237o7jrKVl8GQFJn1xYwjP6OCA7CV7doI8J3nvIIeQa33Fe/xqqf5DiG050hOCywZryPO+G4EnGE13ilZv9HmQwY48hgt6NY41WvLGf0CPQ7Dkdfwr/P7DR+zBPzrykqCXjjyTwijtTRnCfWiELOO56KsW/ciW77Dr85Vr7mnb3Ttuv57CWvptgies3pyEt5ovm4Yf4O88u+b46DvDkJLsrlTFvBXFiLZXNQ3fFoOylLJNh7PzjjknZSHxzlotn2LTd9z6nn5NjX/fgTj5eVioUHLCz7/OEdnI7zBEokvInf4nqpdpndPusrXC0R8ea/tqmLpO9wYAQplK8vtyRFpFw/6Ht2DC5sA+5VhrZaicH9ylcneDomBLXxxBaovz42VtyK02c44lZ9yWa4/7uH7rFvxo0LVo09x7EL7IWXaxSUHzeIgInxZTx476fftwSbPDcRSATGHoEJF/KahLwQt8gz4n1q3lMl8kA0i0o1E5Ilbr22324oio2gOAJILSLSzglCjL9FpBAVQ/rCi0OCsh3JcA7iRZJxe7RY2gyyd4x6EdGSOonESc2otbKQcVMQIE5RYYnh1vYmeTM06rn3PnuXYxgze+kRunpbNRCtQeaEtjzskRR1Ywxjm5Lzon7qAE9OhItetZlh0S5GRP2LcasNQAgEx0SUyD7dfpJ6KysuymPEbDVyLUIY4RAQYczCiDJUDIm6tEWGY7U9nLEwvura7O9OdVSfWO2Qj/IILN+1+77T+fnd5EMg+jDGg3Fr7MXFn4PU2HhzvhRC0jwieJvzth595bMxFxHbKCeEn7nfPAcnLKzFcwQj1r04JPKdp0ximyOv7sa0CxsJeWPT/AyhHPPBObF1JsrGlzgAp8DFVjhCn0h09xrXvLgbiTFvpc++edvciDv1Vt9otzzj4UC9xLzfY4tH1MW7PIOj2qKQwJU/TByDHwRh7ll2T/WWt72lzEf4ikzHLYjlqe76w1weNOEwL7YBB8U2o1h9bXNNp/yjHd6DM3rhg3v1u2CGftQnXrheP/mODbFqIukD4yfGtM9lX3y9EqF/vQRi3FVMvxqDVnhtlSTKOUe4MLYmRZ39ZiuRgIxtlurDFsTKhK1cxL6glYCUFAEOdWj3YRufGD/xHm2RR3MutM/Lz4lAIjB2CAzOjGNX9nBOIkeiuJZZJZEM20aQeYjoOBiZMwAMmNs/Ss51RwJbS5rk44KgSP2SiiXQEH87zh+6SGs4kxH+EBGJPewjHDL8NUMXxgCZN4nQQX6ztUcUiiOBwJEvwneBlqTtHB/L5siekSPkRWPaycpGLPkzZsQOcka0gW1EhNSF+PC9O1ocuPDAEslj7PohdWVbwbi2vlczMa99DI6yGDW4hpFQxoo6uhj7UX0fBpyIEWFUd3XVLkaGoVOXMKK96qXO8uTwyD8cBfXoZaDaOObnyYOAfiTIjAl9K8pJFI90e8duNTdGBQLkY9zFfvS2gxjzNARKv3yirsYbR1X0Nc4jyiOvcJ7NefMzHINwMJoCFj80RaQIvBU5c1jihMSzJ7SFoyDoQTS68FY7iWei1vZE5zcj/m2smvzUbHPze+2I+4LHMd47zTFzVpCEmMcJsMfzbADnQl3UGf8T4Lbj4bbYYtKuX6/PMMSXxgs+3dpJX7ouAj9rE/FMvOM5L+MgHCgOnLpJ+tj4k+AWOOJ2tz+W2Bj9Z4XFy91onG914/AjDi/2T8Cnud9d+wV61MF8YUucC2OOAZ4m6uHsXGMwODsDHQX2TInApEdgwoW8CAKxiuQIzkjuNNAtMVzIzjsjhTyRXDO5c0snY9ItX9HuTes2lbqsXrO626Gj+g1ZF8NXp6YobRpnIoKhs/eeEOWoiLDDCkkTH4wgMkbS7kLRXOpvVozAUY68RMdFcJSlDuoCQ4Tt1RTZVkNC+AehR/ndGm6pnJiXFyHOsMXFwsS7skOgMHTaxXHjkPg7HqxFlLlNmkgRocKYh8Ah3CJa2a0ufmO0OIjqoU2SeshDPfqJyPUqI38fPwSMV86m8UCYcOqNH/MhLuQbpDbEImHrfOPCOCRkiKYQx03RKu/43E85BJR8OaHNrQsx380tvxPdoq/nnHNOia47PrgrIv1NJyKEnn3WcDCXQ5DDBhbyI5LNKXPQXDA/CUCO8nsufE9pp6httCscjGZZ/o7v4zjflWPqYEn5rebaOM4xvuskBM03TgTeIiLVD8fph5J3nR/OUk/tJk6tMnBwRpOC68x/c37QFDj3c572C0788Ic/LLcTjUh64OD3QZKyXVgc26I4XWyBiLzVVRF+Ky7sHzF+wQUXFM6GVyR4syWcGP3MTsb1S959di0TAe/v888/v9zVZ1C72W+7Ytxvrfz7rUcelwhMJwQmXMi7jRxCZ2QYNFEB5C0hoYhSBOiMFUNOyBFoxF9cMNXehhNifxAyRjDKJBAI5XbqlJdyvRjPXonBYtwZa8ZUHdsRYuUT85bBOSexl/6OO4f2yhMdSJyx9HRYF8LG1p52+RGRJ1CQPdEvWXlwOzrGpROp2nPpLgnNaKBlccd3MtBRLuMFizBi7jNt21MYVO3VPu8MuH4UpRJZ4sy5pZ7EGMEo7mhBXOl7BplwU4bzYptSu93xOepibGnLPnvtU4RPCviREJv833PoQmz72xgicDirg0bljSHzK7a/GE9xa75Aoi3kfe92lP0kY1X9CKzmVpSY9zH3jUfbI+LBTT6HIxECfVg41w8LihQCN45RV/zifCIfx8Bk2T3Lqvvuv69EYc1HW/Ouu/66av8Dhp7TsfjIxX3fucRcxgGFN+r/8XeINHXrdv91zsMRi44oKwKwx2W2D8YqCFuAI6wuEPywKw5D3e5mtLkf/OHCScIvy5cNbWPp57w4Bp6d+LGdh+P0s4i3rUy2r+hbfYpv2IbgKmNWH6mT6yHCiYw+lHeUqb2zNg1t0TS+YWdFgwhnN+MhYvrTxaxEu0T8S9E3MGBX2QOO3qJDF1W33HZLWflQV/PHsfi27J+vV2QHxboUmCkRSATGHYEJEfIhBlc9vapEZNyCjYhDeO7F/v73v78YH0SI8Jqpeasse0ovv/zyIuwch0BdWEmwiuYgJmI3yJhhdBySlHcYxiZhMSBEn2gxchQdQo4IkNGUF8K1VKsMSd3t73eMe8E381MW8cmw2jcZop+AINSbF3BFPZ1DyBL9IlOiaUSvdyTOebFiIMJs+wusGMFmUj8G0HEMDOPhc9zGrttIGyny3sugwVe5nApCS3tFO72aKZwhx8HBefoqbn3pWNsBrB5YflZ37TA+HMtJ4Ly1HYpmVFIZzhEhg53ftH//A/cvfaHv9XPTeHbDJH+bHAgYg8aDOW7c28LA2TV2zBlzyjHmeczPZs3j+xKhXbO2WnHviiKk8IQxS+SY782xJb94mXO4Y80La/7DqTVnCM3meFr5xMrhCzbVuTn3jE/j0XyW5G9Mxla5WH0KTog502sO+r3ZbvkTkXAhmIk5IYdFGQAAFNdJREFUnGlOeLmHvTbbWjH7pd4PPwruhk9s2RPp9nfgrj0jiUDnw+jVx7y6unvp3QUT9cCf/raVBL85DjeGEG5j2+9ohKPycOC999073B/4oBmkaOcXuEffePedesXf0Sc+a782xEW68HGBrlXQM+r7yds2xD7oX2Nl5VMri32RHxEtNVc9mmUYs9oRWww5OK534PBY/fy/b/1fdfmPLy+cKFovuk70x1hpthOH7rH7HtUxrzmm+p8L/6f60eU/KhfQcgJs1XSufMt2rdqJyJQIJAKTH4EJEfIhoBbssqCIUwKcMUY+osuizEEi3YSW5UIESewSiwjRu6gFoxwpjDADRxy7o4rkARkuYmsmpMfIE+eiRUSfvAjUEMvyUzYhweiI3iNB4sIxsYVDvohaHkjfsR6Q5HikzGgxtP4OA+kcYlUb5Ie0LX06VzvVw+Pp1U+94MVQN3FSB3kgY2JZ5Ac2ymV01acpCBgK5Yd4cPcDGMjT+SEMeokIZYqgKZ8QJ9I7iW3lKBO+jA8Rpm5xMZ7yYKNviR1JXUSLFh22qBhkYl40yzKw9sQxgSMHgJHjiOlz5zKsEcHUlm6GvGSYadIhYCVJf4saikYaS+aCviaUms9laDp20ZAYy8YE8fKLX/2iWlE7eyLXouERAW423Fgxjr2MW/wlqi2SKfJpjpT7w9sqvjmCK88ldywp80okNrgh8tUGL+ObuMJ/RKA5bnuNdhUHvF4ZK1HZug5SjG/BC+fgAPNcvYIDYs41HXLn4wnjX90FQeAWK1txZ6pOd60J/vQe24SIzsBSXdXLnFOPbimw3HuvvctFljvtuFO1dNnSwtu4CRaxHRDHckBwnvqNJmmvfrWdCC54VN/gVXXp5PDFKgo+K7eH7O3flKBFrDD621jEZ25Takz5HP2iP7VTVD22+8APX7aTOgYvcxaC63y3sHY4fTaOjTHjRb9oU9Pxi7Ejb383BbrtV6LynBD9Z16wF8oyntr83a5ffk4EEoGJR2BChHyQMsJAqiIAiIcAJuAQjc+MBjJtpjAqfkeODCRSZAiIR0vHIkwh5CPa653h4ThE9I3RR4bNhMCsEnghNucR23HLSMcS2QiQQWR8RboiEtK8931E4p3zzKpnyuPMLSEjb3kwUiJhSLlJtsgTFqIjIjh+g5GVi7323Gv4lmWMFLGrrc0Le5VHXMAGRgy+drsgmFFhxGAmX8a+PHxku6HVBRgyMIwCRwU+sO7mUAV+8HVHDBfbhYhqtstxjAwB7XsGxNMv44KvU085tfrQ/36oGPhmVJGRI1bsEbVS4sm/6glz4iQuyJUv7OCrb+wfZaDUHRbEX1PIt+sW7cj3yYsAwczx5SzahqdfzVPz1Vi3HxxvGEPmgLHTTPqcYDIf7GM2hox1QYR3v/vd5aFlzpeMQccb//LxMh8JtWvrC7pxgjsyHb7o8MJZMUcIUY49J9U56mWemkuR5Mu5VC5OEJ0173CE7z3FUzvNF5Hy5n3IObGOf/jBh6ujXnXU0Ba9WuiGeAve6RRRhYk2qKt5QiT7HMd6x3le5pNX/O092ugdhzk3RCSRjKfCgQhRHxwMC+2WpzvYmLc7L9i5YBRC3rw2xwlUPEXMb8kDi3CYVYjHHq157Z67SzmCKfo5Vn2jT3C/vlMHf+McbYz77jfHUbe/tRd/G4O4WR5tQcwJFcBiO7TVOW0+inGHSx0Tgr5Ztv7UF5GHY9oCXH9IYVdjnPhOH8EYjwqs6E9zq51Ht/aO92/Nh6qNd9lZXiIwGRGYGCFfGwvkJErshTQZOSK4SVZhADoBh/QI7LjYi/GyRG7fYHOvvOOQqHcvxpGQZ8CRqCeych4IPPUQ2XN3B8aVgSJKiVORszBQjJ/EQIiGxGoAYRDL14w3Qox6iaqLtmkvcucIuAsNAx9RlnY7CQXCW9SdgWEovdRF3rYSMBjaZ+lZQtIRnbM0TZwwnESzqBTc5Qk37QsDIQpFeESkEbF7/DySD+Pdrl/7c9NYdTI6jieOQuQzcMrXH8SJC421pyninQNDWBBu+ljfwNz44ATYa0vQaQ9xov/j1nuO0wbnWuZuGrF2/fPz5EegOcbwhTFqHHDgOarGkjlMRDUd+mhZPGDNGDInYyXINi5zMba6mEMhrIJDlG1cG2PGq3u0cxSdS5TiFk6CfdKcSE6+KK25Zr43L0IkzNUR5xD9eAF3ubhRHne+7s7CiXjEfOE8cDjKheMPPlStemZVmZc7vmzHUm8ize8utCTyOerGPa5RL3Umsjk86gYH+QskOC7mmTzDaYFlbPeI7wJHOMCD8MMveA8WrnExr81Fc1M9cGuJqm92DgLXWFFUN+dbYVMX4lTf2kffL/eMNHI5A+76ArNly5cVblc+jnC9kDrFqiUhi6MlY0ckXzAlAg8jleF7GDfbiXfcsAF34VX9iNe0M+yU8apMjiM8Yw99s5wvfelLhfthpU5wDMeJw4Gv2SDjmD0SHOIIGr/62zj3LhnbscIZZXAmODZWl/RD2EKYbI3UbWUlxsXWKDfzTASmMwITIuQBitCQEDJCQogbCQXRmNSMXa9lzTDYDADjikCbQp6hjAgbw4NsEZoo3g9+8INidAlq5KgujJHv/M7IIXvLo4iUsWTQ5LPLgqGoPJFtOVLZ7tHOKB97zLHVIa8Yuo2X7+OCIpFxhM6ge7IsQc0AdEsEgjowQISBhKQJ07j1XHsJneFRT+eKGGqXehAVV155ZXEGGHRG1rHEs9+120t75K8cBoaxG6vEsMmToFYf9fQ3Qe83ZfvdA7skmAdGxgijyHDBUgSTyBHBMw6I/eeefa569LFHC+bGgnwJHSLefttM0wcB4/dDH/rQsDNImHPgiBJz3Lzh4Jn/xrJ3IspWLuOfYHZNjeisa3PM5UhNZ9IYcy5OMsbMF7yCZ+wxlxeh7jfC19gj4vyNl6wEme+Ec6QS+a7/GZPOJb6Ja1HjBx96sLTB/Ha+efHsv54td9GKCxMJaEGGZuRUPa+++urCa+YKISqqrF5+wwM4JK5FwT/KDufFXHHdknpra6yImqO+a6ZwavCZ881l+eLRHebtUG273dDDhdQfrua0ejTFmrqddspp5dwV9cqs8mGgz5yz6+6ju1NNs56EKX7H6zffcnPhD44Mfo+gir62zQgvOk6QRJvxP27yUm/HwQTmPjcxgYf+jZd2GBvsnPHhe8fjWbwVW5o4O0Sz8WlM4eMoz7m2QMlHX+JzThLMjV2OHy4UhPEd+4m3YW6VVVvNCU6uvK3+qAc+J9pxLQz8LsFJHo6RwtY18Wz/DQdOpvart/dYHRgpaBLOITz9He3tJOT9buxGXjEP+6lbu675ORGYrghMmJAXJYhtKcBlDBgfeyYHTYwao4D4CDzkJIoRUZBNGzYVsmHIGNUPfvCDxXh4uIZzXPzVJAaGmoETiWfkEWhbzDLECNMtvxAkAR/L44zEbUtuK8SPoJEmA0dYiA4xoP5m2HolbYCLaJWkHoxOXMDWKXKCTLWHALZ8fOGFFxZHRB7ErfNdJyAvL3WTj/McH6sQIkB+8/1YpVh9iOXeMGjEStPpiqX+drkiZB/4wAeKABJ55QQSN8aSNsBa8rfbV4pS2XMMwyT/NppT+zNxaH6ZUwSQeUhAEUvmOzFtCwwRoO+9QmQQRuYv8WKuGx/yaCfn+p6gILrMl3DGRUflz5H0rkxj2LGcDEKQMBIIcE4IlmYZOMIDe8xnAlME1fwkwvCV+RcrWIIc5qI8OafHHzsU5ZdvON3ysRKnTuaW9vpNndTd365BOvGkE8v1JQSz/eqSOenhb47RVhxJMBJYsboY8zfaoI3nnXdemW8EJycGp6qnoAkHhrNEgDXxVWdtW3zU4mrp8qVFTCpT/jjo5JNOLs75WCTcx5HX/7YnEuvFaaoFdWCqbgS690NfcWjZ345r1Ad22oNrtMNLnwQvRr861liCm/4XqHIO51L0PWwILK0EG69XXHFFEduxP765AmF8s22w5Qywa8oK5y1Erj4wns8666xiq+QvxfnaVLZi1dH/GM/qoh3y0E520TziPMZ4KtHzPqhfHYPH2V15yruT3XCnNPVXvvniPONLHZ3TTjFm4xh9KBmj8m+v3rbPz8+JwExA4L8t11ZuNZKQTEAkahkQ4TMo5ZaDOw499dQxI4m5ZhURKkJEvFIYLtEGxhMRWH5GrAzD6898fbnIldFABvbUIlykQlgjJcSGaC2Z+7splpvkxGiee+65hQRFkRC2iAlDRswTp/JTtvoR72fUdzBw1wAX+vq9bRibbfM3fIhRBoJxZxiQNtIlZon1TnsG1RPpKd+x2mGJXx0ZMsRuKV5iRBhV7UHk8rdHV190IuN2HQf9bAzYRqNuEWFSV8KKEerknEQZcDZuRI0IFntNGTkGRH9K8oCNLTf6WrszTU8E8AjesIXCPCHUzGeRd/NQwAAHEAJexhweCCcvLqg2zoObmkg5x8ogUUS44xTjlGgS7RVA4DAQhkQ8HiGUD1t0WBHKnGLjb6R5JH/Cldg0rgU0RLZtoeGQxOqiNsiDaMOVggz+jrkiH7/jIm3msJvX6sO59bsABedc261AONZ3kcrq1zY7lO/CETGn8IL52SnIog7yjkipQAruxcvmtvbArfBUfZwE57homQNlO4vvnCcp+7gTjis4jkVSLudHXdRXlFuZ+gsHwxYPwx9v4Grcod1lXGwasln4ZmHNO9qChwI7+ROnxqJjrIIajwJFVjgDE2UYP8aDY3AtDsZd8sPRTZzm7zC0tRP2Vgs4dvqUbXGcvjcW8LuX8W98RzKmfMex0I/GhXPDqXK+say9xirbJF/lEfE4up9kbshL/eFDlPtbW9vJb3DTFzCCibbDOlZem+ewyQJfAmXmuTzhrcxMiUAiMITArJpAu94Q2c+f/OQnqy9+8YvVZz/72eozn/nMFmEXxSEvhpYBRBwmq8ltkg7qZVsOducDt5KbN3+IUOSFmBEY8as8y7eIFvkhROX7DpkS9kFISAVhIBGGWmpuX2kDwGgRDqJgEZWz3ImwIqIjP8TlabEu8GIg1K1XW5VrPyzDjIgZdmTJeZGf3wn5EO7wC4MZ9VSOKIlIH2MgMuO79S/WF55uOxRtVE9t1Xbt9kK6IwmQNgaDfA4sYQQ3xkW9iAykzhgpl6FtE3Y4P/r8iSeH7t6jf/Wh+hpfMGXECAKGipHxeydDMUi989jJiYA+9zLHjRnjyjzxMraMC2Mi3glM48P89Aox3GmOy9d84kQTU/LwMlY5jBxiPEIsxZzmFIfoNwbNpV5zHQfiIOWE2CIAnWduRrQ4RDYnwhaWCHaoJ4HmHDxkvqvXhnX1lqA5Q8In5pI5of7ybc8v+cQ2PBFgIleU17zsxAWOh3ngo+7aghPNY+VwVIJHjSA4e4CUpF8uu+yy6uKLLy6iV/suuuii6uMf/3g5p5tT389oDHsT+BgT+jHGCHxhEMLYu7Hh5Xt9HXwqYEBQwg2G+qB5+2D10W4i+OFHHi48y4nCT971IUyMB/ztb/bHyoC/I0gRDgLOMr7wNt6LF8z0i7Lg4zzjDV7qFis4+kJ79ae54XxJvvU9mKr5O80vbdRW53uXN8elnyCavODKKVuzdk1pCwdU3eQnCMVWtZP2xMq5sUL0O15Arz0e6QOBJ3ZVX3C0xmqlpl2v/JwIbG0Ewp5YobOzgK249NJLt3jb77gL+V5ARUN7HZe/DyEQhoqx6YUd0uwk9Mcby2Y9/R1tUI9OYmG865flzUwEOs2fTt/NTHTGrtXhMMGW6HSB7he+8IWydURwwnUPH/vYx5ILxg7ygXKa7GN+stdvILDz4BmFQIzdsRby4761plevtaPJvY6f6b838eqF3WQRye0696r3TO/jbP/4INBpHHb6bnxqM31LiS0bVkVFXEXIRY9FokVn99pjr7IS0Y7OTl9EJlfLJvuYn+z1m1y9mbWZCQj0twluJiCRbUwEEoFEIBHY6giEELMn3nYaF6vbDmQrpH3jhx85dLeYrV6RLCARSAQSgWmAQAr5adCJ2YREIBFIBKYCArb3RbJv3DUy9tfb3+86Ihf123+eKRFIBBKBRKA/BFLI94dTHpUIJAKJQCIwRgjYK+ri3ptuvKncOtZFmi4AjYtAfc6UCCQCiUAi0BuBFPK9McojEoFEIBFIBMYAAdtqyp226nd3UvEALHdTcXcTdy1x55QtvVPNGFQzs0gEEoFEYKsjMFbXe0y6i123OnJZQCKQCCQCicCEIMBwubWhiLw98R4W5Za3nl3hoU0p4iekW7LQRCARmCAEcOGWpp5C3j1iqy0vZ0vrmecnAolAIpAITBME7I/3PI9LLrlk+Im5zXvNT5NmZjMSgUQgERgRgXGNyNd3+i4P+choyYj9kT8kAolAIpAI9IlAPJzNQ5I8IClTIpAIJALTHYEQ7m6tKxLvluDjEpG3DFo/K7Q8gWosCpzuHZXtSwQSgUQgEUgEEoFEIBFIBJoI0NChoz0BeaxSz601UZCHd1x11VXlNmHtio1VZTKfRCARSAQSgUQgEUgEEoFEYLohYAVSVP6uu+6qli9fXh177LFF2Ie4H+1Wm76E/Lwd5pXbgy1ZsqS6/vrrpxu22Z5EIBFIBBKBRCARSAQSgURg3BAI4R7bbEZbcF9C/uyzz67mzp1brVy5sorlAHt7JNtuNv8x2jrkeYlAIpAIJAKJQCKQCCQCicD0RGDzTWNmzd6smetWumuXW+6ONhIfQM2qPYFR3ZMmTht+3zSqbKZnh2WrEoFEIBFIBBKBRCARSAQSgRqBTS8NPdW6HQwfC3AGEvJEuz3ys2dtjsbXngVPYku9ibFoSOaRCCQCiUAikAgkAolAIpAITAUEtnRvfLSxLyG/fv36shnf9poU7VNheGQdE4FEIBFIBBKBRCARSAQmKwLjKuQnKwhZr0QgEUgEEoFEIBFIBBKBRGCmIjC0R2amtj7bnQgkAolAIpAIJAKJQCKQCExRBFLIT9GOy2onAolAIpAIJAKJQCKQCMxsBFLIz+z+z9YnAolAIpAIJAKJQCKQCExRBFLIT9GOy2onAolAIpAIJAKJQCKQCMxsBFLIz+z+z9YnAolAIpAIJAKJQCKQCExRBP4fKGMpE+iZE6IAAAAASUVORK5CYII=)"
      ]
    },
    {
      "cell_type": "code",
      "metadata": {
        "id": "UYh4hzO_vrni",
        "outputId": "de21ff22-7cb8-404e-d18d-409f0c8d106a",
        "colab": {
          "base_uri": "https://localhost:8080/",
          "height": 88
        }
      },
      "source": [
        "weight = float(input()) # kg\n",
        "feet = float(input())   # feet\n",
        "inch = float(input())   # inch\n",
        "\n",
        "height = (feet * 0.3048) + (inch * 0.0254)\n",
        "\n",
        "BMI = weight / (height**2.0)\n",
        "\n",
        "print('You BMI is: {}'.format(BMI))"
      ],
      "execution_count": null,
      "outputs": [
        {
          "output_type": "stream",
          "text": [
            "70\n",
            "8\n",
            "5\n",
            "You BMI is: 10.636233408531906\n"
          ],
          "name": "stdout"
        }
      ]
    },
    {
      "cell_type": "code",
      "metadata": {
        "id": "iFfsSSXK7LgM"
      },
      "source": [
        "v142 = 142"
      ],
      "execution_count": null,
      "outputs": []
    },
    {
      "cell_type": "code",
      "metadata": {
        "id": "VIgyBpIea3Am"
      },
      "source": [
        "x = 11<9"
      ],
      "execution_count": null,
      "outputs": []
    },
    {
      "cell_type": "code",
      "metadata": {
        "id": "w4-fnJ4i5pRS",
        "outputId": "37af6b37-705a-4436-8e15-6e9145bbf45e",
        "colab": {
          "base_uri": "https://localhost:8080/",
          "height": 35
        }
      },
      "source": [
        "type(x)"
      ],
      "execution_count": null,
      "outputs": [
        {
          "output_type": "execute_result",
          "data": {
            "text/plain": [
              "bool"
            ]
          },
          "metadata": {
            "tags": []
          },
          "execution_count": 2
        }
      ]
    },
    {
      "cell_type": "code",
      "metadata": {
        "id": "3DA4eehQ51fv"
      },
      "source": [
        "In the following code, what is \"x\"?"
      ],
      "execution_count": null,
      "outputs": []
    },
    {
      "cell_type": "code",
      "metadata": {
        "id": "xv82-EZKTTx4",
        "outputId": "13b7ad21-37a0-4fad-c092-01dcc62a75da",
        "colab": {
          "base_uri": "https://localhost:8080/",
          "height": 35
        }
      },
      "source": [
        "print('Hello!')"
      ],
      "execution_count": null,
      "outputs": [
        {
          "output_type": "stream",
          "text": [
            "Hello!\n"
          ],
          "name": "stdout"
        }
      ]
    },
    {
      "cell_type": "code",
      "metadata": {
        "id": "rXl-YGvpVBBa"
      },
      "source": [
        "10 | 42 | 4\n",
        "   | 40 |\n",
        "   ------\n",
        "       2\n",
        "\n",
        "42 % 10 = 2"
      ],
      "execution_count": null,
      "outputs": []
    },
    {
      "cell_type": "code",
      "metadata": {
        "id": "qzAbP0cpVWkG",
        "outputId": "67691530-1269-47a4-c1bf-63c9c4fded0a",
        "colab": {
          "base_uri": "https://localhost:8080/",
          "height": 35
        }
      },
      "source": [
        "x = int('81')\n",
        "print(x)\n",
        "\n",
        "# IDE: Google Colab, VS Code, PyCharms"
      ],
      "execution_count": null,
      "outputs": [
        {
          "output_type": "stream",
          "text": [
            "81\n"
          ],
          "name": "stdout"
        }
      ]
    },
    {
      "cell_type": "code",
      "metadata": {
        "id": "TmXMX53fV5Oh"
      },
      "source": [
        "# Memory --> RAM\n",
        "# External Memory --> Hard Disk"
      ],
      "execution_count": null,
      "outputs": []
    },
    {
      "cell_type": "code",
      "metadata": {
        "id": "2dYZLTv6Wbqu",
        "outputId": "8e2bf8f9-056f-4b4a-9616-f7746ccd3211",
        "colab": {
          "base_uri": "https://localhost:8080/",
          "height": 35
        }
      },
      "source": [
        "a = 'Rafsanjani'\n",
        "print()"
      ],
      "execution_count": null,
      "outputs": [
        {
          "output_type": "stream",
          "text": [
            "\n"
          ],
          "name": "stdout"
        }
      ]
    },
    {
      "cell_type": "code",
      "metadata": {
        "id": "-w9rSv1pW5Cs",
        "outputId": "a106eaa1-a025-498d-d596-181053ceddbb",
        "colab": {
          "base_uri": "https://localhost:8080/",
          "height": 53
        }
      },
      "source": [
        "a = 7\n",
        "print(a == 5)\n",
        "print(a)"
      ],
      "execution_count": null,
      "outputs": [
        {
          "output_type": "stream",
          "text": [
            "False\n",
            "7\n"
          ],
          "name": "stdout"
        }
      ]
    },
    {
      "cell_type": "code",
      "metadata": {
        "id": "YXnwJny6ZVrc",
        "outputId": "3724c050-72c7-4b2f-8343-7d82de1d8751",
        "colab": {
          "base_uri": "https://localhost:8080/",
          "height": 135
        }
      },
      "source": [
        "print(\"ODIN')"
      ],
      "execution_count": null,
      "outputs": [
        {
          "output_type": "error",
          "ename": "SyntaxError",
          "evalue": "ignored",
          "traceback": [
            "\u001b[0;36m  File \u001b[0;32m\"<ipython-input-15-96e742c7d88c>\"\u001b[0;36m, line \u001b[0;32m1\u001b[0m\n\u001b[0;31m    print(\"ODIN')\u001b[0m\n\u001b[0m                 ^\u001b[0m\n\u001b[0;31mSyntaxError\u001b[0m\u001b[0;31m:\u001b[0m EOL while scanning string literal\n"
          ]
        }
      ]
    },
    {
      "cell_type": "code",
      "metadata": {
        "id": "HdHFu2rbYjry"
      },
      "source": [
        "# 2 * 3  = 6\n",
        "# 2 ^ 3 = 2 ** 3 =  2 * 2 * 2 = 8"
      ],
      "execution_count": null,
      "outputs": []
    },
    {
      "cell_type": "code",
      "metadata": {
        "id": "b9mYK_YTZ2dJ",
        "outputId": "43984dd4-9d3e-40c0-eeed-6e276ff47bc8",
        "colab": {
          "base_uri": "https://localhost:8080/",
          "height": 35
        }
      },
      "source": [
        "______var__ = 14\n",
        "print(______var__)"
      ],
      "execution_count": null,
      "outputs": [
        {
          "output_type": "stream",
          "text": [
            "14\n"
          ],
          "name": "stdout"
        }
      ]
    },
    {
      "cell_type": "code",
      "metadata": {
        "id": "hNpratZfbTsY",
        "outputId": "eb271272-a7c2-4f94-ab59-44dcdd7a2de3",
        "colab": {
          "base_uri": "https://localhost:8080/",
          "height": 55
        }
      },
      "source": [
        "print([0]*100) # iterator"
      ],
      "execution_count": null,
      "outputs": [
        {
          "output_type": "stream",
          "text": [
            "[0, 0, 0, 0, 0, 0, 0, 0, 0, 0, 0, 0, 0, 0, 0, 0, 0, 0, 0, 0, 0, 0, 0, 0, 0, 0, 0, 0, 0, 0, 0, 0, 0, 0, 0, 0, 0, 0, 0, 0, 0, 0, 0, 0, 0, 0, 0, 0, 0, 0, 0, 0, 0, 0, 0, 0, 0, 0, 0, 0, 0, 0, 0, 0, 0, 0, 0, 0, 0, 0, 0, 0, 0, 0, 0, 0, 0, 0, 0, 0, 0, 0, 0, 0, 0, 0, 0, 0, 0, 0, 0, 0, 0, 0, 0, 0, 0, 0, 0, 0]\n"
          ],
          "name": "stdout"
        }
      ]
    },
    {
      "cell_type": "code",
      "metadata": {
        "id": "lVrnKNoCbwHJ",
        "outputId": "aecbc030-d406-49e2-89f9-2e42f8faddd6",
        "colab": {
          "base_uri": "https://localhost:8080/",
          "height": 35
        }
      },
      "source": [
        "x = 11<9\n",
        "print(type(x))"
      ],
      "execution_count": null,
      "outputs": [
        {
          "output_type": "stream",
          "text": [
            "<class 'bool'>\n"
          ],
          "name": "stdout"
        }
      ]
    },
    {
      "cell_type": "code",
      "metadata": {
        "id": "gRjflEqniyhM"
      },
      "source": [
        "______var__"
      ],
      "execution_count": null,
      "outputs": []
    },
    {
      "cell_type": "markdown",
      "metadata": {
        "id": "QHI503B6i5F_"
      },
      "source": [
        "![image.png](data:image/png;base64,iVBORw0KGgoAAAANSUhEUgAAAbsAAAEwCAYAAAAuHt8FAAAABHNCSVQICAgIfAhkiAAAIABJREFUeF7tfQuUHkd5peaXZiSN5IdsWTaLIdjZJYCMg9kQ2xA7cvS2VtgKmCyebHBOst4sOcawbMg5JME2BBLI2cTExGcPSQhkVyax2AhbfkiR5CjB9m5gHQJBeBf8AK+DH8iSbT08Go1Ge6vn73FPd1V1Vf/9+Kr7zjlzZv6q+qu/ut/9vttV3V09tGrVqlPOPPPME5s3bz40Z86cKfz6/vTGxsYWP/PMM0PxF9mfF4TEj/zzIQz5Qr6QL2YEjPHRozCZUdPUGIFEW54oaABLFRE/Jup8lrzcgnwhX0rji5qN9ZionfBk4DHwnIjSb0S+kC/kixmB2uNjZunRbJO2pnZDtVaYC2kfE42ZHdka8oV8ybLCXEK+BMiXImJHRwfoaHPcZmroX/o3QwpLAflCvljokalqjC++YteYoRnI9AW0j4GnZ4a+lHwhX/TM0JeSLwHzxUfs6OiAHa2P3Vml9C/960CTmSbkC/kSFF9cxY7EJrGDInaOseQz+ZxDEZ4Itu1xMhexY2JgYmBiMCPA+GB8mNmRrSFfGuJLntjRMQ05JhsjUQn9QX8YqKEtJl/IFy0xDIWt5otN7Fo9cI2zOV4mBg0tjEXkC/liJIemgnxpmC8msaNjGnZMKljoD/pDkz+NReQL+WIkh6aiE3zRiV0nBp5wOMfLxKCJf2MR+UK+GMmhqSBfhPAlLXZ0jBDH9IOG/qA/NPnTWES+kC9GcmgqOsWXpNh1auBwPMfLxKCJf2MR+UK+GMmhqSBfhPElFjs6Rphj+NokvnZKk0BNRYxfxq+JG7ryTvJFiV0nB962ByZ1jO6X0b9MhBZ6ZKrIF/IlQwpLQTB8CcbQGGy+f89Cu2wV/cvElWWFuYR8IV/M7MjWBMWXHmc4fEN7lsPakqCIrUbAEyOtH02F9C+FzsQNXXlwfFEvbo1+mBh0/jSWBedo+tfoS10F/cvEr+OFqYx8CYAvkdgxEZo4rC0nsQMg9ubNnLFr2ZstJJ/J5ywrzCXB8qVHoTN7VVMTrKMxlinNePKKOF4mwjyOJOvJF/JFLF+iuzGZCJ38w0BmIDsRpd+IfCFfyBczArXHR3oHFbNps2tqN9TVMCaaaQQ4Y/diDPlMYfIhDPkSIF+KiB0dHaCjPSKZ/qV/PejC53R5YulDl+b44it2TIRMhD7MJl/IF/LFjADjo8b48BE7OqZGx5jjY6aG/qA/HGhCvsQIcAbmQ5fmZmCOVnrnP1ex8+44x2D2x0SdQ5FZ1eQL+UK+mBFgfDjEh4vYEUgHIM08bN8ZkmWsqop8IV9yKMITGe5cVf9zsHlix8TFxMXEZUaA8cH4MLMjW0O+NMgXm9jRMQ06JhsnnDHxmouGFeYixi/j18yObE3r+WISu9YPPOVrjpeJIRv+5hLyhXwxsyNbQ74I4ItO7OgYAY5JxAv9QX9k06e5hHwhX8zsyNZ0hi9psevMwPs+53iZGLLhby4hX8gXMzuyNeSLIL4kxY6OEeQYxA39QX9k06e5hHwhX8zsyNZ0ji+x2HVu4GNjY4t5+2/9t/9mYy4qIf+YqA3U0BaTL+SLlhiGwogvSuxIHBLHwBFtMflCvmiJYSgkX8gXAzW0xZXxpbKO42HwdnGtQ02F9AcTg4kbunLyhXzR8cJU1mm+9LiUx6U8U2SkyjsdKAoLnrg5MmW6GflCIfYhTOV8US9ujX4YyD5+4dIv+UK+WBCoPHGRfxb0s1X0B048IrEjcbLssJSQODxjtdAjU0W+kC8ZUlgKyJeK+NKj0Flol60iESsiIqCeysKdW0J/0B+5JEk0IF86zJfobkwmGqd4YaB0OFCcGDK7EflCvvjQhnypmC/pHVRcnUPHVOwYV0f029Ef9IcPZcgX8qVzfCkidgwUBkrnAsVjwIwPxocHXXizW12X0nzFjoHMQGYgmxFgfDA+zOzI1pAvNfLFR+zomBodk42LTAn9QX9kSGEpIF/IFws9MlWt44ur2LVu4BnXzi7geJkYcigyq5p8IV/IFzMCIuLDRexEGGrGkWveda15W3yQrCJfmPgdqRI1I1/Il1r4MrODiuFoJCKJaKCGtph8IV+0xDAUVsaXuXPn/ix+R3kiaEBeX1yZP+LDNekPm9i1euAaX3O8TNQaWhiLyBehfBkaGrr++PHjn5ucnLxtYmJCbVbADQuMNJ6paD2fTcuYrR94yvccr9DEJeGMUJMnyBehfFFCd+LEiZsSPtu1cOHCK7Zt23ZE40dTEf0r1L+D5AOd2NHRLXR0IqrpX/rXlOR15cHwRSN08Xh8BC+Y8Q6S+LuYD9JiR0czEeoSnqmMfCFfTNzQlVfJl/fjgDfqDtovcxG8Ku2LzGjympUGm06NNyl2nRo4HM/xMlFr4t9YRL7I5Uue0MVOtQke/SvXv6WcKMRiR0e33NFjY2OL+aJevqjXKOWzK0LKB65CZxO8kMZbSuLvYj5QYkdHU+gcc2DUjHwhX6TwxVfodIJHPneEz0NQ+JN5xs8zfsfsxcTQkcQQ80HwNaYPwMYbHHmra7ZryZIlm0ZGRnrMf93If3NB5gUBEDsyUXDg0T5dOrGXUTgpnHaGzK5N8mVQoVM9n/vSSy+9dXx8fBseVTimCphffNwR3grPzEPldHS7HU3/0r8WBEI68ShD6CIo8KjCCvXgOXdasTBDXxUSX6IRqPwXiR0Tod6jhtIgHb15czeWKshnA2vNxSHxuTShi+GIBY87rZgJkqoJiS+R6bG+9Sh0zk5WDYN1NGznlkn5rqZ/hS6tYqnxP8F9g1yjM3pfCd6BAwe2bty4cdTYSF9BvgjlS+yupL5Fd2MyEeqZnColsQMitpNHZzeif4X6VwkdBOkjBXzq+xXbc3jpvsgXoXyJHZWeyKV3UEk71PSZjg7M0SZHGsrpX/rXQA1tcWV8qVHo4oG5CF5l4zUlai3q5kLap4nfImJHIDVAmnmXqSF+xC9DCktBZ/nSgNC5CF5n/RG6EPuKHR3NRG3Jy5kq8oV8yZDCUjDDl+HhqaXHjvX+Hm1Pt7Svsko3wyOfA+az7X12aSLR0QE7Ou1MzWf6l/7V0MJYVClfIHT7MLPbiKPvM1pQbcUqPId3R+KmlUrHq4aSvsbkOTzalxO/rjM7ApkDZA4xiR/xy6HIrGrypc+XdevWnYdn4XYDnaU+AJbYljuttESIXcSOgcdE7ZM7yBfypVS+QPDOb1LwMMPcM2/evKvx9vPoBbCcgfm4V87jWnlix8TFxOXDbPKFfKmEL1IEb+nSpYe5QYOzi0XlA9s1O1GGauClfUysGloYi8iXgPmyffv2b2J2tRLebeQaHndaMcaVqUJcvJlmduIMTSFK+wJOXKboSJTTv/SvliZNz/BglO4uTa2t5PMzM/oiYelXJ3ZMNEw0ecGbrCdfyJda+RKY4DE+hMRHWuzoGCGO6WcP+oP+qFVIUgcTy79ABE8sfl3ML0mxo2OYWJlYzQgwPoTFx8qVKy/EtbRtcJmkB89jBpEvwvgS36BCxwhzDN4gv5hvUOZriczaO6umk/ELofs2fq8AEs854lR2s/SD5xS6PgISrtElnB3Fh5rZdTJQKCQUEsfMx/gQfiKI5+DeANG7E/5s7MHzhQsXXrFt2zb1HB75IpQvQ1C8k5n4mfiZ+LUIMHEJTVyxt+IZBHda0fI3XdhpPvcodBS6dEQYPnc6UBQmEpdmGL/T8dv0c3igx6r9+/dv27dv36K0EOMzX5xsSCqJ4srzy8xD5QzkfG/U6Rj6g/6wIFB5YgiRf00LXvzg+dy5c0dDxM/Ct3RVkPyLxI6OSfvS+jlIR3OLI6tPk5X0byBLl3BaZsYkRfAmJiaUbRn7HFhI/lXEvx6FzoF+LzchESsiIhODEw/JPwf+SRC8AwcObE28HsjJuWgU+feHP/zheVO9qbcODw+9CbPFcw4fPqwmJSdcO0m0I18SfInuxmSicaIRieOQaCxIEj/iZ6FHpmpgvgTy4Hk88JnxQuD+EneYrk0igs+HUP44yr6D33/C54dGR0f/F+4ANe0VOjB+KY8E3196B5UM4wwFwQ/cMK5ZxZs2bTr92LFjrx0fHz8HFeeCYEt7vd6pU1NT80G8YZQdx2+RMy6F+zyNDZPsT4NKtoj4TWNCvmS5kS45FXG7AvE6P11R02eXvTRn5VOd2JlsRdu9GN9f4zrhtosvvvgrN954o+JEJ/JzAhOn8RYRO6eOTc7RlIvoDySZ98ADD6gdGS6FmL0VBHoz/v8XGntZRASIABHwQcAmeJn85yN2KSPULG+L+v6iRYu+cejQoehEnJeqplHyFbuMY0IGUq2pY9a2AVC8EwK3FiQ5xYfBbEsEiAARcERAJ3jafPrss89+ESfblzv2q22GXPaPqPivixcv/tLWrVsP4P/O3yzjI3Zax4R4l9+aNWv+NZz/H/Dm4XeDFIu1bGEhESACRKBcBJKCZ8ynq1atUrvBqJPwMn7+H3LcJ972trd9DqtXEx4dGu1DH0EKp6vYtWHgQ6tXr96IM6Zfg7N+ysPpbEoEiAARKAuBXUuWLNk0MjJi3NADYncXDlaW2MV2P4p/PrRr166t+Jt3n0Eb8n3GXy5iF/rAhy677LL1uID72xj9BRkEWEAEiAARqBEBnHDvwVvXr8bKktpLM3NNrSKxi0aIY+/Esd+7Y8eORwxDDj3fG4Y1/diBsRIVQQ8crwB5A353QOjuxlgodDZPs44IEIFaEMCy4orJycnbSthpxdteHHs1RPabWOW6HsI3s4NWv6Og830eGOnBJtsHO/DrrrtuGCJ3k7pIq5ybBwLriQARIAJ1IhAL3gA7rQxi7kII3c24d+FePF61rN9RsPke9jtdQzQtYwY7cCxZvh7Pwt0GMp0/CBv4XSJABIhADQhk7tKschkzPR6I3j8jV74Td9V/u+2biutmdsEKHc5UfhFC9xCFLk1pfiYCREAoAqYXwNZiLnLlK9U1RLyt4R3xAUN+nMwGWlrsghQ6vFrjKJYtb8Wzcn8C5zW1U4INZ9YRASJABLQIQGxGDh48mM7F2rZVFKqciet4n8PfX22r0CnckltWBSl0J55/fi629LoLjlpVBRHYJxEgAkSgKgQgdH8HodmwZ8+eQ1Udw7Vf2PJxLGWqbRBvcv1Oop14/YjPJsQbqnYDT68pY3fwBc8ePbobgFPoCrCTXyECRKA5BCQJXQKFG3HN8Dc9UQlCP5TYBWFoWujwCo1RkOU+2M9HCjyZyeZEgAg0i4BQoYtB+RgeTfhVR4SC0Y9gDI2BV2vKL7744sjRo0d3gDDLHR3CZkSACBABEQgIF7oII9z/cAsE7+05gAWlH8Yta3IGqauuZeAQukls3vxl3nGpcwHLiAARkIxACEKn8EN+HYLg3YYlzTca8Kwl35e59/LMHUCB3IVz+MiRI38KwrzN4AAWEwEiQAREIuAqdEpoJAwAZiyCHf8D90ucnLInOKFT+haJXSBCdwjT6g/CAf9WAhFoAxEgAkTAFQFXoUN/KifPde23hnb/CvdL3Jo4TpBCp2aIvYCE7hJMq3+nBufyEESACBCB0hDwETp113lpBy6vozFs2PFz6C5YoYPtU2q6rM4knPYWS2FX28A3bNhwCm5I+QaO/6ry/MeeiAARIALVIuArdOquc/z8Jb63tlrL/HqHPc9h4+q3YMKxP/5mKBMl2Bvpm3ihU4ZC6G7GXwqdHz/ZmggQgQYRKCJ0DZprPTQE+HQI3cfiRqEJnbK7yIXQ2mZ0sG8K1+nWgDQ7rJ5gJREgAkRAEAKDCB2E5U34/ukYzun4+xp8Pg9/L8TfM5seImZ3P7N06dKHyrxLsi7h9BW7WoUOr5Efuf/++/fCwf+yaScnjj+J/w/gdxwE9F7+xUbVmT3wcMbk3U9sD/uLngkifo4B0hG+qC2vzoQ4NHKjxyBCZ0n8Q3gM4DyM6x3o/xcwtnMcXV52s/vxtvMV6PR4gY5r1Y+0fT5iV7uhcO5/hsG/lza6rs8g1Qkkh6/ieHtArv89PDy19y1v+anvQoSV4Pn+1I6fp4G0D7cnh3jG6ujnTvgXr/hajpi9D/Eav6fNEZ5ymlUkdLOMU2kJN4z8G/z9LVT8RDmWu/eC2d1qvOl8l/s3opaN889V7Go3FEJ3CgB6HL9LPEEduDlI9AQC5k8RMLdj0vCU6tByxuVyvNrxczEq0Yb2Ueh8KCOSL10QupST1Gzv3chXf1CnuCtB37179097EEYEXzJLapoBNGIonHc9bKlV6ODEH+C4/37evHkX4P9PU+hk36ULfhRZvmyEz5q4MhXRvgInHh0UOsWfE1hS/AvMtC5C3rrHRKiyy3GsS9euXfuTjv2K4XOe2DVi6MaNG0chNO9zBLOsZp8566yzXr9s2bLb8cqNmfVozui84G2ELx4W0r4CQpLAVyR+HRU65ZbIH8iV+xctWjSGzx/3iIWBmk5OTl7n0IEovtjErjFDsfelugCr7kaq4+fAVG/qcpwhqZnknPTbFXgNx9kFjfHF0ULaR6FzpIp7szqu0RmsmcXnQ4cOncCJ+adgzy/j94ThO2UWX4Xnn20rb+LizSR2TRo6BF+9t0yvmPrCcR5fsGDBhff99X07dO/Lo9CZkMuUN8mXjDGaAtpHodPQYrAiKUKnRhGvQOFamrrX4FcGG1n+t3GM+RMTE+8ytBQZbzqxa9RQ3GWk1oJNO20bsC1U/CjIesldd931KIWOdyF6MKjR+HCwsxP2dX3p0rYChVWqzyK3fcqBKwM1wfKpbp9isfxLi13jhgJAtfZc9c/TuAll1X333fcUhY5C50G2xuMjx9ZO2KeEDjdl/E2ddyAmcZc4o4N9s27WuuSSS35D2ZnDl0GrL920aVPycpNo/iXFrnFD4ZweCPzOQT2Q8/1jqN+0ffv2Jyh0FLocriSrG4+PHFs7YV8sdMDijBw8KqkOQejUwNWzwMPDw++BvYcrAQKdIlf3Dh48GO/hKZ5/sdiJMHTdunU/Aee8oirnqH7hoN/ENP+rFDoKnQfPRMSHxd5O2Eehe2bmuWiXu8RxQv895LvftvCmjKpV6CQI/imxE2Mo7vhfXwb6pj4gpF8755xz/oBCR6EzcURTLiY+NLapok7YR6HzE7qYK2efffbNyHs/MHCnjOJLQ8mn0gLlsjLQN/UBp7//8OHDC20Xd03fNZRLwy9tJu1r4V2ICSd3wr8UumJCp3jy+c9/fhy7Qf2XdGIo8fOPPv/8M0vj/lxmnJZjV8rnnpTEf+2116rNW12fyrfgpa+C0N37ile84ltSxquxslJHq+NJJiLt0zDCXtQJvlDoigtdTB88cP45/D9up1Px2mPHeueHEL8zN6g0nQgff/zx5QBsYXHIc795K4Vu8yGgxC22cqnSjaXBBAwihZNCN7jQKR9/+ctffhEn+1W+Ju31TetHKqS1fI7EToKhuJD64/k5qHCLx0466aT7429LGG9iJFrH8IF2Z18TvxYu1a5fv/4M9XgBWMC7LkvwL/JrZXtn4nGxc0LIVz0piR83p7zBOb35N/wrtZ2O+pqU8faHwERdQiBzxt6+Gfu99977QyToz/iH+uDfwCzo75CPNuzZs0ethNh+Qorfr9gGMkgd/PRKfF/8ilFPiiLjIuq5gwCe893o3UsUuhyUZleHFMiR5fRvu/yLTdnVnYSf8BrVgI1bKnQKFXVH5tMDwqP9OmZ2Z2kr7IW15xe1jClCkXEmVcmbd0HeiZNO6n2didDOvFRt7UT0sq4jt9snMOmsPzBrUJsb1yJ4LRa66EQQfHrYM85cm8/cjen4hUb4nNxBxdHOai7eg9S+gDnZi37/7+joGeNSZrAwuhFHO4E13Yj2cWnVgy7V8xmv3vok4vgGH6N827Zd6FT+wxif8MXFsb160bbrT2P5xVfsKjMUU+HTXNHyaQcHP0ahc0asMv/GFnCG7ewL1ZD+6J947Ny586OI5Y94oefYuAtCByimMM4DjpD4Nlvg+IVG+ewjdpUaijuvKnnsACL6pHK0ozOSzSodrzoQE7+XV+iPjs848fqaj5UteF0ROhVpmB1PeEWce+N5Dk0bj19XsavUUFyIVna4AOaA6ewmENGD3l/iGTWF2I80lcaHMoUnRtMOKVPwuiR0Cj3cBFjHS111kSMiPlzErnJDX3jhBR1AZZUd9+yo8vEycXl5hP7o+IwuzZYyBK9rQpfGsMbPYuI3T+xqMXR0dLSy11B4OrWW8fIaorNX6A8KnZYsgwgehU4LaRWFouLXJna1Gbp8+fIi19TKdk5t44XhRcZL+5j4fTjfer4UETwKnQ+FBmorjn8msRNn6ECw539Z+nhpH4Uun8Uvt+gMX5TguT6WQKHzodBAbUXyTyd2Ig0dCHr7l6WPl/ZR6OwMnl3bOb647LRCofOh0EBtxfIvLXZiDR0IfvOXpY+X9lHozOzN1nSWL7adVih0WaJUVCKaf0mxE21oBc6RPl7aR6HzoX3n+aLbaYVC50OhgdqK51/8bJt0QwfygubL0sdL+yh0Gtoai8iXl/ny0ZUrV57ATE/tuNLGtxdEJBjw8SUjkYpWjI2NLZb+9hE1s5MeKEXxN31P+nhpH4XOxF1dOfmS4ou6aQVAvaeFr+mJ/C9N6JRN0oVO2TdPuCLrgnuQMiYGCokPf8iXQPmya9euP3dwdKf8i60TMeEdcoCleJMBhbhSf/QEK3JxxPXfrBRIdUjJjqZ9elJYSsmXQIXO4tNkVef8C6EbdsSmUDPp+W/mBhVhhhYC2/KlzhFb+Iyd/qCQWMI1U0W+lMAXoFrZtE6Yfmj5EomdMEMzTB+kABeph5j4zzzBLcqcWaQNFOJH/AwIBMcXwzgGKg4hPnptFjrlPUzdRwQv1QYXKML4QvxKOONnfGw+hFTRiS38BlI0+5fF49cTpMh2KEuoZaL2ApFCQiHxIQz5IpwvcGZTr/jR8ah2vqhlzMYVee/evemdXHTgDFRGofOCr3Yielkn/3EZ4ic88XcxH+CSzjHPOKuqeSPxUURkSjf0yJEji6pCVfXbRWILmrGXzhdeg+U1WI98Qf71TzwafHlr0l2N+cNX7CoxdGRkxNcOD67PmcPE7wxXJf7lNaHuXBPiiaVzrKmG0uPNazAOjRsdr4/IVG6oA1jeTTB1n8CXGl+qDYDYlfuXidCLvvQHl0J9CFM2X3yO7dK2bPu8+3MVO++Oc0af6S+nfeFq3I1Z5KJsxj4mai8XED8mah/CkC+y+OLjO5e2IvzrInaVGzoxMVFk5uUCcpE2lY+XwunlFvpDViKkP9rtD6/gdGgshi95YleLoaOjo4cdQKujSS3j5TVEZ1fSH+1OrPSvLP86B6ZjQ1H+tYldbYYuX75cwsyutvGCKEXGS/tkJQb6g/5wzPlRM+l88RmLS1tx4zWJnThDXdAdoI308dI+JlYfepMv5IsPX8puK5J/OrETaWjZ3kj0J328tI+Jy4f+5Av54sOXstuK5V9a7MQaWrZH+v1JHy/tY+LyoT75Qr748KXstqL5lxQ70YaW7RX0J328tI+Jy4f25Av54sOXstuK518sdtIN7ZxjuCUWt8TyIL30+KV9soTYg1puTUPIV0rspBPRDW33VtLHS/tkJQb6g/5wzy7dy6cRNiFsCSg9kH1I5tJW+nhpHxOrC4/jNuQL+eLMl6mpqcreVB4bIXnDjJ5gRXZ2omNDJgYmBkeqRM3IF/KlVXzB1onDPgPybStZ6KKAjgckzFBfnPPaM3ExceVxJFlPvpAvreMLBlTZzE6YfmjjNxI7YYb6kCy3Ld56MBTCxVPBM2wtcbjlWS714gbEj8LpTBY0rJwvPsa4tg0hH/TaLHTKUZi6j1BI+D41x6CtPNEIizeOt2NC7BgHRZqJ3wKxJ0iRiwDs9R0mGi+4mAg7lggZH+2OD4yuyOvOvEDxaFx7flHLmI0r8t69e9M7uXhg5taUgeyGU79V7UT0sq6GpR7yxcsj5EsAJ0a4pHPMy6vVNW6EL0VEpnRDjxw5sqg6XMVdkywdP16T5APoHvFD/gUgTFWsuPV6PQkzu8b45yt2lRg6MjLia4dHbM+ZUwVxYEDjM2LYUIk/eI2T1zgdA4z8a7dwOtLAuVmjfPERmcoNdYbMoyGm7hMUJifAKvcvlwad/BA3oj/aLSTS/etFVofGjY/XVewqN9QBrEJNcDdmkal75eNl4vdyJ/3BxO9DGPJlML74YO3SVoQ/XMSuckMnJiaKLAm6gFykTeXjpdB5uYX+GCxxET/i5xVwJTcWw788savF0NHR0cMlA1y0u1rGy2uIzu6hP5ioncmChuTLYHzxwdqlrSh/2MSuNkOXL18uYWZX23jBkiLjpX2DBTLxI34uCTpu0zW++GDj0lYcfvMMVtdtqE10DSaWWlz3eH2NL80+PKZwMu62fCeWUr/Euy5516UjEUvjX/947E/WiYcjDZybifSvTuxEGuoMs39D6eMtzT4ldM8+++wOQHTR008//aO4eedTCi5eQ/QiTWn+6B+V/clK/F3zhxf5HRqLxS89oxJrqAPIRZpIH29p9sVCh0cxLlJAQeg+jP8/RKHzok1p/qDQTSNA/jXKP6+DOzQWHR9JsRNtqAPQvk2kj7c0+9JCFwOlBA8zvffjM68h5rOnNH/0D8X+OKPLZ93LLcrmi8+xXdqWbV/p/cViV3rHJW9h5QK2Txvp4y3NPpPQxWBhdnfTypUrf8sHPLQtzb7+cdkfE78PBcmXwfjig7VT25LzfSX+VWJXSccl3vzgBLZHI+njLc2+PKGLMcMM76MegleafRS6aQS4lOcRvfLzlfT48ALbtXGJ+b4y/CrrOAZpwEB2xdq1nfTxlmafq9DFwDkKXmn29Y/L/gY7Qyd+xM81982Zmpqq7E3lJeX7SvncE6zIzk50bFgpkMqGAYW9NPt8hc5R8Eqzj0I3jYAUvtAf3fAHTmiHHXNloWbuWzWCAAAXTUlEQVTS+Txzg4owQwuBbflSZxJ1UaGLsTPM8DqDHxN/NxJ/CNeYyp6I4Pp8+u57S8r0qxKmH9p8FQ1emKF+KOe0hoOHukLsQYUuhjIleFricMuzHOK9XE38uNToTBY0rIwviOu5PoZ4tD0eQj6Y12ahU86Cg0fKPkOS2F9ZQhcTXAne6tWrh5YtW3azxPH27awsMcQ4CIsPjpfC6aFBs4UTMb0YJ/8+33dtG8Rr1HoSFPmGG24o8pyXkyOU2LU9cZUtdDFe6rEE7LTy623Hrz8+CgmFxCmnhMoX2L3MZ4AebYts5F97vKllzCJCU6qhECSF6zEPcJ2b4g6kU1Xjtp6hVyV0McDwDXdacWbbTMNS4wO9sj8KsQ8LtXzByes5Pp24tkWO2O/att9Oa1/VE68iFywrMRSidNATMKfmcMQrKXROUBkbKcHjTitGeNIVlcQHl5K5aXeaaIbPWv6pd4ZC7F5r+M5AxcjdT3t0oLWvaqFT9vmKXWWG9nq95zwAc24KR/xYHUA6GlQaflXP6NLj4U4raUS0n0vzb7939scZnZZohkIjX55//vkLcdJayQ0q6PcJgz3pYqN9aFj5CqOP2FVqKJKpz9lBGkTjZ4jo2Zs2bVpqbGCuqHS86rBFZ5x1C10MEUjNnVYC5EvfZLF8pn3TCBTNB474XW6m7mA1yLGPOfTQOP9cxa5yQz3ODhxwnd3k8OHDl3l+qfLxFiV2U0IX4wdi/8errrrqtBw8xeLXt5v2ccaUQ+FZ1UHzRT1fh9+rfAbs2fbhnPYi8HMRu1oMBVh5gOXgaa4+fvz4lebaTE0t4y2ytNq00OGE5Knh4eEVW7ZssV2QFotf39O0j0KXCXpLQfB8Wbdu3RqM71WWMQ5UhZzwDUsHYvDLE7s6Df2WBbCBqpCkr1BC4dBJneP1WqOWInT33HPPdyw4isWvbzPto9BZ6JupagVfjh079qHMyEoqwIzxhbvvvvsRQ3ei8LOJXa2GTk5OPmQArIzihbib8BdzOqp1vDm2zKqm0E3DUXTptw+mWP/SPvrXJx/48GXNmjU/g0sPvpdxnM1B3w9gMqE7cRcXbyaxq93QPXv2/DPOEn7gjLJnQ/T9weuuu26+4Wu1j9dgR6aYQjcNCYUuQw1bgVg+942mfTXMsK+99tph5L1P24gyaB36/xtNHyL9qxO7pgw9gTOEr2iAK6voVQ8//PB1ms6aGq/GlNlFFLppPCh0uVRJNhDL576RtK8GoVNYP/bYY2pDiPO82OPZGCty21NfEevftNg1aiimxDs9sfZqDsffsGrVqlcnvtToeG3GU+im0aHQ2ViSqRPL576ltK8moVu7du1lyHcfyTCkxAI8w/wYVuT2hpBPlY1JsWuciJjZ3VOiLzJdoX+1EeoXbr/9dvVwZePjzRjYL2ha6NRysrrrkjejzPKQWL70raR9NQmJKW5T5Y354/LLL38tZlxbkO/SkxlH092azZ07dwtaxjtLNzZeN2vn9OI314oxdOXKlQ/CSRc7DqBQM/T/Sezm/wmJWzBJELr58+dfRqGbRS0x8WEgPO2j0EXUwGMGr8Hdl3uQ437EwJUyi8/ftWvXP6HDIPinlF+aoX9Rpjd0fWHm8uvYzf+auE7KUhmFbtojUvzR54e0+EhTmvZR6CJOrFix4jw8U/yVOoQOOfRrIQmdmtiIC5SRkZEvwm+VvAEhlSVuBil+XkpipdBR6NIq5vBZXPymbKZ9NQkx7kV4x7x58x6ECJ3twJuBm+D+ilvRSVD+nYtkvyAeuYTE/8gjjxw599xzl8OmSu8igtCpJdzLjxw5Mo67lv62gPdLczSFbhp9CfxL8KA0//b7ZH81JX7HWG6FPzZs2LDk1a9+9WeQzn4X4zY9WuUIiVszHOupU0899doLLrhgocRLQaZ4m7mAKSnR4MLnH7nBPngrnAndhOuEd6xfv/4Mj95KCxQK3TTqkvgHi0rzrynwOF6PaKM/MpvGX3PNNQswm7vu6NGj34H4/JIXmgM2Rs78fazADYckdCreIrGTFnhYd/4mAP3qgD5x/jrIshEXdfdit4H34Lh5dzCVlggpdNMuksY/+GVxaIFcZK/VfoCUxmf2Vz2f1Q0oq1ev/siTTz75OI72h/gt8kYX59yYboj8+AyE7r+HGB9DKuFKDBSsCa/Gcxzq1tZafyB8/wiHfgy7D9zxrne963jq4KUlBglCt3DhwhV33XXXdy0Alzbe/jHYH5fyLHTLVHWaL4jP4fHx8bORB1+DvHQh8tIa/H1zBqV6Cz6Aw/1ZfMiQTlTVdSs1k9HtbZYHYaVEXLx48RBezXMvHHxRniFV1OO4T4BY/w2iu3XHjh1fx/9zyjrjFyB0SsT34XcyBzvFj/jxFNVUPVMTP1eT81VtNfsjflpiGAo7yRfkGjXuhchBJ/f/N8BTbzHs+fbJJ5986cGDB6O8EZLQKXuTicwHuUqFLgbyqaeeOk9tNOpjWBVt4WT1FvV/APH+D/7/Pmx6Dr/fhwiqG1u8ThSaFroq8GGfRIAItB+Bqd7U5b2p3oNqpKEJnbJ5XgEX1SJ0/aXVB3ER9s9h4y8UsLO0r0DkTkdnq9WvOumC4M3BdcU78Vm3CarxuBQ6IzSsIAJEQDYCfxay0Clo827GSMNfp9BFM6aTTjrp17BmbXtZaNrGuj57LedR6OpyC49DBIhAmQgg/34P249F+2yGOKOLsfARu9qFThm5devWZ7FkqHtbQZn+rLQvCl2l8LJzIkAEqkPgGB5W/yX8HgxZ6BQ8rmLXiNDF/sO2NF/E0mHl24hVwRcKXRWosk8iQARqQuA3MLN7KHShU1i5iF2jQtd3qHrX3a/gf9Pr32vyu99hKHR+eLE1ESACohDYjLvi/7gNQqdQzRM7CUIXeR+zuxfw52cxwzssig4GYyh0BmBYTASIQAgI/O2SJcMfWLRo0ZTE57BjAH2E2CZ2YoQuHpjaZRszvDEIntfNIXUzi0JXN+I8HhEgAiUi8HU8T/fzIyOnHW2L0ClsTGInTuhiR0Lw7sDemdeX6NhSu6LQlQonOyMCRKBGBDCZ+BZ2bnkHfl9sk9ApCHViJ1bo+j7vnXHGGV/A/x+vkQNOh6LQOcHERkSACMhE4GuLFs3diFndc20TOgV3WuzECx0EJd6k9/dwFvI7UjhDoZPiCdpBBIhAAQR2IJ9euWjR6fvbKHRpsQtJ6CJfLlu27Hdx+e6DBRxb6lcodKXCyc6IABGoF4FblyxZcjXy6aG2Ch3g7MUzu+CELr4LZ/fu3b+Pgfwcfsfr5cfLR5uYmMCjKFONHb+pcfO4RIAIhIsAJgpH8PvLGMGH8dqeyTYLnVoRVGIXrNDB9mhLMdy0cjue8L8U0/AnG6BeD0Tp4fhXgzh7Gjg+D0kEiAAR8EIAueofkLMuQc78ks/t+5qDBKMfwRgag2xyzPbt278G570ZTrxX45Cqimbww8bQRyh4VcHMfokAESgJgXHkyI+Ojo6uRc561JRPHY8VlH4M4a0Cp8QDa8PA4cge3uT7Xvz9JM5aRh2dVqTZncDr36Xf2KuWNA8cOLAVHa4q0im/QwSIABGoAgHkw3uwz/CHIXLfU/23Id9bcMoI8czdmG0ZOBw6hWXNzyxYsOCN+H+HBYxBq+amhU6teW/ZsuUQnlG5Ap3vGvQA/D4RIAJEYFAEcOL/P7HqtAF/r+6q0Cl9i8SuLUKXJMXdd9/92M6dO9fDwZvw++ighEl/H0I68+LbNH7btm07QsFLI8bPRIAI1IkAUtR9yH3r8Xc9XtEz8xLsdL7ytCkzYwqlv14ohsIhXm8E7ztw6KyzzroP69MXYfr+Pjj++56OzW1uwo+ClwsdGxABIlA+AgeQ5/4IM7kfx8n+auS/6M3i8Y8pXzmaEazQYXxTanaiZndFhCS4gc+fP7939OhRNdu7Hmc7P+noYG0ztf6N51LenXe77saNG0dfeumlO9AJr+FpkWQhESACgyCAfPacykf4/dLrXve6HbfccstR9Bdcfq5aiGeW4jzBDh5I3MTyJjwbdw0Iop7RO8tz/Kr53bg2+Hb8zT1RoOAVQJdfIQJEQIuAWqFC3noIvw/id8+OHTu+jr/JPBR8ftYO3FzoNN4iYufUsdmuTE2j/d1+++1zP/vZz14Mq9QF3DX4ewGI44LLnRA7dSOK00/TgoexHcWw1E0zz9sMxgnAEJZ856XboHwS5d5vm2B/00gSvzSj9J/JlwgX9f7Ol4CFep3ZC4i7ZxG/T2ID/McPHTr03QceeOCgHr2otNF8arErrmrMPpeknrS/MUMdQCzF0VdeeeWpINSFIJh6Zu+N+H0dSPcj+HxayoY7IHZXOtoVNbvqqqsW79+/fxuIvMLneyW23Ye1/JV4JvGbhj5b79/UuDle3KWWtxRv4IoqJn7Ez0KPTFWjfPERu0YNzcCWLajUvtHREwuOHx86bXJy7ggOPR+38B6E2D2cNcNYEtm3b9++Rbgz6jaBglcpfgqVqtfkjcjrKzheJmo9M/Sl5EvgfHEVOzq6REdjOWJUmODRvyX6l8KuVwtLKflH/lnokakqxJf0K34yvaKgUMe6jvplne9v6dKlh0877bSNwKOpB8+XQmx3r1u37nz6lzNOS6zqqjofv1yh0NHCWCaGL3kzOzGGGqAM2r6mb1oBpvtwTfLtWFL9dowvA9nANH1x0PzTD8layvFyBmYlSKpSFF9sMztRhmoQDt4+AQ+eL4XQqRtmzlP4Uug0LDMXBc8/89C0NRwvhU5LDEOhOL6YZnbiDE0B2ir7BMzwnsMMbyPeDfj3wDn3uUENuVvlD8340kUcLxN/mhO2z+SLAL7oZnZ0TM2OETDDOx2zuztxDS+a4Xn+kC818yXHP/QH/ZFDkVnVneFLembXmYH33S1qvAJmeHnP4aWDSBR+aePwmfYx8WtoYSwiX1rMl6TY0dECHB2Q4JEvAviSSNv0B/1hVHFNRef4Ei9jdm7g6gFv3fvoQIpGr1mpJc0lS5ao1xLt0RC0jqLkYwmm45EvTKwmbujKyRfyRccLU1klfFFiV0nHEoWkj6z48Y6MjPSwrdfVQgVPPH5ST2RC4R/x4xZqJhXSlAeTD4IxNAa5K7fHYzuyIwIFj3zhGbom3xmLyBfyxUgOTUWlfOlxBrb5EEBvdOmy7/SMo7nTiiYczEUZ/LpyYhRDwvGayaGpIV86JsRDq1atOkURgYGiCQdzUa2BIuGmFe60wqUtczhkamqNj8zR8wtoX8eETulbdIMKhS4/OhItag8UAc/hcaeVzXJXABi/suPXyzreQ1GZHvUYKF5UrF3oYusECN7pmN3dgd838P1nzpxpjC+OFtK+Ds5wuhq/6jk7NbsTec2KQpxNWRKWNPFoxI9t2bJlf9Y6awkTKxOrlSCpSvKFfCmVLxQ6NzjFBJ6AGd7HKXS5pBHDF4OltI9CYqCGtrgVfElvF6YdKc+45D2A3tAM7wN4O/vNLiRJtGlFoHiMmeOlkHjQhc8517WCp9sI2uYoBrKQQG5gpxUKnS0ypusYH0Lio+8q+oP+mIlaH7EjcYQRp8adVih0FLo0AswHwvIBd76xPx7kKnYktlBiV73TCl79834uXabzfOYz40NofMSeqmupLMMMfQH50gBfXMSOjmnAMfoYiUoz/qhqpxUldDt37vy0xRZdVcY+JhodTMYy4ic83shnI3d1FWL4nHeDihhDdSjqEn+XiVjmTSsUOgPjZhczPihMTkTpNyJfGuSLTezomAYdo4kgJ3+UIXgUOg362SInf2S/ZixhfwHGm9Gb2Qr6t2H/msSOjmnYMalY8fLHIIKHHVKu37179x9mY9Va4mWftafpSvYXMP/o3wwC5LMAPuvEjo4R4JhEuBTyRxHBo9BlkpSuoJA/dB31y9hfC+KN/p1BQCyf02In1lAmhmkEfK5J+ggehc6Srl6uYnxQmJyIwnzln680wJYab0mxK7VjGM7+BCQGF8Gj0GnCLFtEPgvgc8It9Af9kY1Sc0kvfvSAxGkpcRx2Wnkfr9GZI6Rfw/hoaXzQv9MI+KwYaaIliPhQYheEoXyjevH3qVl2WnkfHhi/RUNeWxH5wsRv40e6jnwhX9KcsH2ujC+VdRyPpgtnDCEIsWanFQqdLeSm6xgfTNT5LHm5BfkimC9zIUYLKEzdeJ/fsmXLJjDLu218fPwhzOi+4BPFaMtAFhzIypc8sfRiNPncMT7Po9B1Q+hSifCvvNIChY5C4kcYCknHhCSEE63oBpUQDO3qq+T9ckzUmomGicaHNuQL+dIJvvQodD5+ppCQL+SLBQEKJ4XTQo9MVa18Uc/ZqdndVMaM/IJaDc03J9OC9jHwMqSwFJAv5IuFHpkq8iUwvqR3UMl41FBARwfmaIMfTcX0L/1r4oaunHwhX3S8MJU1wpciYteIoSbUNOW0j4GnoYWxiHwhX4zk0FSQL4HyxVfs6OhAHa0JWl0R/Uv/6nhhKiNfyBcTN3TljfLFR+waNVSHXKqM9jHwHGgy04R8IV/IFzMCrYsPV7Fr3cDNPo5qOF4mwhyKzKomX8gX8sWMgIj4cBE7EYaacaQw8XEACzuyVeQzhSnLCnMJ+dISvuSJHR3dEkcbYpn+pX8N1NAWky/ki5YYhkJRfLGJnShDNWDSPgaehhbGIvKFfDGSQ1NBvrSMLyaxo6Nb5uhUMNO/9K8mvxuLyBfyxUgOTYVIvujETqShCUBpHwNPE1/GIvKFfDGSQ1NBvrSUL2mxo6Nb6uh+UNO/9K8mvxuLyBfyxUgOTYVoviTFTrShAJb2MfA08WUsIl/IFyM5NBXkS8v5EosdHd1yR4+NjS0O4Y3qcRLi4xSadGwuYvwyfs3syNZ0ki9K7Do5cCb+zYfge77tIpsI0iWMDwpJmhO2z+SLUL7QMUIdE0cTZzi2vJKpI5/J5wwpLAXkS4f40uMMhzMcSzJIVjExdCgxKMfzRMsxMqabMT6Ex4d6cWv0Q2KT2BYEGMjCA5nxa2Fvtop87iCfI7FjoGSjwVLCQOlgoGzezBUAS0wkqxgfjA9HqkTNauNLj0Ln45f6HAOrePNIvmtqCxT6I98ZdSYu+oP+0CBgzQfR3Zgkjga2bJEVyGzz3BL2xzPgXJIkGpAv5Av5YkYgNz7SO6iYu5pdk9uxa0f9duyPgexDGfKFfCFfzAgwPjTxUUTsCKQGSDPvMjXEj/hlSGEpIF/IFws9MlXki4EvvmJHIA1AZiinLyB+xE/PDH0p+UK+6JmhLyVfLHzxETsCaQFSz71ZpcSP+DnQZKYJ+UK+kC9mBLzjw1XsvDs22xjVsD8Gcg5FZlWTL+QL+WJGgPHhEB8uYkcgHYA085DCzsdbLOzIVjHeGG9ZVphLyBdHvuSJHYF0BNLAReJH/AzU0BaTL+SLlhiGQvLFgy82sSOQHkBqyEj8iJ+GFsYi8oV8MZJDU0G+ePLFJHYE0hPIFBmJH/HT5CdjEflCvhjJoakgXwrwRSd2BLIAkAlCEj/ip8lPxiLyhXwxkkNTQb4U5Eta7AhkQSD7pCR+xE+Tn4xF5Av5YiSHpoJ8GYAvSbEjkAMACWISP+KnyU/GIvKFfDGSQ1NBvgzIl1jsCOSAQI6NjS3mi3D5GhxNktIVMd4YbzpemMrIlxL4osSOQJYAJIWOQmfKVKlyxhvjzZEqUTPypSS+EMiSgIzZyweofeKYgUy+kC8WBJifS8zPPc5IOCOxBFuyioFXYuApYCl0jsybbkb+kX8+hMnwRb24Nfph4PngyBkJ+UK+WBDIJBryxYJWtor4VSDskdiRiFm2WUpIxAqIuHkzZ9gWziWryD/yz5EqUTPypc+XHoXOhzckDvlCvlgQYGKlEFvokamqlS/R3Zj4ncqYkV9Qq6H55mRa0D4GXoYUlgLyhXyx0CNTRb4Expf0DioZjxoK6OjAHG3wo6mY/qV/TdzQlZMv5IuOF6ayRvjy/wH+Yi1sCPrF2wAAAABJRU5ErkJggg==)"
      ]
    },
    {
      "cell_type": "code",
      "metadata": {
        "id": "8k4KEoWhi6ER",
        "outputId": "8e4b0104-7920-4a80-d4c4-05b34434cd70",
        "colab": {
          "base_uri": "https://localhost:8080/",
          "height": 106
        }
      },
      "source": [
        "#Start\n",
        "i = 10 # statement\n",
        "while i<15: # 0<5\n",
        "    print('Bangladesh')\n",
        "    i = i+1 # i = 5\n",
        "#End"
      ],
      "execution_count": null,
      "outputs": [
        {
          "output_type": "stream",
          "text": [
            "Bangladesh\n",
            "Bangladesh\n",
            "Bangladesh\n",
            "Bangladesh\n",
            "Bangladesh\n"
          ],
          "name": "stdout"
        }
      ]
    },
    {
      "cell_type": "code",
      "metadata": {
        "id": "FxNQ11G9l2CS",
        "outputId": "bbb110be-7588-4768-c91c-1cb59941cbef",
        "colab": {
          "base_uri": "https://localhost:8080/",
          "height": 106
        }
      },
      "source": [
        "for i in range(0, 5):\n",
        "    print('Bangladesh')"
      ],
      "execution_count": null,
      "outputs": [
        {
          "output_type": "stream",
          "text": [
            "Bangladesh\n",
            "Bangladesh\n",
            "Bangladesh\n",
            "Bangladesh\n",
            "Bangladesh\n"
          ],
          "name": "stdout"
        }
      ]
    },
    {
      "cell_type": "code",
      "metadata": {
        "id": "wP50tsRdjxmx",
        "outputId": "231b60a9-c9af-4a90-fae8-10e360495ff6",
        "colab": {
          "base_uri": "https://localhost:8080/",
          "height": 72
        }
      },
      "source": [
        "# Algorithm: Take input(s) and provides desires output(s) and halt/stop the program.\n",
        "\n",
        "# Start\n",
        "i=11 # initialized\n",
        "while i<20: # \n",
        "    print('Bangladesh')\n",
        "    i = i + 3\n",
        "# End"
      ],
      "execution_count": null,
      "outputs": [
        {
          "output_type": "stream",
          "text": [
            "Bangladesh\n",
            "Bangladesh\n",
            "Bangladesh\n"
          ],
          "name": "stdout"
        }
      ]
    },
    {
      "cell_type": "code",
      "metadata": {
        "id": "RTFZZgl7gNlj"
      },
      "source": [
        "i=11 # initialized\n",
        "while i<20:\n",
        "    print('Bangladesh')\n",
        "    i = i + 3\n",
        "# End\n",
        "\n",
        "# indentation"
      ],
      "execution_count": null,
      "outputs": []
    },
    {
      "cell_type": "code",
      "metadata": {
        "id": "cguyudTMZUlK"
      },
      "source": [
        "i=11\n",
        "while i<20: # \n",
        "    print('Bangladesh')\n",
        "    i = i + 3\n",
        "# End\n",
        "\n",
        "# Step-1:\n",
        "# i = 11, 11<20 (T) --> print *, i=14\n",
        "\n",
        "# Step-2:\n",
        "# i = 14, 14<20 (T) --> print *, i=17\n",
        "\n",
        "# Step-3:\n",
        "# i = 17, 17<20 (T) --> print *, i=20\n",
        "\n",
        "# Step-4:\n",
        "# i = 20, 20<20 (F) --> loop break\n"
      ],
      "execution_count": null,
      "outputs": []
    },
    {
      "cell_type": "code",
      "metadata": {
        "id": "ZRnHXpJsZbrk"
      },
      "source": [
        "# Start\n",
        "i=11 # initialized\n",
        "while i<50: # \n",
        "    print('Bangladesh')\n",
        "    i = i + 6 # i += 6\n",
        "# End"
      ],
      "execution_count": null,
      "outputs": []
    },
    {
      "cell_type": "code",
      "metadata": {
        "id": "Z0OtvksUZdpg"
      },
      "source": [
        "i=50\n",
        "while i>10:\n",
        "    i = i - 4 # i -= 4\n",
        "    print('Dhaka')\n",
        "    i = i - 3 # i -= 3\n",
        "#end-while"
      ],
      "execution_count": null,
      "outputs": []
    },
    {
      "cell_type": "code",
      "metadata": {
        "id": "0O6nQ02HncB0",
        "outputId": "561c5f80-0ddb-4183-de73-8d3ef6836e42",
        "colab": {
          "base_uri": "https://localhost:8080/",
          "height": 55
        }
      },
      "source": [
        "# #Start\n",
        "# i=1\n",
        "# while i<=100:\n",
        "#     if i%2==0:\n",
        "#         print(i, end=', ')\n",
        "#     #end-for\n",
        "#     i = i+1\n",
        "# #end-while\n",
        "# # output: 2 4 6 8 10 ... 100"
      ],
      "execution_count": null,
      "outputs": [
        {
          "output_type": "stream",
          "text": [
            "2, 4, 6, 8, 10, 12, 14, 16, 18, 20, 22, 24, 26, 28, 30, 32, 34, 36, 38, 40, 42, 44, 46, 48, 50, 52, 54, 56, 58, 60, 62, 64, 66, 68, 70, 72, 74, 76, 78, 80, 82, 84, 86, 88, 90, 92, 94, 96, 98, 100, "
          ],
          "name": "stdout"
        }
      ]
    },
    {
      "cell_type": "code",
      "metadata": {
        "id": "twVmA0MGrDCl",
        "outputId": "b7adef29-ac4f-4c6c-988d-0d0f3e87061e",
        "colab": {
          "base_uri": "https://localhost:8080/",
          "height": 54
        }
      },
      "source": [
        "# 2| 5 | 2\n",
        "#  | 4 | \n",
        "#  -----\n",
        "#    1\n",
        "\n",
        "\n",
        "# n % 5 = {0, 1, 2, 3, 4}\n",
        "# n % 3 = {0, 1, 2}\n",
        "# n % 2 = {0, 1}\n",
        "# n % 9   = {0, 1, 2, ... 8}\n",
        "\n",
        "# 47 % 3\n",
        "# 3 | 47 | 15\n",
        "#   | 45 |\n",
        "#   ======\n",
        "#      2 \n",
        "\n",
        "n = 1\n",
        "while n<=100: \n",
        "    if n%5==0 and n%7==0:\n",
        "        print('{} is divided by 5 & 7.'.format(n))\n",
        "    else:\n",
        "        None\n",
        "    n = n+1\n",
        "\n",
        "# 0, 1, 2, 3, 4, 5, 6, 7, 8\n",
        "# Zero: N"
      ],
      "execution_count": null,
      "outputs": [
        {
          "output_type": "stream",
          "text": [
            "35 is divided by 5 & 7.\n",
            "70 is divided by 5 & 7.\n"
          ],
          "name": "stdout"
        }
      ]
    },
    {
      "cell_type": "code",
      "metadata": {
        "id": "HhWyAUflpRj4",
        "outputId": "fce100a6-9c89-4825-819f-0dbabb4b9cde",
        "colab": {
          "base_uri": "https://localhost:8080/",
          "height": 382
        }
      },
      "source": [
        "# divided by 5?\n",
        "n=1\n",
        "while n<=100:\n",
        "    # n = int(input())\n",
        "\n",
        "    if n%5 == 0:\n",
        "        print('{}  {} by 5.'.format(n, 'Lusan'))\n",
        "    else:\n",
        "        None\n",
        "    n = n + 1 "
      ],
      "execution_count": null,
      "outputs": [
        {
          "output_type": "stream",
          "text": [
            "5  Lusan by 5.\n",
            "10  Lusan by 5.\n",
            "15  Lusan by 5.\n",
            "20  Lusan by 5.\n",
            "25  Lusan by 5.\n",
            "30  Lusan by 5.\n",
            "35  Lusan by 5.\n",
            "40  Lusan by 5.\n",
            "45  Lusan by 5.\n",
            "50  Lusan by 5.\n",
            "55  Lusan by 5.\n",
            "60  Lusan by 5.\n",
            "65  Lusan by 5.\n",
            "70  Lusan by 5.\n",
            "75  Lusan by 5.\n",
            "80  Lusan by 5.\n",
            "85  Lusan by 5.\n",
            "90  Lusan by 5.\n",
            "95  Lusan by 5.\n",
            "100  Lusan by 5.\n"
          ],
          "name": "stdout"
        }
      ]
    },
    {
      "cell_type": "code",
      "metadata": {
        "id": "8skUKQg-0XFz"
      },
      "source": [
        "# if divided by 5          --> \"only by 5\"\n",
        "# if divided by 3          --> \"only by 3\"\n",
        "# if divided by both 5 & 3 --> \"both\"\n",
        "# else                     --> \"None\"\n",
        "\n",
        "# example:\n",
        "# 1. 15 --> \"both\"\n",
        "# 2. 45 --> \"both\"\n",
        "# 3. 9  --> \"only by 3\"\n",
        "# 4. 6  --> \"only by 3\"\n",
        "# 5. 25 --> \"only by 5\"\n",
        "# 6. 30 --> \"both\"\n",
        "# 7. 11 --> \"None\""
      ],
      "execution_count": null,
      "outputs": []
    },
    {
      "cell_type": "code",
      "metadata": {
        "id": "biJ46hoo4a-P"
      },
      "source": [
        "n = int(input())\n",
        "\n",
        "if n"
      ],
      "execution_count": null,
      "outputs": []
    },
    {
      "cell_type": "code",
      "metadata": {
        "id": "AVz7ZReBu88U"
      },
      "source": [
        "# dctn\n",
        "# a, e, i, o, u"
      ],
      "execution_count": null,
      "outputs": []
    },
    {
      "cell_type": "code",
      "metadata": {
        "id": "arRuGkATo9sR"
      },
      "source": [
        "# print?"
      ],
      "execution_count": null,
      "outputs": []
    },
    {
      "cell_type": "code",
      "metadata": {
        "id": "XUryEAJUoRDq",
        "outputId": "bd8dacf2-605c-468f-dbb6-c14861727020",
        "colab": {
          "base_uri": "https://localhost:8080/",
          "height": 200
        }
      },
      "source": [
        "# function --> print(), int() [built-in function]\n",
        "# function --> add(), sub()   [customize/own/self function]\n",
        "\n",
        "# addSummation(a, b, c, d)\n",
        "\n",
        "for i in range(10):\n",
        "    print(i)"
      ],
      "execution_count": null,
      "outputs": [
        {
          "output_type": "stream",
          "text": [
            "0\n",
            "1\n",
            "2\n",
            "3\n",
            "4\n",
            "5\n",
            "6\n",
            "7\n",
            "8\n",
            "9\n"
          ],
          "name": "stdout"
        }
      ]
    },
    {
      "cell_type": "code",
      "metadata": {
        "id": "oHtNXeokrHuL",
        "outputId": "282c59ff-eb8f-41fb-9eb9-c0c264af75b9",
        "colab": {
          "base_uri": "https://localhost:8080/",
          "height": 35
        }
      },
      "source": [
        "# Find the odd square\n",
        "i=1\n",
        "sum = 0\n",
        "while i<=100:\n",
        "    sum = sum + i\n",
        "print(sum)\n",
        "# Output: 1, 9, 25, 49, 81, 121, 169, 225, 289, 361"
      ],
      "execution_count": null,
      "outputs": [
        {
          "output_type": "stream",
          "text": [
            "2500\n"
          ],
          "name": "stdout"
        }
      ]
    },
    {
      "cell_type": "code",
      "metadata": {
        "id": "zqpCGy_NrrYr",
        "outputId": "165c425d-dbc6-49c3-8fbc-7cbae4b977b0",
        "colab": {
          "base_uri": "https://localhost:8080/",
          "height": 35
        }
      },
      "source": [
        "# Find the even square\n",
        "i=1\n",
        "sum = 0\n",
        "while i<=10:\n",
        "    if i%2==0:\n",
        "        sum = sum + i\n",
        "    i = i + 1\n",
        "print(sum)\n",
        "# 4, 36, 64, 100, 144, 256"
      ],
      "execution_count": null,
      "outputs": [
        {
          "output_type": "stream",
          "text": [
            "30\n"
          ],
          "name": "stdout"
        }
      ]
    },
    {
      "cell_type": "code",
      "metadata": {
        "id": "HRykFgJHuWEe",
        "outputId": "4fb09e38-279c-48dd-d9d8-677664ca0900",
        "colab": {
          "base_uri": "https://localhost:8080/",
          "height": 35
        }
      },
      "source": [
        "# Find the even square\n",
        "i=1\n",
        "sum = 0\n",
        "while i<=10:\n",
        "    sum = sum + i\n",
        "    i = i + 1\n",
        "print(sum)\n",
        "# 4, 36, 64, 100, 144, 256"
      ],
      "execution_count": null,
      "outputs": [
        {
          "output_type": "stream",
          "text": [
            "55\n"
          ],
          "name": "stdout"
        }
      ]
    },
    {
      "cell_type": "code",
      "metadata": {
        "id": "f6oKznvwwwxo",
        "outputId": "0c289e4e-22a6-46c7-9d85-da96fb9ab223",
        "colab": {
          "base_uri": "https://localhost:8080/",
          "height": 35
        }
      },
      "source": [
        "i=1\n",
        "sum = 0\n",
        "while i<=10:\n",
        "    if i%7==0:\n",
        "        sum = sum + i\n",
        "    i = i + 1\n",
        "print(sum)\n",
        "\n",
        "# 1+2+3+4+5+6+7+8+9+10 = 55\n",
        "# Odd=25\n",
        "# Even=30"
      ],
      "execution_count": null,
      "outputs": [
        {
          "output_type": "stream",
          "text": [
            "30\n"
          ],
          "name": "stdout"
        }
      ]
    },
    {
      "cell_type": "code",
      "metadata": {
        "id": "LVWRdey-0NZU"
      },
      "source": [
        "15, 12, 9, 6, 3, 0"
      ],
      "execution_count": null,
      "outputs": []
    },
    {
      "cell_type": "code",
      "metadata": {
        "id": "yu3T0SgrtQy5"
      },
      "source": [
        "# Even: n/2\n",
        "# Odd: 3*n+1\n",
        "# Until: 1 (Stop)\n",
        "\n",
        "# 6 --> 3 --> 10 --> 5 --> 16 --> 8 --> 4 --> 2 --> 1 (Stop)\n",
        "# 7 --> 22 --> 11 --> 34 --> 17 --> 52 --> 26 --> 13 --> 40 --> 20 --> 10 --> 5 --> 16 --> 8 --> 4 --> 2 --> 1"
      ],
      "execution_count": null,
      "outputs": []
    },
    {
      "cell_type": "code",
      "metadata": {
        "id": "jXHDWaUX0PPF",
        "outputId": "a09f8edc-ba79-441d-8544-2331f9377c85",
        "colab": {
          "base_uri": "https://localhost:8080/",
          "height": 35
        }
      },
      "source": [
        "i=1\n",
        "sum=0\n",
        "while i<=100:\n",
        "    sum = sum + i\n",
        "    i = i+1\n",
        "print(sum)\n",
        "\n",
        "# 1+2+3+4+5+6+7+8+9+10 = 55"
      ],
      "execution_count": null,
      "outputs": [
        {
          "output_type": "stream",
          "text": [
            "5050\n"
          ],
          "name": "stdout"
        }
      ]
    },
    {
      "cell_type": "code",
      "metadata": {
        "id": "0VB7HPnB6YuR"
      },
      "source": [
        ""
      ],
      "execution_count": null,
      "outputs": []
    },
    {
      "cell_type": "code",
      "metadata": {
        "id": "9o_-oXnG8lSm"
      },
      "source": [
        "i=1\n",
        "sum=0\n",
        "while i<=100:\n",
        "    if i%2==0:\n",
        "        sum = sum + i\n",
        "print(sum)\n",
        "\n",
        "# 1+2+3+4+5+6+7+8+9+10 = 55"
      ],
      "execution_count": null,
      "outputs": []
    },
    {
      "cell_type": "code",
      "metadata": {
        "id": "Rlt-mNie7uY1",
        "outputId": "709693d3-2cbe-41ac-d897-7fd1bd0d0f03",
        "colab": {
          "base_uri": "https://localhost:8080/",
          "height": 35
        }
      },
      "source": [
        "if True: None\n",
        "print('Bangladesh')"
      ],
      "execution_count": null,
      "outputs": [
        {
          "output_type": "stream",
          "text": [
            "Bangladesh\n"
          ],
          "name": "stdout"
        }
      ]
    },
    {
      "cell_type": "code",
      "metadata": {
        "id": "yadVf4_r7r93",
        "outputId": "9ad923ab-fb0c-49f6-df77-4ef441cf49c6",
        "colab": {
          "base_uri": "https://localhost:8080/",
          "height": 124
        }
      },
      "source": [
        "# v = 'Bangladesh'\n",
        "# print(v)\n",
        "\n",
        "# print(v[10]\n",
        "# # Bangladesh \n",
        "# # 0123456789\n",
        "\n",
        "v = 'Monty Python'\n",
        "\n",
        "i=0\n",
        "while i<12:\n",
        "    print(v[i]) # v[2]\n",
        "    i = i+1"
      ],
      "execution_count": null,
      "outputs": [
        {
          "output_type": "stream",
          "text": [
            "M\n",
            "o\n",
            "n\n",
            "t\n",
            "y\n",
            " \n"
          ],
          "name": "stdout"
        }
      ]
    },
    {
      "cell_type": "code",
      "metadata": {
        "id": "y_5fj9rcFkpo",
        "outputId": "00f3b705-c591-452a-cd1a-691a595eca89",
        "colab": {
          "base_uri": "https://localhost:8080/",
          "height": 35
        }
      },
      "source": [
        "v = 'I love Bangladesh.'\n",
        "v = v.lower()\n",
        "\n",
        "# print(v.upper()) # I LOVE BANGLADESH.\n",
        "# print(v.lower()) # i love bangladesh.\n",
        "\n",
        "# vowel = {a, e, i, o, u}\n",
        "\n",
        "i = 0\n",
        "C = 0\n",
        "while i<len(v):\n",
        "    if v[i] == 'a' or v[i] == 'e' or v[i] == 'i' or v[i] == 'o' or v[i] == 'u':\n",
        "        C = C + 1 \n",
        "    i = i+1\n",
        "print(C)"
      ],
      "execution_count": null,
      "outputs": [
        {
          "output_type": "stream",
          "text": [
            "6\n"
          ],
          "name": "stdout"
        }
      ]
    },
    {
      "cell_type": "code",
      "metadata": {
        "id": "qyyMVPnYIF5U",
        "outputId": "7c356ae3-13dc-42ad-a46a-ecd3a7a088d8",
        "colab": {
          "base_uri": "https://localhost:8080/",
          "height": 195
        }
      },
      "source": [
        "# 11 x 1 = 11\n",
        "# 11 x 2 = 22\n",
        "# 11 x 3 = 33\n",
        "# 11 x 4 = 44\n",
        "# ...........\n",
        "# 11 x 10 = 110\n",
        "\n",
        "i=1\n",
        "while i<11:\n",
        "    # print('11 x {} = {}'.format(i, 11*i))\n",
        "    print('11 x {} = {}'.format(i, 11*i))\n",
        "    # first {}  --> i\n",
        "    # second {} --> 11*i\n",
        "    i = i + 1\n",
        "#end-while"
      ],
      "execution_count": null,
      "outputs": [
        {
          "output_type": "stream",
          "text": [
            "11 x 1 = 11\n",
            "11 x 2 = 22\n",
            "11 x 3 = 33\n",
            "11 x 4 = 44\n",
            "11 x 5 = 55\n",
            "11 x 6 = 66\n",
            "11 x 7 = 77\n",
            "11 x 8 = 88\n",
            "11 x 9 = 99\n",
            "11 x 10 = 110\n"
          ],
          "name": "stdout"
        }
      ]
    },
    {
      "cell_type": "markdown",
      "metadata": {
        "id": "LaUT9CiVmVPF"
      },
      "source": [
        "![image.png](data:image/png;base64,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)"
      ]
    },
    {
      "cell_type": "code",
      "metadata": {
        "id": "TdNdQ9P4aB_F",
        "outputId": "f3e1fd53-e67e-4413-b391-8aa36bdf527b",
        "colab": {
          "base_uri": "https://localhost:8080/",
          "height": 88
        }
      },
      "source": [
        "# function --> ()\n",
        "# string format --> {}\n",
        "# array --> []\n",
        "\n",
        "# a=5\n",
        "# b=6\n",
        "# c=7\n",
        "\n",
        "v = []\n",
        "v.append(5)\n",
        "v.append(6)\n",
        "v.append(7)\n",
        "print(v)\n",
        "\n",
        "print(v[0]) # 5\n",
        "print(v[1]) # 6\n",
        "print(v[2]) # 7\n",
        "# print(v[3]) # Error"
      ],
      "execution_count": null,
      "outputs": [
        {
          "output_type": "stream",
          "text": [
            "[5, 6, 7]\n",
            "5\n",
            "6\n",
            "7\n"
          ],
          "name": "stdout"
        }
      ]
    },
    {
      "cell_type": "code",
      "metadata": {
        "id": "XsScb42gjI0A"
      },
      "source": [
        "v = [5, 6, 7]\n",
        "print(v[0])\n",
        "print(v[1])\n",
        "print(v[2])"
      ],
      "execution_count": null,
      "outputs": []
    },
    {
      "cell_type": "code",
      "metadata": {
        "id": "8iEpRcpejfIc",
        "outputId": "3ba09572-e56a-496e-dce4-dc08d7f9c69e",
        "colab": {
          "base_uri": "https://localhost:8080/",
          "height": 35
        }
      },
      "source": [
        "v = [1, 5, 6, 7, 8, 7, 7, 9, -1, -3, 6]\n",
        "\n",
        "# Find the array sum (1+5+6+7+...)\n",
        "# Find the total odd number\n",
        "# Find the total even number\n",
        "# Find the total +ve number\n",
        "# Find the total -ve number\n",
        "# Find the minimum number from the array --> -3\n",
        "# Find the miximum number from the array --> 9\n",
        "\n",
        "i=0\n",
        "C = 0\n",
        "while i<len(v):\n",
        "    if v[i] < 0:\n",
        "        C = C+1 \n",
        "    i = i+1\n",
        "print(C)"
      ],
      "execution_count": null,
      "outputs": [
        {
          "output_type": "stream",
          "text": [
            "2\n"
          ],
          "name": "stdout"
        }
      ]
    },
    {
      "cell_type": "code",
      "metadata": {
        "id": "GI1M__QjollN"
      },
      "source": [
        "v = [\n",
        "    [ 1,  2,  3,  4,  5,  6],\n",
        "    [10, 20, 30, 40, 50, 60],\n",
        "    [11, 21, 31, 41, 51, 61],\n",
        "]"
      ],
      "execution_count": null,
      "outputs": []
    },
    {
      "cell_type": "code",
      "metadata": {
        "id": "GiB3N3M7pbyK",
        "outputId": "a1947748-a9d6-4ff0-baba-e061d10d858d",
        "colab": {
          "base_uri": "https://localhost:8080/",
          "height": 70
        }
      },
      "source": [
        "# ~ 15 GB\n",
        "for i in v:\n",
        "    print(i)jk"
      ],
      "execution_count": null,
      "outputs": [
        {
          "output_type": "stream",
          "text": [
            "[1, 2, 3, 4, 5, 6]\n",
            "[10, 20, 30, 40, 50, 60]\n",
            "[11, 21, 31, 41, 51, 61]\n"
          ],
          "name": "stdout"
        }
      ]
    },
    {
      "cell_type": "code",
      "metadata": {
        "id": "VNZNhfqmjl0t",
        "outputId": "c1295166-13cc-4bb6-e6e0-1174e6145139",
        "colab": {
          "base_uri": "https://localhost:8080/",
          "height": 224
        }
      },
      "source": [
        "# Array / List\n",
        "v =     [4, 5, -6]\n",
        "#index  #0, 1,  2\n",
        "print(v)\n",
        "print(v[3])"
      ],
      "execution_count": null,
      "outputs": [
        {
          "output_type": "stream",
          "text": [
            "[4, 5, -6]\n"
          ],
          "name": "stdout"
        },
        {
          "output_type": "error",
          "ename": "IndexError",
          "evalue": "ignored",
          "traceback": [
            "\u001b[0;31m---------------------------------------------------------------------------\u001b[0m",
            "\u001b[0;31mIndexError\u001b[0m                                Traceback (most recent call last)",
            "\u001b[0;32m<ipython-input-3-edfe4999a289>\u001b[0m in \u001b[0;36m<module>\u001b[0;34m()\u001b[0m\n\u001b[1;32m      2\u001b[0m     \u001b[0;31m#0, 1,  2\u001b[0m\u001b[0;34m\u001b[0m\u001b[0;34m\u001b[0m\u001b[0;34m\u001b[0m\u001b[0m\n\u001b[1;32m      3\u001b[0m \u001b[0mprint\u001b[0m\u001b[0;34m(\u001b[0m\u001b[0mv\u001b[0m\u001b[0;34m)\u001b[0m\u001b[0;34m\u001b[0m\u001b[0;34m\u001b[0m\u001b[0m\n\u001b[0;32m----> 4\u001b[0;31m \u001b[0mprint\u001b[0m\u001b[0;34m(\u001b[0m\u001b[0mv\u001b[0m\u001b[0;34m[\u001b[0m\u001b[0;36m3\u001b[0m\u001b[0;34m]\u001b[0m\u001b[0;34m)\u001b[0m\u001b[0;34m\u001b[0m\u001b[0;34m\u001b[0m\u001b[0m\n\u001b[0m",
            "\u001b[0;31mIndexError\u001b[0m: list index out of range"
          ]
        }
      ]
    },
    {
      "cell_type": "code",
      "metadata": {
        "id": "C-wZHoqTkyMC",
        "outputId": "93b9ec69-12fb-41c8-8ff0-a9fcff7adf87",
        "colab": {
          "base_uri": "https://localhost:8080/",
          "height": 71
        }
      },
      "source": [
        "v = [4, 'Rafsanjani', 4.5, True, 2>3]\n",
        "\n",
        "print(v[3])\n",
        "print(type(v[3]))\n",
        "print(type(v[4]))\n",
        "# Array/List contrains mixed varable type."
      ],
      "execution_count": null,
      "outputs": [
        {
          "output_type": "stream",
          "text": [
            "True\n",
            "<class 'bool'>\n",
            "<class 'bool'>\n"
          ],
          "name": "stdout"
        }
      ]
    },
    {
      "cell_type": "code",
      "metadata": {
        "id": "B-OI_tvKkCRh",
        "outputId": "804a4e40-293e-499d-9b5a-a61815b99273",
        "colab": {
          "base_uri": "https://localhost:8080/",
          "height": 35
        }
      },
      "source": [
        "v = 'I am a big boy.'\n",
        "v = v.split()\n",
        "\n",
        "print(v)"
      ],
      "execution_count": null,
      "outputs": [
        {
          "output_type": "stream",
          "text": [
            "['I', 'am', 'a', 'big', 'boy.']\n"
          ],
          "name": "stdout"
        }
      ]
    },
    {
      "cell_type": "code",
      "metadata": {
        "id": "vxNxz6eCrkzn",
        "outputId": "ca8d8ca7-62bb-425d-914f-54f608de1ca4",
        "colab": {
          "base_uri": "https://localhost:8080/",
          "height": 35
        }
      },
      "source": [
        "print(v[3][-1])"
      ],
      "execution_count": null,
      "outputs": [
        {
          "output_type": "stream",
          "text": [
            "g\n"
          ],
          "name": "stdout"
        }
      ]
    },
    {
      "cell_type": "code",
      "metadata": {
        "id": "U-4EtorzqxfB",
        "outputId": "d8c1d6ed-a54d-4f91-c5e9-8d60c741eee5",
        "colab": {
          "base_uri": "https://localhost:8080/",
          "height": 35
        }
      },
      "source": [
        "v = 'I;am,a;big;boy.'\n",
        "v = v.split(';')\n",
        "\n",
        "print(v)"
      ],
      "execution_count": null,
      "outputs": [
        {
          "output_type": "stream",
          "text": [
            "['I', 'am,a', 'big', 'boy.']\n"
          ],
          "name": "stdout"
        }
      ]
    },
    {
      "cell_type": "code",
      "metadata": {
        "id": "mN6tFxRolyBy",
        "outputId": "93bb9da0-c1f1-4f98-bb4e-f7580909cef0",
        "colab": {
          "base_uri": "https://localhost:8080/",
          "height": 35
        }
      },
      "source": [
        "print(v[3])"
      ],
      "execution_count": null,
      "outputs": [
        {
          "output_type": "stream",
          "text": [
            "big\n"
          ],
          "name": "stdout"
        }
      ]
    },
    {
      "cell_type": "code",
      "metadata": {
        "id": "YMHmolLJmhcK"
      },
      "source": [
        "print(v[3][0])"
      ],
      "execution_count": null,
      "outputs": []
    },
    {
      "cell_type": "code",
      "metadata": {
        "id": "R6pvosmlnNFZ",
        "outputId": "cda3355c-706d-48ca-d7d8-722633da445c",
        "colab": {
          "base_uri": "https://localhost:8080/",
          "height": 53
        }
      },
      "source": [
        "v = [4, 5, -6]\n",
        "v[0] = 40\n",
        "\n",
        "print(v)\n",
        "print(v[0])"
      ],
      "execution_count": null,
      "outputs": [
        {
          "output_type": "stream",
          "text": [
            "[40, 5, -6]\n",
            "40\n"
          ],
          "name": "stdout"
        }
      ]
    },
    {
      "cell_type": "code",
      "metadata": {
        "id": "8F_GxMiWr4kI",
        "outputId": "c9dec42d-2e04-40c8-fa14-b51b3649ea51",
        "colab": {
          "base_uri": "https://localhost:8080/",
          "height": 35
        }
      },
      "source": [
        "del v[2]\n",
        "\n",
        "print(v)"
      ],
      "execution_count": null,
      "outputs": [
        {
          "output_type": "stream",
          "text": [
            "[40, 5]\n"
          ],
          "name": "stdout"
        }
      ]
    },
    {
      "cell_type": "code",
      "metadata": {
        "id": "7GAMSsmqsW4H",
        "outputId": "125569e9-6948-49d6-9b07-b8385fa9ed46",
        "colab": {
          "base_uri": "https://localhost:8080/",
          "height": 53
        }
      },
      "source": [
        "v = [10, 11, -30, -50, 41, 17, 3, -6]\n",
        "\n",
        "print(sorted(v))               # [-50, -30, -6, 3, 10, 11, 17, 41]\n",
        "print(sorted(v, reverse=True)) # [41, 17, 11, 10, 3, -6, -30, -50]"
      ],
      "execution_count": null,
      "outputs": [
        {
          "output_type": "stream",
          "text": [
            "[-50, -30, -6, 3, 10, 11, 17, 41]\n",
            "[41, 17, 11, 10, 3, -6, -30, -50]\n"
          ],
          "name": "stdout"
        }
      ]
    },
    {
      "cell_type": "code",
      "metadata": {
        "id": "trBMKAfZujWt",
        "outputId": "175b41c2-f5b8-4b2e-caaf-37e52dd683a6",
        "colab": {
          "base_uri": "https://localhost:8080/",
          "height": 71
        }
      },
      "source": [
        "print(min(v))\n",
        "print(max(v))\n",
        "print(sum(v))"
      ],
      "execution_count": null,
      "outputs": [
        {
          "output_type": "stream",
          "text": [
            "-50\n",
            "41\n",
            "-4\n"
          ],
          "name": "stdout"
        }
      ]
    },
    {
      "cell_type": "code",
      "metadata": {
        "id": "z_lAgv67tZmI",
        "outputId": "019d8149-9957-4bda-ac60-77d805208b7f",
        "colab": {
          "base_uri": "https://localhost:8080/",
          "height": 53
        }
      },
      "source": [
        "v = sorted(v) # O(nlog(n))\n",
        "min = v[0]\n",
        "max = v[-1]\n",
        "\n",
        "print(min)\n",
        "print(max)"
      ],
      "execution_count": null,
      "outputs": [
        {
          "output_type": "stream",
          "text": [
            "-50\n",
            "41\n"
          ],
          "name": "stdout"
        }
      ]
    },
    {
      "cell_type": "code",
      "metadata": {
        "id": "08PdfAKxnArV",
        "outputId": "f2145a67-7a78-4d23-ce48-2512f540e5ae",
        "colab": {
          "base_uri": "https://localhost:8080/",
          "height": 224
        }
      },
      "source": [
        "v = 'Somalia'\n",
        "v[0] = 'A' # immutable\n",
        "\n",
        "print(v)"
      ],
      "execution_count": null,
      "outputs": [
        {
          "output_type": "error",
          "ename": "TypeError",
          "evalue": "ignored",
          "traceback": [
            "\u001b[0;31m---------------------------------------------------------------------------\u001b[0m",
            "\u001b[0;31mTypeError\u001b[0m                                 Traceback (most recent call last)",
            "\u001b[0;32m<ipython-input-18-f3a6da187e33>\u001b[0m in \u001b[0;36m<module>\u001b[0;34m()\u001b[0m\n\u001b[1;32m      1\u001b[0m \u001b[0mv\u001b[0m \u001b[0;34m=\u001b[0m \u001b[0;34m'Somalia'\u001b[0m\u001b[0;34m\u001b[0m\u001b[0;34m\u001b[0m\u001b[0m\n\u001b[0;32m----> 2\u001b[0;31m \u001b[0mv\u001b[0m\u001b[0;34m[\u001b[0m\u001b[0;36m0\u001b[0m\u001b[0;34m]\u001b[0m \u001b[0;34m=\u001b[0m \u001b[0;34m'A'\u001b[0m\u001b[0;34m\u001b[0m\u001b[0;34m\u001b[0m\u001b[0m\n\u001b[0m\u001b[1;32m      3\u001b[0m \u001b[0;34m\u001b[0m\u001b[0m\n\u001b[1;32m      4\u001b[0m \u001b[0mprint\u001b[0m\u001b[0;34m(\u001b[0m\u001b[0mv\u001b[0m\u001b[0;34m)\u001b[0m\u001b[0;34m\u001b[0m\u001b[0;34m\u001b[0m\u001b[0m\n",
            "\u001b[0;31mTypeError\u001b[0m: 'str' object does not support item assignment"
          ]
        }
      ]
    },
    {
      "cell_type": "code",
      "metadata": {
        "id": "EH21vmAVoAFo",
        "outputId": "67ba9ea0-6743-4e57-9542-79a8312d66d1",
        "colab": {
          "base_uri": "https://localhost:8080/",
          "height": 52
        }
      },
      "source": [
        "v = ['abc', 'def', 'ijk']\n",
        "\n",
        "v[0] = 'Rafsanjani'\n",
        "\n",
        "print(v)\n",
        "print(v[0][0])"
      ],
      "execution_count": null,
      "outputs": [
        {
          "output_type": "stream",
          "text": [
            "['Rafsanjani', 'def', 'ijk']\n",
            "R\n"
          ],
          "name": "stdout"
        }
      ]
    },
    {
      "cell_type": "markdown",
      "metadata": {
        "id": "Qm3uMA29u5DL"
      },
      "source": [
        "![image.png](data:image/png;base64,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)"
      ]
    },
    {
      "cell_type": "code",
      "metadata": {
        "id": "2fo-atFFonIw",
        "outputId": "ebb8e63c-3cec-48e2-9fef-26c7d6f82844",
        "colab": {
          "base_uri": "https://localhost:8080/",
          "height": 71
        }
      },
      "source": [
        "# Array/List Slicing\n",
        "              \n",
        "v = 'Rafsanjani'\n",
        "    #0123456789\n",
        "    #X987654321 (-negative)\n",
        "\n",
        "print(v[0:4]) # i=0, i<4 --> Rafs\n",
        "print(v[4:8]) # i=4, i<8 --> anja\n",
        "\n",
        "print(v[::1]) # Rafsanjani\n",
        "# print(v[::2]) # Rfajn\n",
        "# print(v[::3]) # Rsji\n",
        "\n",
        "# print(v[:6:3]) # Rs"
      ],
      "execution_count": null,
      "outputs": [
        {
          "output_type": "stream",
          "text": [
            "Rafs\n",
            "anja\n",
            "Rafsanjani\n"
          ],
          "name": "stdout"
        }
      ]
    },
    {
      "cell_type": "code",
      "metadata": {
        "id": "fbLs980jvb10",
        "outputId": "c28b2d5d-09a7-44dd-ef12-240e2ffea20d",
        "colab": {
          "base_uri": "https://localhost:8080/",
          "height": 88
        }
      },
      "source": [
        "print(v[0:10:1]) # i=0, i<11, i=i+1\n",
        "print(v[0::1])   # i=0, i<11, i=i+1\n",
        "print(v[::1])    # Rafsanjani\n",
        "print(v[::])     # Rafsanjani"
      ],
      "execution_count": null,
      "outputs": [
        {
          "output_type": "stream",
          "text": [
            "Rafsanjani\n",
            "Rafsanjani\n",
            "Rafsanjani\n",
            "Rafsanjani\n"
          ],
          "name": "stdout"
        }
      ]
    },
    {
      "cell_type": "code",
      "metadata": {
        "id": "mABchxkXy6L7",
        "outputId": "85ff5cf0-fff9-4410-a1cb-298ea6969136",
        "colab": {
          "base_uri": "https://localhost:8080/",
          "height": 53
        }
      },
      "source": [
        "print(v[-1:-11:-1])    # Rafsanjani\n",
        "# -1, -2, -3, ... -10\n",
        "print(v[::-1])         # Rafsanjani"
      ],
      "execution_count": null,
      "outputs": [
        {
          "output_type": "stream",
          "text": [
            "inajnasfaR\n",
            "inajnasfaR\n"
          ],
          "name": "stdout"
        }
      ]
    },
    {
      "cell_type": "code",
      "metadata": {
        "id": "OlDcNzM6xMZr",
        "outputId": "1126edf6-3fc0-4f37-832d-6ebc2f6ac8eb",
        "colab": {
          "base_uri": "https://localhost:8080/",
          "height": 196
        }
      },
      "source": [
        "v = 'Rafsanjani'\n",
        "i=0\n",
        "while i<10:\n",
        "    print(v[i])\n",
        "    i = i+1"
      ],
      "execution_count": null,
      "outputs": [
        {
          "output_type": "stream",
          "text": [
            "R\n",
            "a\n",
            "f\n",
            "s\n",
            "a\n",
            "n\n",
            "j\n",
            "a\n",
            "n\n",
            "i\n"
          ],
          "name": "stdout"
        }
      ]
    },
    {
      "cell_type": "code",
      "metadata": {
        "id": "NFrhR6EjsICU",
        "outputId": "1fd79ccd-6895-433a-837f-b0cc8af5ff59",
        "colab": {
          "base_uri": "https://localhost:8080/",
          "height": 53
        }
      },
      "source": [
        "v = '       Rafsanjani  '\n",
        "print(v)\n",
        "print(v.strip()) # v = 'Rafsanjani'"
      ],
      "execution_count": null,
      "outputs": [
        {
          "output_type": "stream",
          "text": [
            "       Rafsanjani  \n",
            "Rafsanjani\n"
          ],
          "name": "stdout"
        }
      ]
    },
    {
      "cell_type": "code",
      "metadata": {
        "id": "2tcE7ITQzsww"
      },
      "source": [
        "v = [\n",
        "     '        I hate the food           ',\n",
        "     '          too good ',\n",
        "     '  not bad ',\n",
        "]"
      ],
      "execution_count": null,
      "outputs": []
    },
    {
      "cell_type": "code",
      "metadata": {
        "id": "8F6mvEcg0Hwe",
        "outputId": "096d7e49-c7ef-40e1-fb00-f6dea1b4b547",
        "colab": {
          "base_uri": "https://localhost:8080/",
          "height": 35
        }
      },
      "source": [
        "sentence = []\n",
        "for i in v:\n",
        "    sentence.append(i.strip())\n",
        "print(sentence)"
      ],
      "execution_count": null,
      "outputs": [
        {
          "output_type": "stream",
          "text": [
            "['I hate the food', 'too good', 'not bad']\n"
          ],
          "name": "stdout"
        }
      ]
    },
    {
      "cell_type": "code",
      "metadata": {
        "id": "TpDfIVnxwO3n",
        "outputId": "511c6e1a-1565-4f9a-e177-a7df1bdb9976",
        "colab": {
          "base_uri": "https://localhost:8080/",
          "height": 106
        }
      },
      "source": [
        "number = 5\n",
        "while number > 0: # 5>0, 4>0\n",
        "    print(number) #5, 4, 3, 2, 1 \n",
        "    number = number - 1 # assign = value"
      ],
      "execution_count": null,
      "outputs": [
        {
          "output_type": "stream",
          "text": [
            "5\n",
            "4\n",
            "3\n",
            "2\n",
            "1\n"
          ],
          "name": "stdout"
        }
      ]
    },
    {
      "cell_type": "code",
      "metadata": {
        "id": "LaiTWbthxhA-",
        "outputId": "909b1899-c972-4273-ee20-383684766461",
        "colab": {
          "base_uri": "https://localhost:8080/",
          "height": 35
        }
      },
      "source": [
        "number = 5\n",
        "while number > 0: # 5>0, 4>0\n",
        "    print(number, end=' ') #5, 4, 3, 2, 1 \n",
        "    number = number - 1 # assign = value"
      ],
      "execution_count": null,
      "outputs": [
        {
          "output_type": "stream",
          "text": [
            "5 4 3 2 1 "
          ],
          "name": "stdout"
        }
      ]
    },
    {
      "cell_type": "code",
      "metadata": {
        "id": "gga_XrGNygxl",
        "outputId": "bc9b1331-5e84-41ab-86c4-d4279af336e3",
        "colab": {
          "base_uri": "https://localhost:8080/",
          "height": 178
        }
      },
      "source": [
        "i=1\n",
        "while i<100:\n",
        "    if i == 10:\n",
        "        break\n",
        "    i = i+1\n",
        "    print(i)\n"
      ],
      "execution_count": null,
      "outputs": [
        {
          "output_type": "stream",
          "text": [
            "2\n",
            "3\n",
            "4\n",
            "5\n",
            "6\n",
            "7\n",
            "8\n",
            "9\n",
            "10\n"
          ],
          "name": "stdout"
        }
      ]
    },
    {
      "cell_type": "code",
      "metadata": {
        "id": "3oYzPsKCwPY_",
        "outputId": "d66a4591-88d8-43ea-e38c-f8d0bc17db70",
        "colab": {
          "base_uri": "https://localhost:8080/",
          "height": 35
        }
      },
      "source": [
        "while True:\n",
        "    print('HW')\n",
        "    break"
      ],
      "execution_count": null,
      "outputs": [
        {
          "output_type": "stream",
          "text": [
            "HW\n"
          ],
          "name": "stdout"
        }
      ]
    },
    {
      "cell_type": "code",
      "metadata": {
        "id": "ONMstnF7z88c",
        "outputId": "e7eeb7e5-a77d-4885-e550-29600aac96c4",
        "colab": {
          "base_uri": "https://localhost:8080/",
          "height": 124
        }
      },
      "source": [
        "password = input()\n",
        "\n",
        "i=1\n",
        "while password != 'odin@1234':\n",
        "    if i == 3:\n",
        "        print('You tried 3 times.')\n",
        "        break\n",
        "    print('Wrong! Type Again!')\n",
        "    password = input()\n",
        "    i = i+1\n",
        "else:\n",
        "    print('Welcome! Password successfully!')"
      ],
      "execution_count": null,
      "outputs": [
        {
          "output_type": "stream",
          "text": [
            "odin\n",
            "Wrong! Type Again!\n",
            "odin123\n",
            "Wrong! Type Again!\n",
            "odin@1234\n",
            "Welcome! Password successfully!\n"
          ],
          "name": "stdout"
        }
      ]
    },
    {
      "cell_type": "code",
      "metadata": {
        "id": "DyXO5zgny3aS",
        "outputId": "b8ba32f3-1e96-4d25-a1f5-807a02db47c8",
        "colab": {
          "base_uri": "https://localhost:8080/",
          "height": 35
        }
      },
      "source": [
        "i = 0\n",
        "summation = 0.0\n",
        "while i<10:\n",
        "    i = i + 0.65\n",
        "    summation = summation + i\n",
        "print(summation)"
      ],
      "execution_count": null,
      "outputs": [
        {
          "output_type": "stream",
          "text": [
            "88.4\n"
          ],
          "name": "stdout"
        }
      ]
    },
    {
      "cell_type": "code",
      "metadata": {
        "id": "4K2gVldw1cBL"
      },
      "source": [
        "count = count + 1\n",
        "count += 1"
      ],
      "execution_count": null,
      "outputs": []
    },
    {
      "cell_type": "code",
      "metadata": {
        "id": "wNDrFncK2bDB",
        "outputId": "b0e36181-a0a6-42a9-db42-a05b2739c386",
        "colab": {
          "base_uri": "https://localhost:8080/",
          "height": 90
        }
      },
      "source": [
        "# Style-1:\n",
        "# i=0\n",
        "# while i<10:\n",
        "#     print(i)\n",
        "#     i = i+1\n",
        "\n",
        "# Style-2:\n",
        "# for i in range(0, 10, 1):\n",
        "#     print(i)\n",
        "\n",
        "# Style-3:\n",
        "for i in range(10): # i<10\n",
        "    print(i)\n",
        "\n",
        "# Note:"
      ],
      "execution_count": null,
      "outputs": [
        {
          "output_type": "stream",
          "text": [
            "0\n",
            "3\n",
            "6\n",
            "9\n"
          ],
          "name": "stdout"
        }
      ]
    },
    {
      "cell_type": "code",
      "metadata": {
        "id": "lpbxgNJL2m0l"
      },
      "source": [
        "range?"
      ],
      "execution_count": null,
      "outputs": []
    },
    {
      "cell_type": "code",
      "metadata": {
        "id": "BSdbZ4be3wDt"
      },
      "source": [
        "# 1 - 1000\n",
        "\n",
        "# --> 5 & 6 & 7\n",
        "\n",
        "# --> 16\n",
        "# ------|\n",
        "# 16\n",
        "# ------|"
      ],
      "execution_count": null,
      "outputs": []
    },
    {
      "cell_type": "code",
      "metadata": {
        "id": "q-Ugu6nU6UbJ"
      },
      "source": [
        "# # Style-1:\n",
        "# v = [4, 5, 6, 7, -1]\n",
        "# i=0\n",
        "# while i<len(v):\n",
        "#     print(v[i])\n",
        "#     i = i+1\n",
        "\n",
        "# Style-2:\n",
        "# v = [4, 5, 6, 7, -1]\n",
        "# for i in v:\n",
        "#     print(i)\n",
        "\n",
        "# Style-3:\n",
        "# for i in [4, 5, 6, 7, -1]:\n",
        "#     print(i)"
      ],
      "execution_count": null,
      "outputs": []
    },
    {
      "cell_type": "code",
      "metadata": {
        "id": "L_IuXSbB5dSr",
        "outputId": "d11ce4b7-56f8-4e02-b145-967b4788b099",
        "colab": {
          "base_uri": "https://localhost:8080/",
          "height": 74
        }
      },
      "source": [
        "# 1-1000\n",
        "# 5 & 7\n",
        "C = 0\n",
        "for i in range(1, 1001): #i<1001\n",
        "    if i%5==0 and i%7==0:\n",
        "        C = C+1\n",
        "        print(i, end=',')\n",
        "print()\n",
        "print(C)"
      ],
      "execution_count": null,
      "outputs": [
        {
          "output_type": "stream",
          "text": [
            "35,70,105,140,175,210,245,280,315,350,385,420,455,490,525,560,595,630,665,700,735,770,805,840,875,910,945,980,\n",
            "28\n"
          ],
          "name": "stdout"
        }
      ]
    },
    {
      "cell_type": "code",
      "metadata": {
        "id": "n-UunoLi7p3R"
      },
      "source": [
        "# 100\n",
        "# 1, 2, 4, 5, 10, 20, 25, 50, 100\n",
        "\n",
        "# 1 | 100 | 100\n",
        "#   | 100 |\n",
        "#   -------\n",
        "#       0"
      ],
      "execution_count": null,
      "outputs": []
    },
    {
      "cell_type": "code",
      "metadata": {
        "id": "5wYuMrI95097",
        "outputId": "7437533e-0385-40ce-b8df-69f155746bde",
        "colab": {
          "base_uri": "https://localhost:8080/",
          "height": 145
        }
      },
      "source": [
        "i=2\n",
        "n = 51\n",
        "while i<51:\n",
        "    if 100%i == 0:\n",
        "        print(i)\n",
        "    i = i + 1\n",
        "\n",
        "# for i in range(1, 101, 1)\n",
        "#     if 100%i == 0:\n",
        "#         print(i)"
      ],
      "execution_count": null,
      "outputs": [
        {
          "output_type": "stream",
          "text": [
            "2\n",
            "4\n",
            "5\n",
            "10\n",
            "20\n",
            "25\n",
            "50\n"
          ],
          "name": "stdout"
        }
      ]
    },
    {
      "cell_type": "code",
      "metadata": {
        "id": "yIQPpzvR6Ez8",
        "outputId": "5ee15ba5-636e-423b-d0df-3520ac9ff095",
        "colab": {
          "base_uri": "https://localhost:8080/",
          "height": 108
        }
      },
      "source": [
        ""
      ],
      "execution_count": null,
      "outputs": [
        {
          "output_type": "stream",
          "text": [
            "4\n",
            "5\n",
            "6\n",
            "7\n",
            "-1\n"
          ],
          "name": "stdout"
        }
      ]
    },
    {
      "cell_type": "code",
      "metadata": {
        "id": "BiapfpFb5d5C",
        "outputId": "57b2dd3f-0de7-49d2-f5e1-067dd5c055f8",
        "colab": {
          "base_uri": "https://localhost:8080/",
          "height": 68
        }
      },
      "source": [
        "v = [2, 3, 7, -9]\n",
        " \n",
        "print(sorted(v))\n",
        "print(sorted(v, reverse=True))\n",
        " \n",
        "import numpy as np\n",
        "v=np.array(v)\n",
        " \n",
        "print(v)"
      ],
      "execution_count": null,
      "outputs": [
        {
          "output_type": "stream",
          "text": [
            "[-9, 2, 3, 7]\n",
            "[7, 3, 2, -9]\n",
            "[ 2  3  7 -9]\n"
          ],
          "name": "stdout"
        }
      ]
    },
    {
      "cell_type": "code",
      "metadata": {
        "id": "ZiOM8J6S7y9O",
        "outputId": "e028c3f4-9cf5-4809-bbdf-ed502ecacc5f",
        "colab": {
          "base_uri": "https://localhost:8080/",
          "height": 35
        }
      },
      "source": [
        "C = 0\n",
        "for i in range(1, 500):\n",
        "    if (i%5 == 0) or (i%9==0):\n",
        "        C = C+1\n",
        "        # print(i)\n",
        "print(C)"
      ],
      "execution_count": null,
      "outputs": [
        {
          "output_type": "stream",
          "text": [
            "143\n"
          ],
          "name": "stdout"
        }
      ]
    },
    {
      "cell_type": "code",
      "metadata": {
        "id": "ivH6B56gcFOl",
        "outputId": "99702c41-115d-4b56-f05e-39dcda5b7e45",
        "colab": {
          "base_uri": "https://localhost:8080/",
          "height": 35
        }
      },
      "source": [
        "N = 5.5\n",
        "i=0\n",
        "s = 0.0\n",
        " \n",
        "while i<=N:\n",
        "    i = i + 0.65\n",
        "    s = s + i\n",
        "print(s)"
      ],
      "execution_count": null,
      "outputs": [
        {
          "output_type": "stream",
          "text": [
            "29.25\n"
          ],
          "name": "stdout"
        }
      ]
    },
    {
      "cell_type": "code",
      "metadata": {
        "id": "yknYA_1alGlt"
      },
      "source": [
        "X= [4, 5]"
      ],
      "execution_count": null,
      "outputs": []
    },
    {
      "cell_type": "code",
      "metadata": {
        "id": "ILHtWyFqlVTa",
        "outputId": "3396c15e-9d64-459e-ed5b-1d33491fa635",
        "colab": {
          "base_uri": "https://localhost:8080/",
          "height": 34
        }
      },
      "source": [
        "X[6:]=[9]\n",
        "X"
      ],
      "execution_count": null,
      "outputs": [
        {
          "output_type": "execute_result",
          "data": {
            "text/plain": [
              "[4, 5, 9, 9, 9]"
            ]
          },
          "metadata": {
            "tags": []
          },
          "execution_count": 6
        }
      ]
    },
    {
      "cell_type": "code",
      "metadata": {
        "id": "neKfZXlbf1PT",
        "outputId": "460cefb1-2e06-4b2f-e1e3-9feec79cca48",
        "colab": {
          "base_uri": "https://localhost:8080/",
          "height": 35
        }
      },
      "source": [
        "n = 1011\n",
        "first = n\n",
        "rev = 0\n",
        "while n>0:\n",
        "    rem = n%10\n",
        "    rev = (rev * 10) + rem\n",
        "    n = n//10\n",
        "\n",
        "if first == rev:\n",
        "    print('palindrome')\n",
        "else:\n",
        "    print('NOT palindrome')\n",
        "\n",
        "# palindrome: 101 --> 100; mom --> mom, madam --> madam"
      ],
      "execution_count": null,
      "outputs": [
        {
          "output_type": "stream",
          "text": [
            "NOT palindrome\n"
          ],
          "name": "stdout"
        }
      ]
    },
    {
      "cell_type": "code",
      "metadata": {
        "id": "iB8ydcnjiwom",
        "outputId": "27fb07e6-9e5f-4983-e70a-81739d4f9f8f",
        "colab": {
          "base_uri": "https://localhost:8080/",
          "height": 35
        }
      },
      "source": [
        "n = 76542\n",
        "C = 0\n",
        "while n!=0:\n",
        "    n = n // 10\n",
        "    C = C + 1\n",
        "print(C)"
      ],
      "execution_count": null,
      "outputs": [
        {
          "output_type": "stream",
          "text": [
            "5\n"
          ],
          "name": "stdout"
        }
      ]
    },
    {
      "cell_type": "code",
      "metadata": {
        "id": "oVVMyF59lR2t",
        "outputId": "a434a165-2953-40cf-b3ba-9a078f34f993",
        "colab": {
          "base_uri": "https://localhost:8080/",
          "height": 35
        }
      },
      "source": [
        "n = -\n",
        "C = 0\n",
        "\n",
        "while n!=0:\n",
        "    n = n // 10\n",
        "    C = C + 1\n",
        "    print('Works!')"
      ],
      "execution_count": null,
      "outputs": [
        {
          "output_type": "stream",
          "text": [
            "Works!\n"
          ],
          "name": "stdout"
        }
      ]
    },
    {
      "cell_type": "code",
      "metadata": {
        "id": "jhuXjiI3PAdF",
        "outputId": "eaac0191-3c95-4fa2-a0b8-6b301d67a5c2",
        "colab": {
          "base_uri": "https://localhost:8080/",
          "height": 88
        }
      },
      "source": [
        "i=1\n",
        "C = 0\n",
        "while i<=10:\n",
        "    if i%3 == 0: # divisible by 3\n",
        "        C = C + 1\n",
        "        print(i)\n",
        "    i = i + 1\n",
        "print('--> {}'.format(C))"
      ],
      "execution_count": null,
      "outputs": [
        {
          "output_type": "stream",
          "text": [
            "3\n",
            "6\n",
            "9\n",
            "--> 3\n"
          ],
          "name": "stdout"
        }
      ]
    },
    {
      "cell_type": "code",
      "metadata": {
        "id": "qnbCzGxdXNAS",
        "outputId": "7ea0cfd4-3d90-4ab0-ea9a-fd07f7ec7da4",
        "colab": {
          "base_uri": "https://localhost:8080/",
          "height": 212
        }
      },
      "source": [
        "C = 0\n",
        "v = [5, 4, 3, 2, 1, 0, -1, -2, -3, -4, -5] # len(v) --> 11\n",
        "#    0  1  2  3  4  5   6   7   8   9   10\n",
        "i = 0\n",
        "while i<len(v):\n",
        "    C = C + v[i] # v[1]\n",
        "    print('Step-{}: {}'.format(i+1, C))\n",
        "    # i = i + 1\n",
        "\n",
        "# Step-1: C=0,  v[0], --> 5\n",
        "# Step-2: C=5,  v[1], --> 9\n",
        "# Step-3: C=9,  v[2], --> 12\n",
        "# Step-4: C=12, v[3], --> 14\n",
        "# Step-5: C=14, v[4], --> 15\n",
        "# Step-6: C=15, v[5], --> 15\n",
        "# Step-7: C=15, v[6], --> 14\n",
        "# Step-8: C=14, v[7], --> 12\n",
        "# Step-9: C=12, v[8], --> 9\n",
        "# Step-10: C=9, v[9], --> 5\n",
        "# Step-11: C=5, v[10], --> 0"
      ],
      "execution_count": null,
      "outputs": [
        {
          "output_type": "stream",
          "text": [
            "Step-1: 5\n",
            "Step-2: 9\n",
            "Step-3: 12\n",
            "Step-4: 14\n",
            "Step-5: 15\n",
            "Step-6: 15\n",
            "Step-7: 14\n",
            "Step-8: 12\n",
            "Step-9: 9\n",
            "Step-10: 5\n",
            "Step-11: 0\n"
          ],
          "name": "stdout"
        }
      ]
    },
    {
      "cell_type": "code",
      "metadata": {
        "id": "CptyElMAaJDN"
      },
      "source": [
        "# v = [5, 4, 3, 2, 1, 0, -1, -2, -3, -4, -5]"
      ],
      "execution_count": null,
      "outputs": []
    },
    {
      "cell_type": "code",
      "metadata": {
        "id": "CXzYR_k6ZpRr",
        "outputId": "bd7197e1-5da7-4c51-ada5-82dc5e490c0d",
        "colab": {
          "base_uri": "https://localhost:8080/",
          "height": 35
        }
      },
      "source": [
        "# list(range(0, 5, 1)) # i=0, i<5, i=i+1 --> [0, 1, 2, 3, 4]\n",
        "\n",
        "# list(range(0, 5, 2)) # i=0, i<5, i=i+2 --> [0, 2, 4]\n",
        "\n",
        "# list(range(0, 10, 3)) # i=0, i<10, i=i+3 --> [0, 3, 6, 9]"
      ],
      "execution_count": null,
      "outputs": [
        {
          "output_type": "execute_result",
          "data": {
            "text/plain": [
              "[0, 3, 6, 9]"
            ]
          },
          "metadata": {
            "tags": []
          },
          "execution_count": 16
        }
      ]
    },
    {
      "cell_type": "code",
      "metadata": {
        "id": "AIMYuAfEaz4_",
        "outputId": "dde19e19-58bc-42f5-aa40-9bc62dc128b8",
        "colab": {
          "base_uri": "https://localhost:8080/",
          "height": 106
        }
      },
      "source": [
        "v = [5, 4, 3, 2, 1, 0, -1, -2, -3, -4, -5]\n",
        "\n",
        "# i = 0\n",
        "# while i<len(v):\n",
        "#     if v[i] % 2 == 0:\n",
        "#         print(v[i])\n",
        "#     i = i +1\n",
        "\n",
        "for i in range(0, len(v), 1):\n",
        "    if v[i] % 2 == 0:\n",
        "        print(v[i])"
      ],
      "execution_count": null,
      "outputs": [
        {
          "output_type": "stream",
          "text": [
            "4\n",
            "2\n",
            "0\n",
            "-2\n",
            "-4\n"
          ],
          "name": "stdout"
        }
      ]
    },
    {
      "cell_type": "code",
      "metadata": {
        "id": "kBjXAXHsbvLG"
      },
      "source": [
        "range?"
      ],
      "execution_count": null,
      "outputs": []
    },
    {
      "cell_type": "code",
      "metadata": {
        "id": "b_y8fyGVbgMO",
        "outputId": "c705aef6-f5e3-4df5-d065-6e827d024e70",
        "colab": {
          "base_uri": "https://localhost:8080/",
          "height": 124
        }
      },
      "source": [
        "n = \n",
        "while n>0:\n",
        "    print(n)\n",
        "    n = n-1\n",
        "print('~~~~~')"
      ],
      "execution_count": null,
      "outputs": [
        {
          "output_type": "stream",
          "text": [
            "5\n",
            "4\n",
            "3\n",
            "2\n",
            "1\n",
            "~~~~~\n"
          ],
          "name": "stdout"
        }
      ]
    },
    {
      "cell_type": "code",
      "metadata": {
        "id": "saT8kGKIfkwz",
        "outputId": "1890efe6-d110-4e6e-8e54-5868c1ce2847",
        "colab": {
          "base_uri": "https://localhost:8080/",
          "height": 35
        }
      },
      "source": [
        "# 2 ^ 4 = 16\n",
        "\n",
        "# 7 x 3 = 21 --> 7 + 7 + 7 # 7 times 3\n",
        "# 3 x 7 = 21 --> 3 + 3 + 3 + 3 + 3 + 3 + 3 # 3 times 7\n",
        "\n",
        "\n",
        "# 2 x 3 = 2 + 2 + 2\n",
        "# 2 ^ 3 = 2 x 2 x 2\n",
        "\n",
        "# 2 ^ 8 = 2 x 2 x 2 x 2 x 2 x 2 x 2 x 2 = 256\n",
        "# b=2, p=8\n",
        "\n",
        "b = 3\n",
        "p = 4\n",
        "i=0\n",
        "result = 1\n",
        "while i<p:\n",
        "    result = result * b\n",
        "    i = i+1\n",
        "print(result)"
      ],
      "execution_count": null,
      "outputs": [
        {
          "output_type": "stream",
          "text": [
            "81\n"
          ],
          "name": "stdout"
        }
      ]
    },
    {
      "cell_type": "code",
      "metadata": {
        "id": "KByt_e1KnUEB",
        "outputId": "9ce27b23-3f80-41d2-c62e-be8f0f0e0e50",
        "colab": {
          "base_uri": "https://localhost:8080/",
          "height": 35
        }
      },
      "source": [
        "# [1, 500]\n",
        "\n",
        "C = 0\n",
        "i = 1\n",
        "while i<=1000:\n",
        "    if i%3==0 and i%5 == 0 and i%7==0 and  i%9==0:\n",
        "        C += 1\n",
        "    i = i + 1\n",
        "print(C)"
      ],
      "execution_count": null,
      "outputs": [
        {
          "output_type": "stream",
          "text": [
            "3\n"
          ],
          "name": "stdout"
        }
      ]
    },
    {
      "cell_type": "code",
      "metadata": {
        "id": "XXOiD6jEnrci",
        "outputId": "6fcb5dc7-0189-4dae-e90d-b80aa1e50214",
        "colab": {
          "base_uri": "https://localhost:8080/",
          "height": 35
        }
      },
      "source": [
        "v = [4, 5]\n",
        "v.append(6)\n",
        "print(v)"
      ],
      "execution_count": 1,
      "outputs": [
        {
          "output_type": "stream",
          "text": [
            "[4, 5, 6]\n"
          ],
          "name": "stdout"
        }
      ]
    },
    {
      "cell_type": "code",
      "metadata": {
        "id": "i6HI2CTDjFgp"
      },
      "source": [
        "v[3:] = [7] # v.append(7)"
      ],
      "execution_count": 2,
      "outputs": []
    },
    {
      "cell_type": "code",
      "metadata": {
        "id": "6B8eRBr8jOIO",
        "outputId": "d9de3b87-1be1-4138-c919-ff7ff99c72ca",
        "colab": {
          "base_uri": "https://localhost:8080/",
          "height": 35
        }
      },
      "source": [
        "print(v)"
      ],
      "execution_count": 4,
      "outputs": [
        {
          "output_type": "stream",
          "text": [
            "[4, 5, 6, 7]\n"
          ],
          "name": "stdout"
        }
      ]
    },
    {
      "cell_type": "code",
      "metadata": {
        "id": "03TY4oWUkU41",
        "outputId": "4b5b92ae-b47f-4740-a748-adcf9f3b0a4f",
        "colab": {
          "base_uri": "https://localhost:8080/",
          "height": 35
        }
      },
      "source": [
        "v.pop()"
      ],
      "execution_count": 5,
      "outputs": [
        {
          "output_type": "execute_result",
          "data": {
            "text/plain": [
              "7"
            ]
          },
          "metadata": {
            "tags": []
          },
          "execution_count": 5
        }
      ]
    },
    {
      "cell_type": "code",
      "metadata": {
        "id": "xc6XV1MokZwr",
        "outputId": "497ae7f9-a789-466c-bfe2-63a37bfdb352",
        "colab": {
          "base_uri": "https://localhost:8080/",
          "height": 35
        }
      },
      "source": [
        "print(v)"
      ],
      "execution_count": 6,
      "outputs": [
        {
          "output_type": "stream",
          "text": [
            "[4, 5, 6]\n"
          ],
          "name": "stdout"
        }
      ]
    },
    {
      "cell_type": "markdown",
      "metadata": {
        "id": "D4VtzOyxljCM"
      },
      "source": [
        "![image.png](data:image/png;base64,iVBORw0KGgoAAAANSUhEUgAAAy4AAAHiCAYAAAAOBphNAAAABHNCSVQICAgIfAhkiAAAIABJREFUeF7t3U2wJNV9KPisS8OIxmFaYSFLC8HFXmDLdqiR0EegZ3M7Zt549IQELc3CHstDs5FnRzPLJ0d0d8R4TffO9obGoZjwwlI3yBrZ8RZ9efKTJYRFK+yQzMLqC1pYsiDcWAgIoG/N/1yqUN2srKqsullV+fGriBvdlXny5Dm/87+38l8nP7LMiwABAgQIECBAgAABAgQIECBAgAABAgQIECBAgAABAgQIECBAgAABAgQIECBAgAABAgQIECBAgAABAgQIECBAgAABAgQIECBAgAABAgQIECBAgAABAgQIECBAgAABAgQIECBAgAABAgQIECBAgAABAgQIECBAgAABAgQIECBAgAABAgQIECBAgAABAgQIECBAgAABAgQIECBAgAABAgQIECBAgAABAgQIECBAgAABAgQIECBAgAABAgQIECBAgAABAgQIECBAgAABAgQIECBAgAABAgQIECBAgAABAgQIECBAgAABAgQIECBAgAABAgQIECBAgAABAgQIECBAgAABAgQIECBAgAABAgQIECBAgAABAgQIECBAgAABAgQIECBAgAABAgQIECBAgAABAgQIECBAgAABAgQIECBAgAABAgQIECBAgAABAgQIECBAgAABAgQIECBAgAABAgQIECBAgAABAgQIECBAgAABAgQIECBAgAABAgQIECBAgAABAgQIECBAgAABAgQIECBAgAABAgQIECBAgAABAgQIECBAgAABAgQIECBAgAABAgQIECBAgAABAgQIECBAgAABAgQIECBAgAABAgQIECBAgAABAgQIECBAgAABAgQIECBAgAABAgQIECBAgAABAgQIECBAgAABAgQIECBAgAABAgQIECBAgAABAgQIECBAgAABAgQIECBAgAABAgQIECBAgAABAgQIECBAgAABAgQIECBAgAABAgQIECBAgAABAgQIECBAgAABAgQIECBAgAABAgQIECBAgAABAgQIECBAgAABAgQIECBAgAABAgQIECBAgAABAgQIECBAgAABAgQIECBAgAABAgQIECBAgAABAgQIECBAgAABAgQIECBAgAABAgQIECBAgAABAgQIECBAgAABAgQIECBAgAABAgQIECBAgAABAgQIzCNw4cKFzXnKt7XsRls7pl8ECBAgQIAAAQIE2iBw6NChK1/96ldPRQJzpA39WbQPEpdF5WxHgAABAgQIECBAYEUCu7u7p6+//vpnnnjiiRMr2mXtdtOrXYs0iAABAgQIECBAgACBtwW+8pWv9Ec5er3ezhtvvHHs+PHjO11iMuPSpdHWVwIECBAgQIAAgcYL9Pv9zcHpY4926foXiUvjQ1cHCBAgQIAAAQIEuigQp4+diATmmXT9Sxf671SxLoyyPhIgQIAAAQIECDRWIH+qWFFH0uljkcic+fSnP32+aH0blklc2jCK+kCAAAECBAgQINBagTKJy7DzkcBsx/UvD7bx+henirU2xHWMAAECBAgQIECgawJx/ctWW69/MePStWjWXwIECBAgQIAAgUYIpAvvIwk5Go29sEiD0+ljsd25e++99+wi29dtG4lL3UZEewgQIECAAAECBDonkB4umZKUjY2Ne9KsSfykhKWSB0625fqXQ52LCh0mQIAAAQIECBAgUAOBlKzEQyVPRFPuGyYqcYH9Ulo2mH1ZSt2rqtSMy6qk7YcAAQIECBAgQKDzArlkZWvJIFej/nOf+tSnTi95PyupXuKyEmY7IUCAAAECBAgQ6LJA3BlsK04DeyhmVLbCoewpYFdjpuRyOnVsAbtzb7755um4u1hKXlrxkri0Yhh1ggABAgQIECBAoG4CaXblhhtuuD8SjwfKJB/pdK50O+Pox5Ovv/769vCWxvPeDjn2dSZmWVI9rXq5xqVVw6kzBAgQIECAAAEC6xYYJCxpduVk/EydXRkkKo/Hs1cuHuTZKynpiYTl4biD2MV1939Z+5e4LEtWvQQIECBAgAABAp0T+OpXv3pqVsIyOP3r8TiV62wFp3LtXccSiU8VddV6vCQutR4ejSNAgAABAgQIEGiCQLqGJRKSRyNp2ZzU3jS7kk7jilmR7Ull5lke18ycj1PKzhxkpmae/a27rMRl3SNg/wQIECBAgAABAo0ViBmWo5GMPJKuYYmfon7szYhUNLuyV/8wAfrkJz+5XbTDti6TuLR1ZPWLAAECBAgQIEBgaQIj17GcnrCTyhOW2M/VdB1LXHh/fsI+W71Y4tLq4dU5AgQIECBAgACBqgVKnBZW9a2Il5EEVc2y9PokLksntgMCBAgQIECAAIG2CPz1X/91Oi3sZNFpYekUrrhI/sGqrzmJ08zurLrOJo6H57g0cdS0mQABAgQIECBAYKUCcWrY5vXXX38hEpaj+R0PbkX8YBufnZLv6zrfb6xz5/ZNgAABAgQIECBAoO4CMcvywKFDh54pSlqi7elWxHdKWpY/imZclm9sDwQIECBAgAABAg0VGJ4alm++WZa8yPLfS1yWb2wPBAgQIECAAAECDRNIdw0bnBq2lW96JC2PxSzLyQoeHpmv2vspAhKXKThWESBAgAABAgQIdE9gcD3LpTg1bDPX+6uRtKQHSJ7tnsr6eyxxWf8YaAEBAgQIECBAgEBNBNIDJXd3dy9Fc46MNimdGhY/x+Ohj5dr0tTONcPF+Z0bch0mQIAAAQIECBAoEkgX4U9IWtJtju+UtBSprW6Z57isztqeCBAgQIAAAQIEaiqQkpY4Nex8QfPOxalhJwuWW7RiATMuKwa3OwIECBAgQIAAgXoJTElazsRtjiUtNRku17jUZCA0gwABAgQIECBAYPUCk5KWuJ7lYRfhr348pu3RqWLTdKwjQIAAAQIECBBorcCkpCVOGXswZlrOt7bjDe2YGZeGDpxmEyBAgAABAgQILC4wuHvYM/kaUtLy6U9/+nx+uffrF7hu/U3QAgIECBAgQIAAAQKrE0jPaYlTwf4+9viO0b1KWlY3BovsycX5i6jZhgABAgQIECBAoJECw4dLRuPzz2l52ExLvYdU4lLv8dE6AgQIECBAgACBCgWuv/76CzGzspmr8owL8StEXlJVEpclwaqWAAECBAgQIECgXgJxMf4jkbQczbUq3fL4dL1aqjVFAi7OL1KxjAABAgQIECBAoFUCcTH+Q7u7u2dHO7WxsXHxk5/85PFWdbTFnTHj0uLB1TUCBAgQIECAAIEsS9e15JOWuDh/5/XXX3+QT3MEJC7NGSstJUCAAAECBAgQmFMgkpYjcV3LpdxmV994441jx48fvzpndYqvUUDiskZ8uyZAgAABAgQIEFiuQCQtp/IX48f7hyNp2VnuntVetYDEpWpR9REgQIAAAQIECNRCIK5rORFJyslcY8657XEthmfuRhyaewsbEKihQNwl5IH4w5QuuBvek/1qnLuapn93Bs29HP8+F2Uux4V4V+NCvPTei0ChgHgqZLFwQQHxtCCczQgcUCCdIhaf+6dGq0nXtcQpYqcPWLXN1yTgrmJrgrfbagXiwOBKfhp4xh5SYnM5tnkyym3HbRC3Z5S3ukMC4qlDg72CroqnFSDbBYECgcGtj/fNtrz55pu3O0WsAKshiyQuDRkozZwu8JWvfOXfo8RwtmV64QlrI5HZjjuOPHbt2rVtf9QmIHVksXjqyECvqJviaUXQdkNgRCDdRezQoUNXciie19LwKJG4NHwANf8tgSeeeOJEnAJ2as5Zl4l8kpiJNJ1YIZ46Mcwr66R4Whm1HRF4WyA/05lOEbv33ntvR9RsAYlLs8dP6ycIpPNaY9WR+LZlM/0bf7A2U1IT/34g/j2alk3YdGxxJETn00yM08nGaDqzQDx1ZqhX0lHxtBJmO+mwQLogPz63Hx0liM/+B12Q3/ygkLg0fwz1YAGB+KOWkpej8YdsK/69p8xMTfq2Jv4QnvGHbwHwlm8inlo+wCvunnhaMbjdtU4gP9uSvoCMm/I82LqOdrBDEpcODroujwukA4VBEnPf4N/xQoMlEpiJNFYMBMSTUKhSQDxVqamutgsUzba4IL89oy5xac9Y6klFAumCvnhY1f1R3UPTZmIkMBWBt7wa8dTyAV5x98TTisHtrnECZlsaN2RzNVjiMheXwl0TiLsBbUWCkh5e9cCkvktgJslYnhcQT3kR7w8iIJ4OomfbNgqYbWnjqO7vk8Sl/WOshxUIDL7lPD0jgdmOh1o96FbKFYC3vArx1PIBXnH3xNOKwe2utgJmW2o7NJU1TOJSGaWKuiCQDhDiTmUnoq/7nsQ72ve4CPB0XAR4pgse+ngwAfF0MD9b7xcQTyKiywJmW7ox+hKXboyzXlYsMOsbznT6WPwcjwTmcsW7Vl0LBcRTCwd1jV0ST2vEt+u1CcRsy6XRm+u4k9jahmKpO5a4LJVX5W0XmHWAYPal7RFQbf/EU7WeXa9NPHU9ArrT/8Fs45XRHruTWDvHX+LSznHVqxULpCnq+KbnVNFdyNLsS1z7csy1LyselAbvTjw1ePBq2HTxVMNB0aRKBeJGFWejwoeGlcbn7va99957rNKdqKwWAhu1aIVGEGi4QJwSdj6SkzujG+fyXUnJTFwX88wTTzxxIr/OewJFAuKpSMWyRQXE06JytmuKQCQq9422NR4W/VhT2q6d8wmYcZnPS2kCMwUGtyh9tGj2xaljM/kUyAmIJyFRpYB4qlJTXXUQSDEd7bg02pY4TeydcZbD1Tq0TxuqFZC4VOupNgJ7AtPOLY9vhi7H7Ez8TT2+g4tAGQHxVEZJmbIC4qmslHJNEMifJuai/CaM2uJtlLgsbmdLAjMF4i4nJ2Pm5ZF8Qde95EW8LyMgnsooKVNWQDyVlVKuzgL5Z7dEW49/6lOfuljnNmvb4gKucVnczpYEZgrExYFn051NUqIyWjidRnb99ddfiotmj86sRAECAwHxJBSqFBBPVWqqax0CafYwf1p2fOZur6Mt9rkaAYnLapztpcMC6ZSwdFexdIrYKEP6YxsXEF6Kae77O8yj63MKiKc5wRSfKiCepvJYWXOBG264YWu0ieluYq5tqfmgHbB5EpcDAtqcQBmBdHAQ324W3XXsSGx/Iaa6HyhTjzIEkoB4EgdVCoinKjXVtWKBfXcTi30/vuL9292KBSQuKwa3u24LxHm3J0PgTF4hZl/OS17yKt7PEhBPs4Ssn0dAPM2jpWwdBPKnicX7fWc21KGN2lCtgIvzq/VUG4FSAnF62OkoeCpfOKa5T8TMjPvP52G8nyognqbyWDmngHiaE0zxtQjE9S1H4hlp/z6680i+HdeuZTRWt1MzLquzticCbwvEH9fT8c3Qg3kSMy95Ee/LCIinMkrKlBUQT2WllFunQCQt+25uk7+OdJ1ts+/lCUhclmerZgJTBT796U+fn5S8uNvYVDorCwTEUwGKRQsLiKeF6Wy4IoFIVPJ35XxuRbu2mzUKSFzWiG/XBCYdHKS7jaXbPBIiMI+AeJpHS9lZAuJplpD16xRwfcs69de3b4nL+uztmcCeQDo4iG+OHs5xHEnPeZG8CJJ5BcTTvGLKTxMQT9N0rFunwMbGxm25/bswf50DsqJ9S1xWBG03BKYJpAfBxfp9dxtL3yZF8hK5y4V0y2QvAqUFxFNpKgVLCIinEkiKrFwgPiPzn41XV94IO1y5gMRl5eR2SKBYIF0QG2vOja6NP8xHI3kZu/tYcQ2WEvi5gHgSDVUKiKcqNdVVkcDmaD0xA3OlonpVU2MBiUuNB0fTuieQnqOQnvw72vNIXk7GM15Odk9Djw8qIJ4OKmj7UQHxJB7qJJCfcXn99ddfqlP7tGU5AhKX5biqlcDCAm+88cbxSF52RiuIP9Cn3GlsYdJObyieOj38lXdePFVOqsLFBfadKnb8+HGnii1u2ZgtJS6NGSoN7YpA+uMbBwfHor+jf4SPRPLiepeuBEGF/RRPFWKqKhNPgoAAgXUKSFzWqW/fBCYIxMHBTiQq++40NrhY3/UuE8wsniwgnibbWDO/gHia38wWSxF4+8u9/FkKS9mbSmshIHGpxTBoBIFxgXQb0liav1j/5Fe+8pWt8dKWEJguIJ6m+1g7n4B4ms9L6eoF0pd7g4Tlajz7bN9dOavfmxrrItCrS0O0gwCBcYF0K+S4q9gzabZluDb9oY5Tye50Pu+4lyXTBcTTdB9r5xMQT/N5KU2AwMEFzLgc3FANBJYmkJKTSFoeHN2BU8aWxt36isVT64d4pR0UTyvltjMCBELAjIswINAAgTg97Gw086FcU4/F7Um3G9B8TayZgHiq2YA0vDniqeEDqPkEGiRgxqVBg6Wp3RV48803T+cvPoz3LtTvbkgcqOfi6UB8Ns4JiCchQYDAqgQkLquSth8CBxCYcErG1hNPPHHiANXatKMC4qmjA7+kbounJcGqlgCBMQGJyxiJBQTqKZBOC4tZlu3R1m1sbJh1qedw1b5V4qn2Q9SoBoqnRg2XxhJorIDEpbFDp+FdFIi7iY1dqB/nl5/uooU+H1xAPB3cUA0/FxBPooEAgWULSFyWLax+AhUKxCkZO1Fd/n71D6Xbkla4G1V1REA8dWSgV9RN8bQiaLsh0GEBiUuHB1/XmykQF8KmO4y9/cTg+H961suJZvZGq9ctIJ7WPQLt2r94atd46g2BuglIXOo2ItpDYIZAuhA2ipzLFcvfKnlGLVYTeEtAPImEKgXEU5Wa6iJAIC/Q/MTlue8+kO1859/j50qW/u+1XoGmjkfD2p3/VjM9lDKuddla7+BXuPeGjcdYzxvWfvE0NoL1WiCejEeVAg2Lpyq7Xsu6jMdcw9L8xKV/7XS22z8SP5vZ7rV0Co3XOgWaOh4Na3f6VjPuMPb46FC36rkuDRuPsV+5hrVfPI2NYL0WiCfjUaVAw+Kpyq7Xsi7jMdewND9xSQnL8NWPBMZrvQJNHY8GtjtmWc6PDna83/rqV79623oDoKK9N3A89vW8ge0XTxXF7jKqEU/LUF28zgaOR9P/Pi0+WA3YsunxtGLi5icuKwazOwJ1ESh6bsLu7u6+2yXXpa3aUX8B8VT/MWpSC8VTk0ZLWwk0R+BQc5qqpQQIFAik08W2Rpani/RPF5SziEAZAfFURkmZsgLiqaxUjct97kJ/q3dddt+1fnZ/lo2c5VLjNq+7ab2sdznrZZevv5adOX+8t7Pu9rRp/2Zc2jSa+tI5gXjg2/no9L5bI7fqIv3Ojeh6Oyye1uvftr2Lp2aP6MkL/SN/+ET/kd2N/qVr/f5JSUv58exn/aNx+u2J1zf6V34/DJNl+a2VnCYgcZmmYx2BmgsMbj267yL9aHJ8K+ZFYH4B8TS/mS0mC4inyTZ1X5MOtH+ykQ0Slrq3tt7t60XSlywlL9WMk8SlGke1EFinwMXRnW9sbNy3zsbYd+MFxFPjh7BWHRBPtRqOco158brsVJo1KFdaqVkCyfLHYTqrnPWzBSQus42UIFBrgXgGx3Y08O3TxeIC/c3W3F2s1vLtbJx4aue4rqtX4mld8ovv9/e+1t9869Swxeuw5bhAmnlJ1wuNr7FkHgGJyzxayhKoocDgGRyXR5sW59Yer2FTNakBAuKpAYPUoCaKpwYN1qCp171hZmBZo7brVO4D00pcDkyoAgK1EMg/jPIDtWiVRjRVQDw1deTq2W7xVM9xKW7VbuYUsWKZgy/dyJzKfUBFicsBAW1OoA4CMcOyb8Yl2rRVh3ZpQzMFxFMzx62urRZPdR2Z4nb1e65tKZapYqnbSR9UUeJyUEHbE6iBQJxHvi9xSde5XLhw4UgNmqYJDRQQTw0ctBo3WTzVeHA0jUDDBCQuDRswzSVQJFB0HvmhQ4dM9xdhWTZTQDzNJFJgDgHxNAeWogQITBU4NHWtlQQI1EYgZlA2Ixl5JhpUOJMSp2Pk23opHkaZX7bvfXwTenscVOxMLWRlKwXEUyuHdW2dEk9ro7djAp0SMOPSqeHW2SYLDBKMcxX24YykpULNhlUlnho2YDVvrniq+QC1rHnvvrGX/c77etln7/j5z13v6WW3HO61rKe6kxcw45IX8Z5AjQVihuRszLo8FE0snHUp2/Rer7fzxhtvnC1bXrl2Coindo7runolntYl35393nNrL/vd27Pstpsn9/k7P+plf/FPWfaTV8bOQpi8kTWNETDj0pih0lACWZbOFd/Y2Hj4oBZx8X6abbl60Hps32wB8dTs8atb68VT3UakPe05HF+z//HdvezzceXmtKQl9fiD78mys/9Llv3vMRvj1T4BiUv7xlSPWi7wyU9+8nzMmGwv2s002/LpT3/6/KLb265dAuKpXeO57t6Ip3WPQDv3/8cf72W//q75+nb8jixLp495tUtA4tKu8dSbjgjEhfhnFu1qnCJ2bNFtbddOAfHUznFdV6/E07rk27nfdB3LrFmWST3/ozuzLM3WeLVHQOLSnrHUkw4JfOpTn9qOmZPH5u1ynGZ23gX586q1v7x4av8Yr7KH4mmV2u3eV7rY/jMxc5J/vfJmln352Sz7o/+vv/fzJ/8jy154NV8qkpbrs2zzZrMu4zLNXSJxae7YaXnHBWLm5HQQzHOdytXXX3994ZmajnO3vvviqfVDvNIOiqeVcrd2Z3e9t7hrj3wry770bD97ORKY9PO9F/vZn32nuOy8p5gV12JpXQQkLnUZCe0gMKfAArcfPWe2ZU7kDhUXTx0a7BV0VTytALkDu/jQL4938vsvvpWo5Nek5CXNxORfN8Wsi1d7BCQu7RlLPemgQLr9aLrYflbXU5k4feP0rHLWd1tAPHV7/KvuvXiqWrR79f3ND946JezpH2XZc/+RZSlp+fMJMytJ52dvjBsVLRsvZUlTBCQuTRkp7SRQIJBuPxoXws68PXK6/XHB5hYR2CcgngRElQLiqUrNbtb19I/6e6eEPfJUP/uv2/3s//kf/ezfXp38fJZbbhx3en6eE6rHN7ekZgISl5oNiOYQmFcgZlIuTrs9clrn9sfzqna3vHjq7tgvo+fiaRmq6iwSSHcfy7/SBfvf/vHkRCdf3vv6C7hJXP3HSAsJzBQY3H50q6hgXCT7YNFyywhMEhBPk2QsX0RAPC2iZptZAr/zvrcSlc2bs+w/3ZplN+WOaNP1Ll/8x1m1WN80ATMuTRsx7SVQIJBuPxqLz+VXuf1xXsT7MgLiqYySMmUFxFNZKeXmEUjPaEk/v/sr40lLuhYm3SL523GqmVe7BCQu7RpPvemwQFwIezq6//bZvOmCfLc/7nBAHLDr4umAgDbfJyCeBMQqBV54pfhC/VW2wb6WIyBxWY6rWgmsXCBdCBs7HZ11cfvjlY9Ce3YontozlnXoiXiqwyh0pw2//b4s+8LHPXyyjSMucWnjqOpTZwXSLY/TTEv6uffee892FkLHKxEQT5UwqmQgIJ6EQpUCX342y/42bpecbpWcLsLPv9Idxr5wd5bdcnj8ov18We+bI+Di/OaMlZYSKCUQF8I+GD+bpQorRGCGgHiaAWT1XALiaS4uhacIpNskj74+8Su97HO/uX+Dw/HwyU/ENTB/8U9TKrKqUQISl0YNl8YSmC0wuBB2dkElCJQQEE8lkBQpLSCeSlMpOKfA137Qzz70nl726+/av+EH3ytxmZOy1sWdKlbr4dE4AgQIECBAgACBMgLP/cd4qaKHUo6XsqQpAmZcmjJS2kmAAAECBAgQ6JDA+3+pl90VMybD57RciOta/ip3iliHOHQ1BCQuwoAAAQIECBAgQKBWAvfc2ss+f3R/k47fkWXfe6GXfe/F4uez3PaL41145Y3xZZY0V8CpYs0dOy0nQIAAAQIECLRS4Nv/WpycfP6DxXcK+8Svjl/fkmCKTh9rJVhHOmXGpSMDrZsECBAgQIAAgaYIpJmSr/8wy9IzWUZfe7c5jme0/O0Petlz8fSydOewdDpZvtxwm68/35Qea2cZAYlLGSVlCBAgQIAAAQIEVirw5X/Osg9FUnI4d7SakpfP/cbspqTnuzz5w+KZm9lbK1FHAaeK1XFUtIkAAQIECBAg0HGBf3u1n33xHxdDSEnLn/zdYtvaqr4CZlzqOzZaVmOBz13ob/Wuy+671s/uzzIPeywzVL2sdznrZZevv5adOX+8t1NmG2UIECBAoNsCacbkZ2/0sj/8rSx7V8y0lHl9/8Us+/PvZFlKfLzaJSBxadd46s2SBU5e6B958brs1LV+/2Tm7+Fc2v2sfzTMjr6+kZ34/Sf6Z385Epizx3txhrIXAQIECBCYLPD0j/rZ8y/1ss/8Wrb3gMmiBOaVN+NC/JeyLJ1eNumuY5P3YE1TBCQuTRkp7Vy7QEpafrKRXer34wDc60ACvUj8frLR2wrTY5KXA1HamAABAp0QSLMnf/rMW139hTh6vfXm3tv9fuEVsyudCILopMSlKyOtnwcWSDMtkpYDM75dQZqB+fF1vVOx4OHqalUTAQIECLRd4OWYXTGr0vZRLu6fi/OLXSwlsE/g977W39w7PcyrUoE085KuF6q0UpURIECAAAECrRSQuLRyWHWqaoHr3sjSzIDXEgR2s3SDAy8CBAgQqIeAm6csaxz2blLjdSABicuB+GzcGYHdzHUtyxrsjey+ZVWtXgIECBCYU2A3e3zOLRQvKxB31ixbVLliAYlLsYulBPYJ9HsuyF9eSLid9PJs1UyAAIH5BOLA8OJ8WyhdViA9DqBsWeWKBVycX+xiKQECBAgQaKSA50zNP2yeM/Vzsy8e723/Hxf657KN/kPzS9piosBu75xnmE3UKb3CjEtpKgUJECBAgEB9BdIt2//wif4juxv9S2/dTMRsZtnRSnc5jLtGnnh9o38lnjP1SLIsu20by707y067HqO6kU2WybS6Grtbk8Slu2Ov5wQIECDQEoHhc6bc/fDgA/rWc6ayS11OXtLztW7ZzY5lMUtwcNGO1xCGydIzy6qJA6eKVeOoFgKDkgsZAAAgAElEQVS1EbjlcC+75cb9zdl5qZ+lpwp7ESDQTgHPmap2XD1nKssGB9on43EAZ3uvZ6c3+tkHXO9ZNs727sz2+MZudjGdeld2K+VmC0hcZhspQaAxAvfc2ss+X3D/s4f/Wy8Sl35j+qGhBAiUF9h7ztTrnjNVXqxcycFzph7v+oHnX35i7yD8RDk1pQgsV8CpYsv1VTuBlQl89o7ipGVlDbAjAgTWIuA5U8tj95yp5dmqmcAiAhKXRdRsQ6BGAodj3vT/urOXfeaOGjVKUwgQWJ2A50wtz9pzppZnq2YCCwg4VWwBNJsQqItAup7l4Q9n2W0316VF2kGAwKoFXHewTHF3ZlumrroJzCsgcZlXTHkCNRG47eZIWj6SjV2IX5PmaQYBAgQIECBAoFIBiUulnCojsBqBdBH+H/xmlt3kN3g14PZCgAABAgQIrF3AYc/ah0ADCMwn8Ilf7WWf+43ibdItj9M1L14ECBAgQIAAgbYJOMRp24jqT+sFnny+n/1vv9LL3pV7VsvXf5hlz/1HNjGpaT2MDhIgUFuBd9/Yy37tXXFq6+GfN/G5l976m/WTV9yqvbYDp2EEaiYgcanZgGgOgVkCr7yRZY88lWV/cs/PS154Nsv+6tl+9jtxCpkXAQIE6iKQTmv93dun30DkOz/qZX/xT1kmganLqGkHgfoKSFzqOzZaRmCiwM5L/Uheetn74xvMp/81y773om8sJ2JZQYDAygXSKav/90d62a/H36hZrw++J8vSz4Vne3tfwHgRIEBgkoDEZZKM5QRqLvD0j/rZ0z+qeSM1jwCBTgr88cd7c9+m/Xg8i2rnpV78XZO8dDJodJpACQEPoCyBpAgBAgQIECBQTuCzd8yftAxr/qM73WCknLJSBLopYMalm+Ou1wQIECBAoHKB9FDcz8TMSf6V7nj4N/+SZX/7L2/Nptwaz6H6ow9mYzcZOXx9lm3GOqe/5gW9J0AgCZhxEQcECBAgQIBAJQJ3vbe4mke+lWVfiutXXo4EJv2kxOTPvlNctsx1McVbWkqAQNsFJC5tH2H9I0CAAAECKxL40C+P7+j7LxbfQCQlL2kmJv+6KWZdvAgQIFAk4FSxIhXLCBAgQIAAgbkF/uYHWZYSlVtvfuuZLen27X8+YWYlVf6zWJ9/aG5a5kWAAIEiAYlLkYplBAgQIECAwNwC897t8Jbcg3TTDp+/OvdubUCAQEcEnCrWkYHWTQIECBAgUCeBdPex/OuFV7Ps2z92O+S8i/cECLwlYMZFJBAgQIAAAQJLF/id972VqGzGaWT/6dYsuyl3BJKud/niPy69GXZAgECDBSQuDR48TSdAgAABAk0RSM9omfRK18V88Z/SAyjNtkwyspwAAbdDFgMECBAgQIDAmgVeeOWtC/XX3Ay7J0Cg5gKucan5AGkeAQIECBBou8Bvvy/LvvDxtx4+2fa+6h8BAosLOFVscTtbElirQLqwtegJ1UWNeuQ/p6U/vxD2y8++9TC4orKWESBAYBkC6e9OekbLLx1OCUqWvSt3R7F0h7Ev3J1l//XJXvaTV5wytowxUCeBpgtIXJo+gtpPgAABAgQaIPClZ/cnI5/4lV72ud/c3/DDkdh84ley7C/iehcvAgQI5AWcKpYX8Z4AAQIECBBYusDXftDPvv/C+G4++N7xZZYQIEAgCUhcxAEBAgQIECCwFoHn/mN8t0UPpRwvZQkBAl0UcKpYF0ddn1shkE67+FKcM+5FgACBugi8/5d62V0xYzJ8TsuF+Bv1V7lTxOrSVu0gQKB5AhKX5o2ZFhMgQIAAgdoJ3HNrL/v80f3NOn5Hln3vhV72vReLL7a/7RfHu/HKG+PLLCFAgEAScKqYOCBAgAABAgQOLPDtfy1OTj7/wSy75fDP72o43NEnfrWX/fq7xndbdPrYeClLCBDoooAZly6Ouj4vINDbybL+5gIb2mSGQC/rXZ5RxGoCBBogkGZKvv7DLEvPZBl97d3mOJ7R8rc/6GXPXc2ydOewdDpZvtxwm68/34DOaiIBAmsRkLishd1OGyewmz0e85MPNa7dTWhwL5O4NGGctJFACYEv/3OWfSiSksO5o4uUvHzuN2ZX8MKrWfbkD4tnbmZvrQQBAm0XcKpY20dY/yoRiF+Ui5VUpJIxgeuvZWfGFlpAgEAjBf7t1X72xX9crOkpafmTv1tsW1sRINANAYlLN8ZZLw8o8MXjve1st3fugNXYPC8QpuePp9PwvAgQaItAmjF55KksS4lI2df3X3wraUmJjxcBAgQmCThVbJKM5QRyAu/OstM/yXr39LN+7r45qBYRSNe23BKmi2xrGwIE6i3w9I/62fMv9bLP/Fq2dwH+u+JUsfzrlTez7LmXsiydXjbprmP5bbwnQKDbAhKXbo+/3s8hcPZ47+rJC/1j/5b1Tmcbfde7zGE3VjRmWlLSkkzH1llAgEArBNLsyZ8+81ZXfiGONm69+ed3FnvhlSwzu9KKYdYJAisVkLislNvOmi4wONA++Xtf65/tvZ6d3uhnH+j3zMCUG9e9U8Ie39jNLu6deudFgEBnBF6O2RWzKp0Zbh0lsDQBicvSaFXcZoG//MTeQfiJNvdR3wgQIECAAAECdRJwcX6dRkNbCBAgQIDA3AJucDE3WckNPGeqJJRiBFYkIHFZEbTdECBAgACBpQik50x5LUfAc6aW46pWAgsKSFwWhLMZAQIECBCog4DnTC1vFDxnanm2aiawiIDEZRE12xAgQIAAgZoIeM7UkgbCc6aWBKtaAosLSFwWt7MlAQIECBCohUB6zpTrMaobimSZTKurUU0ECFQhIHGpQlEdBAgQIEBgjQLpVu237GbHspglWGMz2rHr9JypsPScqXYMp160S8DtkNs1nnpDgAABAh0V8Jypgwy850wdRM+2BFYlIHFZlbT9ECBAgACBFQh4ztQKkO2CAIG1CDhVbC3sdkqAAAECBAgQIECAwDwCEpd5tJQlQIAAAQIECBAgQGAtAhKXtbDbKQECBAgQIECAAAEC8wi4xmUeLWUJECCwBIHPXehv9a7L7rvWz+7Psv7mEnbRuir3bv0bTzVPDwg8f3zvwmqvgYB4mj8UxNNkM/E02WbSGvE0SebgyyUuBzdUAwECBBYSOHmhf+TF67JT1/r9k1l/oSo6u1E/6x8Ns6Ovb2Qnfv+J/tlfjgSm67evFU+L/zqIp3E78TRuUnaJeCorNX85p4rNb2YLAgQIHFggHRT8ZCO7tJe0eB1IoBeGyTKZHqiiBm8snqobPPGUZeJJPFUnUG1NEpdqPdVGgACBUgJppmXvWzmvSgSS5Y/DtJLKGliJeKp20MSTv09VRlTX46lKS4lLlZrqIkCAQAmB3/taf9NMSwmoOYukb8rT+fhzbtb44uJpOUMonpbj2tVauxpPVY+3xKVqUfURIEBghsB1b3R3ZmAGzYFX72bpBgfdeomn5Y23eFqebRdr7mI8VT3OEpeqRdVHgACBWQK7mVPEZhktun4ju2/RTRu7nXha3tCJp+XZdrHmLsZTxeMscakYVHUECBCYJdDvubZlltHi67t3O2nxtHi0zN5SPM02UqK8QPfiqbxNuZISl3JOShEgQIAAAQIECBAgsEYBicsa8e2aAAECBAgQIECAAIFyAhKXck5KESBAgAABAgQIECCwRoFDa9y3XRMgQIBATQU2b+5lt/5ilt1y+K0GvvJmlv3kZ1n2vRf6Wfq/F4F5BMTTPFrKzhIQT7OE2rte4tLesdUzAgQIzCVwOD4R/suv9rL/9Vez7KaJnw697Os/zLIvPRuJzCv9uepXuFsC4qlb473s3oqnZQs3o/6JH03NaL5WEiBAgEAVArcc7mVf+HjMsNw4u7bffl+Wfeg9WfbFf+plT/5Q8jJbrHslxFP3xnyZPRZPy9RtVt2ucWnWeGktAQIEKheY56BguPPD12fZ5+/Msvf/Uq/y9qiw2QLiqdnjV7fWi6e6jch62yNxWa+/vRMgQGDtAp+9o9xMS1FDP//BoqWWdVlAPHV59Kvvu3iq3rTJNTpVrMmjp+0ECBA4oECaMUmnfuVfL7yaZX/2nSx7/qW3TgX70Ht72ed+K8vSeeajr3RqWarjey86ZSxv2MX34qmLo768Poun5dk2tWYzLk0dOe0mQIBABQK/c2txJX/yd3EHsUhGXo47iKWfdC3Ll+OC/KLXXe8tWmpZFwXEUxdHfXl9Fk/Ls21qzRKXpo6cdhMgQKACgVtvHq8k3TXs314dn0F58vnxZWnr4S2Tx2uypGsC4qlrI77c/oqn5fo2sXanijVx1LSZAAECFQl8+Z+z7LZIXn79XXEaWFxw/8obWZaWFb3SuqLXjbGdF4EkIJ7EQZUC4qlKzXbUJXFpxzjqBQECBBYSePpH/ezpH8WmE04DG600PfSt6PX8S0VLLeuigHjq4qgvr8/iaXm2Ta3ZqWJNHTntJkCAwIoF0sxM0es5iUsRi2UzBMTTDCCr5xIQT3NxNbawxKWxQ6fhBAgQWK3A8bhtctHr+y8ULbWMwHQB8TTdx9r5BMTTfF5NLS1xaerIaTcBAgRWKHDPrb0s3fo4//rbHxRfyJ8v5z2BUQHxJB6qFBBPVWrWuy6JS73HR+sIECCwdoH05Oo/+M3xZqRnvfzNv4wvt4TANAHxNE3HunkFxNO8Ys0uL3Fp9vhpPQECBJYqkA4KvvDxLLup4FYujzxltmWp+C2sXDy1cFDX2CXxtEb8Ne1a4rImeLslQIBA3QWGBwVFp4j9+eUs23mp+Lkude+X9q1HQDytx72texVPbR3Z6f2SuEz3sZYAAQKdFJh2UHAhbp086WGUncTS6ZkC4mkmkQJzCIinObBaVlTi0rIB1R0CBAgcVGDWQcFfPWum5aDGXdpePHVptJffV/G0fOM670HiUufR0TYCBAisWMBBwYrBW7478dTyAV5x98TTisFruDuJSw0HRZMIECCwDgEHBetQb+8+xVN7x3YdPRNP61Cv3z4lLvUbEy0iQIDAygUcFKycvNU7FE+tHt6Vd048rZy8tjuUuNR2aDSMAAECqxFwULAa567sRTx1ZaRX00/xtBrnpuyl4M78TWm6dhIgQIDAQQWmHRSkB0zednOWnf2fe9ktN03eU7rLmAv2J/t0aY146tJoL7+v4mn5xk3bgxmXpo2Y9hIgQKBCgfRwyaLntKRdvOvGLPvge2L9lKQllTt+R5Yd9jVYhaPS3KrEU3PHro4tF091HJX1tknisl5/eydAgMDaBN7/SzGTEslJFa9fuL5XRTXqaLCAeGrw4NWw6eKphoNSgyZJXGowCJpAgACBdQi8a8ZMyjraZJ/NFRBPzR27OrZcPNVxVNbfJonL+sdACwgQIECAAAECBAgQmCHgrOQZQFYTIECgrQL//fl+9t+fb2vv9GvVAuJp1eLt3p94avf4Lto7My6LytmOAAECBAgQIECAAIGVCUhcVkZtRwQIECBAgAABAgQILCogcVlUznYECBBYWKC3s/CmNpwq0Mt6l6cWaOVK8bSsYRVPy5LtZr3djKdqx1riUq2n2ggQIDBbYDd7fHYhJRYS6GXdS1zE00KhUmoj8VSKSaGSAl2Mp5I0ZYtJXMpKKUeAAIGKBOIP78WKqlJNTuD6a9mZrqGIp+WNuHhanm0Xa+5iPFU9zhKXqkXVR4AAgRkCXzze2852e+dmFLN6XoEwPX+8e6dNiad5A6VkefFUEkqxUgIdjadSNnMUkrjMgaUoAQIEqhJ4d5addr5zVZpZliyTaXU1Nqsm8VTteIknf5+qjKiux1OVlhKXKjXVRYAAgZICZ4/3rt6ymx0z81ISbFqx+CYzWSbTacXavE48VTi64ikTT+KpQoFKq/IAyko5VUaAAIHyAoMD7ZO/97X+2d7r2emNfvaBfq9/tHwNXS65d0rY4xu72cW9U6W89g42g0E8LRQL4inPJp7yIvO8F0/zaM1TVuIyj5ayBAgQWILAX35i70PuxBKqVmUHBcRTBwd9iV0WT0vEVfXcAk4Vm5vMBgQIECBAgAABAgQIrFpA4rJqcfsjQIAAAQIECBAgQGBuAYnL3GQ2IECAAAECBAgQIEBg1QKucVm1uP0RIEAgJ/C5C/2t3nXZfdf62f1Z1t8ENFtg71bS8RTq9EC3Lj67ZZqQeJqmU7xOPBW7pKXiabLNpDXiaZLMwZdLXA5uqAYCBAgsJHDyQv/Ii9dlp671+yez/kJVdHajfhZ3X+tnR1/fyE78/hP9s78cCUyXb4ecAkE8Lf7rIJ7G7cTTuEnZJeKprNT85ZwqNr+ZLQgQIHBggXRQ8JON7NJe0uJ1IIFeGCbLZHqgihq8sXiqbvDE01tJsL9P1cSUeKrGcViLxKVaT7URIECglECaadn7Vs6rEoFk+eMwraSyBlYinqodNPHk71OVEdX1eKrSUuJSpaa6CBAgUEIgHji5aaalBNScRdI3m+l8/Dk3a3xx8bScIRRPy3Htaq1djaeqx1viUrWo+ggQIDBD4Lo3ujszMIPmwKt3s3SDg269xNPyxls8Lc+2izV3MZ6qHmeJS9Wi6iNAgMAsgd3MKWKzjBZdv5Hdt+imjd1OPC1v6MTT8my7WHMX46nicZa4VAyqOgIECMwS6Pdc2zLLaPH13budtHhaPFpmbymeZhspUV6ge/FU3qZcSYlLOSelCBAgQIAAAQIECBBYo4DEZY34dk2AAAECBAgQIECAQDkBiUs5J6UIECBAgAABAgQIEFijwKE17tuuCRAgQKDmArcc7mW33Li/kTsv9bNX3qx5wzWvlgLiqZbD0thGiafGDt3CDZe4LExnQwIECLRb4J5be9nnC+5/9vB/60Xi0m935/WucgHxVDlppysUT90cfolLN8ddrwkQIDBV4LN39LLP3DG1iJUESguIp9JUCpYQEE8lkFpaROLS0oHVLQIECCwicDg+Ff7P3+plv/2+Rba2DYH9AuJJRFQpIJ6q1GxmXRKXZo6bVhMgQKBygXS++MMfzrLbbq68ahV2UEA8dXDQl9hl8bRE3AZVLXFp0GBpKgECBJYlcNvNkbR8JBu7EH9Z+1NvuwXEU7vHd9W9E0+rFq/v/iQu9R0bLSNAgMBKBNJFrn/wm1l2k0+ElXi3fSfiqe0jvNr+iafVetd9bz6m6j5C2keAAIElCnziV3vZ536jeAfplsfpnHIvAmUFxFNZKeXKCIinMkrdKuMBlN0ab70lQIDAPoEnn+9nL7w6jvL1H2bZl58dX24JgWkC4mmajnXzCoinecXaX17i0v4x1kMCBAhMFHjljSx75Kn9qy9EwvKnz/Szn8U6LwLzCIinebSUnSUgnmYJdW+9kwC6N+Z6TIAAgX0COy/1I3npZe9/V5Y9/a9Z9r0XPVxSiCwuIJ4Wt7PluIB4Gjfp8hKJS5dHX98JECAwEHj6R/3s6R/hIFCNgHiqxlEtbwmIJ5EwFHCqmFggQIAAAQIECBAgQKD2AhKX2g+RBhIgQIAAAQIECBAgIHERAwQIECBAgAABAgQI1F5A4lL7IdJAAgQIECBAgAABAgQkLmKAAAECBAgQIECAAIHaC0hcaj9EGkiAAAECBAgQIECAgMRFDBAgQIAAAQIECBAgUHsBiUvth0gDCRAgQIAAAQIECBCQuIgBAgQIECBAgAABAgRqLyBxqf0QaSABAgQIECBAgAABAhIXMUCAAAECBAgQIECAQO0FDtW+hRpIgAABAksX+Owdvewzd5TbzSP/OZXrvV34y89m2Zee7ZfbWKlOCIinTgzzyjopnlZGXfsdmXGp/RBpIAECBAgQIECAAAECEhcxQIAAAQIECBAgQIBA7QUkLrUfIg0kQIAAAQIECBAgQMA1LmKAAAECBPauUflSXKviRaAKAfFUhaI6hgLiSSwMBcy4iAUCBAgQIECAAAECBGovIHGp/RBpIAECBAgQIECAAAECEhcxQIAAgZUL9HZWvsuO7LCX9S53pKsj3RRPyxpz8bQs2W7W2814qnasJS7VeqqNAAECswV2s8dnF1JiIYFe1r3ERTwtFCqlNhJPpZgUKinQxXgqSVO2mMSlrJRyBAgQqEgg/vBerKgq1eQErr+Wnekainha3oiLp+XZdrHmLsZT1eMscalaVH0ECBCYIfDF473tbLd3bkYxq+cVCNPzx7t32pR4mjdQSpYXTyWhFCsl0NF4KmUzRyGJyxxYihIgQKAqgXdn2WnnO1elmWXJMplWV2OzahJP1Y6XePL3qcqI6no8VWkpcalSU10ECBAoKXD2eO/qLbvZMTMvJcGmFYtvMpNlMp1WrM3rxFOFoyueMvEknioUqLSqFiQuudMCrnx7q1IhlZUXuPLM0X2FN5p0yoY4Kj/QSy7Z6Dga2pSLp3Rw8P8e753cvaF3ez/rPdbrd/GOWIvGUzLundvY7R1LhhOTFvG0KHDHthNP+QH39ykvMs/7LsXTPC4HL3vo4FWsuYaN/uVsN9t8uxW72Vb8f3vNrerm7jd2H8qujXT9zd3vNgZCHNVnqJocR0PFOePpLz+xl+icqM8gtKgl4qlFg1mDroinGgxCi5rQhnha8XA0f8alnz25z2zjuoeyK3+/uWJHu7vyzGYkLSf2QVx3XXPunCSO6hHDTY+joaJ4Ek9VCoinKjUXr8vfp8XtbDku0JZ4Gu/ZUpc0P3E5snE+2xg5r7nfP5L1/qdLkpelxs3+ytMvX69/af/C+Ab59jvPr7AVB9uVODqYXxVbtyGOhg7iqYqIOFgd4ulgfrbeLyCeRESVAm2KpypdStTV/MTlnXdezfq7D+7r625/M+vfcCV77h8ezfLnN5dAUaSkQLqe6Mp3T0XS8kyWzEdfvV6znqUgjkoO+hKKtSmOhjziaQmBUrJK8VQSSrFSAuKpFJNCJQXaGE8lu15VsV5VFa29niv/cDbrZw+tvR0aENfL7p7Jbv/w6UZSiKP6DFuT42ioKJ7EU5UC4qlKzYPV5e/TwfxsvV+gDfG0ojFt/ozLEOr2D53cO2D2Wq9APzvX2KQlyYmj9cbPcO9NjyN/l+oRR+KpXuPQltb4+9SWkaxHP9oSTyvSbM+MyxDsyjMnsn7/VJblTl1aEWhnd9NL1xnFKXu339WcC/KnDZY4mqazvHVtiyN/l5YXK2VqFk9llJQpKyCeykopV0agrfFUpu8HKNO+xGWIkQ48e9fui9PH4nqX3v7nixwAzKajAnEB/sbu5fCNO7vFTRJuj+uN2vYSRysY0Q7Ekb9LK4ij4S7E0wqxO7Ar8dSBQV5hFzsUTytUtSsCBAgQIECAAAECBAgQIECAAAECBAgQIECAAAECBAgQIECAAAECBAgQIECAAAECBAgQIECAAAECBAgQIECAAAECBAgQIECAAAECBAgQIECAAAECBAgQIECAAAECBAgQIECAAAECBAgQIECAAAECBAgQIECAAAECBAgQIECAAAECBAgQIECAAAECBAgQIECAAAECBAgQIECAAAECBAgQIECAAAECBAgQIECAAAECBAgQIECAAAECBAgQIECAAAECBAgQIECAAAECBAgQIECAAAECBAgQIECAAAECBAgQIECAAAECBAgQIECAAAECBAgQIECAAAECBAgQIECAAAECBAgQIECAAAECBAgQIECAAAECBAgQIECAAAECBAgQIECAAAECBAgQIECAAAECBAgQIECAAAECBAgQaIpArykN1U4CBFYv8JGPfKSf3+tTTz3l70YexftSAuKpFJNCJQXEU0koxQi0SGCjRX3RFQIECBAgQIAAAQIEWipwqKX90q2cwF133bXV6/U20+J+v7/z9NNPb0MiQIAAAQIECBAg0BQBiUtTRuoA7dza2jryyiuvXBpWsbGxcT7+v32AKm1KgAABAgQIECBAYKUCThVbKfd6dvbyyy8fXc+e7ZUAAQIECBAgQIBANQISl2oca11LzLBs1bqBGkeAAAECBAgQIEBghoDEZQZQG1bHtS33tKEf+kCAAAECBAgQINBdgc5d45Ku93j11VdPxJDfExepb8a/R+LAfif+3bl27dpjky5a/9jHPnZqUD5Fy9XY5tw3v/nNnXTR+3XXXXdfrNtKK2L55fg5k9al9+mVKzPcXyq3V8ew3PDfuMXj/bHuvuH7qP/cN77xjcsjdT0U+9s7/Su1fXd397Fvf/vb50frSf386U9/unXo0KHNYduG69O2sY/TI+93Ylbm5ni/75Sy0f2O1p3+Hx6p3ofiv0dG6nk8bpV7MV+2a+8/+tGPno0+J8/0unrjjTee2d7evjq41uihGLOtYSyleInxOxPjtze+o68Pf/jDJ2Jc9iWd+dhK5SeUeyxiaztf5yAWHxjETxq7FMsphh6P8d4uisd8Hen9hJi+GHU9XraOonotGxcQT+N/I8eVLCkrIJ7EU9lYOWi5iLVHh3Wkz5n4bDiT3g8/C+O/98fP8HNo7Nhp0v6Hnz+xPh2HpOOW9Dl2Nf69HMdxj086jkv1LatNk9pqefUCnXoeQwRsOuA/HYzpF6XwlX654udY/uArtr0U224NN4oy5+P9Trw/XVDR1UgYjqVkI/2SRLkTBWWGi07Hwf7eL/PwNUgqTg3fpzbFwe+dkXBdGG3D6DbDMukAOS2Pg9nzseyB0TKT/h/ltmPd41H3I7kyV6Nt7yzaLvqV2pL+6Lz9ioPs5Jbq6vQrxu9KAGyOIJyJxGA7EoMUC6PLR53G4qBoDIuMi8rFfh4cTWYHiWba/9akwUkxFOvPj8Zj0XMSoszZKHuyqJ5UR/Tz+DDRLipj2XwC4kk8zRcx00uLJ/E0PUKqW5v//EifS/H50I/Pw7Oxl8LjsPiMOxHHEY8VtaLM51jaLn0Oxc/YcVxaV3Wbitpp2XIFOnOqWATrqXTAFZyFvyxD5iiTMvhL6RdkGn2UORHrT08ocySy/gtxQPnIoNyEYnuLT8e+tqYVSG2Ku4JdiQKcJ+UAABf5SURBVH8nlktlUmIzrZ5p6yIxOh/r95KekdeRorYN/njsS1pim8uSlpze4G1KIOOP8aU0RsUl9paejhjNm04pXn7VYLzS/rembTVo38x4nJS0pLpTHW+++eal9I3atH1Zt7iAeFrczpbjAuJp3MSS5QhErD0SScv5qH3i50NaX3TcEcdTR2PdM7M+x1LL0+dQKnv33XcfndWTg7RpVt3WL0egE4lLOpUm+E7nCSNgt+MnzUxsj65LQR8/b09x5rcreL+TX5bqGD3Ai/dX00++XHofy9+eXSlaP1g2+os+tr9BPVvDX/g4UL4cyy4X7XOwLNUx/Lk6mKk5l99/UdsiKdsqKDe2bb5MV9+nWBj2fVocRJlHl3HAH/u8f7QNqS2pHYPYvzgaI2nZHAlomqEpiul0++2TXR3vZfdbPC1buFv1i6dujfeae7vvOGbC58fYMVH68i2OadIXs0UJz04sTz/5194XyCU+UxdqU35n3q9OoPWJyyDg9yUG6Zclfu781re+dSx+Hkz/xi/FvtO1Yv3bScCk4UgJT2x3e5xak37ibe9iUdlUd5y28870E/U+mC+T9hXfDNyWX55/n+o5fPjwO9P+0n5jfUpO9r2irr2+Rp/ORrk74/3xfJnY9uKgzXttj7J7ZaLus/myqW35X/zYPn8K2k7+Gpt8Pd5n6TqiY9PiIIyOvPbaa0eXYHVfrs6rN910Uxr3FPvHh3EZ8Xsufvb9HhS1ZRD3x1LspG3TdvlysSwfI/ki3h9MQDwdzM/W+wXEk4hYlcDl9Fk48vnxcH7H+eOvdFwTP5u5cilmh8dfw2OindEyaZuSX6LN3aZ8m71fnUDrE5c0O5AP+Aj28/mLoeNb5tPBvi/oY9v7pw1FOsgbvRam6AAutr86qHuvqnSAnw788vXGtGZKRCa+Ypv0Tfjp4TUsab/Rj6Jf+KP5RGNipbkVqe7Yz1jyNfqLPzjtaGt006L+lN1nV8qlP9SjMxmDRG/sPN6I1coP+PPxn8wjQdr3zVVqTyQxJ0fjedLYpER/tC9xmuHpfNmifebLeL+4gHha3M6W4wLiadzEkqUIXI0vSPd9fqQvWYuOIeIzZO9LvHQ8E/8/kW/NIGZ3hssHx0RjXwzH+odmHBPN3aZ8W7xfrUDrE5cI7vy3zUn4uXRXivxP/PK8/UuQCsW2m3MOx77t07ZR59isSCQpz81Zb5o6HdtmcPB4NVfXkZ/97GfztvvtKoqSr1j2tmHRaWKxfua39PP2t23lixKCGNPtfD+Hf6zzyw/yPh/XUVf6ILgUN1h4JJ03fJC607aDZHrnoPXYvryAeCpvpeRsAfE020iJgwvEZ9HwtPR8ZY/nF8T7D6RlEx6gna6p3clvMzgmyi+feibDIm3K79f71Qq0PnEp+uY3lj0SScml/E8s38rx37za4Vhob/nEJSVLmwvVFBulX/zYfnt0+3QwPXLtzL4ZgSibZoJ2Ft1fl7cL1zG38Nw3E1KFT+znyXw96fcifk7G/p6JBOZKug4szably3nfHAHx1JyxakJLxVMTRqkdbYwvc8eOY6Jnm6l3cReysS/XUrIxqeexbuzL4nQMM6n8pOXT2jRpG8tXI9D6xCUYKz8QXM3QlNtL/JLu5EvGL+mB+hx1js2gpNPmJpwm9lh+/96XE4hbZlc+dkV7Hly7NPbHfFg2JTEx5o/Gv5fK3IWlaB+WrV9APK1/DNrUAvHUptGsd1+KkuThccyE45mdST2KhOOl/LoJdeSL7Xs/rU1TN7Ry6QJdSFzGMvM4SEsPykvXmsz6GTuAX/qIzLmDol/I+IZiZ85q9hUvOgUtrB6Ifd2fqzc9UGr7IPvq8rZx2+DNfP/DeSxe82XmfZ9O5UrnFUfdYxfRj9YV4+tWxvPi1qi8eKrRYLSgKeKpBYPYkC7E2S9jX7YOPwvn/UyMusbOlJm3jsQ2rU0NYW1tMw+1tmeDjkXAplu27psmTAdwLTrg3syPYcyOVHHwmw5yR+/Glq6LyN+drfaJXd6mTu+L/jBG+3aW0cbBdSgnY9bsbLpOKV37VZCIpl2na6RSgnp+Ge1Q5/IExNPybLtYs3jq4qivp89xTJZOXc7vfG/mJJ2yFev3rcsf0+U2HEuCovxOvvJZ76e1ada21i9XoAszLkXn91d+56blDlNx7YMLq/O/pFfzd0wr3nr60sHpRfkEaHRfO3FL3YvTa7F2mkD8YRy7cUT8kf7utG0i6dictn7WunQ90uAOYsfjwOT2KD92ql/6gz2rHuvrJyCe6jcmTW6ReGry6DWu7WOfhdGD7dSLOINk79/ca7PoTmFFp7On7eKz7nK+ghLvJ7apxLaKLFGg9YlL0RPhI/tOFyKPJS/pFyGeXn4qLlau3bn+8SFyWz4O4pdx3wxIWh/lyiQTm/m68u/TN/ThNHZQOywX+4ki2/nEJl+N9wOB/IXvgz+wJ/JA8Ud6dPzGfGPM7xndJtWTX5avM71PSW66i97oupTExBifzZePsR3bb76M9+sVEE/r9W/b3sVT20a0nv2Jz5sj+VhLn0uxfCvf4uGxTPqcSscbufVHXn311bHjn/jib+y4Lm077QZCi7Qp31bvVyvQ+lPF0sF1JCP5057S9OP5SFDSE8X3vuGO4P5APK9kK/6bTonK0hNX4xcs3W98Z7VDUry3lGxFezdj7fC2gelUn9Tefa/ox77Tt4oOQtN2UdeF2PBI2jg9lyNfz+D9+fj3oaJ1+f0UlbHs5wIRb+nuXRfj3yfD7rb492SBz75rhlISE+X2+Q/iIMXodwf13B/17I3jpFe6Y1iUfTR+smjD+Yjtx4YX3sb/i/7QX55Ul+X1EBBP9RiHtrRCPLVlJGvfj+Gt+NNn23fjS7cPpM+0fKvjs2rf3UrT8Ub+eCfen4zPs6Ox7dRjovgcfThff+79Qm2aUafVSxRofeKS7NJpT5GUpGm/FORvvyLw00Ff+knPSRldld6ncy5PxMLT+1as8c3gF3drUhPij8C+B2Kmcum0sUjcrsZ/9x3cDvq+V1X88p9MD4HK15u2jXXb+T8Y8Ufk8bokdPk21/h9+uOYEogTk9oY47cvgUzXYcXY7UT5zdFthnGbj9miegczO6eGZVMbYj8n4kNjr3hKZkZf8f5ii67/KiJpyzLx1JaRrEc/xFM9xqH1rYjPoM3oZLoV/9hx16DzaYZl3xew6TMpPsvOxOfWvlmWwbHJ1iS0dEz0jW98Y+YXcYu0adI+LV++QOtPFUuEadYlAvh4/DJslyVNAf/UU0+dLlu+BuUei1/uwvbm/wjk2xq/tKeKzhdN5WJdmq3a94pl5/PLvF9cIDyvxgzIg0XJYCw/HjWnxHPiK8Z3bIxGC0f9E7fNrbgcdc36dqpsXcqtSUA8rQm+pbsVTy0d2Bp2K8Va/Bwv+ixMxzfpuKxsswdf5J4uW35SuWltmrSN5csV6ETikgjTL0I6JSqC8MFJCUwK0HQQGAF/+6QkYLnDMbX2dL1J+sm/Lqc+RZJ1Ir9i+D7NpqQy8X4nXyZZpKRu0vUqsT5/gdpO7Otivh7vpwuEcZpNKfSPqew741uh80U1pG+LYts7i2J2MHbHYnxPxrZFsbEX9zFet0+L+9Su9Ec+3TK56AOjqF2WrVdAPK3Xv217F09tG9F69ic+s9J1lWPHIoNjr/Pps3DazYUGycvt0bvH0jb5Xg7rSfFc9hjuoG3Kt8H75Qv0lr+Leu4hzTC89tprR1PrIsiv3nDDDVfj4H2nDq2N04NORzvyF57tzQCNtvsd73jHzrxtTg8YjOnWI4M+p+3HfvmHBuk0oyh7ZdQk/dFJd6Wqg1Nd2xDjl8w2R9sXY7f3uzaPf75/ubG/PG3s8tsO3xfE/dQYmFSP5asTEE+rs+7CnsRTF0a5Hn2MWNs33Z+ShPiiLSUeB/osHPZu+Hma3pc9Hlp2m+oh3+5WdDZxqfOwTktcVtnuuL7l0UhUTozsM51yd6dv5aePwrQDg+lbWktgXEA8jZtYsriAeFrczpbzCUxLEuarqbrSdWxTdb3rRk2dOVWsG8NZXS8HF3WfGK0xvi1JF27vVLcXNREgQIAAAQIECBAoJyBxKefUuVIx05I/VS3dgepM5yB0mAABAgQIECBAoBYCEpdaDEO9GmG2pV7joTUECBAgQIAAAQJZ1onnuDRtoOM6kvPR5u1cu3dW2Y/BXWb2djm8kH+V+2/yvsIr3TXFi0AlAuKpEkaVDATEk1BYlcDocUTaZzqWWNW+J+2njm2a1FbLCRAgQIAAAQIECBAgQIAAAQIECBAgQIAAAQIECBAgQIAAAQIECBAgQIAAAQIECBAgQIAAAQIECBAgQIAAAQIECBAgQIAAAQIECBAgQIAAAQIECBAgQIAAAQIECBAgQIAAAQIECBAgQIAAAQIECBAgQIBAkUCvaKFl7RT4yEc+ciV6tjnau6eeekoMtHO49YoAAQIECBAg0CqBjVb1RmcIECBAgAABAgQIEGilwKFW9mrFnbrrrru2er3eZtptv9/fefrpp7dX3AS7I0CAAAECBAgQINBqAYnLAYd3a2vryCuvvHJpWM3GxsZ2/D/9eBEgQIAAAQIECBAgUJGAU8UOCPnyyy8fPWAVNidAgAABAgQIECBAYIaAxGUG0KzVMcOyNauM9QQIECBAgAABAgQIHExA4nIwvyyubbnngFXYnAABAgQIECBAgACBGQKucRkApWtVXn311RPx9p64wH4z/j0SSclO/Lvz5ptvPv4P//APF4eWqexPf/rTrUOHDm1G2X2niqVt47bDp4dl08X63/72t88P36d/c/t6e/u0v93d3cfy5Ue3Hf1/uinAddddd18sOzpo89Wo42q8vxz/nvvmN7+5M2nbacs//OEPH42ZpIfyZb71rW89mF/mPQECBAgQIECAAIFVCHiGRyh/7GMfeyAShrPx3yOT0FNSET/HUjIQB/bn4/8PTCo7ujzKbccB/7G0bJCwPBJJxolp26Z9RUJy/Bvf+MblonLR3pQwPRo/W0Xrh8uinvM33njjw9vb2ymZyco8xyXVHRbPRPF9FpHInIm+n562P+sIECBAgAABAgQILEug86eKxcH8/XGgfj6AJyYtCT/NaES5Syn5WGQwUkIQdx+7MitpGe4rZnkupW3y+xomFrOSlkE9J0bveJavq+h91JvukLavj5EAXZS0FGlZRoAAAQIECBAgsCqBzicucVD+SB47zZKk2Yr07+i6OKg/M5i9SMsvx/u9mYxcmbRsZ+Rnr8w73vGOsbJpeaqjqJ5YdSSWP5rKDF8paSpKLAbr04zQdr6ueH9utI5p/48k7lSU38yVSfU+PG076wgQIECAAAECBAgsW6DTp4qlaznioDydFvX2KyUso9dyDE7LOhmnSu38/d///dnRsukak1j+9jNc0rqUPAxPDcsPXuzvRKzfS0YGidFjMZOxnd7ffffdR9MsS/x332zH4cOH3zk81eujH/3oyUgs8onWTrThwWE9qa5o8+mYHbovlj8+OlMy7VSxwUzOlbT96CvqSKfHbeeXe0+AAAECBAgQIEBglQKdvjg/koB0Af5U78EF7ienFiq5Ml10H7MmF1PxYTIy3DRdzxKJzePRnn3Xzrz22mtHU/FBubEL5qMP6dqT4fq9YoNk5fRgm1L/DGZy9pUdXNeyr+5SlSlEgAABAgQIECBAoGKBTicucVewdBevfaRxAH8iZjaOxvJzcYH89iBxqYw9n7CMVhxJy05+R9euXdtMy9LsUMFpXFfL3oEsX+/wfboDWuz3noK6L4/O1kza3nICBAgQIECAAAECqxDodOKSkpJIUtJ1IVuj2PE+nUL2aEpq0vr4t/QtissOWrpe5eWXXz4ayVGaUbktftIpYik5Kawilo/NDkUbLxcWnm/hqYJ9Xo5T1PbuhOZFgAABAgQIECBAoA4CnU5c0gBE4vBw0bUlw8FJSU0kCFuRwNwXtxZ+cNqMSZkBHTx75VTc7Ss9KyVdbF9ms3RNzGapgtUUOjp4ps2+a3qqqVotBAgQIECAAAECBOYX6PxdxdK1JZFA3BmJwfY0vkgw7o+D+fyF8dM2GVsXp3s9ki7mT8lQrNx3Ef5Y4RUtiH6fL+p7tPHUord+XlHT7YYAAQIECBAgQKBDAp1PXNJYp1PG0p3AIqm4Pd6eiZ/CU7DiYP7Eogfz6VbDkSCcHI2tqC896T4lDul2w8fj57EpsTfWptg+nWZ2oFe6g1rqe0HyciQStVMHqtzGBAgQIECAAAECBCoSkLiMQKYE5qmnnjodP3cOkpidvPPrr79+c35Zyff7kpbYZuemm266fZA4nI19XkzLJtUVZdO6q7n1R+I2xluTtplneSQuKWHb94rE6GRV9efr9p4AAQIECBAgQIDAPAKdT1zSDEq67iT/lPrB3cTGZkBuuOGGl6YBx8H+2Clgg7r3LY9yj+evl4nkIV2kX/hKZWP92KxL3DjgkfwsULoDWVyTcyHN8hRWVrBwcEvlsf6mU8YKiltEgAABAgQIECBAYKUCnb84P123ErMrJwZ3EDs/uA3y1bhgfzMShQfiwH10QHZGk42i2ylH4b2kIf7dS1QmPYwy6r4nJTQpQUr/xm2PH4p9nZg2+mlWJMps5cqkC+mfiX2ei7Zfjb58INUzSKDuj+UvRRvOTqt3uC62TQ+ufGC0bNpfenDmQW+7XGb/yhAgQIAAAQIECBCYJNCbtKILy0efZF+mv3EQ/2D+AD5mNf49th2bZRnWF8nGwylxmFVu0v7z+4wkJyUX88yC7MStje9MCVe04UrsZ3N0X3GK2r4YiETnbOwz/6DLq1HH7fkZoklttpwAAQIECBAgQIBA1QKdPlUs3Y64LGiUPZNPWtK2RdeGjNYZScDe3blmlRvUdS7KbU9rU3ooZGrLtDIj63ai7LF5Eo645fPp2H7sWpq4ffPJkvtUjAABAgQIECBAgEDlAp1OXNJMyOAi/HRtx06Rbkok0sH/pKfIpzrSrEjR9oNtj6fEoUS5Y1HmZNR1Ln7yicO+pg2Sl2OTkpy0PH4ejtmU2wfX6hR1rXDZ4FqadEpavg2n8tcBFVZgIQECBAgQIECAAIElCHT6VLG8Z5oZee21146m5ZGsXI0L8fdd05Ivn39/9913H43TuI7M2rZsuXz9Re8P2uaiOi0jQIAAAQIECBAgQIAAAQIECBAgQIAAAQIECBAgQIAAAQIECBAgQIAAAQIECBAgQIAAAQIECBAgQIAAAQIECBAgQIAAAQIECBAgQIAAAQIECBAgQIAAAQIECBAgQIAAAQIECBAgQIAAAQIECBAgQIAAAQIECBAgQIAAAQIECBAgQIAAAQIECBAgQIAAAQIECBAgQIAAAQIECBAgQIAAAQIECBAgQIAAAQIECBAgQIAAAQIECBAgQIAAAQIECBAgQIAAAQIECBAgQIAAAQIECBAgQIAAAQIECBAgQIAAAQIECBAgQIAAAQIECBAgQIAAAQIECBAgQIAAAQIECBAgQIAAAQIECBAgQIAAAQIECBAgQIAAAQIECBAgQIAAAQIECBAgQIAAAQIECBAgQIAAAQIECBAgQIAAAQIECBAgQIAAAQIECBAgQIAAAQIECBAgQIAAAQIECBAgQIAAAQIECBAgQIAAAQIECBAgQIAAAQIECBAgQIAAAQIECBAgQIAAAQIECBAgQIAAAQIECBAgQIAAAQIECBAgQIAAAQIECBAgQIAAAQIECBAgQIAAAQIECBAgQIAAAQIECBAgQIAAAQIECBAgQIAAAQIECBAgQIAAAQIECBAgQIAAAQIECBAgQIAAAQIECBAgQIAAAQIECBAgQIAAAQIECBAgQIAAAQIECBAgQIAAAQIECBAgQIAAAQIECBAgQIAAAQIECBAgQIAAAQIECBAgQIAAAQIECBAgQIAAAQIECBAgQIAAAQIECBAgQIAAAQIECBAgQIAAAQIECBAgQIAAAQIECBAgQIAAAQIECBAgQIAAAQIECBAgQIAAAQIECBAgQIAAAQIECBAgQIAAAQIECBAgQIAAAQIECBAgQIAAAQIECBAgQIAAAQIECBAgQIAAAQIECBAgQIAAAQIECBAgQIAAAQIECBAgQIAAAQIECBAgQIAAAQIECBAgQIAAAQIECBAgQIAAAQIECBAgQIAAAQIECBAgQIAAAQIECBAgQIAAAQIEGiDw/wP01zjmtgWA7AAAAABJRU5ErkJggg==)"
      ]
    },
    {
      "cell_type": "code",
      "metadata": {
        "id": "npFJcoObkcO_",
        "outputId": "2ffb409d-a4f1-4e20-f530-7f09bea99f33",
        "colab": {
          "base_uri": "https://localhost:8080/",
          "height": 53
        }
      },
      "source": [
        "# Stack / স্তুুপ\n",
        "a = [] # empty\n",
        "a.append(1) #push\n",
        "a.append(2) #push\n",
        "a.append(3) #push\n",
        "print(a)\n",
        "a.pop()\n",
        "print(a)"
      ],
      "execution_count": 15,
      "outputs": [
        {
          "output_type": "stream",
          "text": [
            "[1, 2, 3]\n",
            "[1, 2]\n"
          ],
          "name": "stdout"
        }
      ]
    },
    {
      "cell_type": "code",
      "metadata": {
        "id": "p7uA_5oLlB2t",
        "outputId": "955562b2-a0f6-46e8-96ea-7f00178e76cf",
        "colab": {
          "base_uri": "https://localhost:8080/",
          "height": 35
        }
      },
      "source": [
        "print(a)"
      ],
      "execution_count": 13,
      "outputs": [
        {
          "output_type": "stream",
          "text": [
            "[4, 5, 6]\n"
          ],
          "name": "stdout"
        }
      ]
    },
    {
      "cell_type": "code",
      "metadata": {
        "id": "bRCx3DUqk-pJ",
        "outputId": "b0cb5c3c-b0a3-4bf1-894d-4644ba67e7b1",
        "colab": {
          "base_uri": "https://localhost:8080/",
          "height": 35
        }
      },
      "source": [
        "v = 'Linus Torvolds is a creator of Linux kernel.'\n",
        "\n",
        "# vowel = a, e, i,o,u\n",
        "\n",
        "# for i in v:\n",
        "#     print(i)\n",
        "\n",
        "i=0\n",
        "C = 0\n",
        "while i<len(v):\n",
        "    if v[i] == 'a' or v[i] == 'e' or v[i] == 'i' or v[i] == 'o' or v[i] == 'u':\n",
        "        C = C + 1\n",
        "    i = i+1\n",
        "print(C)"
      ],
      "execution_count": 19,
      "outputs": [
        {
          "output_type": "stream",
          "text": [
            "14\n"
          ],
          "name": "stdout"
        }
      ]
    },
    {
      "cell_type": "code",
      "metadata": {
        "id": "dCEKWd-st5oq"
      },
      "source": [
        "# rafsan --> nasfar (NON-palindrome)\n",
        "# mam    --> mam    (palindrome)\n",
        "# wow    --> wow    (palindrome)\n",
        "# level  --> level  (palindrome)\n",
        "# madam  --> madam  (palindrome)"
      ],
      "execution_count": null,
      "outputs": []
    },
    {
      "cell_type": "code",
      "metadata": {
        "id": "JVVNALAMpCq0"
      },
      "source": [
        "# Take a word as an input; prove it wheather it is palindrome or not.\n",
        "\n",
        "# e.g.: palindrome word: mom, madam, civic, radar, refer, wow, level"
      ],
      "execution_count": null,
      "outputs": []
    },
    {
      "cell_type": "code",
      "metadata": {
        "id": "4oT2xxGJ0x_I",
        "outputId": "76ab63e9-181f-4240-9ccc-d49d1e5e406d",
        "colab": {
          "base_uri": "https://localhost:8080/",
          "height": 53
        }
      },
      "source": [
        "word = input()\n",
        "\n",
        "reverseWord = word[::-1]\n",
        "\n",
        "if word == reverseWord:\n",
        "    print('palindrome')\n",
        "else:\n",
        "    print('NON-palindrome')"
      ],
      "execution_count": 26,
      "outputs": [
        {
          "output_type": "stream",
          "text": [
            "level\n",
            "palindrome\n"
          ],
          "name": "stdout"
        }
      ]
    },
    {
      "cell_type": "code",
      "metadata": {
        "id": "8jfrpE4VmwPA"
      },
      "source": [
        "# 3-V\n",
        "v = volume   [~500 GB] 50 GB + 5 GB\n",
        "v = velocity [~500 GB]\n",
        "v = versatile"
      ],
      "execution_count": null,
      "outputs": []
    }
  ]
}