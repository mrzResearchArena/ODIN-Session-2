{
  "nbformat": 4,
  "nbformat_minor": 0,
  "metadata": {
    "colab": {
      "name": "Batch-Morning.ipynb",
      "provenance": [],
      "authorship_tag": "ABX9TyMmCLfUGmUU8VQtRGlkyPnw",
      "include_colab_link": true
    },
    "kernelspec": {
      "name": "python3",
      "display_name": "Python 3"
    }
  },
  "cells": [
    {
      "cell_type": "markdown",
      "metadata": {
        "id": "view-in-github",
        "colab_type": "text"
      },
      "source": [
        "<a href=\"https://colab.research.google.com/github/mrzResearchArena/ODIN-Session-2/blob/master/Batch-Morning.ipynb\" target=\"_parent\"><img src=\"https://colab.research.google.com/assets/colab-badge.svg\" alt=\"Open In Colab\"/></a>"
      ]
    },
    {
      "cell_type": "code",
      "metadata": {
        "id": "V9eIV9E5R46R",
        "outputId": "ca13c07d-8c02-4009-c0c7-c473d1ada09a",
        "colab": {
          "base_uri": "https://localhost:8080/",
          "height": 35
        }
      },
      "source": [
        "#print 'Rafsanjani'\n",
        "\n",
        "# parentheses --> ()\n",
        "\n",
        "# print('Rafsanjani')"
      ],
      "execution_count": null,
      "outputs": [
        {
          "output_type": "stream",
          "text": [
            "Rafsanjani\n"
          ],
          "name": "stdout"
        }
      ]
    },
    {
      "cell_type": "code",
      "metadata": {
        "id": "lge574V1TtMd",
        "outputId": "7e99aec5-4686-42df-916d-83134d18b16e",
        "colab": {
          "base_uri": "https://localhost:8080/",
          "height": 145
        }
      },
      "source": [
        "print('*********')\n",
        "print('*       *')\n",
        "print('*       *')\n",
        "print('*       *')\n",
        "print('*       *')\n",
        "print('*       *')\n",
        "print('*  ...  *')"
      ],
      "execution_count": null,
      "outputs": [
        {
          "output_type": "stream",
          "text": [
            "*********\n",
            "*       *\n",
            "*       *\n",
            "*       *\n",
            "*       *\n",
            "*       *\n",
            "* ... *\n"
          ],
          "name": "stdout"
        }
      ]
    },
    {
      "cell_type": "code",
      "metadata": {
        "id": "hDDReZjEIt43",
        "outputId": "6c915ccf-115f-4f9b-f467-cf7aadb00cbe",
        "colab": {
          "base_uri": "https://localhost:8080/",
          "height": 145
        }
      },
      "source": [
        "print('* * * * *')\n",
        "print('*       *')\n",
        "print('*       *')\n",
        "print('*       *')\n",
        "print('*       *')\n",
        "print('*       *')\n",
        "print('* * * * *')"
      ],
      "execution_count": null,
      "outputs": [
        {
          "output_type": "stream",
          "text": [
            "* * * * *\n",
            "*       *\n",
            "*       *\n",
            "*       *\n",
            "*       *\n",
            "*       *\n",
            "* * * * *\n"
          ],
          "name": "stdout"
        }
      ]
    },
    {
      "cell_type": "code",
      "metadata": {
        "id": "cPcBjRp_JFsH",
        "outputId": "0b342d58-0dc6-4958-f910-b6156af39814",
        "colab": {
          "base_uri": "https://localhost:8080/",
          "height": 35
        }
      },
      "source": [
        "print('4'+'5') # append"
      ],
      "execution_count": null,
      "outputs": [
        {
          "output_type": "stream",
          "text": [
            "45\n"
          ],
          "name": "stdout"
        }
      ]
    },
    {
      "cell_type": "code",
      "metadata": {
        "id": "JlxNiQumUlxj"
      },
      "source": [
        "AB"
      ],
      "execution_count": null,
      "outputs": []
    },
    {
      "cell_type": "code",
      "metadata": {
        "id": "pwIFDS22U5YK",
        "outputId": "b8fe0330-f9c6-4961-963c-4e0de7e54e55",
        "colab": {
          "base_uri": "https://localhost:8080/",
          "height": 173
        }
      },
      "source": [
        "print('4'+5) # 4 kg + 5 minutes?"
      ],
      "execution_count": null,
      "outputs": [
        {
          "output_type": "error",
          "ename": "TypeError",
          "evalue": "ignored",
          "traceback": [
            "\u001b[0;31m---------------------------------------------------------------------------\u001b[0m",
            "\u001b[0;31mTypeError\u001b[0m                                 Traceback (most recent call last)",
            "\u001b[0;32m<ipython-input-6-e7c268b8f415>\u001b[0m in \u001b[0;36m<module>\u001b[0;34m()\u001b[0m\n\u001b[0;32m----> 1\u001b[0;31m \u001b[0mprint\u001b[0m\u001b[0;34m(\u001b[0m\u001b[0;34m'4'\u001b[0m\u001b[0;34m+\u001b[0m\u001b[0;36m5\u001b[0m\u001b[0;34m)\u001b[0m \u001b[0;31m# 3kg + 5 minutes?\u001b[0m\u001b[0;34m\u001b[0m\u001b[0;34m\u001b[0m\u001b[0m\n\u001b[0m",
            "\u001b[0;31mTypeError\u001b[0m: must be str, not int"
          ]
        }
      ]
    },
    {
      "cell_type": "code",
      "metadata": {
        "id": "zyAxZvdjVjCj",
        "outputId": "f52ced54-8105-4f19-dcd6-59c79378878b",
        "colab": {
          "base_uri": "https://localhost:8080/",
          "height": 35
        }
      },
      "source": [
        "print(int('4')+5) # Adding\n"
      ],
      "execution_count": null,
      "outputs": [
        {
          "output_type": "stream",
          "text": [
            "9\n"
          ],
          "name": "stdout"
        }
      ]
    },
    {
      "cell_type": "code",
      "metadata": {
        "id": "JJeXiughXpk6",
        "outputId": "6731233d-2cbe-4cdd-934c-a8a6d200c125",
        "colab": {
          "base_uri": "https://localhost:8080/",
          "height": 72
        }
      },
      "source": [
        "v = 'Hridoy' # text\n",
        "print(type(v))\n",
        "\n",
        "v = 34 # পূর্ন সংখা।\n",
        "print(type(v))\n",
        "\n",
        "v = 34.50 # ভাগ্নাংশ সংখা।\n",
        "print(type(v))"
      ],
      "execution_count": null,
      "outputs": [
        {
          "output_type": "stream",
          "text": [
            "<class 'str'>\n",
            "<class 'int'>\n",
            "<class 'float'>\n"
          ],
          "name": "stdout"
        }
      ]
    },
    {
      "cell_type": "code",
      "metadata": {
        "id": "rAQmmwUQaaff"
      },
      "source": [
        "#integer = {-5, -4, -3, -2, -1, 0, 1, 2, 3, 4}\n",
        "\n",
        "# float = {3.1416, 5.00, 3.32}\n",
        "\n",
        "# string / text = {'Sourav', \"Sourav\", \"Sourav', 'Sourav\", Sourav}"
      ],
      "execution_count": null,
      "outputs": []
    },
    {
      "cell_type": "code",
      "metadata": {
        "id": "-8or-6drbUsX",
        "outputId": "a2ef69a9-32cc-4374-d563-e979863add80",
        "colab": {
          "base_uri": "https://localhost:8080/",
          "height": 35
        }
      },
      "source": [
        "print(type('Rafsanjani'))"
      ],
      "execution_count": null,
      "outputs": [
        {
          "output_type": "stream",
          "text": [
            "<class 'str'>\n"
          ],
          "name": "stdout"
        }
      ]
    },
    {
      "cell_type": "code",
      "metadata": {
        "id": "zpNNdyyrbuE-",
        "outputId": "52779cea-461b-4ee7-ba7d-23dd8712ac7d",
        "colab": {
          "base_uri": "https://localhost:8080/",
          "height": 52
        }
      },
      "source": [
        "# a, b = 0, 0 \n",
        "\n",
        "a = 0\n",
        "b = 0\n",
        "\n",
        "a = 5\n",
        "b = a # b=5\n",
        "a = b # a=5\n",
        "\n",
        "a = 10 # a=10\n",
        "\n",
        "print(a)\n",
        "print(b)"
      ],
      "execution_count": null,
      "outputs": [
        {
          "output_type": "stream",
          "text": [
            "10\n",
            "5\n"
          ],
          "name": "stdout"
        }
      ]
    },
    {
      "cell_type": "code",
      "metadata": {
        "id": "nv4kgyuPjY9N"
      },
      "source": [
        "# Swapping!\n",
        "a = 10\n",
        "b = 20\n",
        "\n",
        "###\n",
        "# Write Code\n",
        "# Hints: You have a \n",
        "\n",
        "###\n",
        "\n",
        "print(a) # 20\n",
        "print(b) # 10"
      ],
      "execution_count": null,
      "outputs": []
    },
    {
      "cell_type": "code",
      "metadata": {
        "id": "upK7qvRSs66L",
        "outputId": "48f3e8c8-f802-4a4e-cacb-4e31bbac50e1",
        "colab": {
          "base_uri": "https://localhost:8080/",
          "height": 54
        }
      },
      "source": [
        "a = float(input())\n",
        "\n",
        "print(a+5) # 5kg + 5 cm"
      ],
      "execution_count": null,
      "outputs": [
        {
          "output_type": "stream",
          "text": [
            "100.5\n",
            "105.5\n"
          ],
          "name": "stdout"
        }
      ]
    },
    {
      "cell_type": "code",
      "metadata": {
        "id": "INhG-rsEo43p",
        "outputId": "4bc90b3b-e691-4122-cfe4-dd1b28a3c87b",
        "colab": {
          "base_uri": "https://localhost:8080/",
          "height": 90
        }
      },
      "source": [
        "# Q1:\n",
        "a = int(input())\n",
        "b = int(input())\n",
        "\n",
        "print(a)\n",
        "print(b)"
      ],
      "execution_count": null,
      "outputs": [
        {
          "output_type": "stream",
          "text": [
            "5\n",
            "6\n",
            "5\n",
            "6\n"
          ],
          "name": "stdout"
        }
      ]
    },
    {
      "cell_type": "code",
      "metadata": {
        "id": "C1OpOQa9qQTi",
        "outputId": "da794a80-0e32-42be-89da-85930e415840",
        "colab": {
          "base_uri": "https://localhost:8080/",
          "height": 90
        }
      },
      "source": [
        "# Q2:\n",
        "a = int(input())\n",
        "b = int(input())\n",
        "\n",
        "print(a+5)\n",
        "print(b+5)"
      ],
      "execution_count": null,
      "outputs": [
        {
          "output_type": "stream",
          "text": [
            "100\n",
            "1000\n",
            "105\n",
            "1005\n"
          ],
          "name": "stdout"
        }
      ]
    },
    {
      "cell_type": "code",
      "metadata": {
        "id": "1bEhMRTNqb5n",
        "outputId": "0ab5632d-607e-4c42-9a28-a9469e56cb27",
        "colab": {
          "base_uri": "https://localhost:8080/",
          "height": 90
        }
      },
      "source": [
        "v = 1971.194798564\n",
        "\n",
        "print(v)\n",
        "print('{:.2f}'.format(v))\n",
        "print('{:.3f}'.format(v))\n",
        "print('{:.4f}'.format(v))"
      ],
      "execution_count": null,
      "outputs": [
        {
          "output_type": "stream",
          "text": [
            "1971.194798564\n",
            "1971.19\n",
            "1971.195\n",
            "1971.1948\n"
          ],
          "name": "stdout"
        }
      ]
    },
    {
      "cell_type": "code",
      "metadata": {
        "id": "oujai4DCmNnX",
        "outputId": "3547a331-ce11-42e3-c2b5-76b4c071c3c6",
        "colab": {
          "base_uri": "https://localhost:8080/",
          "height": 53
        }
      },
      "source": [
        "n = int(input()) # default/string\n",
        "\n",
        "print(n+21)"
      ],
      "execution_count": null,
      "outputs": [
        {
          "output_type": "stream",
          "text": [
            "5\n",
            "26\n"
          ],
          "name": "stdout"
        }
      ]
    },
    {
      "cell_type": "code",
      "metadata": {
        "id": "JC848pkzpKs5",
        "outputId": "3205056e-4c8e-471a-a3d7-ae1066a5e22d",
        "colab": {
          "base_uri": "https://localhost:8080/",
          "height": 35
        }
      },
      "source": [
        "!python -V"
      ],
      "execution_count": null,
      "outputs": [
        {
          "output_type": "stream",
          "text": [
            "Python 3.6.9\n"
          ],
          "name": "stdout"
        }
      ]
    },
    {
      "cell_type": "code",
      "metadata": {
        "id": "THvDLtjepNtY",
        "outputId": "d5394e32-ac0b-4b9b-af05-76e4475a56ce",
        "colab": {
          "base_uri": "https://localhost:8080/",
          "height": 35
        }
      },
      "source": [
        "!python --version"
      ],
      "execution_count": null,
      "outputs": [
        {
          "output_type": "stream",
          "text": [
            "Python 3.6.9\n"
          ],
          "name": "stdout"
        }
      ]
    },
    {
      "cell_type": "code",
      "metadata": {
        "id": "eYdydcOXp0un"
      },
      "source": [
        "v = function(variable1, variable2, variable3, \n",
        "             variable4)"
      ],
      "execution_count": null,
      "outputs": []
    },
    {
      "cell_type": "code",
      "metadata": {
        "id": "ZTs7PLdkqvib",
        "outputId": "f7b13b25-52d6-4c41-d2a1-074cb1f3d450",
        "colab": {
          "base_uri": "https://localhost:8080/",
          "height": 136
        }
      },
      "source": [
        "print('Araf'"
      ],
      "execution_count": null,
      "outputs": [
        {
          "output_type": "error",
          "ename": "SyntaxError",
          "evalue": "ignored",
          "traceback": [
            "\u001b[0;36m  File \u001b[0;32m\"<ipython-input-9-8a61fc7e22a9>\"\u001b[0;36m, line \u001b[0;32m1\u001b[0m\n\u001b[0;31m    print('Araf'\u001b[0m\n\u001b[0m                ^\u001b[0m\n\u001b[0;31mSyntaxError\u001b[0m\u001b[0;31m:\u001b[0m unexpected EOF while parsing\n"
          ]
        }
      ]
    },
    {
      "cell_type": "code",
      "metadata": {
        "id": "jc8XX7qlzZAa",
        "outputId": "33e235c9-a7d4-4f53-9b4e-d50c40ef2237",
        "colab": {
          "base_uri": "https://localhost:8080/",
          "height": 107
        }
      },
      "source": [
        "a = int(input())\n",
        "b = int(input())\n",
        "c = int(input())\n",
        "d = int(input())\n",
        "\n",
        "print(a+b+c+d)"
      ],
      "execution_count": null,
      "outputs": [
        {
          "output_type": "stream",
          "text": [
            "1\n",
            "3\n",
            "79\n",
            "81\n",
            "164\n"
          ],
          "name": "stdout"
        }
      ]
    },
    {
      "cell_type": "code",
      "metadata": {
        "id": "ibcn9USRrB5X"
      },
      "source": [
        "# Circle Area = 2 * pi * r # r as input\n",
        "\n"
      ],
      "execution_count": null,
      "outputs": []
    },
    {
      "cell_type": "markdown",
      "metadata": {
        "id": "Wt3i0723NINv"
      },
      "source": [
        "# Week-2:"
      ]
    },
    {
      "cell_type": "code",
      "metadata": {
        "id": "OL-um-JRNGNk",
        "outputId": "da67823e-81ac-45fb-ee8c-7185fa0b9a36",
        "colab": {
          "base_uri": "https://localhost:8080/",
          "height": 35
        }
      },
      "source": [
        "balaceRafsanjaniSumael = 4 # camel case\n",
        "print(balaceRafsanjaniSumael)"
      ],
      "execution_count": 12,
      "outputs": [
        {
          "output_type": "stream",
          "text": [
            "4\n"
          ],
          "name": "stdout"
        }
      ]
    },
    {
      "cell_type": "code",
      "metadata": {
        "id": "0_prLhF5Pmjm",
        "outputId": "43222731-c872-4de4-acdd-7ef4d0b9e3fe",
        "colab": {
          "base_uri": "https://localhost:8080/",
          "height": 90
        }
      },
      "source": [
        "var = 4\n",
        "print(type(var))\n",
        "\n",
        "var = 4.5\n",
        "print(type(var))\n",
        "\n",
        "var = 'Rafsanjani'\n",
        "print(type(var))\n",
        "\n",
        "var = 2>3\n",
        "print(type(var))"
      ],
      "execution_count": 16,
      "outputs": [
        {
          "output_type": "stream",
          "text": [
            "<class 'int'>\n",
            "<class 'float'>\n",
            "<class 'str'>\n",
            "<class 'bool'>\n"
          ],
          "name": "stdout"
        }
      ]
    },
    {
      "cell_type": "code",
      "metadata": {
        "id": "etXhC9dZQVTO",
        "outputId": "46ff8a26-0b45-4da3-d94e-5bf94044115e",
        "colab": {
          "base_uri": "https://localhost:8080/",
          "height": 35
        }
      },
      "source": [
        "var = 6>5\n",
        "print(var)"
      ],
      "execution_count": 18,
      "outputs": [
        {
          "output_type": "stream",
          "text": [
            "True\n"
          ],
          "name": "stdout"
        }
      ]
    },
    {
      "cell_type": "code",
      "metadata": {
        "id": "MsadirXYSrYb",
        "outputId": "ee7b9ff4-150f-417b-b08d-f6643a49ea7d",
        "colab": {
          "base_uri": "https://localhost:8080/",
          "height": 35
        }
      },
      "source": [
        "print(5==5)\n",
        "\n",
        "# =  --> assign operator # a=5\n",
        "# == --> logical operator # checking (True / False)"
      ],
      "execution_count": 25,
      "outputs": [
        {
          "output_type": "stream",
          "text": [
            "True\n"
          ],
          "name": "stdout"
        }
      ]
    },
    {
      "cell_type": "code",
      "metadata": {
        "id": "vWQKY5l_Tn7U",
        "outputId": "3bf7e58c-8954-4b59-f9ed-73ba8eadfc9f",
        "colab": {
          "base_uri": "https://localhost:8080/",
          "height": 35
        }
      },
      "source": [
        "var = 80\n",
        "print(100<=var) # A+ (80-100)"
      ],
      "execution_count": 8,
      "outputs": [
        {
          "output_type": "stream",
          "text": [
            "False\n"
          ],
          "name": "stdout"
        }
      ]
    },
    {
      "cell_type": "markdown",
      "metadata": {
        "id": "HZPuOCVoai_a"
      },
      "source": [
        "![image.png](data:image/png;base64,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)"
      ]
    },
    {
      "cell_type": "code",
      "metadata": {
        "id": "QNuYpp4WaMma",
        "outputId": "6d8fc130-6ddd-493e-ca82-92ae72d8ab5f",
        "colab": {
          "base_uri": "https://localhost:8080/",
          "height": 54
        }
      },
      "source": [
        "print( (5>6) or (6==5) ) # or\n",
        "\n",
        "print( (5!=6) or (6>5) )"
      ],
      "execution_count": 11,
      "outputs": [
        {
          "output_type": "stream",
          "text": [
            "False\n",
            "True\n"
          ],
          "name": "stdout"
        }
      ]
    },
    {
      "cell_type": "code",
      "metadata": {
        "id": "t1cmz6glb5Vv",
        "outputId": "fb70395b-939e-4a75-c9fa-91701152dead",
        "colab": {
          "base_uri": "https://localhost:8080/",
          "height": 54
        }
      },
      "source": [
        "print( (5>6) and (6==5) ) # or\n",
        "print( (5!=6) and (6>5) )"
      ],
      "execution_count": 12,
      "outputs": [
        {
          "output_type": "stream",
          "text": [
            "False\n",
            "True\n"
          ],
          "name": "stdout"
        }
      ]
    },
    {
      "cell_type": "code",
      "metadata": {
        "id": "FzXr6ENwcFtr",
        "outputId": "00875b34-22e4-4c51-cd5c-56e9ebce0bfc",
        "colab": {
          "base_uri": "https://localhost:8080/",
          "height": 35
        }
      },
      "source": [
        "v = 50\n",
        "print(20<50<60)"
      ],
      "execution_count": 13,
      "outputs": [
        {
          "output_type": "stream",
          "text": [
            "True\n"
          ],
          "name": "stdout"
        }
      ]
    },
    {
      "cell_type": "code",
      "metadata": {
        "id": "vIn8UCh9d8ir",
        "outputId": "04b53697-d23d-4cba-c16c-17ebdc212d25",
        "colab": {
          "base_uri": "https://localhost:8080/",
          "height": 35
        }
      },
      "source": [
        "balance = 989\n",
        " \n",
        "if balance >= 500:\n",
        "    print('You can do it.')\n",
        "else:\n",
        "    print('You cannot.')"
      ],
      "execution_count": 17,
      "outputs": [
        {
          "output_type": "stream",
          "text": [
            "You can do it.\n"
          ],
          "name": "stdout"
        }
      ]
    },
    {
      "cell_type": "code",
      "metadata": {
        "id": "Muguv07ef6Fx",
        "outputId": "c50aade4-92ee-4067-95fa-a63879226446",
        "colab": {
          "base_uri": "https://localhost:8080/",
          "height": 35
        }
      },
      "source": [
        "-5 * -1"
      ],
      "execution_count": 18,
      "outputs": [
        {
          "output_type": "execute_result",
          "data": {
            "text/plain": [
              "5"
            ]
          },
          "metadata": {
            "tags": []
          },
          "execution_count": 18
        }
      ]
    },
    {
      "cell_type": "code",
      "metadata": {
        "id": "BLFJ_ZLIfGEe",
        "outputId": "a1ea0235-2eed-49ff-abf3-7f76e5ef1c1e",
        "colab": {
          "base_uri": "https://localhost:8080/",
          "height": 54
        }
      },
      "source": [
        "# -5 --> 5\n",
        "#  5 --> 5\n",
        "\n",
        "# Starting Program\n",
        "n = -11\n",
        "\n",
        "if n < 0:\n",
        "    n = n * (-1)\n",
        "else:\n",
        "    None\n",
        "\n",
        "print(n)\n",
        "# Ending Program"
      ],
      "execution_count": 20,
      "outputs": [
        {
          "output_type": "stream",
          "text": [
            "11\n",
            "11\n"
          ],
          "name": "stdout"
        }
      ]
    },
    {
      "cell_type": "code",
      "metadata": {
        "id": "I_1vPPkChKZo"
      },
      "source": [
        ""
      ],
      "execution_count": null,
      "outputs": []
    }
  ]
}