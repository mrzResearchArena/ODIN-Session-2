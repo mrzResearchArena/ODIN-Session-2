{
  "nbformat": 4,
  "nbformat_minor": 0,
  "metadata": {
    "colab": {
      "name": "Batch-Morning.ipynb",
      "provenance": [],
      "collapsed_sections": [],
      "authorship_tag": "ABX9TyNAzzAqgQqNdv2s0NjaNOzz",
      "include_colab_link": true
    },
    "kernelspec": {
      "name": "python3",
      "display_name": "Python 3"
    }
  },
  "cells": [
    {
      "cell_type": "markdown",
      "metadata": {
        "id": "view-in-github",
        "colab_type": "text"
      },
      "source": [
        "<a href=\"https://colab.research.google.com/github/mrzResearchArena/ODIN-Session-2/blob/master/Batch-Morning.ipynb\" target=\"_parent\"><img src=\"https://colab.research.google.com/assets/colab-badge.svg\" alt=\"Open In Colab\"/></a>"
      ]
    },
    {
      "cell_type": "code",
      "metadata": {
        "id": "V9eIV9E5R46R",
        "outputId": "ca13c07d-8c02-4009-c0c7-c473d1ada09a",
        "colab": {
          "base_uri": "https://localhost:8080/",
          "height": 35
        }
      },
      "source": [
        "#print 'Rafsanjani'\n",
        "\n",
        "# parentheses --> ()\n",
        "\n",
        "# print('Rafsanjani')"
      ],
      "execution_count": null,
      "outputs": [
        {
          "output_type": "stream",
          "text": [
            "Rafsanjani\n"
          ],
          "name": "stdout"
        }
      ]
    },
    {
      "cell_type": "code",
      "metadata": {
        "id": "lge574V1TtMd",
        "outputId": "7e99aec5-4686-42df-916d-83134d18b16e",
        "colab": {
          "base_uri": "https://localhost:8080/",
          "height": 145
        }
      },
      "source": [
        "print('*********')\n",
        "print('*       *')\n",
        "print('*       *')\n",
        "print('*       *')\n",
        "print('*       *')\n",
        "print('*       *')\n",
        "print('*  ...  *')"
      ],
      "execution_count": null,
      "outputs": [
        {
          "output_type": "stream",
          "text": [
            "*********\n",
            "*       *\n",
            "*       *\n",
            "*       *\n",
            "*       *\n",
            "*       *\n",
            "* ... *\n"
          ],
          "name": "stdout"
        }
      ]
    },
    {
      "cell_type": "code",
      "metadata": {
        "id": "hDDReZjEIt43",
        "outputId": "6c915ccf-115f-4f9b-f467-cf7aadb00cbe",
        "colab": {
          "base_uri": "https://localhost:8080/",
          "height": 145
        }
      },
      "source": [
        "print('* * * * *')\n",
        "print('*       *')\n",
        "print('*       *')\n",
        "print('*       *')\n",
        "print('*       *')\n",
        "print('*       *')\n",
        "print('* * * * *')"
      ],
      "execution_count": null,
      "outputs": [
        {
          "output_type": "stream",
          "text": [
            "* * * * *\n",
            "*       *\n",
            "*       *\n",
            "*       *\n",
            "*       *\n",
            "*       *\n",
            "* * * * *\n"
          ],
          "name": "stdout"
        }
      ]
    },
    {
      "cell_type": "code",
      "metadata": {
        "id": "cPcBjRp_JFsH",
        "outputId": "0b342d58-0dc6-4958-f910-b6156af39814",
        "colab": {
          "base_uri": "https://localhost:8080/",
          "height": 35
        }
      },
      "source": [
        "print('4'+'5') # append"
      ],
      "execution_count": null,
      "outputs": [
        {
          "output_type": "stream",
          "text": [
            "45\n"
          ],
          "name": "stdout"
        }
      ]
    },
    {
      "cell_type": "code",
      "metadata": {
        "id": "JlxNiQumUlxj"
      },
      "source": [
        "AB"
      ],
      "execution_count": null,
      "outputs": []
    },
    {
      "cell_type": "code",
      "metadata": {
        "id": "pwIFDS22U5YK",
        "outputId": "b8fe0330-f9c6-4961-963c-4e0de7e54e55",
        "colab": {
          "base_uri": "https://localhost:8080/",
          "height": 173
        }
      },
      "source": [
        "print('4'+5) # 4 kg + 5 minutes?"
      ],
      "execution_count": null,
      "outputs": [
        {
          "output_type": "error",
          "ename": "TypeError",
          "evalue": "ignored",
          "traceback": [
            "\u001b[0;31m---------------------------------------------------------------------------\u001b[0m",
            "\u001b[0;31mTypeError\u001b[0m                                 Traceback (most recent call last)",
            "\u001b[0;32m<ipython-input-6-e7c268b8f415>\u001b[0m in \u001b[0;36m<module>\u001b[0;34m()\u001b[0m\n\u001b[0;32m----> 1\u001b[0;31m \u001b[0mprint\u001b[0m\u001b[0;34m(\u001b[0m\u001b[0;34m'4'\u001b[0m\u001b[0;34m+\u001b[0m\u001b[0;36m5\u001b[0m\u001b[0;34m)\u001b[0m \u001b[0;31m# 3kg + 5 minutes?\u001b[0m\u001b[0;34m\u001b[0m\u001b[0;34m\u001b[0m\u001b[0m\n\u001b[0m",
            "\u001b[0;31mTypeError\u001b[0m: must be str, not int"
          ]
        }
      ]
    },
    {
      "cell_type": "code",
      "metadata": {
        "id": "zyAxZvdjVjCj",
        "outputId": "f52ced54-8105-4f19-dcd6-59c79378878b",
        "colab": {
          "base_uri": "https://localhost:8080/",
          "height": 35
        }
      },
      "source": [
        "print(int('4')+5) # Adding\n"
      ],
      "execution_count": null,
      "outputs": [
        {
          "output_type": "stream",
          "text": [
            "9\n"
          ],
          "name": "stdout"
        }
      ]
    },
    {
      "cell_type": "code",
      "metadata": {
        "id": "JJeXiughXpk6",
        "outputId": "6731233d-2cbe-4cdd-934c-a8a6d200c125",
        "colab": {
          "base_uri": "https://localhost:8080/",
          "height": 72
        }
      },
      "source": [
        "v = 'Hridoy' # text\n",
        "print(type(v))\n",
        "\n",
        "v = 34 # পূর্ন সংখা।\n",
        "print(type(v))\n",
        "\n",
        "v = 34.50 # ভাগ্নাংশ সংখা।\n",
        "print(type(v))"
      ],
      "execution_count": null,
      "outputs": [
        {
          "output_type": "stream",
          "text": [
            "<class 'str'>\n",
            "<class 'int'>\n",
            "<class 'float'>\n"
          ],
          "name": "stdout"
        }
      ]
    },
    {
      "cell_type": "code",
      "metadata": {
        "id": "rAQmmwUQaaff"
      },
      "source": [
        "#integer = {-5, -4, -3, -2, -1, 0, 1, 2, 3, 4}\n",
        "\n",
        "# float = {3.1416, 5.00, 3.32}\n",
        "\n",
        "# string / text = {'Sourav', \"Sourav\", \"Sourav', 'Sourav\", Sourav}"
      ],
      "execution_count": null,
      "outputs": []
    },
    {
      "cell_type": "code",
      "metadata": {
        "id": "-8or-6drbUsX",
        "outputId": "a2ef69a9-32cc-4374-d563-e979863add80",
        "colab": {
          "base_uri": "https://localhost:8080/",
          "height": 35
        }
      },
      "source": [
        "print(type('Rafsanjani'))"
      ],
      "execution_count": null,
      "outputs": [
        {
          "output_type": "stream",
          "text": [
            "<class 'str'>\n"
          ],
          "name": "stdout"
        }
      ]
    },
    {
      "cell_type": "code",
      "metadata": {
        "id": "zpNNdyyrbuE-",
        "outputId": "52779cea-461b-4ee7-ba7d-23dd8712ac7d",
        "colab": {
          "base_uri": "https://localhost:8080/",
          "height": 52
        }
      },
      "source": [
        "# a, b = 0, 0 \n",
        "\n",
        "a = 0\n",
        "b = 0\n",
        "\n",
        "a = 5\n",
        "b = a # b=5\n",
        "a = b # a=5\n",
        "\n",
        "a = 10 # a=10\n",
        "\n",
        "print(a)\n",
        "print(b)"
      ],
      "execution_count": null,
      "outputs": [
        {
          "output_type": "stream",
          "text": [
            "10\n",
            "5\n"
          ],
          "name": "stdout"
        }
      ]
    },
    {
      "cell_type": "code",
      "metadata": {
        "id": "nv4kgyuPjY9N"
      },
      "source": [
        "# Swapping!\n",
        "a = 10\n",
        "b = 20\n",
        "\n",
        "###\n",
        "# Write Code\n",
        "# Hints: You have a \n",
        "\n",
        "###\n",
        "\n",
        "print(a) # 20\n",
        "print(b) # 10"
      ],
      "execution_count": null,
      "outputs": []
    },
    {
      "cell_type": "code",
      "metadata": {
        "id": "upK7qvRSs66L",
        "outputId": "48f3e8c8-f802-4a4e-cacb-4e31bbac50e1",
        "colab": {
          "base_uri": "https://localhost:8080/",
          "height": 54
        }
      },
      "source": [
        "a = float(input())\n",
        "\n",
        "print(a+5) # 5kg + 5 cm"
      ],
      "execution_count": null,
      "outputs": [
        {
          "output_type": "stream",
          "text": [
            "100.5\n",
            "105.5\n"
          ],
          "name": "stdout"
        }
      ]
    },
    {
      "cell_type": "code",
      "metadata": {
        "id": "INhG-rsEo43p",
        "outputId": "4bc90b3b-e691-4122-cfe4-dd1b28a3c87b",
        "colab": {
          "base_uri": "https://localhost:8080/",
          "height": 90
        }
      },
      "source": [
        "# Q1:\n",
        "a = int(input())\n",
        "b = int(input())\n",
        "\n",
        "print(a)\n",
        "print(b)"
      ],
      "execution_count": null,
      "outputs": [
        {
          "output_type": "stream",
          "text": [
            "5\n",
            "6\n",
            "5\n",
            "6\n"
          ],
          "name": "stdout"
        }
      ]
    },
    {
      "cell_type": "code",
      "metadata": {
        "id": "C1OpOQa9qQTi",
        "outputId": "da794a80-0e32-42be-89da-85930e415840",
        "colab": {
          "base_uri": "https://localhost:8080/",
          "height": 90
        }
      },
      "source": [
        "# Q2:\n",
        "a = int(input())\n",
        "b = int(input())\n",
        "\n",
        "print(a+5)\n",
        "print(b+5)"
      ],
      "execution_count": null,
      "outputs": [
        {
          "output_type": "stream",
          "text": [
            "100\n",
            "1000\n",
            "105\n",
            "1005\n"
          ],
          "name": "stdout"
        }
      ]
    },
    {
      "cell_type": "code",
      "metadata": {
        "id": "1bEhMRTNqb5n",
        "outputId": "0ab5632d-607e-4c42-9a28-a9469e56cb27",
        "colab": {
          "base_uri": "https://localhost:8080/",
          "height": 90
        }
      },
      "source": [
        "v = 1971.194798564\n",
        "\n",
        "print(v)\n",
        "print('{:.2f}'.format(v))\n",
        "print('{:.3f}'.format(v))\n",
        "print('{:.4f}'.format(v))"
      ],
      "execution_count": null,
      "outputs": [
        {
          "output_type": "stream",
          "text": [
            "1971.194798564\n",
            "1971.19\n",
            "1971.195\n",
            "1971.1948\n"
          ],
          "name": "stdout"
        }
      ]
    },
    {
      "cell_type": "code",
      "metadata": {
        "id": "oujai4DCmNnX",
        "outputId": "3547a331-ce11-42e3-c2b5-76b4c071c3c6",
        "colab": {
          "base_uri": "https://localhost:8080/",
          "height": 53
        }
      },
      "source": [
        "n = int(input()) # default/string\n",
        "\n",
        "print(n+21)"
      ],
      "execution_count": null,
      "outputs": [
        {
          "output_type": "stream",
          "text": [
            "5\n",
            "26\n"
          ],
          "name": "stdout"
        }
      ]
    },
    {
      "cell_type": "code",
      "metadata": {
        "id": "JC848pkzpKs5",
        "outputId": "3205056e-4c8e-471a-a3d7-ae1066a5e22d",
        "colab": {
          "base_uri": "https://localhost:8080/",
          "height": 35
        }
      },
      "source": [
        "!python -V"
      ],
      "execution_count": null,
      "outputs": [
        {
          "output_type": "stream",
          "text": [
            "Python 3.6.9\n"
          ],
          "name": "stdout"
        }
      ]
    },
    {
      "cell_type": "code",
      "metadata": {
        "id": "THvDLtjepNtY",
        "outputId": "d5394e32-ac0b-4b9b-af05-76e4475a56ce",
        "colab": {
          "base_uri": "https://localhost:8080/",
          "height": 35
        }
      },
      "source": [
        "!python --version"
      ],
      "execution_count": null,
      "outputs": [
        {
          "output_type": "stream",
          "text": [
            "Python 3.6.9\n"
          ],
          "name": "stdout"
        }
      ]
    },
    {
      "cell_type": "code",
      "metadata": {
        "id": "eYdydcOXp0un"
      },
      "source": [
        "v = function(variable1, variable2, variable3, \n",
        "             variable4)"
      ],
      "execution_count": null,
      "outputs": []
    },
    {
      "cell_type": "code",
      "metadata": {
        "id": "ZTs7PLdkqvib",
        "outputId": "f7b13b25-52d6-4c41-d2a1-074cb1f3d450",
        "colab": {
          "base_uri": "https://localhost:8080/",
          "height": 136
        }
      },
      "source": [
        "print('Araf'"
      ],
      "execution_count": null,
      "outputs": [
        {
          "output_type": "error",
          "ename": "SyntaxError",
          "evalue": "ignored",
          "traceback": [
            "\u001b[0;36m  File \u001b[0;32m\"<ipython-input-9-8a61fc7e22a9>\"\u001b[0;36m, line \u001b[0;32m1\u001b[0m\n\u001b[0;31m    print('Araf'\u001b[0m\n\u001b[0m                ^\u001b[0m\n\u001b[0;31mSyntaxError\u001b[0m\u001b[0;31m:\u001b[0m unexpected EOF while parsing\n"
          ]
        }
      ]
    },
    {
      "cell_type": "code",
      "metadata": {
        "id": "jc8XX7qlzZAa",
        "outputId": "33e235c9-a7d4-4f53-9b4e-d50c40ef2237",
        "colab": {
          "base_uri": "https://localhost:8080/",
          "height": 107
        }
      },
      "source": [
        "a = int(input())\n",
        "b = int(input())\n",
        "c = int(input())\n",
        "d = int(input())\n",
        "\n",
        "print(a+b+c+d)"
      ],
      "execution_count": null,
      "outputs": [
        {
          "output_type": "stream",
          "text": [
            "1\n",
            "3\n",
            "79\n",
            "81\n",
            "164\n"
          ],
          "name": "stdout"
        }
      ]
    },
    {
      "cell_type": "code",
      "metadata": {
        "id": "ibcn9USRrB5X"
      },
      "source": [
        "# Circle Area = 2 * pi * r # r as input\n",
        "\n"
      ],
      "execution_count": null,
      "outputs": []
    },
    {
      "cell_type": "markdown",
      "metadata": {
        "id": "Wt3i0723NINv"
      },
      "source": [
        "# Week-2:"
      ]
    },
    {
      "cell_type": "code",
      "metadata": {
        "id": "OL-um-JRNGNk",
        "outputId": "da67823e-81ac-45fb-ee8c-7185fa0b9a36",
        "colab": {
          "base_uri": "https://localhost:8080/",
          "height": 35
        }
      },
      "source": [
        "balaceRafsanjaniSumael = 4 # camel case\n",
        "print(balaceRafsanjaniSumael)"
      ],
      "execution_count": null,
      "outputs": [
        {
          "output_type": "stream",
          "text": [
            "4\n"
          ],
          "name": "stdout"
        }
      ]
    },
    {
      "cell_type": "code",
      "metadata": {
        "id": "0_prLhF5Pmjm",
        "outputId": "3c60d198-79fc-4855-aac7-83154e56ea1c",
        "colab": {
          "base_uri": "https://localhost:8080/"
        }
      },
      "source": [
        "var = 4\n",
        "print(type(var)) # integer\n",
        "\n",
        "var = 4.5\n",
        "print(type(var)) # float\n",
        "\n",
        "var = 'Rafsanjani'\n",
        "print(type(var)) # string/text\n",
        "\n",
        "var = 2>3\n",
        "print(type(var))"
      ],
      "execution_count": null,
      "outputs": [
        {
          "output_type": "stream",
          "text": [
            "<class 'int'>\n",
            "<class 'float'>\n",
            "<class 'str'>\n",
            "<class 'bool'>\n"
          ],
          "name": "stdout"
        }
      ]
    },
    {
      "cell_type": "code",
      "metadata": {
        "id": "etXhC9dZQVTO",
        "outputId": "46ff8a26-0b45-4da3-d94e-5bf94044115e",
        "colab": {
          "base_uri": "https://localhost:8080/",
          "height": 35
        }
      },
      "source": [
        "var = 6>5\n",
        "print(var)"
      ],
      "execution_count": null,
      "outputs": [
        {
          "output_type": "stream",
          "text": [
            "True\n"
          ],
          "name": "stdout"
        }
      ]
    },
    {
      "cell_type": "code",
      "metadata": {
        "id": "MsadirXYSrYb",
        "outputId": "ee7b9ff4-150f-417b-b08d-f6643a49ea7d",
        "colab": {
          "base_uri": "https://localhost:8080/",
          "height": 35
        }
      },
      "source": [
        "print(5==5)\n",
        "\n",
        "# =  --> assign operator # a=5\n",
        "# == --> logical operator # checking (True / False)"
      ],
      "execution_count": null,
      "outputs": [
        {
          "output_type": "stream",
          "text": [
            "True\n"
          ],
          "name": "stdout"
        }
      ]
    },
    {
      "cell_type": "code",
      "metadata": {
        "id": "vWQKY5l_Tn7U",
        "outputId": "3bf7e58c-8954-4b59-f9ed-73ba8eadfc9f",
        "colab": {
          "base_uri": "https://localhost:8080/",
          "height": 35
        }
      },
      "source": [
        "var = 80\n",
        "print(100<=var) # A+ (80-100)"
      ],
      "execution_count": null,
      "outputs": [
        {
          "output_type": "stream",
          "text": [
            "False\n"
          ],
          "name": "stdout"
        }
      ]
    },
    {
      "cell_type": "markdown",
      "metadata": {
        "id": "HZPuOCVoai_a"
      },
      "source": [
        "![image.png](data:image/png;base64,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)"
      ]
    },
    {
      "cell_type": "code",
      "metadata": {
        "id": "QNuYpp4WaMma",
        "outputId": "6d8fc130-6ddd-493e-ca82-92ae72d8ab5f",
        "colab": {
          "base_uri": "https://localhost:8080/",
          "height": 54
        }
      },
      "source": [
        "print( (5>6) or (6==5) ) # or\n",
        "\n",
        "print( (5!=6) or (6>5) )"
      ],
      "execution_count": null,
      "outputs": [
        {
          "output_type": "stream",
          "text": [
            "False\n",
            "True\n"
          ],
          "name": "stdout"
        }
      ]
    },
    {
      "cell_type": "code",
      "metadata": {
        "id": "t1cmz6glb5Vv",
        "outputId": "fb70395b-939e-4a75-c9fa-91701152dead",
        "colab": {
          "base_uri": "https://localhost:8080/",
          "height": 54
        }
      },
      "source": [
        "print( (5>6) and (6==5) ) # or\n",
        "print( (5!=6) and (6>5) )"
      ],
      "execution_count": null,
      "outputs": [
        {
          "output_type": "stream",
          "text": [
            "False\n",
            "True\n"
          ],
          "name": "stdout"
        }
      ]
    },
    {
      "cell_type": "code",
      "metadata": {
        "id": "FzXr6ENwcFtr",
        "outputId": "00875b34-22e4-4c51-cd5c-56e9ebce0bfc",
        "colab": {
          "base_uri": "https://localhost:8080/",
          "height": 35
        }
      },
      "source": [
        "v = 50\n",
        "print(20<50<60)"
      ],
      "execution_count": null,
      "outputs": [
        {
          "output_type": "stream",
          "text": [
            "True\n"
          ],
          "name": "stdout"
        }
      ]
    },
    {
      "cell_type": "code",
      "metadata": {
        "id": "vIn8UCh9d8ir",
        "outputId": "04b53697-d23d-4cba-c16c-17ebdc212d25",
        "colab": {
          "base_uri": "https://localhost:8080/",
          "height": 35
        }
      },
      "source": [
        "balance = 989\n",
        " \n",
        "if balance >= 500:\n",
        "    print('You can do it.')\n",
        "else:\n",
        "    print('You cannot.')"
      ],
      "execution_count": null,
      "outputs": [
        {
          "output_type": "stream",
          "text": [
            "You can do it.\n"
          ],
          "name": "stdout"
        }
      ]
    },
    {
      "cell_type": "code",
      "metadata": {
        "id": "Muguv07ef6Fx",
        "outputId": "c50aade4-92ee-4067-95fa-a63879226446",
        "colab": {
          "base_uri": "https://localhost:8080/",
          "height": 35
        }
      },
      "source": [
        "-5 * -1"
      ],
      "execution_count": null,
      "outputs": [
        {
          "output_type": "execute_result",
          "data": {
            "text/plain": [
              "5"
            ]
          },
          "metadata": {
            "tags": []
          },
          "execution_count": 18
        }
      ]
    },
    {
      "cell_type": "code",
      "metadata": {
        "id": "BLFJ_ZLIfGEe",
        "outputId": "a1ea0235-2eed-49ff-abf3-7f76e5ef1c1e",
        "colab": {
          "base_uri": "https://localhost:8080/",
          "height": 54
        }
      },
      "source": [
        "# -5 --> 5\n",
        "#  5 --> 5\n",
        "\n",
        "# Starting Program\n",
        "n = -11\n",
        "\n",
        "if n < 0:\n",
        "    n = n * (-1)\n",
        "else:\n",
        "    None\n",
        "\n",
        "print(n)\n",
        "# Ending Program"
      ],
      "execution_count": null,
      "outputs": [
        {
          "output_type": "stream",
          "text": [
            "11\n",
            "11\n"
          ],
          "name": "stdout"
        }
      ]
    },
    {
      "cell_type": "code",
      "metadata": {
        "id": "I_1vPPkChKZo"
      },
      "source": [
        ""
      ],
      "execution_count": null,
      "outputs": []
    },
    {
      "cell_type": "markdown",
      "metadata": {
        "id": "XRuQqFXuf3Ms"
      },
      "source": [
        "![image.png](data:image/png;base64,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)"
      ]
    },
    {
      "cell_type": "code",
      "metadata": {
        "id": "a0yDK_3Cf5fW"
      },
      "source": [
        "# -5  --> 5\n",
        "# -11 --> 11\n",
        "# 11  --> 11 \n",
        "\n",
        "# print(-11 * -1)\n",
        "\n",
        "# n  = 11\n",
        "\n",
        "# if n<0:\n",
        "#     # print('Negative')\n",
        "#     n = n * (-1)\n",
        "#     print('if works!')\n",
        "# else:\n",
        "#     # print('Positive')\n",
        "#     None\n",
        "#     print('else works!')\n",
        "    \n",
        "# print(n)\n",
        "\n",
        "# 80-100: A+\n",
        "# 70-79: A\n",
        "# 60-69: A-\n",
        "\n",
        "# 50-59: B+\n",
        "# 40-59: B\n",
        "# 33-39: B-\n",
        "\n",
        "# below 33: F\n",
        "\n",
        "\n",
        "# Start (A)\n",
        "marks = int(input())\n",
        "\n",
        "if marks >= 90:\n",
        "    grade = 'A'\n",
        "else:\n",
        "    if marks >= 80:\n",
        "        grade = 'B'\n",
        "    else:\n",
        "        if marks >= 70:\n",
        "            grade = 'C'\n",
        "        else:\n",
        "            if marks > 60:\n",
        "                grade = 'D'\n",
        "            else:\n",
        "                grade = 'F'\n",
        "            \n",
        "\n",
        "print(grade)\n",
        "\n",
        "# Start (B)"
      ],
      "execution_count": null,
      "outputs": []
    }
  ]
}